{
 "cells": [
  {
   "cell_type": "markdown",
   "id": "8a216377",
   "metadata": {},
   "source": [
    "1. Which of the following operators is used to calculate remainder in a division?"
   ]
  },
  {
   "cell_type": "markdown",
   "id": "56bbea38",
   "metadata": {},
   "source": [
    "Ans - C) %"
   ]
  },
  {
   "cell_type": "markdown",
   "id": "a7767726",
   "metadata": {},
   "source": [
    "2. In python 2//3 is equal to?"
   ]
  },
  {
   "cell_type": "markdown",
   "id": "625e49e4",
   "metadata": {},
   "source": [
    "Ans - B) 0"
   ]
  },
  {
   "cell_type": "markdown",
   "id": "ba3eb5e8",
   "metadata": {},
   "source": [
    "3. In python, 6<<2 is equal to?"
   ]
  },
  {
   "cell_type": "markdown",
   "id": "3c2fdf02",
   "metadata": {},
   "source": [
    "Ans - C) 24"
   ]
  },
  {
   "cell_type": "markdown",
   "id": "9ea0574e",
   "metadata": {},
   "source": [
    "4. In python, 6&2 will give which of the following as output?"
   ]
  },
  {
   "cell_type": "markdown",
   "id": "3ee5ff19",
   "metadata": {},
   "source": [
    "Ans - A) 2"
   ]
  },
  {
   "cell_type": "markdown",
   "id": "aa414797",
   "metadata": {},
   "source": [
    "5. In python, 6|2 will give which of the following as output?"
   ]
  },
  {
   "cell_type": "markdown",
   "id": "7f6c519e",
   "metadata": {},
   "source": [
    "Ans - D) 6"
   ]
  },
  {
   "cell_type": "markdown",
   "id": "d13ffa37",
   "metadata": {},
   "source": [
    "6. What does the finally keyword denotes in python?"
   ]
  },
  {
   "cell_type": "markdown",
   "id": "1b82336f",
   "metadata": {},
   "source": [
    "Ans - C) the finally block will be executed no matter if the try block raises an error or not."
   ]
  },
  {
   "cell_type": "markdown",
   "id": "a998b0d4",
   "metadata": {},
   "source": [
    "7. What does raise keyword is used for in python?"
   ]
  },
  {
   "cell_type": "markdown",
   "id": "05d95530",
   "metadata": {},
   "source": [
    "Ans - A) It is used to raise an exception"
   ]
  },
  {
   "cell_type": "markdown",
   "id": "f4d37b15",
   "metadata": {},
   "source": [
    "8. Which of the following is a common use case of yield keyword in python?"
   ]
  },
  {
   "cell_type": "markdown",
   "id": "7db4d4d2",
   "metadata": {},
   "source": [
    "Ans - C) in defining a generator"
   ]
  },
  {
   "cell_type": "markdown",
   "id": "313ee80c",
   "metadata": {},
   "source": [
    "9. Which of the following are the valid variable names?"
   ]
  },
  {
   "cell_type": "markdown",
   "id": "e4861669",
   "metadata": {},
   "source": [
    "Ans - A) _abc"
   ]
  },
  {
   "cell_type": "markdown",
   "id": "f4853df0",
   "metadata": {},
   "source": [
    "10.Which of the following are the keywords in python?"
   ]
  },
  {
   "cell_type": "markdown",
   "id": "b4400cb7",
   "metadata": {},
   "source": [
    "Ans - A) yield B) raise"
   ]
  },
  {
   "cell_type": "markdown",
   "id": "bbf52546",
   "metadata": {},
   "source": [
    "11. Write a python program to find the factorial of a number."
   ]
  },
  {
   "cell_type": "code",
   "execution_count": 9,
   "id": "71374124",
   "metadata": {},
   "outputs": [
    {
     "name": "stdout",
     "output_type": "stream",
     "text": [
      "enter a number: 5\n",
      "factorial of  5  is  120\n"
     ]
    }
   ],
   "source": [
    "num = int(input(\"enter a number: \"))\n",
    "\n",
    "fac = 1\n",
    " \n",
    "for i in range(1, num + 1):\n",
    "    fac = fac * i\n",
    " \n",
    "print(\"factorial of \", num, \" is \", fac)"
   ]
  },
  {
   "cell_type": "markdown",
   "id": "39dcab24",
   "metadata": {},
   "source": [
    "12. Write a python program to find whether a number is prime or composite."
   ]
  },
  {
   "cell_type": "code",
   "execution_count": 15,
   "id": "31380247",
   "metadata": {},
   "outputs": [
    {
     "name": "stdout",
     "output_type": "stream",
     "text": [
      "7 : is a prime number\n"
     ]
    }
   ],
   "source": [
    "num = 7\n",
    "\n",
    "if num > 1:\n",
    "  \n",
    "    for i in range(2, int(num/2)+1):\n",
    "  \n",
    "\n",
    "        # 2 and n / 2, it is not prime\n",
    "        if (num % i) == 0:\n",
    "            print(num, \" : is not a prime number\")\n",
    "            break\n",
    "    else:\n",
    "        print(num, \": is a prime number\")\n",
    "  \n",
    "else:\n",
    "    print(num, \" : is not a prime number\")"
   ]
  },
  {
   "cell_type": "markdown",
   "id": "94e3078b",
   "metadata": {},
   "source": [
    "13. Write a python program to check whether a given string is palindrome or not."
   ]
  },
  {
   "cell_type": "code",
   "execution_count": 18,
   "id": "d0193ab0",
   "metadata": {},
   "outputs": [
    {
     "name": "stdout",
     "output_type": "stream",
     "text": [
      "Yes\n"
     ]
    }
   ],
   "source": [
    "x = \"naman\"\n",
    " \n",
    "w = \"\"\n",
    "for i in x:\n",
    "    w = i + w\n",
    "    \n",
    "if (x == w):\n",
    "    print(\"Yes\")\n",
    "else:\n",
    "    print(\"No\")"
   ]
  },
  {
   "cell_type": "markdown",
   "id": "75beee8c",
   "metadata": {},
   "source": [
    "14. Write a Python program to get the third side of right-angled triangle from two given sides."
   ]
  },
  {
   "cell_type": "code",
   "execution_count": 21,
   "id": "8efe0d2e",
   "metadata": {},
   "outputs": [
    {
     "name": "stdout",
     "output_type": "stream",
     "text": [
      "Hypotenuse = 5.0\n",
      "Adjacent = 4.0\n",
      "Opposite = 3.0\n"
     ]
    }
   ],
   "source": [
    "def pythagoras(opposite_side,adjacent_side,hypotenuse):\n",
    "        if opposite_side == str(\"x\"):\n",
    "            return (\"Opposite = \" + str(((hypotenuse**2) - (adjacent_side**2))**0.5))\n",
    "        elif adjacent_side == str(\"x\"):\n",
    "            return (\"Adjacent = \" + str(((hypotenuse**2) - (opposite_side**2))**0.5))\n",
    "        elif hypotenuse == str(\"x\"):\n",
    "            return (\"Hypotenuse = \" + str(((opposite_side**2) + (adjacent_side**2))**0.5))\n",
    "\n",
    "print(pythagoras(3,4,'x'))\n",
    "print(pythagoras(3,'x',5))\n",
    "print(pythagoras('x',4,5))\n"
   ]
  },
  {
   "cell_type": "markdown",
   "id": "7b611997",
   "metadata": {},
   "source": [
    "15. Write a python program to print the frequency of each of the characters present in a given string."
   ]
  },
  {
   "cell_type": "code",
   "execution_count": 23,
   "id": "4c9d4ac0",
   "metadata": {},
   "outputs": [
    {
     "name": "stdout",
     "output_type": "stream",
     "text": [
      "The count of all characters in AmitKumarSingh is :\n",
      " {'h': 1, 'i': 2, 'S': 1, 'K': 1, 'n': 1, 'u': 1, 'g': 1, 'm': 2, 'A': 1, 't': 1, 'a': 1, 'r': 1}\n"
     ]
    }
   ],
   "source": [
    "test_str = \"AmitKumarSingh\"\n",
    "# using set() + count() to get count of each element in string \n",
    "res = {i : test_str.count(i) for i in set(test_str)}\n",
    "print (\"The count of all characters in AmitKumarSingh is :\\n \"\n",
    "                                               +  str(res))"
   ]
  },
  {
   "cell_type": "code",
   "execution_count": null,
   "id": "1a1b6c6a",
   "metadata": {},
   "outputs": [],
   "source": []
  }
 ],
 "metadata": {
  "kernelspec": {
   "display_name": "Python 3",
   "language": "python",
   "name": "python3"
  },
  "language_info": {
   "codemirror_mode": {
    "name": "ipython",
    "version": 3
   },
   "file_extension": ".py",
   "mimetype": "text/x-python",
   "name": "python",
   "nbconvert_exporter": "python",
   "pygments_lexer": "ipython3",
   "version": "3.8.8"
  }
 },
 "nbformat": 4,
 "nbformat_minor": 5
}
