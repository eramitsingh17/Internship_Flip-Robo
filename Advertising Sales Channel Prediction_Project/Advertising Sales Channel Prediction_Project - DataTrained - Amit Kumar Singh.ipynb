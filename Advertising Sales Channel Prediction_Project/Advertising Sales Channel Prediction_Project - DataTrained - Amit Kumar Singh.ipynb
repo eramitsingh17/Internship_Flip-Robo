{
 "cells": [
  {
   "cell_type": "markdown",
   "id": "72b2fd67",
   "metadata": {},
   "source": [
    "# Advertising Sales Channel Prediction\n",
    "# Problem Statement:\n",
    "Sales Channel Prediction Case Study  \n",
    "\n",
    "When a company enters a market, the distribution strategy and channel it uses are keys to its success in the market, as well as market know-how and customer knowledge and understanding. Because an effective distribution strategy under efficient supply-chain management opens doors for attaining competitive advantage and strong brand equity in the market, it is a component of the marketing mix that cannot be ignored . \n",
    "\n",
    "The distribution strategy and the channel design have to be right the first time. The case study of Sales channel includes the detailed study of TV, radio and newspaper channel. The predict the total sales generated from all the sales channel.  "
   ]
  },
  {
   "cell_type": "markdown",
   "id": "9ab330b6",
   "metadata": {},
   "source": [
    "# Importing Required Liberaries "
   ]
  },
  {
   "cell_type": "code",
   "execution_count": 1,
   "id": "364c3fbe",
   "metadata": {},
   "outputs": [],
   "source": [
    "import pandas as pd\n",
    "import numpy as np\n",
    "import seaborn as sns\n",
    "import matplotlib.pyplot as plt\n",
    "%matplotlib inline\n",
    "\n",
    "from sklearn.linear_model import LogisticRegression\n",
    "from sklearn.ensemble import RandomForestClassifier\n",
    "from sklearn.neighbors import KNeighborsClassifier\n",
    "from sklearn.tree import DecisionTreeClassifier\n",
    "from sklearn.svm import SVC\n",
    "from sklearn.naive_bayes import GaussianNB\n",
    "from sklearn.model_selection import train_test_split, RandomizedSearchCV, cross_val_score\n",
    "from sklearn.metrics import accuracy_score, classification_report, confusion_matrix, roc_curve, auc\n",
    "from sklearn.feature_selection import SelectKBest, chi2\n",
    "\n",
    "import warnings\n",
    "warnings.filterwarnings(\"ignore\")"
   ]
  },
  {
   "cell_type": "code",
   "execution_count": 2,
   "id": "cb48c570",
   "metadata": {},
   "outputs": [],
   "source": [
    "df = pd.read_csv(\"E:/Datatrained/Practice Project/Advertising Sales Channel Prediction/Advertising.csv\")"
   ]
  },
  {
   "cell_type": "code",
   "execution_count": 3,
   "id": "9b59def6",
   "metadata": {},
   "outputs": [
    {
     "data": {
      "text/html": [
       "<div>\n",
       "<style scoped>\n",
       "    .dataframe tbody tr th:only-of-type {\n",
       "        vertical-align: middle;\n",
       "    }\n",
       "\n",
       "    .dataframe tbody tr th {\n",
       "        vertical-align: top;\n",
       "    }\n",
       "\n",
       "    .dataframe thead th {\n",
       "        text-align: right;\n",
       "    }\n",
       "</style>\n",
       "<table border=\"1\" class=\"dataframe\">\n",
       "  <thead>\n",
       "    <tr style=\"text-align: right;\">\n",
       "      <th></th>\n",
       "      <th>Unnamed: 0</th>\n",
       "      <th>TV</th>\n",
       "      <th>radio</th>\n",
       "      <th>newspaper</th>\n",
       "      <th>sales</th>\n",
       "    </tr>\n",
       "  </thead>\n",
       "  <tbody>\n",
       "    <tr>\n",
       "      <th>123</th>\n",
       "      <td>124</td>\n",
       "      <td>123.1</td>\n",
       "      <td>34.6</td>\n",
       "      <td>12.4</td>\n",
       "      <td>15.2</td>\n",
       "    </tr>\n",
       "    <tr>\n",
       "      <th>144</th>\n",
       "      <td>145</td>\n",
       "      <td>96.2</td>\n",
       "      <td>14.8</td>\n",
       "      <td>38.9</td>\n",
       "      <td>11.4</td>\n",
       "    </tr>\n",
       "    <tr>\n",
       "      <th>160</th>\n",
       "      <td>161</td>\n",
       "      <td>172.5</td>\n",
       "      <td>18.1</td>\n",
       "      <td>30.7</td>\n",
       "      <td>14.4</td>\n",
       "    </tr>\n",
       "    <tr>\n",
       "      <th>175</th>\n",
       "      <td>176</td>\n",
       "      <td>276.9</td>\n",
       "      <td>48.9</td>\n",
       "      <td>41.8</td>\n",
       "      <td>27.0</td>\n",
       "    </tr>\n",
       "    <tr>\n",
       "      <th>32</th>\n",
       "      <td>33</td>\n",
       "      <td>97.2</td>\n",
       "      <td>1.5</td>\n",
       "      <td>30.0</td>\n",
       "      <td>9.6</td>\n",
       "    </tr>\n",
       "  </tbody>\n",
       "</table>\n",
       "</div>"
      ],
      "text/plain": [
       "     Unnamed: 0     TV  radio  newspaper  sales\n",
       "123         124  123.1   34.6       12.4   15.2\n",
       "144         145   96.2   14.8       38.9   11.4\n",
       "160         161  172.5   18.1       30.7   14.4\n",
       "175         176  276.9   48.9       41.8   27.0\n",
       "32           33   97.2    1.5       30.0    9.6"
      ]
     },
     "execution_count": 3,
     "metadata": {},
     "output_type": "execute_result"
    }
   ],
   "source": [
    "df.sample(5)"
   ]
  },
  {
   "cell_type": "code",
   "execution_count": 4,
   "id": "f0c16bf6",
   "metadata": {},
   "outputs": [
    {
     "data": {
      "text/plain": [
       "(200, 5)"
      ]
     },
     "execution_count": 4,
     "metadata": {},
     "output_type": "execute_result"
    }
   ],
   "source": [
    "df.shape"
   ]
  },
  {
   "cell_type": "code",
   "execution_count": 5,
   "id": "c2eb0ea2",
   "metadata": {},
   "outputs": [
    {
     "name": "stdout",
     "output_type": "stream",
     "text": [
      "<class 'pandas.core.frame.DataFrame'>\n",
      "RangeIndex: 200 entries, 0 to 199\n",
      "Data columns (total 5 columns):\n",
      " #   Column      Non-Null Count  Dtype  \n",
      "---  ------      --------------  -----  \n",
      " 0   Unnamed: 0  200 non-null    int64  \n",
      " 1   TV          200 non-null    float64\n",
      " 2   radio       200 non-null    float64\n",
      " 3   newspaper   200 non-null    float64\n",
      " 4   sales       200 non-null    float64\n",
      "dtypes: float64(4), int64(1)\n",
      "memory usage: 7.9 KB\n"
     ]
    }
   ],
   "source": [
    "df.info()"
   ]
  },
  {
   "cell_type": "code",
   "execution_count": 6,
   "id": "e4bf521c",
   "metadata": {},
   "outputs": [
    {
     "data": {
      "text/html": [
       "<div>\n",
       "<style scoped>\n",
       "    .dataframe tbody tr th:only-of-type {\n",
       "        vertical-align: middle;\n",
       "    }\n",
       "\n",
       "    .dataframe tbody tr th {\n",
       "        vertical-align: top;\n",
       "    }\n",
       "\n",
       "    .dataframe thead th {\n",
       "        text-align: right;\n",
       "    }\n",
       "</style>\n",
       "<table border=\"1\" class=\"dataframe\">\n",
       "  <thead>\n",
       "    <tr style=\"text-align: right;\">\n",
       "      <th></th>\n",
       "      <th>Unnamed: 0</th>\n",
       "      <th>TV</th>\n",
       "      <th>radio</th>\n",
       "      <th>newspaper</th>\n",
       "      <th>sales</th>\n",
       "    </tr>\n",
       "  </thead>\n",
       "  <tbody>\n",
       "    <tr>\n",
       "      <th>count</th>\n",
       "      <td>200.000000</td>\n",
       "      <td>200.000000</td>\n",
       "      <td>200.000000</td>\n",
       "      <td>200.000000</td>\n",
       "      <td>200.000000</td>\n",
       "    </tr>\n",
       "    <tr>\n",
       "      <th>mean</th>\n",
       "      <td>100.500000</td>\n",
       "      <td>147.042500</td>\n",
       "      <td>23.264000</td>\n",
       "      <td>30.554000</td>\n",
       "      <td>14.022500</td>\n",
       "    </tr>\n",
       "    <tr>\n",
       "      <th>std</th>\n",
       "      <td>57.879185</td>\n",
       "      <td>85.854236</td>\n",
       "      <td>14.846809</td>\n",
       "      <td>21.778621</td>\n",
       "      <td>5.217457</td>\n",
       "    </tr>\n",
       "    <tr>\n",
       "      <th>min</th>\n",
       "      <td>1.000000</td>\n",
       "      <td>0.700000</td>\n",
       "      <td>0.000000</td>\n",
       "      <td>0.300000</td>\n",
       "      <td>1.600000</td>\n",
       "    </tr>\n",
       "    <tr>\n",
       "      <th>25%</th>\n",
       "      <td>50.750000</td>\n",
       "      <td>74.375000</td>\n",
       "      <td>9.975000</td>\n",
       "      <td>12.750000</td>\n",
       "      <td>10.375000</td>\n",
       "    </tr>\n",
       "    <tr>\n",
       "      <th>50%</th>\n",
       "      <td>100.500000</td>\n",
       "      <td>149.750000</td>\n",
       "      <td>22.900000</td>\n",
       "      <td>25.750000</td>\n",
       "      <td>12.900000</td>\n",
       "    </tr>\n",
       "    <tr>\n",
       "      <th>75%</th>\n",
       "      <td>150.250000</td>\n",
       "      <td>218.825000</td>\n",
       "      <td>36.525000</td>\n",
       "      <td>45.100000</td>\n",
       "      <td>17.400000</td>\n",
       "    </tr>\n",
       "    <tr>\n",
       "      <th>max</th>\n",
       "      <td>200.000000</td>\n",
       "      <td>296.400000</td>\n",
       "      <td>49.600000</td>\n",
       "      <td>114.000000</td>\n",
       "      <td>27.000000</td>\n",
       "    </tr>\n",
       "  </tbody>\n",
       "</table>\n",
       "</div>"
      ],
      "text/plain": [
       "       Unnamed: 0          TV       radio   newspaper       sales\n",
       "count  200.000000  200.000000  200.000000  200.000000  200.000000\n",
       "mean   100.500000  147.042500   23.264000   30.554000   14.022500\n",
       "std     57.879185   85.854236   14.846809   21.778621    5.217457\n",
       "min      1.000000    0.700000    0.000000    0.300000    1.600000\n",
       "25%     50.750000   74.375000    9.975000   12.750000   10.375000\n",
       "50%    100.500000  149.750000   22.900000   25.750000   12.900000\n",
       "75%    150.250000  218.825000   36.525000   45.100000   17.400000\n",
       "max    200.000000  296.400000   49.600000  114.000000   27.000000"
      ]
     },
     "execution_count": 6,
     "metadata": {},
     "output_type": "execute_result"
    }
   ],
   "source": [
    "df.describe()"
   ]
  },
  {
   "cell_type": "markdown",
   "id": "5e1486c0",
   "metadata": {},
   "source": [
    "# EDA"
   ]
  },
  {
   "cell_type": "code",
   "execution_count": 7,
   "id": "477d556b",
   "metadata": {},
   "outputs": [
    {
     "data": {
      "text/html": [
       "<div>\n",
       "<style scoped>\n",
       "    .dataframe tbody tr th:only-of-type {\n",
       "        vertical-align: middle;\n",
       "    }\n",
       "\n",
       "    .dataframe tbody tr th {\n",
       "        vertical-align: top;\n",
       "    }\n",
       "\n",
       "    .dataframe thead th {\n",
       "        text-align: right;\n",
       "    }\n",
       "</style>\n",
       "<table border=\"1\" class=\"dataframe\">\n",
       "  <thead>\n",
       "    <tr style=\"text-align: right;\">\n",
       "      <th></th>\n",
       "      <th>TV</th>\n",
       "      <th>radio</th>\n",
       "      <th>newspaper</th>\n",
       "      <th>sales</th>\n",
       "    </tr>\n",
       "  </thead>\n",
       "  <tbody>\n",
       "    <tr>\n",
       "      <th>0</th>\n",
       "      <td>230.1</td>\n",
       "      <td>37.8</td>\n",
       "      <td>69.2</td>\n",
       "      <td>22.1</td>\n",
       "    </tr>\n",
       "    <tr>\n",
       "      <th>1</th>\n",
       "      <td>44.5</td>\n",
       "      <td>39.3</td>\n",
       "      <td>45.1</td>\n",
       "      <td>10.4</td>\n",
       "    </tr>\n",
       "    <tr>\n",
       "      <th>2</th>\n",
       "      <td>17.2</td>\n",
       "      <td>45.9</td>\n",
       "      <td>69.3</td>\n",
       "      <td>9.3</td>\n",
       "    </tr>\n",
       "    <tr>\n",
       "      <th>3</th>\n",
       "      <td>151.5</td>\n",
       "      <td>41.3</td>\n",
       "      <td>58.5</td>\n",
       "      <td>18.5</td>\n",
       "    </tr>\n",
       "    <tr>\n",
       "      <th>4</th>\n",
       "      <td>180.8</td>\n",
       "      <td>10.8</td>\n",
       "      <td>58.4</td>\n",
       "      <td>12.9</td>\n",
       "    </tr>\n",
       "  </tbody>\n",
       "</table>\n",
       "</div>"
      ],
      "text/plain": [
       "      TV  radio  newspaper  sales\n",
       "0  230.1   37.8       69.2   22.1\n",
       "1   44.5   39.3       45.1   10.4\n",
       "2   17.2   45.9       69.3    9.3\n",
       "3  151.5   41.3       58.5   18.5\n",
       "4  180.8   10.8       58.4   12.9"
      ]
     },
     "execution_count": 7,
     "metadata": {},
     "output_type": "execute_result"
    }
   ],
   "source": [
    "data = df.drop(columns = [\"Unnamed: 0\"], axis=1)\n",
    "data.head()"
   ]
  },
  {
   "cell_type": "markdown",
   "id": "2a78d93b",
   "metadata": {},
   "source": [
    "In the datasets, feature sales is Dependent feature and rest of other feature like TV, radio and newspaper are independent feature."
   ]
  },
  {
   "cell_type": "code",
   "execution_count": 8,
   "id": "d34dacb3",
   "metadata": {},
   "outputs": [
    {
     "data": {
      "text/plain": [
       "TV           0.0\n",
       "radio        0.0\n",
       "newspaper    0.0\n",
       "sales        0.0\n",
       "dtype: float64"
      ]
     },
     "execution_count": 8,
     "metadata": {},
     "output_type": "execute_result"
    }
   ],
   "source": [
    "data.isnull().mean()"
   ]
  },
  {
   "cell_type": "markdown",
   "id": "e5242b2a",
   "metadata": {},
   "source": [
    "# Data Visualization to see the Correlation"
   ]
  },
  {
   "cell_type": "code",
   "execution_count": 9,
   "id": "d7e8124d",
   "metadata": {},
   "outputs": [
    {
     "data": {
      "image/png": "[encoded data removed]",
      "text/plain": [
       "<Figure size 1152x576 with 3 Axes>"
      ]
     },
     "metadata": {
      "needs_background": "light"
     },
     "output_type": "display_data"
    }
   ],
   "source": [
    "fig, axs = plt.subplots(1,3)\n",
    "data.plot(kind='scatter', x = 'TV', y='sales', ax=axs[0], figsize=(16,8))\n",
    "data.plot(kind='scatter', x = 'radio', y='sales', ax=axs[1])\n",
    "data.plot(kind='scatter', x = 'newspaper', y='sales', ax=axs[2])\n",
    "fig.savefig('testdata.jpg')"
   ]
  },
  {
   "cell_type": "markdown",
   "id": "d6c1f8c8",
   "metadata": {},
   "source": [
    "# Bivariate analysis"
   ]
  },
  {
   "cell_type": "code",
   "execution_count": 127,
   "id": "692cf101",
   "metadata": {},
   "outputs": [
    {
     "data": {
      "text/plain": [
       "<AxesSubplot:title={'center':'comparison between Tv and Sales'}, xlabel='TV', ylabel='sales'>"
      ]
     },
     "execution_count": 127,
     "metadata": {},
     "output_type": "execute_result"
    },
    {
     "data": {
      "image/png": "[encoded data removed]",
      "text/plain": [
       "<Figure size 720x432 with 1 Axes>"
      ]
     },
     "metadata": {
      "needs_background": "light"
     },
     "output_type": "display_data"
    }
   ],
   "source": [
    "plt.figure(figsize=[10,6])\n",
    "plt.title(\"comparison between Tv and Sales\")\n",
    "sns.scatterplot(data['TV'],data['sales'],hue=data[\"sales\"])"
   ]
  },
  {
   "cell_type": "markdown",
   "id": "d3be485e",
   "metadata": {},
   "source": [
    "It gives the number of Tv in sales"
   ]
  },
  {
   "cell_type": "code",
   "execution_count": 130,
   "id": "40758b30",
   "metadata": {},
   "outputs": [
    {
     "data": {
      "text/plain": [
       "<AxesSubplot:title={'center':'comparison between radio and Sales'}, xlabel='radio', ylabel='sales'>"
      ]
     },
     "execution_count": 130,
     "metadata": {},
     "output_type": "execute_result"
    },
    {
     "data": {
      "image/png": "[encoded data removed]",
      "text/plain": [
       "<Figure size 720x432 with 1 Axes>"
      ]
     },
     "metadata": {
      "needs_background": "light"
     },
     "output_type": "display_data"
    }
   ],
   "source": [
    "plt.figure(figsize=[10,6])\n",
    "plt.title(\"comparison between radio and Sales\")\n",
    "sns.scatterplot(data['radio'],data['sales'],hue=data[\"sales\"])"
   ]
  },
  {
   "cell_type": "code",
   "execution_count": null,
   "id": "00a3b8dd",
   "metadata": {},
   "outputs": [],
   "source": [
    "It gives the number of radio in sales"
   ]
  },
  {
   "cell_type": "code",
   "execution_count": 129,
   "id": "43dd36c9",
   "metadata": {},
   "outputs": [
    {
     "data": {
      "text/plain": [
       "<AxesSubplot:title={'center':'comparison between newspaper and Sales'}, xlabel='newspaper', ylabel='sales'>"
      ]
     },
     "execution_count": 129,
     "metadata": {},
     "output_type": "execute_result"
    },
    {
     "data": {
      "image/png": "[encoded data removed]",
      "text/plain": [
       "<Figure size 720x432 with 1 Axes>"
      ]
     },
     "metadata": {
      "needs_background": "light"
     },
     "output_type": "display_data"
    }
   ],
   "source": [
    "plt.figure(figsize=[10,6])\n",
    "plt.title(\"comparison between newspaper and Sales\")\n",
    "sns.scatterplot(data['newspaper'],data['sales'],hue=data[\"sales\"])"
   ]
  },
  {
   "cell_type": "markdown",
   "id": "49d422f0",
   "metadata": {},
   "source": [
    "It gives the number of newspaper in sales"
   ]
  },
  {
   "cell_type": "code",
   "execution_count": 132,
   "id": "5e437a0f",
   "metadata": {},
   "outputs": [
    {
     "data": {
      "text/plain": [
       "<seaborn.axisgrid.PairGrid at 0x2135580d640>"
      ]
     },
     "execution_count": 132,
     "metadata": {},
     "output_type": "execute_result"
    },
    {
     "data": {
      "image/png": "[encoded data removed]",
      "text/plain": [
       "<Figure size 588.75x540 with 12 Axes>"
      ]
     },
     "metadata": {
      "needs_background": "light"
     },
     "output_type": "display_data"
    }
   ],
   "source": [
    "#Pairplot\n",
    "sns.pairplot(data,hue='sales')"
   ]
  },
  {
   "cell_type": "markdown",
   "id": "d2a788ed",
   "metadata": {},
   "source": [
    "It gives the the scatterplot of each column against each independent variables"
   ]
  },
  {
   "cell_type": "markdown",
   "id": "322008bc",
   "metadata": {},
   "source": [
    "# Data Distribution and skewness checking"
   ]
  },
  {
   "cell_type": "code",
   "execution_count": 10,
   "id": "0616a88a",
   "metadata": {},
   "outputs": [
    {
     "data": {
      "image/png": "[encoded data removed]",
      "text/plain": [
       "<Figure size 1440x1800 with 4 Axes>"
      ]
     },
     "metadata": {},
     "output_type": "display_data"
    }
   ],
   "source": [
    "# lets see how data are distributed in every column\n",
    "plt.figure(figsize=(20,25), facecolor='white')\n",
    "plotnumber = 1\n",
    "\n",
    "for column in data:\n",
    "    if plotnumber<=4 : #As the number of columns are 4 in datasets\n",
    "        ax = plt.subplot(2,2, plotnumber)\n",
    "        sns.distplot(data[column])\n",
    "        plt.xlabel(column, fontsize=20)\n",
    "    plotnumber +=1\n",
    "plt.show()"
   ]
  },
  {
   "cell_type": "markdown",
   "id": "08f2aa6a",
   "metadata": {},
   "source": [
    "Dataset does not have skewness as per graph but can be guessed for newspaper which seems right skewed. We will handle it in further steps"
   ]
  },
  {
   "cell_type": "code",
   "execution_count": 11,
   "id": "fa3cadaa",
   "metadata": {},
   "outputs": [
    {
     "data": {
      "text/plain": [
       "TV          -0.069853\n",
       "radio        0.094175\n",
       "newspaper    0.894720\n",
       "sales        0.407571\n",
       "dtype: float64"
      ]
     },
     "execution_count": 11,
     "metadata": {},
     "output_type": "execute_result"
    }
   ],
   "source": [
    "data.skew()"
   ]
  },
  {
   "cell_type": "code",
   "execution_count": 12,
   "id": "c2bacc8c",
   "metadata": {},
   "outputs": [],
   "source": [
    "#devide the data into feature and labels\n",
    "y = data['sales']\n",
    "x = data.drop(columns = ['sales'])"
   ]
  },
  {
   "cell_type": "code",
   "execution_count": 13,
   "id": "14a729d4",
   "metadata": {},
   "outputs": [
    {
     "data": {
      "text/html": [
       "<div>\n",
       "<style scoped>\n",
       "    .dataframe tbody tr th:only-of-type {\n",
       "        vertical-align: middle;\n",
       "    }\n",
       "\n",
       "    .dataframe tbody tr th {\n",
       "        vertical-align: top;\n",
       "    }\n",
       "\n",
       "    .dataframe thead th {\n",
       "        text-align: right;\n",
       "    }\n",
       "</style>\n",
       "<table border=\"1\" class=\"dataframe\">\n",
       "  <thead>\n",
       "    <tr style=\"text-align: right;\">\n",
       "      <th></th>\n",
       "      <th>TV</th>\n",
       "      <th>radio</th>\n",
       "      <th>newspaper</th>\n",
       "    </tr>\n",
       "  </thead>\n",
       "  <tbody>\n",
       "    <tr>\n",
       "      <th>0</th>\n",
       "      <td>230.1</td>\n",
       "      <td>37.8</td>\n",
       "      <td>69.2</td>\n",
       "    </tr>\n",
       "    <tr>\n",
       "      <th>1</th>\n",
       "      <td>44.5</td>\n",
       "      <td>39.3</td>\n",
       "      <td>45.1</td>\n",
       "    </tr>\n",
       "    <tr>\n",
       "      <th>2</th>\n",
       "      <td>17.2</td>\n",
       "      <td>45.9</td>\n",
       "      <td>69.3</td>\n",
       "    </tr>\n",
       "    <tr>\n",
       "      <th>3</th>\n",
       "      <td>151.5</td>\n",
       "      <td>41.3</td>\n",
       "      <td>58.5</td>\n",
       "    </tr>\n",
       "    <tr>\n",
       "      <th>4</th>\n",
       "      <td>180.8</td>\n",
       "      <td>10.8</td>\n",
       "      <td>58.4</td>\n",
       "    </tr>\n",
       "    <tr>\n",
       "      <th>...</th>\n",
       "      <td>...</td>\n",
       "      <td>...</td>\n",
       "      <td>...</td>\n",
       "    </tr>\n",
       "    <tr>\n",
       "      <th>195</th>\n",
       "      <td>38.2</td>\n",
       "      <td>3.7</td>\n",
       "      <td>13.8</td>\n",
       "    </tr>\n",
       "    <tr>\n",
       "      <th>196</th>\n",
       "      <td>94.2</td>\n",
       "      <td>4.9</td>\n",
       "      <td>8.1</td>\n",
       "    </tr>\n",
       "    <tr>\n",
       "      <th>197</th>\n",
       "      <td>177.0</td>\n",
       "      <td>9.3</td>\n",
       "      <td>6.4</td>\n",
       "    </tr>\n",
       "    <tr>\n",
       "      <th>198</th>\n",
       "      <td>283.6</td>\n",
       "      <td>42.0</td>\n",
       "      <td>66.2</td>\n",
       "    </tr>\n",
       "    <tr>\n",
       "      <th>199</th>\n",
       "      <td>232.1</td>\n",
       "      <td>8.6</td>\n",
       "      <td>8.7</td>\n",
       "    </tr>\n",
       "  </tbody>\n",
       "</table>\n",
       "<p>200 rows × 3 columns</p>\n",
       "</div>"
      ],
      "text/plain": [
       "        TV  radio  newspaper\n",
       "0    230.1   37.8       69.2\n",
       "1     44.5   39.3       45.1\n",
       "2     17.2   45.9       69.3\n",
       "3    151.5   41.3       58.5\n",
       "4    180.8   10.8       58.4\n",
       "..     ...    ...        ...\n",
       "195   38.2    3.7       13.8\n",
       "196   94.2    4.9        8.1\n",
       "197  177.0    9.3        6.4\n",
       "198  283.6   42.0       66.2\n",
       "199  232.1    8.6        8.7\n",
       "\n",
       "[200 rows x 3 columns]"
      ]
     },
     "execution_count": 13,
     "metadata": {},
     "output_type": "execute_result"
    }
   ],
   "source": [
    "x"
   ]
  },
  {
   "cell_type": "code",
   "execution_count": 14,
   "id": "48203d03",
   "metadata": {},
   "outputs": [
    {
     "data": {
      "text/plain": [
       "0      22.1\n",
       "1      10.4\n",
       "2       9.3\n",
       "3      18.5\n",
       "4      12.9\n",
       "       ... \n",
       "195     7.6\n",
       "196     9.7\n",
       "197    12.8\n",
       "198    25.5\n",
       "199    13.4\n",
       "Name: sales, Length: 200, dtype: float64"
      ]
     },
     "execution_count": 14,
     "metadata": {},
     "output_type": "execute_result"
    }
   ],
   "source": [
    "y"
   ]
  },
  {
   "cell_type": "code",
   "execution_count": 15,
   "id": "bd773e91",
   "metadata": {},
   "outputs": [
    {
     "data": {
      "image/png": "[encoded data removed]",
      "text/plain": [
       "<Figure size 864x720 with 2 Axes>"
      ]
     },
     "metadata": {
      "needs_background": "light"
     },
     "output_type": "display_data"
    }
   ],
   "source": [
    "import seaborn as sns\n",
    "corr_mat = data.corr()\n",
    "plt.figure(figsize=[12,10])\n",
    "sns.heatmap(corr_mat, annot=True)\n",
    "plt.title(\"Correlation Matrix\")\n",
    "plt.show()"
   ]
  },
  {
   "cell_type": "markdown",
   "id": "e847befb",
   "metadata": {},
   "source": [
    "In Correlation Matrix we have observed that TV and Radio are playing major roles in increasing the sales but newspaper contributing least in increasing sales"
   ]
  },
  {
   "cell_type": "markdown",
   "id": "07bd5d83",
   "metadata": {},
   "source": [
    "# Handle Skewness in datasets"
   ]
  },
  {
   "cell_type": "code",
   "execution_count": 16,
   "id": "b3de3d82",
   "metadata": {},
   "outputs": [],
   "source": [
    "from sklearn.preprocessing import power_transform\n",
    "x_new = power_transform(data)\n",
    "#will convert data into dataframe for further use after transforming dataset from arrays\n",
    "x1 = pd.DataFrame(x_new, columns=data.columns)"
   ]
  },
  {
   "cell_type": "code",
   "execution_count": 17,
   "id": "c39b9a01",
   "metadata": {},
   "outputs": [
    {
     "data": {
      "text/plain": [
       "sales       -0.007841\n",
       "newspaper   -0.077942\n",
       "radio       -0.242968\n",
       "TV          -0.315199\n",
       "dtype: float64"
      ]
     },
     "execution_count": 17,
     "metadata": {},
     "output_type": "execute_result"
    }
   ],
   "source": [
    "x1.skew().sort_values(ascending=False)"
   ]
  },
  {
   "cell_type": "code",
   "execution_count": 18,
   "id": "c015ef6b",
   "metadata": {},
   "outputs": [
    {
     "data": {
      "text/plain": [
       "(200, 4)"
      ]
     },
     "execution_count": 18,
     "metadata": {},
     "output_type": "execute_result"
    }
   ],
   "source": [
    "x1.shape"
   ]
  },
  {
   "cell_type": "markdown",
   "id": "368e7974",
   "metadata": {},
   "source": [
    "# Scaling"
   ]
  },
  {
   "cell_type": "code",
   "execution_count": 19,
   "id": "65fdea1c",
   "metadata": {},
   "outputs": [],
   "source": [
    "#data scaling\n",
    "from sklearn.preprocessing import StandardScaler\n",
    "\n",
    "scaler = StandardScaler()\n",
    "x_scaled = scaler.fit_transform(x1)"
   ]
  },
  {
   "cell_type": "code",
   "execution_count": 20,
   "id": "0f89b6f7",
   "metadata": {},
   "outputs": [
    {
     "data": {
      "text/plain": [
       "array([[ 9.48674291e-01,  9.62246888e-01,  1.51433531e+00,\n",
       "         1.46441197e+00],\n",
       "       [-1.19131426e+00,  1.04017880e+00,  7.87682518e-01,\n",
       "        -6.50692513e-01],\n",
       "       [-1.64775660e+00,  1.37070964e+00,  1.51699753e+00,\n",
       "        -8.94549951e-01],\n",
       "       [ 1.41020233e-01,  1.14238689e+00,  1.21465643e+00,\n",
       "         8.82528036e-01],\n",
       "       [ 4.52714928e-01, -7.48650643e-01,  1.21170398e+00,\n",
       "        -1.34549801e-01],\n",
       "       [-1.82382233e+00,  1.51501853e+00,  1.66502354e+00,\n",
       "        -1.39687742e+00],\n",
       "       [-1.00249116e+00,  6.93727035e-01, -1.07753498e-01,\n",
       "        -3.55780023e-01],\n",
       "       [-2.10275002e-01, -1.01585443e-01, -8.44093412e-01,\n",
       "        -7.56544391e-02],\n",
       "       [-1.82609501e+00, -1.63345378e+00, -2.13259669e+00,\n",
       "        -2.05242372e+00],\n",
       "       [ 6.47644918e-01, -1.56676988e+00, -2.29003949e-01,\n",
       "        -6.07561054e-01],\n",
       "       [-8.83773778e-01, -1.20298758e+00, -7.22615630e-02,\n",
       "        -1.05614129e+00],\n",
       "       [ 7.97083554e-01,  1.80725788e-01, -1.60261898e+00,\n",
       "         6.94842655e-01],\n",
       "       [-1.52641627e+00,  8.19005629e-01,  1.42512925e+00,\n",
       "        -9.17311773e-01],\n",
       "       [-4.80368438e-01, -1.02813642e+00, -1.22982506e+00,\n",
       "        -8.04522689e-01],\n",
       "       [ 6.91065769e-01,  6.99240303e-01,  8.18605793e-01,\n",
       "         9.66193980e-01],\n",
       "       [ 6.02957127e-01,  1.45770359e+00,  1.04432344e+00,\n",
       "         1.51091184e+00],\n",
       "       [-8.60799721e-01,  8.99069986e-01,  2.52943514e+00,\n",
       "        -2.14012755e-01],\n",
       "       [ 1.43552010e+00,  1.05563142e+00,  1.13383286e+00,\n",
       "         1.81402560e+00],\n",
       "       [-8.41993276e-01, -4.20990786e-02, -3.93560155e-01,\n",
       "        -4.59281788e-01],\n",
       "       [ 9.50855074e-02,  1.74531653e-01, -3.46715444e-01,\n",
       "         1.91784302e-01],\n",
       "       [ 8.33760704e-01,  4.03670611e-01,  1.05996548e+00,\n",
       "         7.97849410e-01],\n",
       "       [ 1.01958629e+00, -1.27567304e+00, -1.07753498e-01,\n",
       "        -2.14012755e-01],\n",
       "       [-1.72701642e+00, -3.57392888e-01,  9.38757391e-01,\n",
       "        -1.82178350e+00],\n",
       "       [ 9.31097982e-01, -2.86311290e-01,  2.58931103e-02,\n",
       "         3.57788642e-01],\n",
       "       [-9.35697721e-01, -6.04310610e-01, -3.93560155e-01,\n",
       "        -8.04522689e-01],\n",
       "       [ 1.26290943e+00, -1.45505850e+00, -3.23725895e-01,\n",
       "        -3.14911734e-01],\n",
       "       [ 4.65901285e-02,  4.96644055e-01, -7.68672812e-01,\n",
       "         2.66104071e-01],\n",
       "       [ 1.04566690e+00, -3.00403825e-01, -1.38678899e-01,\n",
       "         4.30201548e-01],\n",
       "       [ 1.12918152e+00,  3.68298098e-01, -1.38678899e-01,\n",
       "         9.49539998e-01],\n",
       "       [-8.23286461e-01, -3.50213794e-01,  6.34520181e-01,\n",
       "        -6.29082793e-01],\n",
       "       [ 1.54129731e+00,  4.38761954e-01,  7.21148606e-01,\n",
       "         1.35479751e+00],\n",
       "       [-2.95533373e-01, -2.51340357e-01,  5.52358766e-01,\n",
       "        -3.35308720e-01],\n",
       "       [-4.84042431e-01, -1.71918898e+00,  2.00719361e-01,\n",
       "        -8.26879348e-01],\n",
       "       [ 1.28829734e+00, -7.50270636e-02, -2.32472495e+00,\n",
       "         6.94842655e-01],\n",
       "       [-5.02457489e-01, -1.73421070e+00, -1.20981332e+00,\n",
       "        -8.49335179e-01],\n",
       "       [ 1.52114819e+00, -1.38531280e+00, -1.10471076e+00,\n",
       "        -1.54313854e-01],\n",
       "       [ 1.30049670e+00,  1.26758870e+00, -1.47330873e+00,\n",
       "         1.96137713e+00],\n",
       "       [-7.69052568e-01,  1.53874417e+00,  8.08339144e-01,\n",
       "         2.10447259e-01],\n",
       "       [-1.21245403e+00,  3.44556121e-01,  4.15598401e-01,\n",
       "        -7.16061045e-01],\n",
       "       [ 9.28165031e-01,  9.57010908e-01,  2.87423214e-01,\n",
       "         1.37055412e+00],\n",
       "       [ 6.74937764e-01,  7.40958393e-02,  2.70348543e-01,\n",
       "         5.55016090e-01],\n",
       "       [ 4.13090984e-01,  7.26714079e-01,  5.56153916e-01,\n",
       "         6.42748466e-01],\n",
       "       [ 1.54769995e+00,  4.03670611e-01, -1.95904851e+00,\n",
       "         1.24356382e+00],\n",
       "       [ 7.19209431e-01, -9.54992860e-01,  3.54591841e-02,\n",
       "        -1.34549801e-01],\n",
       "       [-1.50359538e+00,  2.84621180e-01,  7.24694111e-01,\n",
       "        -1.07967118e+00],\n",
       "       [ 3.93194665e-01,  8.67911555e-02,  2.66059606e-01,\n",
       "         2.47606631e-01],\n",
       "       [-5.76895621e-01, -8.23961058e-01,  4.39609343e-01,\n",
       "        -6.07561054e-01],\n",
       "       [ 1.04373768e+00,  1.15250515e+00, -3.81737803e-01,\n",
       "         1.63356219e+00],\n",
       "       [ 9.20338819e-01, -3.64588214e-01,  9.48527550e-01,\n",
       "         2.29054530e-01],\n",
       "       [-8.72943383e-01, -6.75503610e-01,  4.83005084e-01,\n",
       "        -8.04522689e-01],\n",
       "       [ 6.47644918e-01, -1.50354208e+00,  3.95399604e-01,\n",
       "        -4.38425744e-01],\n",
       "       [-4.45005064e-01, -8.49587282e-01, -1.65883577e+00,\n",
       "        -5.86126183e-01],\n",
       "       [ 8.13955853e-01,  1.16260524e+00,  5.90046655e-01,\n",
       "         1.54175652e+00],\n",
       "       [ 4.71407030e-01,  1.38529598e+00,  1.22055211e+00,\n",
       "         1.32318495e+00],\n",
       "       [ 1.26102610e+00,  4.67795685e-01, -5.41769847e-01,\n",
       "         1.16307722e+00],\n",
       "       [ 6.38525626e-01,  1.53874417e+00,  1.25857888e+00,\n",
       "         1.70925418e+00],\n",
       "       [-1.85624738e+00,  4.27095583e-01,  6.56460459e-01,\n",
       "        -1.84986698e+00],\n",
       "       [-2.80221404e-02, -1.28341414e-01, -4.97263421e-01,\n",
       "        -7.56544391e-02],\n",
       "       [ 7.58241972e-01,  1.54820925e+00,  5.17931907e-01,\n",
       "         1.72430603e+00],\n",
       "       [ 7.57243542e-01,  5.08132451e-01, -1.03293213e+00,\n",
       "         8.65674550e-01],\n",
       "       [-1.05927427e+00, -1.64727037e+00, -2.18159752e-01,\n",
       "        -1.17497413e+00],\n",
       "       [ 1.24783212e+00,  1.21283741e+00,  1.10022212e+00,\n",
       "         1.78423066e+00],\n",
       "       [ 1.03794746e+00, -3.86272941e-01,  7.79792875e-02,\n",
       "         3.94096812e-01],\n",
       "       [-4.17149550e-01,  5.13865863e-01, -1.11394312e+00,\n",
       "         7.86071321e-02],\n",
       "       [-8.54682581e-02,  1.21783637e+00,  1.51547059e-01,\n",
       "         7.97849410e-01],\n",
       "       [-8.44673753e-01, -8.75491892e-01, -2.15715720e+00,\n",
       "        -8.94549951e-01],\n",
       "       [-1.39531449e+00,  2.17693948e-01, -1.88378271e+00,\n",
       "        -8.49335179e-01],\n",
       "       [ 6.61780241e-03, -4.59668234e-01, -9.56199424e-01,\n",
       "        -3.67147025e-02],\n",
       "       [ 1.01958629e+00,  3.91911417e-01, -8.91141598e-01,\n",
       "         9.49539998e-01],\n",
       "       [ 8.17920692e-01,  1.27254050e+00,  7.32966144e-02,\n",
       "         1.49544313e+00],\n",
       "       [ 6.40553078e-01,  5.70812097e-01,  5.56153916e-01,\n",
       "         8.48780257e-01],\n",
       "       [-3.32176299e-01, -4.74561795e-01,  2.74629332e-01,\n",
       "        -2.34050424e-01],\n",
       "       [-1.47420382e+00,  7.04747367e-01, -3.35185568e-01,\n",
       "        -1.00942392e+00],\n",
       "       [-1.04747493e-01, -1.21318999e+00,  2.57457125e-01,\n",
       "        -5.22332008e-01],\n",
       "       [ 7.84157305e-01,  2.17693948e-01, -7.32248660e-01,\n",
       "         6.25293851e-01],\n",
       "       [-1.65352738e+00,  1.26263268e+00,  2.01064695e+00,\n",
       "        -1.03272612e+00],\n",
       "       [-1.46224158e+00, -1.70439494e+00, -2.56382112e-01,\n",
       "        -1.47336162e+00],\n",
       "       [-2.06800984e-01,  4.50397966e-01, -6.54842972e-01,\n",
       "         1.16564977e-01],\n",
       "       [-1.90271957e+00,  5.31023343e-01, -1.02420602e+00,\n",
       "        -1.90664895e+00],\n",
       "       [-2.59155131e-01, -1.01885558e+00, -1.28317501e-01,\n",
       "        -5.22332008e-01],\n",
       "       [-7.46796266e-01,  3.44556121e-01, -1.70089405e-01,\n",
       "        -3.55780023e-01],\n",
       "       [ 1.04277291e+00, -1.38531280e+00,  4.86911126e-01,\n",
       "        -2.54158371e-01],\n",
       "       [-7.61182351e-01, -5.52348217e-02,  3.08587095e-01,\n",
       "        -4.59281788e-01],\n",
       "       [-8.52727454e-01,  1.30216339e+00,  4.35624508e-01,\n",
       "         1.97211699e-03],\n",
       "       [ 7.85152371e-01,  1.22782124e+00,  3.62712431e-01,\n",
       "         1.40196911e+00],\n",
       "       [ 5.80513413e-01, -1.82468098e-01,  1.41963599e+00,\n",
       "         3.02936968e-01],\n",
       "       [-7.48101832e-01,  3.91911417e-01, -5.35342694e-01,\n",
       "        -3.14911734e-01],\n",
       "       [-3.21510221e-01,  1.10682827e+00,  1.35009138e+00,\n",
       "         4.48178733e-01],\n",
       "       [-5.94450935e-01,  2.72532040e-01,  1.62418784e+00,\n",
       "        -1.34549801e-01],\n",
       "       [-3.32176299e-01,  1.46250027e+00,  9.96850541e-01,\n",
       "         5.72655186e-01],\n",
       "       [-4.93560400e-02, -1.29701657e+00, -1.03293213e+00,\n",
       "        -4.80217536e-01],\n",
       "       [-1.44360046e+00, -1.71918898e+00,  3.29556055e-01,\n",
       "        -1.37167544e+00],\n",
       "       [ 8.26834497e-01,  7.32190496e-01,  1.22937273e+00,\n",
       "         1.03242254e+00],\n",
       "       [ 1.14922339e+00,  8.93770757e-01,  1.59579653e+00,\n",
       "         1.47994324e+00],\n",
       "       [-3.60732755e-01, -4.97042253e-01, -8.99123777e-01,\n",
       "        -4.17648460e-01],\n",
       "       [ 2.68314454e-01,  6.27074463e-01,  1.04432344e+00,\n",
       "         6.07793684e-01],\n",
       "       [ 6.25333983e-01, -1.45505850e+00, -1.36793510e+00,\n",
       "        -3.76326497e-01],\n",
       "       [ 4.95220530e-01, -9.46212909e-03, -1.85982894e-01,\n",
       "         3.57788642e-01],\n",
       "       [ 1.51197614e+00,  1.19279775e+00,  9.90457455e-01,\n",
       "         1.96137713e+00],\n",
       "       [-3.92406304e-02,  1.16260524e+00,  8.15188102e-01,\n",
       "         6.60157896e-01],\n",
       "       [ 8.73226881e-01, -1.36277082e+00,  9.45274806e-01,\n",
       "        -3.76326497e-01],\n",
       "       [ 1.57327016e+00,  8.83156087e-01,  2.26282480e+00,\n",
       "         1.72430603e+00],\n",
       "       [ 1.42441703e+00, -8.07026337e-01, -2.18159752e-01,\n",
       "         2.29054530e-01],\n",
       "       [ 5.26164071e-01, -2.65284657e-01, -4.17434728e-01,\n",
       "         2.10447259e-01],\n",
       "       [ 1.02732204e+00,  7.75785830e-01, -1.43715760e+00,\n",
       "         1.24356382e+00],\n",
       "       [-9.00053015e-03,  1.39500055e+00,  1.22937273e+00,\n",
       "         9.99385169e-01],\n",
       "       [-1.50533991e+00, -7.32216741e-01,  1.87417464e-01,\n",
       "        -1.39687742e+00],\n",
       "       [-5.68145060e-01, -1.91962741e+00, -1.23156783e-01,\n",
       "        -1.03272612e+00],\n",
       "       [-1.72906885e+00, -1.90076688e+00, -3.06944277e-03,\n",
       "        -1.90664895e+00],\n",
       "       [ 1.19202117e+00,  3.56443350e-01, -1.41364623e+00,\n",
       "         1.09804459e+00],\n",
       "       [ 9.06625338e-01, -9.73048354e-01,  1.15501188e+00,\n",
       "        -3.67147025e-02],\n",
       "       [ 1.06108536e+00,  9.72703420e-01, -1.23156783e-01,\n",
       "         1.41762790e+00],\n",
       "       [ 3.99483862e-01, -3.93534557e-01, -1.84832983e+00,\n",
       "         9.76155384e-02],\n",
       "       [ 7.46252506e-01, -3.55487043e-02, -9.15213781e-01,\n",
       "         4.30201548e-01],\n",
       "       [-7.23372194e-01,  1.41436293e+00,  3.91338778e-01,\n",
       "         1.91784302e-01],\n",
       "       [-7.63803919e-01,  8.13623294e-01,  1.03804144e+00,\n",
       "        -1.94044602e-01],\n",
       "       [ 5.50358813e-03, -4.74561795e-01, -3.06944277e-03,\n",
       "        -2.74337375e-01],\n",
       "       [-7.46796266e-01, -1.82997283e+00, -6.14079398e-01,\n",
       "        -8.71891572e-01],\n",
       "       [-1.46941503e-01,  9.14935492e-01,  1.76974284e+00,\n",
       "         4.30201548e-01],\n",
       "       [-1.60617806e+00, -3.50213794e-01, -1.70089405e-01,\n",
       "        -1.55122108e+00],\n",
       "       [ 2.88579277e-02,  3.50503816e-01,  8.25427675e-01,\n",
       "         3.57788642e-01],\n",
       "       [-1.61739376e+00,  3.57578973e-02,  9.64732133e-01,\n",
       "        -1.44771784e+00],\n",
       "       [ 8.88960541e-01, -1.59299019e+00, -5.61193935e-01,\n",
       "        -3.96949013e-01],\n",
       "       [-1.76787737e-01,  7.92036635e-01, -7.83474818e-01,\n",
       "         3.02936968e-01],\n",
       "       [ 9.42819586e-01,  6.66066737e-01,  1.64467302e+00,\n",
       "         1.08169499e+00],\n",
       "       [-6.08295855e-01, -6.67500267e-01,  1.14618924e-02,\n",
       "        -6.07561054e-01],\n",
       "       [-1.84451116e+00,  1.01950683e+00,  9.71186601e-01,\n",
       "        -1.55122108e+00],\n",
       "       [-6.97511075e-01, -1.97986350e+00, -1.04171092e+00,\n",
       "        -1.00942392e+00],\n",
       "       [ 8.52530821e-01,  1.51977089e+00, -1.71817136e+00,\n",
       "         1.85851240e+00],\n",
       "       [-9.73096101e-01, -6.51564819e-01,  7.17598125e-01,\n",
       "        -8.04522689e-01],\n",
       "       [-2.04026249e+00,  1.05563142e+00, -1.08642518e+00,\n",
       "        -3.17911570e+00],\n",
       "       [ 1.28454050e+00, -1.52845902e+00,  7.14042650e-01,\n",
       "        -1.74145213e-01],\n",
       "       [-1.83065941e+00,  3.74213391e-01, -1.90202575e+00,\n",
       "        -1.79389895e+00],\n",
       "       [ 8.47595492e-01,  7.32190496e-01,  7.87682518e-01,\n",
       "         1.06530829e+00],\n",
       "       [-1.30833884e+00,  1.00395090e+00,  1.41688552e+00,\n",
       "        -5.64777092e-01],\n",
       "       [-1.13478620e+00,  1.42402092e+00, -1.10471076e+00,\n",
       "        -3.96949013e-01],\n",
       "       [-1.49489926e+00,  1.02468221e+00, -1.03293213e+00,\n",
       "        -8.49335179e-01],\n",
       "       [ 1.36405418e+00,  4.73580051e-01,  1.24984840e+00,\n",
       "         1.25955635e+00],\n",
       "       [-1.21397080e+00,  2.96675803e-01, -2.67442843e-01,\n",
       "        -8.26879348e-01],\n",
       "       [ 4.95220530e-01,  1.27254050e+00, -1.97889407e+00,\n",
       "         1.24356382e+00],\n",
       "       [-7.86161984e-01, -2.79287572e-01, -7.46720688e-01,\n",
       "        -5.43512715e-01],\n",
       "       [ 5.85620177e-01,  8.35118593e-01,  1.68019945e+00,\n",
       "         9.99385169e-01],\n",
       "       [ 8.54504120e-01,  7.15742982e-01,  5.25624866e-01,\n",
       "         1.14687342e+00],\n",
       "       [-3.94262424e-01, -1.21318999e+00,  3.87270854e-01,\n",
       "        -6.50692513e-01],\n",
       "       [-4.96310740e-01, -4.37464695e-01,  5.63726474e-01,\n",
       "        -4.38425744e-01],\n",
       "       [ 1.77483448e-02, -1.66126392e+00, -1.05942991e+00,\n",
       "        -6.72391350e-01],\n",
       "       [ 1.04566690e+00, -1.05622936e+00, -1.08642518e+00,\n",
       "        -7.56544391e-02],\n",
       "       [ 1.07551559e+00,  1.51977089e+00,  7.59879425e-01,\n",
       "         1.96137713e+00],\n",
       "       [-1.29103896e+00,  1.09151903e+00, -8.21089268e-01,\n",
       "        -5.43512715e-01],\n",
       "       [-1.18830853e+00,  2.90652784e-01, -2.61904542e-01,\n",
       "        -7.16061045e-01],\n",
       "       [ 1.42904484e+00, -5.04573789e-01,  4.90810783e-01,\n",
       "         4.66106375e-01],\n",
       "       [-2.01016025e-01, -9.54992860e-01,  9.09229669e-01,\n",
       "        -3.96949013e-01],\n",
       "       [ 6.25333983e-01,  1.37165414e-01, -6.54842972e-01,\n",
       "         5.55016090e-01],\n",
       "       [ 3.53229472e-01,  1.06077260e+00,  5.17931907e-01,\n",
       "         9.66193980e-01],\n",
       "       [ 5.25134738e-01, -2.96885385e-03, -1.01553176e+00,\n",
       "         3.75968381e-01],\n",
       "       [-1.93665721e+00, -6.83531045e-01, -1.39057916e+00,\n",
       "        -2.56395906e+00],\n",
       "       [-5.24656326e-01,  1.25270792e+00,  9.67961309e-01,\n",
       "         3.21273403e-01],\n",
       "       [ 1.22468716e-01, -1.74947332e+00, -6.72413922e-02,\n",
       "        -7.16061045e-01],\n",
       "       [-1.75822712e+00,  9.14935492e-01,  7.91136815e-01,\n",
       "        -1.37167544e+00],\n",
       "       [-7.86796272e-02, -1.82468098e-01,  3.95399604e-01,\n",
       "        -1.34549801e-01],\n",
       "       [ 3.65875186e-01, -2.02984414e-01,  2.31449840e-01,\n",
       "         1.54289219e-01],\n",
       "       [-6.27249669e-01,  8.56523914e-01,  9.28951258e-01,\n",
       "        -5.61526322e-02],\n",
       "       [ 5.31308559e-01, -2.02984414e-01, -3.06944277e-03,\n",
       "         2.47606631e-01],\n",
       "       [ 2.70450559e-01,  9.09652335e-01, -1.20981332e+00,\n",
       "         7.97849410e-01],\n",
       "       [-2.45142383e-01, -4.44847849e-01, -1.42534498e+00,\n",
       "        -3.35308720e-01],\n",
       "       [ 9.91485988e-01, -1.46701964e+00,  1.90420913e+00,\n",
       "        -3.35308720e-01],\n",
       "       [-1.63438885e+00,  9.51769761e-01, -2.07375411e-01,\n",
       "        -1.19910522e+00],\n",
       "       [ 7.18206045e-01, -1.26510158e+00, -3.29447026e-01,\n",
       "        -2.74337375e-01],\n",
       "       [ 8.04035245e-01,  1.55892019e-01,  1.18797267e+00,\n",
       "         6.42748466e-01],\n",
       "       [ 1.46230082e+00, -7.65191217e-01, -1.31304986e+00,\n",
       "         2.66104071e-01],\n",
       "       [-1.10987617e+00, -6.83531045e-01, -3.87639535e-01,\n",
       "        -1.10331755e+00],\n",
       "       [ 2.81120730e-01, -1.59666802e-02,  8.65987393e-01,\n",
       "         1.73065134e-01],\n",
       "       [-1.60245911e+00, -6.84177298e-02, -4.72322408e-01,\n",
       "        -1.29691198e+00],\n",
       "       [ 3.22571660e-01, -1.07517365e+00, -7.54005137e-01,\n",
       "        -3.76326497e-01],\n",
       "       [ 8.73226881e-01, -1.46701964e+00, -7.32248660e-01,\n",
       "        -4.17648460e-01],\n",
       "       [ 1.39381826e+00,  1.51501853e+00,  6.70980580e-01,\n",
       "         2.19179743e+00],\n",
       "       [ 1.12535894e+00,  5.48117355e-01, -2.78567541e-01,\n",
       "         1.16307722e+00],\n",
       "       [ 3.41616947e-01, -1.00961537e+00,  4.19617314e-01,\n",
       "        -3.76326497e-01],\n",
       "       [ 1.39196069e+00, -1.60632069e+00, -9.75494949e-02,\n",
       "        -3.55780023e-01],\n",
       "       [ 2.92838107e-01, -8.15479006e-01, -4.35546989e-01,\n",
       "        -1.94044602e-01],\n",
       "       [ 1.96347852e-01, -1.56676988e+00, -1.12323656e+00,\n",
       "        -6.29082793e-01],\n",
       "       [ 8.34749681e-01, -1.24415190e+00,  8.26517146e-02,\n",
       "        -2.74337375e-01],\n",
       "       [-1.02082882e+00, -1.21318999e+00,  1.87417464e-01,\n",
       "        -1.03272612e+00],\n",
       "       [ 1.49268741e+00,  1.22782124e+00,  1.58280405e+00,\n",
       "         2.07738228e+00],\n",
       "       [ 1.17682728e+00,  9.98415011e-03,  2.00719361e-01,\n",
       "         7.29350986e-01],\n",
       "       [ 7.00123041e-01,  1.33163754e+00, -3.18022039e-01,\n",
       "         1.54175652e+00],\n",
       "       [ 8.84559671e-03, -1.63345378e+00,  4.49820703e-02,\n",
       "        -6.72391350e-01],\n",
       "       [ 5.59026618e-01,  4.62003906e-01, -3.99499822e-01,\n",
       "         6.77522506e-01],\n",
       "       [ 1.47796614e+00, -5.04573789e-01, -1.64450612e+00,\n",
       "         4.30201548e-01],\n",
       "       [-1.61927178e+00, -6.43632210e-01, -1.12874870e-01,\n",
       "        -1.52511031e+00],\n",
       "       [-1.26765600e+00,  1.13225036e+00, -1.37920552e+00,\n",
       "        -5.64777092e-01],\n",
       "       [-7.58562612e-01, -7.48650643e-01, -1.35676548e+00,\n",
       "        -7.60101478e-01],\n",
       "       [-1.64775660e+00, -1.38531280e+00,  2.70348543e-01,\n",
       "        -1.73870942e+00],\n",
       "       [ 3.05597228e-01,  1.17772160e+00, -1.65883577e+00,\n",
       "         1.06530829e+00],\n",
       "       [ 1.21375721e-01,  8.45832415e-01, -1.35676548e+00,\n",
       "         6.77522506e-01],\n",
       "       [-1.28790757e+00, -1.43143631e+00, -6.82575813e-01,\n",
       "        -1.29691198e+00],\n",
       "       [-5.20948785e-01, -1.29701657e+00, -1.14201102e+00,\n",
       "        -8.04522689e-01],\n",
       "       [ 4.13090984e-01, -8.75491892e-01, -1.31304986e+00,\n",
       "        -1.54313854e-01],\n",
       "       [ 1.45584317e+00,  1.17772160e+00,  1.43335009e+00,\n",
       "         1.97596711e+00],\n",
       "       [ 9.68160821e-01, -9.37083420e-01, -1.08642518e+00,\n",
       "        -3.67147025e-02]])"
      ]
     },
     "execution_count": 20,
     "metadata": {},
     "output_type": "execute_result"
    }
   ],
   "source": [
    "x_scaled"
   ]
  },
  {
   "cell_type": "code",
   "execution_count": 21,
   "id": "d7b8cd27",
   "metadata": {},
   "outputs": [
    {
     "data": {
      "text/html": [
       "<div>\n",
       "<style scoped>\n",
       "    .dataframe tbody tr th:only-of-type {\n",
       "        vertical-align: middle;\n",
       "    }\n",
       "\n",
       "    .dataframe tbody tr th {\n",
       "        vertical-align: top;\n",
       "    }\n",
       "\n",
       "    .dataframe thead th {\n",
       "        text-align: right;\n",
       "    }\n",
       "</style>\n",
       "<table border=\"1\" class=\"dataframe\">\n",
       "  <thead>\n",
       "    <tr style=\"text-align: right;\">\n",
       "      <th></th>\n",
       "      <th>TV</th>\n",
       "      <th>radio</th>\n",
       "      <th>newspaper</th>\n",
       "      <th>sales</th>\n",
       "    </tr>\n",
       "  </thead>\n",
       "  <tbody>\n",
       "    <tr>\n",
       "      <th>0</th>\n",
       "      <td>0.948674</td>\n",
       "      <td>0.962247</td>\n",
       "      <td>1.514335</td>\n",
       "      <td>1.464412</td>\n",
       "    </tr>\n",
       "    <tr>\n",
       "      <th>1</th>\n",
       "      <td>-1.191314</td>\n",
       "      <td>1.040179</td>\n",
       "      <td>0.787683</td>\n",
       "      <td>-0.650693</td>\n",
       "    </tr>\n",
       "    <tr>\n",
       "      <th>2</th>\n",
       "      <td>-1.647757</td>\n",
       "      <td>1.370710</td>\n",
       "      <td>1.516998</td>\n",
       "      <td>-0.894550</td>\n",
       "    </tr>\n",
       "    <tr>\n",
       "      <th>3</th>\n",
       "      <td>0.141020</td>\n",
       "      <td>1.142387</td>\n",
       "      <td>1.214656</td>\n",
       "      <td>0.882528</td>\n",
       "    </tr>\n",
       "    <tr>\n",
       "      <th>4</th>\n",
       "      <td>0.452715</td>\n",
       "      <td>-0.748651</td>\n",
       "      <td>1.211704</td>\n",
       "      <td>-0.134550</td>\n",
       "    </tr>\n",
       "    <tr>\n",
       "      <th>...</th>\n",
       "      <td>...</td>\n",
       "      <td>...</td>\n",
       "      <td>...</td>\n",
       "      <td>...</td>\n",
       "    </tr>\n",
       "    <tr>\n",
       "      <th>195</th>\n",
       "      <td>-1.287908</td>\n",
       "      <td>-1.431436</td>\n",
       "      <td>-0.682576</td>\n",
       "      <td>-1.296912</td>\n",
       "    </tr>\n",
       "    <tr>\n",
       "      <th>196</th>\n",
       "      <td>-0.520949</td>\n",
       "      <td>-1.297017</td>\n",
       "      <td>-1.142011</td>\n",
       "      <td>-0.804523</td>\n",
       "    </tr>\n",
       "    <tr>\n",
       "      <th>197</th>\n",
       "      <td>0.413091</td>\n",
       "      <td>-0.875492</td>\n",
       "      <td>-1.313050</td>\n",
       "      <td>-0.154314</td>\n",
       "    </tr>\n",
       "    <tr>\n",
       "      <th>198</th>\n",
       "      <td>1.455843</td>\n",
       "      <td>1.177722</td>\n",
       "      <td>1.433350</td>\n",
       "      <td>1.975967</td>\n",
       "    </tr>\n",
       "    <tr>\n",
       "      <th>199</th>\n",
       "      <td>0.968161</td>\n",
       "      <td>-0.937083</td>\n",
       "      <td>-1.086425</td>\n",
       "      <td>-0.036715</td>\n",
       "    </tr>\n",
       "  </tbody>\n",
       "</table>\n",
       "<p>200 rows × 4 columns</p>\n",
       "</div>"
      ],
      "text/plain": [
       "           TV     radio  newspaper     sales\n",
       "0    0.948674  0.962247   1.514335  1.464412\n",
       "1   -1.191314  1.040179   0.787683 -0.650693\n",
       "2   -1.647757  1.370710   1.516998 -0.894550\n",
       "3    0.141020  1.142387   1.214656  0.882528\n",
       "4    0.452715 -0.748651   1.211704 -0.134550\n",
       "..        ...       ...        ...       ...\n",
       "195 -1.287908 -1.431436  -0.682576 -1.296912\n",
       "196 -0.520949 -1.297017  -1.142011 -0.804523\n",
       "197  0.413091 -0.875492  -1.313050 -0.154314\n",
       "198  1.455843  1.177722   1.433350  1.975967\n",
       "199  0.968161 -0.937083  -1.086425 -0.036715\n",
       "\n",
       "[200 rows x 4 columns]"
      ]
     },
     "execution_count": 21,
     "metadata": {},
     "output_type": "execute_result"
    }
   ],
   "source": [
    "x2 = pd.DataFrame(x_scaled, columns = x1.columns)\n",
    "x2"
   ]
  },
  {
   "cell_type": "markdown",
   "id": "4f277600",
   "metadata": {},
   "source": [
    "# Checking Outliers"
   ]
  },
  {
   "cell_type": "code",
   "execution_count": 22,
   "id": "1dec534f",
   "metadata": {},
   "outputs": [
    {
     "data": {
      "image/png": "[encoded data removed]",
      "text/plain": [
       "<Figure size 1080x576 with 1 Axes>"
      ]
     },
     "metadata": {
      "needs_background": "light"
     },
     "output_type": "display_data"
    }
   ],
   "source": [
    "#Ploting box plots for first 30 columns\n",
    "x2.boxplot(figsize=[15,8])\n",
    "plt.subplots_adjust(bottom=0.25)\n",
    "plt.show()"
   ]
  },
  {
   "cell_type": "markdown",
   "id": "366f7df1",
   "metadata": {},
   "source": [
    "we do not see any major outliers except a single point in target feature which will be quantify once to make sure no major counts in outliers"
   ]
  },
  {
   "cell_type": "markdown",
   "id": "c15547f7",
   "metadata": {},
   "source": [
    "# Lets Quantify the outliers"
   ]
  },
  {
   "cell_type": "code",
   "execution_count": 70,
   "id": "e1278780",
   "metadata": {},
   "outputs": [],
   "source": [
    "from scipy.stats import zscore"
   ]
  },
  {
   "cell_type": "code",
   "execution_count": 76,
   "id": "2fcae94c",
   "metadata": {},
   "outputs": [],
   "source": [
    "z=np.abs(zscore(x2))\n",
    "new_df=x2[(z<3).all(axis=1)]"
   ]
  },
  {
   "cell_type": "code",
   "execution_count": 77,
   "id": "7558cecf",
   "metadata": {},
   "outputs": [
    {
     "data": {
      "text/html": [
       "<div>\n",
       "<style scoped>\n",
       "    .dataframe tbody tr th:only-of-type {\n",
       "        vertical-align: middle;\n",
       "    }\n",
       "\n",
       "    .dataframe tbody tr th {\n",
       "        vertical-align: top;\n",
       "    }\n",
       "\n",
       "    .dataframe thead th {\n",
       "        text-align: right;\n",
       "    }\n",
       "</style>\n",
       "<table border=\"1\" class=\"dataframe\">\n",
       "  <thead>\n",
       "    <tr style=\"text-align: right;\">\n",
       "      <th></th>\n",
       "      <th>TV</th>\n",
       "      <th>radio</th>\n",
       "      <th>newspaper</th>\n",
       "      <th>sales</th>\n",
       "    </tr>\n",
       "  </thead>\n",
       "  <tbody>\n",
       "    <tr>\n",
       "      <th>0</th>\n",
       "      <td>0.948674</td>\n",
       "      <td>0.962247</td>\n",
       "      <td>1.514335</td>\n",
       "      <td>1.464412</td>\n",
       "    </tr>\n",
       "    <tr>\n",
       "      <th>1</th>\n",
       "      <td>-1.191314</td>\n",
       "      <td>1.040179</td>\n",
       "      <td>0.787683</td>\n",
       "      <td>-0.650693</td>\n",
       "    </tr>\n",
       "    <tr>\n",
       "      <th>2</th>\n",
       "      <td>-1.647757</td>\n",
       "      <td>1.370710</td>\n",
       "      <td>1.516998</td>\n",
       "      <td>-0.894550</td>\n",
       "    </tr>\n",
       "    <tr>\n",
       "      <th>3</th>\n",
       "      <td>0.141020</td>\n",
       "      <td>1.142387</td>\n",
       "      <td>1.214656</td>\n",
       "      <td>0.882528</td>\n",
       "    </tr>\n",
       "    <tr>\n",
       "      <th>4</th>\n",
       "      <td>0.452715</td>\n",
       "      <td>-0.748651</td>\n",
       "      <td>1.211704</td>\n",
       "      <td>-0.134550</td>\n",
       "    </tr>\n",
       "    <tr>\n",
       "      <th>...</th>\n",
       "      <td>...</td>\n",
       "      <td>...</td>\n",
       "      <td>...</td>\n",
       "      <td>...</td>\n",
       "    </tr>\n",
       "    <tr>\n",
       "      <th>195</th>\n",
       "      <td>-1.287908</td>\n",
       "      <td>-1.431436</td>\n",
       "      <td>-0.682576</td>\n",
       "      <td>-1.296912</td>\n",
       "    </tr>\n",
       "    <tr>\n",
       "      <th>196</th>\n",
       "      <td>-0.520949</td>\n",
       "      <td>-1.297017</td>\n",
       "      <td>-1.142011</td>\n",
       "      <td>-0.804523</td>\n",
       "    </tr>\n",
       "    <tr>\n",
       "      <th>197</th>\n",
       "      <td>0.413091</td>\n",
       "      <td>-0.875492</td>\n",
       "      <td>-1.313050</td>\n",
       "      <td>-0.154314</td>\n",
       "    </tr>\n",
       "    <tr>\n",
       "      <th>198</th>\n",
       "      <td>1.455843</td>\n",
       "      <td>1.177722</td>\n",
       "      <td>1.433350</td>\n",
       "      <td>1.975967</td>\n",
       "    </tr>\n",
       "    <tr>\n",
       "      <th>199</th>\n",
       "      <td>0.968161</td>\n",
       "      <td>-0.937083</td>\n",
       "      <td>-1.086425</td>\n",
       "      <td>-0.036715</td>\n",
       "    </tr>\n",
       "  </tbody>\n",
       "</table>\n",
       "<p>199 rows × 4 columns</p>\n",
       "</div>"
      ],
      "text/plain": [
       "           TV     radio  newspaper     sales\n",
       "0    0.948674  0.962247   1.514335  1.464412\n",
       "1   -1.191314  1.040179   0.787683 -0.650693\n",
       "2   -1.647757  1.370710   1.516998 -0.894550\n",
       "3    0.141020  1.142387   1.214656  0.882528\n",
       "4    0.452715 -0.748651   1.211704 -0.134550\n",
       "..        ...       ...        ...       ...\n",
       "195 -1.287908 -1.431436  -0.682576 -1.296912\n",
       "196 -0.520949 -1.297017  -1.142011 -0.804523\n",
       "197  0.413091 -0.875492  -1.313050 -0.154314\n",
       "198  1.455843  1.177722   1.433350  1.975967\n",
       "199  0.968161 -0.937083  -1.086425 -0.036715\n",
       "\n",
       "[199 rows x 4 columns]"
      ]
     },
     "execution_count": 77,
     "metadata": {},
     "output_type": "execute_result"
    }
   ],
   "source": [
    "new_df"
   ]
  },
  {
   "cell_type": "code",
   "execution_count": 78,
   "id": "c3b7387e",
   "metadata": {},
   "outputs": [
    {
     "data": {
      "text/plain": [
       "(199, 4)"
      ]
     },
     "execution_count": 78,
     "metadata": {},
     "output_type": "execute_result"
    }
   ],
   "source": [
    "new_df.shape"
   ]
  },
  {
   "cell_type": "markdown",
   "id": "a15d3b96",
   "metadata": {},
   "source": [
    "outlier have been removed from the dataset"
   ]
  },
  {
   "cell_type": "markdown",
   "id": "865b7e12",
   "metadata": {},
   "source": [
    "# Dividing data in feature and vectors"
   ]
  },
  {
   "cell_type": "code",
   "execution_count": 80,
   "id": "e7da1915",
   "metadata": {},
   "outputs": [],
   "source": [
    "x = new_df.drop([\"sales\"], axis=1)\n",
    "y = new_df[\"sales\"]"
   ]
  },
  {
   "cell_type": "code",
   "execution_count": 81,
   "id": "15b9b6e5",
   "metadata": {},
   "outputs": [
    {
     "data": {
      "text/plain": [
       "array([[ 9.46019403e-01,  9.67843321e-01,  1.50958249e+00],\n",
       "       [-1.21129501e+00,  1.04579873e+00,  7.82589407e-01],\n",
       "       [-1.67143281e+00,  1.37642924e+00,  1.51224595e+00],\n",
       "       [ 1.31826384e-01,  1.14803764e+00,  1.20976327e+00],\n",
       "       [ 4.46044634e-01, -7.43570109e-01,  1.20680943e+00],\n",
       "       [-1.84892401e+00,  1.52078164e+00,  1.66034129e+00],\n",
       "       [-1.02094315e+00,  6.99242500e-01, -1.13265938e-01],\n",
       "       [-2.22313021e-01, -9.63097950e-02, -8.49950677e-01],\n",
       "       [-1.85121510e+00, -1.62864005e+00, -2.13905736e+00],\n",
       "       [ 6.42552824e-01, -1.56193604e+00, -2.34573170e-01],\n",
       "       [-9.01264606e-01, -1.19804405e+00, -7.77573824e-02],\n",
       "       [ 7.93201351e-01,  1.86086564e-01, -1.60883146e+00],\n",
       "       [-1.54911009e+00,  8.24558870e-01,  1.42033465e+00],\n",
       "       [-4.94593198e-01, -1.02314016e+00, -1.23586296e+00],\n",
       "       [ 6.86325221e-01,  7.04757430e-01,  8.13527163e-01],\n",
       "       [ 5.97503230e-01,  1.46344942e+00,  1.03935051e+00],\n",
       "       [-8.78104545e-01,  9.04647369e-01,  2.52515769e+00],\n",
       "       [ 1.43680684e+00,  1.06125601e+00,  1.12890185e+00],\n",
       "       [-8.59145839e-01, -3.68054930e-02, -3.99206437e-01],\n",
       "       [ 8.55197599e-02,  1.79890561e-01, -3.52339789e-01],\n",
       "       [ 8.30175448e-01,  4.09098613e-01,  1.05499988e+00],\n",
       "       [ 1.01750552e+00, -1.27075142e+00, -1.13265938e-01],\n",
       "       [-1.75133434e+00, -3.52194375e-01,  9.33735028e-01],\n",
       "       [ 9.28300792e-01, -2.81091344e-01,  2.04432563e-02],\n",
       "       [-9.53608937e-01, -5.99186552e-01, -3.99206437e-01],\n",
       "       [ 1.26279867e+00, -1.45019097e+00, -3.29339475e-01],\n",
       "       [ 3.66317507e-02,  5.02100092e-01, -7.74494758e-01],\n",
       "       [ 1.04379729e+00, -2.95188128e-01, -1.44205822e-01],\n",
       "       [ 1.12798806e+00,  3.73715434e-01, -1.44205822e-01],\n",
       "       [-8.40287569e-01, -3.45013116e-01,  6.29355344e-01],\n",
       "       [ 1.54344044e+00,  4.44200537e-01,  7.16024337e-01],\n",
       "       [-3.08261665e-01, -2.46109866e-01,  5.47155454e-01],\n",
       "       [-4.98296937e-01, -1.71440110e+00,  1.95351377e-01],\n",
       "       [ 1.28839212e+00, -6.97434070e-02, -2.33127559e+00],\n",
       "       [-5.16861088e-01, -1.72942734e+00, -1.21584185e+00],\n",
       "       [ 1.52312819e+00, -1.38042424e+00, -1.11069007e+00],\n",
       "       [ 1.30069025e+00,  1.27327720e+00, -1.47946065e+00],\n",
       "       [-7.85614585e-01,  1.54451444e+00,  8.03255706e-01],\n",
       "       [-1.23260593e+00,  3.49966297e-01,  4.10331044e-01],\n",
       "       [ 9.25344095e-01,  9.62605762e-01,  2.82095833e-01],\n",
       "       [ 6.70066639e-01,  7.94244620e-02,  2.65013166e-01],\n",
       "       [ 4.06099885e-01,  7.32239491e-01,  5.50952381e-01],\n",
       "       [ 1.54989492e+00,  4.09098613e-01, -1.96542791e+00],\n",
       "       [ 7.14696740e-01, -9.49974545e-01,  3.00138099e-02],\n",
       "       [-1.52610443e+00,  2.90013284e-01,  7.19571502e-01],\n",
       "       [ 3.86042481e-01,  9.21236063e-02,  2.60722221e-01],\n",
       "       [-5.91901889e-01, -8.18903233e-01,  4.34353231e-01],\n",
       "       [ 1.04185245e+00,  1.15815895e+00, -3.87378549e-01],\n",
       "       [ 9.17454520e-01, -3.59391871e-01,  9.43509762e-01],\n",
       "       [-8.90346524e-01, -6.70401020e-01,  4.77769294e-01],\n",
       "       [ 6.42552824e-01, -1.49868917e+00,  3.90122789e-01],\n",
       "       [-4.58943514e-01, -8.44537184e-01, -1.66507458e+00],\n",
       "       [ 8.10210253e-01,  1.16826209e+00,  5.84860992e-01],\n",
       "       [ 4.64888072e-01,  1.39101997e+00,  1.21566171e+00],\n",
       "       [ 1.26090009e+00,  4.73243023e-01, -5.47485535e-01],\n",
       "       [ 6.33359700e-01,  1.54451444e+00,  1.25370628e+00],\n",
       "       [-1.88161159e+00,  4.32530649e-01,  6.51305897e-01],\n",
       "       [-3.85845970e-02, -1.23073833e-01, -5.02958267e-01],\n",
       "       [ 7.54045298e-01,  1.55398238e+00,  5.12712473e-01],\n",
       "       [ 7.53038785e-01,  5.13591952e-01, -1.03887783e+00],\n",
       "       [-1.07818599e+00, -1.64246081e+00, -2.23723895e-01],\n",
       "       [ 1.24759929e+00,  1.21850940e+00,  1.09527537e+00],\n",
       "       [ 1.03601535e+00, -3.81083136e-01,  7.25538253e-02],\n",
       "       [-4.30862476e-01,  5.19327093e-01, -1.11992675e+00],\n",
       "       [-9.64958122e-02,  1.22350987e+00,  1.46156048e-01],\n",
       "       [-8.61848017e-01, -8.70449605e-01, -2.16362936e+00],\n",
       "       [-1.41694687e+00,  2.23065871e-01, -1.89012686e+00],\n",
       "       [-3.66420089e-03, -4.54500561e-01, -9.62109188e-01],\n",
       "       [ 1.01750552e+00,  3.97335873e-01, -8.97020895e-01],\n",
       "       [ 8.14207192e-01,  1.27823050e+00,  6.78689592e-02],\n",
       "       [ 6.35403567e-01,  5.76290498e-01,  5.50952381e-01],\n",
       "       [-3.45201261e-01, -4.69398613e-01,  2.69295960e-01],\n",
       "       [-1.49647491e+00,  7.10266154e-01, -3.40804513e-01],\n",
       "       [-1.15931136e-01, -1.20824953e+00,  2.52115712e-01],\n",
       "       [ 7.80170448e-01,  2.23065871e-01, -7.38053549e-01],\n",
       "       [-1.67725032e+00,  1.26831969e+00,  2.00612655e+00],\n",
       "       [-1.48441582e+00, -1.69960260e+00, -2.61964154e-01],\n",
       "       [-2.18810877e-01,  4.55840058e-01, -6.60611612e-01],\n",
       "       [-1.92846003e+00,  5.36489746e-01, -1.03014763e+00],\n",
       "       [-2.71588896e-01, -1.01385652e+00, -1.33839571e-01],\n",
       "       [-7.63178091e-01,  3.49966297e-01, -1.75631037e-01],\n",
       "       [ 1.04087987e+00, -1.38042424e+00,  4.81677165e-01],\n",
       "       [-7.77680649e-01, -4.99451970e-02,  3.03269625e-01],\n",
       "       [-8.69966923e-01,  1.30786232e+00,  4.30366529e-01],\n",
       "       [ 7.81173571e-01,  1.23349775e+00,  3.57420308e-01],\n",
       "       [ 5.74877806e-01, -1.77216839e-01,  1.41483882e+00],\n",
       "       [-7.64494226e-01,  3.97335873e-01, -5.41055372e-01],\n",
       "       [-3.34448828e-01,  1.11246830e+00,  1.34526164e+00],\n",
       "       [-6.09599335e-01,  2.77920499e-01,  1.61948646e+00],\n",
       "       [-3.45201261e-01,  1.46824755e+00,  9.91855382e-01],\n",
       "       [-6.00912210e-02, -1.29210139e+00, -1.03887783e+00],\n",
       "       [-1.46562378e+00, -1.71440110e+00,  3.24248405e-01],\n",
       "       [ 8.23193165e-01,  7.37717558e-01,  1.22448646e+00],\n",
       "       [ 1.14819220e+00,  8.99346542e-01,  1.59108185e+00],\n",
       "       [-3.73988917e-01, -4.91885850e-01, -9.05006813e-01],\n",
       "       [ 2.60151209e-01,  6.32569829e-01,  1.03935051e+00],\n",
       "       [ 6.20061254e-01, -1.45019097e+00, -1.37403768e+00],\n",
       "       [ 4.88894372e-01, -4.15870222e-03, -1.91531969e-01],\n",
       "       [ 1.51388187e+00,  1.19846370e+00,  9.85459302e-01],\n",
       "       [-4.98939146e-02,  1.16826209e+00,  8.10107872e-01],\n",
       "       [ 8.69961153e-01, -1.35787546e+00,  9.40255495e-01],\n",
       "       [ 1.57567215e+00,  8.88728671e-01,  2.25842250e+00],\n",
       "       [ 1.42561387e+00, -8.01963405e-01, -2.23723895e-01],\n",
       "       [ 5.20088439e-01, -2.60058370e-01, -4.23092191e-01],\n",
       "       [ 1.02530390e+00,  7.81326039e-01, -1.44329259e+00],\n",
       "       [-1.94089832e-02,  1.40072747e+00,  1.22448646e+00],\n",
       "       [-1.52786309e+00, -7.27131251e-01,  1.82043251e-01],\n",
       "       [-5.83080481e-01, -1.91489997e+00, -1.28676437e-01],\n",
       "       [-1.75340339e+00, -1.89603375e+00, -8.53285983e-03],\n",
       "       [ 1.19133648e+00,  3.61857111e-01, -1.41977022e+00],\n",
       "       [ 9.03630012e-01, -9.68035485e-01,  1.15009079e+00],\n",
       "       [ 1.05934058e+00,  9.78303006e-01, -1.28676437e-01],\n",
       "       [ 3.92382596e-01, -3.88346942e-01, -1.85465738e+00],\n",
       "       [ 7.41958762e-01, -3.02531435e-02, -9.21104351e-01],\n",
       "       [-7.39564371e-01,  1.42009569e+00,  3.86060060e-01],\n",
       "       [-7.80323442e-01,  8.19174912e-01,  1.03306557e+00],\n",
       "       [-4.78743611e-03, -4.69398613e-01, -8.53285983e-03],\n",
       "       [-7.63178091e-01, -1.82521835e+00, -6.19828949e-01],\n",
       "       [-1.58466759e-01,  9.20517659e-01,  1.76510962e+00],\n",
       "       [-1.62951765e+00, -3.45013116e-01, -1.75631037e-01],\n",
       "       [ 1.87559858e-02,  3.55915786e-01,  8.20352240e-01],\n",
       "       [-1.64082415e+00,  4.10749597e-02,  9.59721933e-01],\n",
       "       [ 8.85822197e-01, -1.58816426e+00, -5.66918720e-01],\n",
       "       [-1.88554635e-01,  7.97581743e-01, -7.89303695e-01],\n",
       "       [ 9.40117297e-01,  6.71573860e-01,  1.63998123e+00],\n",
       "       [-6.23556346e-01, -6.62395263e-01,  6.00528029e-03],\n",
       "       [-1.86978034e+00,  1.02512053e+00,  9.66179424e-01],\n",
       "       [-7.13493874e-01, -1.97515422e+00, -1.04766073e+00],\n",
       "       [ 8.49097532e-01,  1.52553544e+00, -1.72443796e+00],\n",
       "       [-9.91310103e-01, -6.46455010e-01,  7.12472194e-01],\n",
       "       [ 1.28460487e+00, -1.52361362e+00,  7.08915053e-01],\n",
       "       [-1.85581645e+00,  3.79632510e-01, -1.90837844e+00],\n",
       "       [ 8.44122246e-01,  7.37717558e-01,  7.82589407e-01],\n",
       "       [-1.32926704e+00,  1.00955991e+00,  1.41208707e+00],\n",
       "       [-1.15430928e+00,  1.42975659e+00, -1.11069007e+00],\n",
       "       [-1.51733790e+00,  1.03029747e+00, -1.03887783e+00],\n",
       "       [ 1.36476231e+00,  4.79029133e-01,  1.24497172e+00],\n",
       "       [-1.23413498e+00,  3.02071542e-01, -2.73030065e-01],\n",
       "       [ 4.88894372e-01,  1.27823050e+00, -1.98528276e+00],\n",
       "       [-8.02862523e-01, -2.74065507e-01, -7.52532354e-01],\n",
       "       [ 5.80025916e-01,  8.40676692e-01,  1.67552430e+00],\n",
       "       [ 8.51086808e-01,  7.21265085e-01,  5.20409034e-01],\n",
       "       [-4.07790050e-01, -1.20824953e+00,  3.81990231e-01],\n",
       "       [-5.10664573e-01, -4.32290326e-01,  5.58528486e-01],\n",
       "       [ 7.55645708e-03, -1.65645857e+00, -1.06538802e+00],\n",
       "       [ 1.04379729e+00, -1.05124158e+00, -1.09239593e+00],\n",
       "       [ 1.07388764e+00,  1.52553544e+00,  7.54773294e-01],\n",
       "       [-1.31182710e+00,  1.09715444e+00, -8.26935760e-01],\n",
       "       [-1.20826495e+00,  2.96046706e-01, -2.67489170e-01],\n",
       "       [ 1.43027915e+00, -4.99419657e-01,  4.85578648e-01],\n",
       "       [-2.12979082e-01, -9.49974545e-01,  9.04193478e-01],\n",
       "       [ 6.20061254e-01,  1.42513055e-01, -6.60611612e-01],\n",
       "       [ 3.45753720e-01,  1.06639874e+00,  5.12712473e-01],\n",
       "       [ 5.19050773e-01,  2.33653097e-03, -1.02146931e+00],\n",
       "       [-1.96267243e+00, -6.78430875e-01, -1.39669235e+00],\n",
       "       [-5.39239652e-01,  1.25839194e+00,  9.62952622e-01],\n",
       "       [ 1.13124669e-01, -1.74469457e+00, -7.27348607e-02],\n",
       "       [-1.78279773e+00,  9.20517659e-01,  7.86045321e-01],\n",
       "       [-8.96522189e-02, -1.77216839e-01,  3.90122789e-01],\n",
       "       [ 3.58501817e-01, -1.97739342e-01,  2.26096247e-01],\n",
       "       [-6.42663615e-01,  8.62088468e-01,  9.23924302e-01],\n",
       "       [ 5.25274578e-01, -1.97739342e-01, -8.53285983e-03],\n",
       "       [ 2.62304609e-01,  9.15232908e-01, -1.21584185e+00],\n",
       "       [-2.57462697e-01, -4.39675707e-01, -1.43147444e+00],\n",
       "       [ 9.89177715e-01, -1.46215572e+00,  1.89963889e+00],\n",
       "       [-1.65795684e+00,  9.57363035e-01, -2.12934504e-01],\n",
       "       [ 7.13685231e-01, -1.26017677e+00, -3.35063284e-01],\n",
       "       [ 8.00209324e-01,  1.61245307e-01,  1.18306702e+00],\n",
       "       [ 1.46380438e+00, -7.60115670e-01, -1.31912674e+00],\n",
       "       [-1.12919758e+00, -6.78430875e-01, -3.93283045e-01],\n",
       "       [ 2.73061168e-01, -1.06652147e-02,  8.60930951e-01],\n",
       "       [-1.62576859e+00, -6.31320803e-02, -4.78005574e-01],\n",
       "       [ 3.14847695e-01, -1.07019157e+00, -7.59820214e-01],\n",
       "       [ 8.69961153e-01, -1.46215572e+00, -7.38053549e-01],\n",
       "       [ 1.39476737e+00,  1.52078164e+00,  6.65832818e-01],\n",
       "       [ 1.12413454e+00,  5.53588913e-01, -2.84159973e-01],\n",
       "       [ 3.34047178e-01, -1.00461352e+00,  4.14351839e-01],\n",
       "       [ 1.39289476e+00, -1.60149878e+00, -1.03057157e-01],\n",
       "       [ 2.84873412e-01, -8.10418623e-01, -4.41212934e-01],\n",
       "       [ 1.87601949e-01, -1.56193604e+00, -1.12922455e+00],\n",
       "       [ 8.31172432e-01, -1.23922078e+00,  7.72284404e-02],\n",
       "       [-1.03942927e+00, -1.20824953e+00,  1.82043251e-01],\n",
       "       [ 1.49443698e+00,  1.23349775e+00,  1.57808329e+00],\n",
       "       [ 1.17601957e+00,  1.52934407e-02,  1.95351377e-01],\n",
       "       [ 6.95455823e-01,  1.33734535e+00, -3.23632947e-01],\n",
       "       [-1.41836984e-03, -1.62864005e+00,  3.95411556e-02],\n",
       "       [ 5.53217049e-01,  4.67449497e-01, -4.05148886e-01],\n",
       "       [ 1.47959652e+00, -4.99419657e-01, -1.65073822e+00],\n",
       "       [-1.64271738e+00, -6.38520009e-01, -1.18389708e-01],\n",
       "       [-1.28825483e+00,  1.13789805e+00, -1.38531338e+00],\n",
       "       [-7.75039700e-01, -7.43570109e-01, -1.36286283e+00],\n",
       "       [-1.67143281e+00, -1.38042424e+00,  2.65013166e-01],\n",
       "       [ 2.97735834e-01,  1.18338300e+00, -1.66507458e+00],\n",
       "       [ 1.12022825e-01,  8.51393745e-01, -1.36286283e+00],\n",
       "       [-1.30867036e+00, -1.42656166e+00, -6.88357440e-01],\n",
       "       [-5.35502094e-01, -1.29210139e+00, -1.14800779e+00],\n",
       "       [ 4.06099885e-01, -8.70449605e-01, -1.31912674e+00],\n",
       "       [ 1.45729445e+00,  1.18338300e+00,  1.42855935e+00],\n",
       "       [ 9.65663701e-01, -9.32059705e-01, -1.09239593e+00]])"
      ]
     },
     "execution_count": 81,
     "metadata": {},
     "output_type": "execute_result"
    }
   ],
   "source": [
    "from sklearn.preprocessing import StandardScaler\n",
    "scalar = StandardScaler()\n",
    "x_scaled = scalar.fit_transform(x)\n",
    "x_scaled"
   ]
  },
  {
   "cell_type": "code",
   "execution_count": 82,
   "id": "e72d8367",
   "metadata": {},
   "outputs": [
    {
     "data": {
      "text/plain": [
       "3"
      ]
     },
     "execution_count": 82,
     "metadata": {},
     "output_type": "execute_result"
    }
   ],
   "source": [
    "x_scaled.shape[1]"
   ]
  },
  {
   "cell_type": "markdown",
   "id": "4637a186",
   "metadata": {},
   "source": [
    "# Checking Multicollinearity Using Variance Inflation Factor"
   ]
  },
  {
   "cell_type": "code",
   "execution_count": 83,
   "id": "41cf8774",
   "metadata": {},
   "outputs": [
    {
     "data": {
      "text/html": [
       "<div>\n",
       "<style scoped>\n",
       "    .dataframe tbody tr th:only-of-type {\n",
       "        vertical-align: middle;\n",
       "    }\n",
       "\n",
       "    .dataframe tbody tr th {\n",
       "        vertical-align: top;\n",
       "    }\n",
       "\n",
       "    .dataframe thead th {\n",
       "        text-align: right;\n",
       "    }\n",
       "</style>\n",
       "<table border=\"1\" class=\"dataframe\">\n",
       "  <thead>\n",
       "    <tr style=\"text-align: right;\">\n",
       "      <th></th>\n",
       "      <th>vif</th>\n",
       "      <th>Features</th>\n",
       "    </tr>\n",
       "  </thead>\n",
       "  <tbody>\n",
       "    <tr>\n",
       "      <th>0</th>\n",
       "      <td>1.003699</td>\n",
       "      <td>TV</td>\n",
       "    </tr>\n",
       "    <tr>\n",
       "      <th>1</th>\n",
       "      <td>1.101146</td>\n",
       "      <td>radio</td>\n",
       "    </tr>\n",
       "    <tr>\n",
       "      <th>2</th>\n",
       "      <td>1.098355</td>\n",
       "      <td>newspaper</td>\n",
       "    </tr>\n",
       "  </tbody>\n",
       "</table>\n",
       "</div>"
      ],
      "text/plain": [
       "        vif   Features\n",
       "0  1.003699         TV\n",
       "1  1.101146      radio\n",
       "2  1.098355  newspaper"
      ]
     },
     "execution_count": 83,
     "metadata": {},
     "output_type": "execute_result"
    }
   ],
   "source": [
    "from statsmodels.stats.outliers_influence import variance_inflation_factor\n",
    "vif = pd.DataFrame()\n",
    "vif['vif'] = [variance_inflation_factor(x_scaled, i) for i in range(x_scaled.shape[1])]\n",
    "vif['Features'] = x.columns\n",
    "#lets check the values\n",
    "vif"
   ]
  },
  {
   "cell_type": "markdown",
   "id": "bd28d71a",
   "metadata": {},
   "source": [
    "There are no multicollinearity issue observed in the dataset since VIF values are less than value 5 in each features."
   ]
  },
  {
   "cell_type": "markdown",
   "id": "24853ce9",
   "metadata": {},
   "source": [
    "# Split Dataset for training and testing the model"
   ]
  },
  {
   "cell_type": "code",
   "execution_count": 84,
   "id": "55bbd9f3",
   "metadata": {},
   "outputs": [],
   "source": [
    "#Split data in train and test \n",
    "from sklearn.model_selection import train_test_split\n",
    "X_train, X_test, y_train, y_test = train_test_split(x_scaled, y, test_size=0.25, random_state=323)"
   ]
  },
  {
   "cell_type": "code",
   "execution_count": 85,
   "id": "f3dd3220",
   "metadata": {},
   "outputs": [
    {
     "data": {
      "text/plain": [
       "array([[-2.22313021e-01, -9.63097950e-02, -8.49950677e-01],\n",
       "       [-1.52786309e+00, -7.27131251e-01,  1.82043251e-01],\n",
       "       [ 1.43680684e+00,  1.06125601e+00,  1.12890185e+00],\n",
       "       [-1.94089832e-02,  1.40072747e+00,  1.22448646e+00],\n",
       "       [ 7.14696740e-01, -9.49974545e-01,  3.00138099e-02],\n",
       "       [-9.53608937e-01, -5.99186552e-01, -3.99206437e-01],\n",
       "       [ 8.55197599e-02,  1.79890561e-01, -3.52339789e-01],\n",
       "       [-3.08261665e-01, -2.46109866e-01,  5.47155454e-01],\n",
       "       [-2.71588896e-01, -1.01385652e+00, -1.33839571e-01],\n",
       "       [-1.67143281e+00,  1.37642924e+00,  1.51224595e+00],\n",
       "       [ 2.73061168e-01, -1.06652147e-02,  8.60930951e-01],\n",
       "       [ 9.25344095e-01,  9.62605762e-01,  2.82095833e-01],\n",
       "       [-9.01264606e-01, -1.19804405e+00, -7.77573824e-02],\n",
       "       [-5.16861088e-01, -1.72942734e+00, -1.21584185e+00],\n",
       "       [ 7.13685231e-01, -1.26017677e+00, -3.35063284e-01],\n",
       "       [-4.07790050e-01, -1.20824953e+00,  3.81990231e-01],\n",
       "       [-1.20826495e+00,  2.96046706e-01, -2.67489170e-01],\n",
       "       [-4.30862476e-01,  5.19327093e-01, -1.11992675e+00],\n",
       "       [-1.62576859e+00, -6.31320803e-02, -4.78005574e-01],\n",
       "       [ 1.46380438e+00, -7.60115670e-01, -1.31912674e+00],\n",
       "       [ 4.06099885e-01, -8.70449605e-01, -1.31912674e+00],\n",
       "       [-5.10664573e-01, -4.32290326e-01,  5.58528486e-01],\n",
       "       [-7.75039700e-01, -7.43570109e-01, -1.36286283e+00],\n",
       "       [-8.02862523e-01, -2.74065507e-01, -7.52532354e-01],\n",
       "       [-1.67143281e+00, -1.38042424e+00,  2.65013166e-01],\n",
       "       [ 8.51086808e-01,  7.21265085e-01,  5.20409034e-01],\n",
       "       [ 4.46044634e-01, -7.43570109e-01,  1.20680943e+00],\n",
       "       [ 1.12413454e+00,  5.53588913e-01, -2.84159973e-01],\n",
       "       [ 5.25274578e-01, -1.97739342e-01, -8.53285983e-03],\n",
       "       [ 8.69961153e-01, -1.46215572e+00, -7.38053549e-01],\n",
       "       [-8.40287569e-01, -3.45013116e-01,  6.29355344e-01],\n",
       "       [-6.42663615e-01,  8.62088468e-01,  9.23924302e-01],\n",
       "       [ 3.66317507e-02,  5.02100092e-01, -7.74494758e-01],\n",
       "       [ 8.00209324e-01,  1.61245307e-01,  1.18306702e+00],\n",
       "       [ 8.23193165e-01,  7.37717558e-01,  1.22448646e+00],\n",
       "       [ 3.34047178e-01, -1.00461352e+00,  4.14351839e-01],\n",
       "       [ 5.20088439e-01, -2.60058370e-01, -4.23092191e-01],\n",
       "       [-2.57462697e-01, -4.39675707e-01, -1.43147444e+00],\n",
       "       [-7.39564371e-01,  1.42009569e+00,  3.86060060e-01],\n",
       "       [-1.02094315e+00,  6.99242500e-01, -1.13265938e-01],\n",
       "       [-1.62951765e+00, -3.45013116e-01, -1.75631037e-01],\n",
       "       [ 8.85822197e-01, -1.58816426e+00, -5.66918720e-01],\n",
       "       [ 9.40117297e-01,  6.71573860e-01,  1.63998123e+00],\n",
       "       [-1.67725032e+00,  1.26831969e+00,  2.00612655e+00],\n",
       "       [ 1.51388187e+00,  1.19846370e+00,  9.85459302e-01],\n",
       "       [-1.49647491e+00,  7.10266154e-01, -3.40804513e-01],\n",
       "       [-2.12979082e-01, -9.49974545e-01,  9.04193478e-01],\n",
       "       [-6.23556346e-01, -6.62395263e-01,  6.00528029e-03],\n",
       "       [-5.39239652e-01,  1.25839194e+00,  9.62952622e-01],\n",
       "       [-1.15430928e+00,  1.42975659e+00, -1.11069007e+00],\n",
       "       [ 8.31172432e-01, -1.23922078e+00,  7.72284404e-02],\n",
       "       [ 1.12798806e+00,  3.73715434e-01, -1.44205822e-01],\n",
       "       [ 1.39289476e+00, -1.60149878e+00, -1.03057157e-01],\n",
       "       [ 1.36476231e+00,  4.79029133e-01,  1.24497172e+00],\n",
       "       [ 8.30175448e-01,  4.09098613e-01,  1.05499988e+00],\n",
       "       [ 1.05934058e+00,  9.78303006e-01, -1.28676437e-01],\n",
       "       [ 2.60151209e-01,  6.32569829e-01,  1.03935051e+00],\n",
       "       [-5.91901889e-01, -8.18903233e-01,  4.34353231e-01],\n",
       "       [-4.98939146e-02,  1.16826209e+00,  8.10107872e-01],\n",
       "       [ 1.04379729e+00, -2.95188128e-01, -1.44205822e-01],\n",
       "       [-1.92846003e+00,  5.36489746e-01, -1.03014763e+00],\n",
       "       [ 1.04379729e+00, -1.05124158e+00, -1.09239593e+00],\n",
       "       [-5.83080481e-01, -1.91489997e+00, -1.28676437e-01],\n",
       "       [ 4.06099885e-01,  7.32239491e-01,  5.50952381e-01],\n",
       "       [ 1.24759929e+00,  1.21850940e+00,  1.09527537e+00],\n",
       "       [ 5.97503230e-01,  1.46344942e+00,  1.03935051e+00],\n",
       "       [ 1.26090009e+00,  4.73243023e-01, -5.47485535e-01],\n",
       "       [-1.41694687e+00,  2.23065871e-01, -1.89012686e+00],\n",
       "       [-1.23413498e+00,  3.02071542e-01, -2.73030065e-01],\n",
       "       [ 7.93201351e-01,  1.86086564e-01, -1.60883146e+00],\n",
       "       [-8.59145839e-01, -3.68054930e-02, -3.99206437e-01],\n",
       "       [-1.51733790e+00,  1.03029747e+00, -1.03887783e+00],\n",
       "       [ 2.84873412e-01, -8.10418623e-01, -4.41212934e-01],\n",
       "       [-1.23260593e+00,  3.49966297e-01,  4.10331044e-01],\n",
       "       [-7.63178091e-01, -1.82521835e+00, -6.19828949e-01],\n",
       "       [ 5.74877806e-01, -1.77216839e-01,  1.41483882e+00],\n",
       "       [ 1.87601949e-01, -1.56193604e+00, -1.12922455e+00],\n",
       "       [ 1.52312819e+00, -1.38042424e+00, -1.11069007e+00],\n",
       "       [ 4.64888072e-01,  1.39101997e+00,  1.21566171e+00],\n",
       "       [-1.28825483e+00,  1.13789805e+00, -1.38531338e+00],\n",
       "       [ 6.35403567e-01,  5.76290498e-01,  5.50952381e-01],\n",
       "       [-1.96267243e+00, -6.78430875e-01, -1.39669235e+00],\n",
       "       [ 3.92382596e-01, -3.88346942e-01, -1.85465738e+00],\n",
       "       [-1.64271738e+00, -6.38520009e-01, -1.18389708e-01],\n",
       "       [-1.78279773e+00,  9.20517659e-01,  7.86045321e-01],\n",
       "       [ 1.28460487e+00, -1.52361362e+00,  7.08915053e-01],\n",
       "       [-6.00912210e-02, -1.29210139e+00, -1.03887783e+00],\n",
       "       [ 9.46019403e-01,  9.67843321e-01,  1.50958249e+00],\n",
       "       [ 3.14847695e-01, -1.07019157e+00, -7.59820214e-01],\n",
       "       [-3.45201261e-01,  1.46824755e+00,  9.91855382e-01],\n",
       "       [ 1.57567215e+00,  8.88728671e-01,  2.25842250e+00],\n",
       "       [-1.07818599e+00, -1.64246081e+00, -2.23723895e-01],\n",
       "       [-3.85845970e-02, -1.23073833e-01, -5.02958267e-01],\n",
       "       [ 1.30069025e+00,  1.27327720e+00, -1.47946065e+00],\n",
       "       [-1.88554635e-01,  7.97581743e-01, -7.89303695e-01],\n",
       "       [-1.75133434e+00, -3.52194375e-01,  9.33735028e-01],\n",
       "       [-9.91310103e-01, -6.46455010e-01,  7.12472194e-01],\n",
       "       [ 1.19133648e+00,  3.61857111e-01, -1.41977022e+00],\n",
       "       [ 5.53217049e-01,  4.67449497e-01, -4.05148886e-01],\n",
       "       [ 3.45753720e-01,  1.06639874e+00,  5.12712473e-01],\n",
       "       [ 1.54989492e+00,  4.09098613e-01, -1.96542791e+00],\n",
       "       [ 9.89177715e-01, -1.46215572e+00,  1.89963889e+00],\n",
       "       [ 1.87559858e-02,  3.55915786e-01,  8.20352240e-01],\n",
       "       [ 6.86325221e-01,  7.04757430e-01,  8.13527163e-01],\n",
       "       [-4.94593198e-01, -1.02314016e+00, -1.23586296e+00],\n",
       "       [ 6.20061254e-01, -1.45019097e+00, -1.37403768e+00],\n",
       "       [-3.45201261e-01, -4.69398613e-01,  2.69295960e-01],\n",
       "       [ 7.80170448e-01,  2.23065871e-01, -7.38053549e-01],\n",
       "       [-7.77680649e-01, -4.99451970e-02,  3.03269625e-01],\n",
       "       [-1.41836984e-03, -1.62864005e+00,  3.95411556e-02],\n",
       "       [ 1.04185245e+00,  1.15815895e+00, -3.87378549e-01],\n",
       "       [-1.88161159e+00,  4.32530649e-01,  6.51305897e-01],\n",
       "       [-1.85581645e+00,  3.79632510e-01, -1.90837844e+00],\n",
       "       [ 2.97735834e-01,  1.18338300e+00, -1.66507458e+00],\n",
       "       [-3.34448828e-01,  1.11246830e+00,  1.34526164e+00],\n",
       "       [ 1.03601535e+00, -3.81083136e-01,  7.25538253e-02],\n",
       "       [-8.90346524e-01, -6.70401020e-01,  4.77769294e-01],\n",
       "       [ 5.80025916e-01,  8.40676692e-01,  1.67552430e+00],\n",
       "       [ 1.47959652e+00, -4.99419657e-01, -1.65073822e+00],\n",
       "       [ 9.28300792e-01, -2.81091344e-01,  2.04432563e-02],\n",
       "       [ 1.26279867e+00, -1.45019097e+00, -3.29339475e-01],\n",
       "       [ 9.65663701e-01, -9.32059705e-01, -1.09239593e+00],\n",
       "       [ 7.53038785e-01,  5.13591952e-01, -1.03887783e+00],\n",
       "       [ 1.14819220e+00,  8.99346542e-01,  1.59108185e+00],\n",
       "       [ 1.02530390e+00,  7.81326039e-01, -1.44329259e+00],\n",
       "       [-1.86978034e+00,  1.02512053e+00,  9.66179424e-01],\n",
       "       [-7.13493874e-01, -1.97515422e+00, -1.04766073e+00],\n",
       "       [ 8.10210253e-01,  1.16826209e+00,  5.84860992e-01],\n",
       "       [-1.46562378e+00, -1.71440110e+00,  3.24248405e-01],\n",
       "       [ 8.44122246e-01,  7.37717558e-01,  7.82589407e-01],\n",
       "       [ 2.62304609e-01,  9.15232908e-01, -1.21584185e+00],\n",
       "       [-4.98296937e-01, -1.71440110e+00,  1.95351377e-01],\n",
       "       [ 8.49097532e-01,  1.52553544e+00, -1.72443796e+00],\n",
       "       [ 4.88894372e-01,  1.27823050e+00, -1.98528276e+00],\n",
       "       [-8.61848017e-01, -8.70449605e-01, -2.16362936e+00],\n",
       "       [ 3.86042481e-01,  9.21236063e-02,  2.60722221e-01],\n",
       "       [-3.73988917e-01, -4.91885850e-01, -9.05006813e-01],\n",
       "       [-7.64494226e-01,  3.97335873e-01, -5.41055372e-01],\n",
       "       [-6.09599335e-01,  2.77920499e-01,  1.61948646e+00],\n",
       "       [-1.85121510e+00, -1.62864005e+00, -2.13905736e+00],\n",
       "       [-1.03942927e+00, -1.20824953e+00,  1.82043251e-01],\n",
       "       [ 1.17601957e+00,  1.52934407e-02,  1.95351377e-01],\n",
       "       [ 7.54045298e-01,  1.55398238e+00,  5.12712473e-01],\n",
       "       [-4.58943514e-01, -8.44537184e-01, -1.66507458e+00],\n",
       "       [-1.30867036e+00, -1.42656166e+00, -6.88357440e-01],\n",
       "       [ 1.39476737e+00,  1.52078164e+00,  6.65832818e-01],\n",
       "       [-1.52610443e+00,  2.90013284e-01,  7.19571502e-01],\n",
       "       [ 9.17454520e-01, -3.59391871e-01,  9.43509762e-01],\n",
       "       [ 6.95455823e-01,  1.33734535e+00, -3.23632947e-01]])"
      ]
     },
     "execution_count": 85,
     "metadata": {},
     "output_type": "execute_result"
    }
   ],
   "source": [
    "X_train"
   ]
  },
  {
   "cell_type": "code",
   "execution_count": 86,
   "id": "6f2b7bdb",
   "metadata": {},
   "outputs": [
    {
     "data": {
      "text/plain": [
       "7     -0.075654\n",
       "106   -1.396877\n",
       "17     1.814026\n",
       "105    0.999385\n",
       "43    -0.134550\n",
       "         ...   \n",
       "195   -1.296912\n",
       "175    2.191797\n",
       "44    -1.079671\n",
       "48     0.229055\n",
       "185    1.541757\n",
       "Name: sales, Length: 149, dtype: float64"
      ]
     },
     "execution_count": 86,
     "metadata": {},
     "output_type": "execute_result"
    }
   ],
   "source": [
    "y_train"
   ]
  },
  {
   "cell_type": "markdown",
   "id": "9d966962",
   "metadata": {},
   "source": [
    "# Model Instantiating and training"
   ]
  },
  {
   "cell_type": "markdown",
   "id": "25e42935",
   "metadata": {},
   "source": [
    "Since Target/Labelled data shows continous Variable so the dataset belongs to a Regression model"
   ]
  },
  {
   "cell_type": "markdown",
   "id": "24ee1eae",
   "metadata": {},
   "source": [
    "# Linear Regression Algorithm"
   ]
  },
  {
   "cell_type": "code",
   "execution_count": 87,
   "id": "45b058d4",
   "metadata": {},
   "outputs": [],
   "source": [
    "from sklearn.linear_model import LinearRegression\n",
    "from sklearn.metrics import mean_squared_error,mean_absolute_error,r2_score"
   ]
  },
  {
   "cell_type": "code",
   "execution_count": 88,
   "id": "2b2a673e",
   "metadata": {},
   "outputs": [
    {
     "data": {
      "text/plain": [
       "LinearRegression()"
      ]
     },
     "execution_count": 88,
     "metadata": {},
     "output_type": "execute_result"
    }
   ],
   "source": [
    "lr=LinearRegression()\n",
    "lr.fit(X_train,y_train)"
   ]
  },
  {
   "cell_type": "code",
   "execution_count": 89,
   "id": "533b3321",
   "metadata": {},
   "outputs": [],
   "source": [
    "pred=lr.predict(X_test)"
   ]
  },
  {
   "cell_type": "code",
   "execution_count": 90,
   "id": "b18ede20",
   "metadata": {},
   "outputs": [
    {
     "name": "stdout",
     "output_type": "stream",
     "text": [
      "mean squared error 0.06598273660631995\n",
      "mean absolute error 0.1968326812926287\n",
      "r2 score 0.9133485412051042\n"
     ]
    }
   ],
   "source": [
    "print('mean squared error',mean_squared_error(y_test,pred))\n",
    "print('mean absolute error',mean_absolute_error(y_test,pred))\n",
    "print('r2 score',r2_score(pred,y_test))"
   ]
  },
  {
   "cell_type": "code",
   "execution_count": 91,
   "id": "319e3fe2",
   "metadata": {},
   "outputs": [],
   "source": [
    "from sklearn.model_selection import cross_val_score"
   ]
  },
  {
   "cell_type": "code",
   "execution_count": 92,
   "id": "99b2887a",
   "metadata": {},
   "outputs": [],
   "source": [
    "score=cross_val_score(lr,x,y,cv=5)"
   ]
  },
  {
   "cell_type": "code",
   "execution_count": 93,
   "id": "e3713695",
   "metadata": {},
   "outputs": [
    {
     "name": "stdout",
     "output_type": "stream",
     "text": [
      "[0.91851976 0.92727468 0.93257193 0.90468182 0.92623225]\n",
      "0.9218560883062505\n",
      "0.009689454422374236\n"
     ]
    }
   ],
   "source": [
    "print(score)\n",
    "print(score.mean())\n",
    "print(score.std())"
   ]
  },
  {
   "cell_type": "markdown",
   "id": "b2d4ca1e",
   "metadata": {},
   "source": [
    "# Ridge"
   ]
  },
  {
   "cell_type": "code",
   "execution_count": 94,
   "id": "fbc9b7f6",
   "metadata": {},
   "outputs": [],
   "source": [
    "from sklearn.linear_model import Ridge"
   ]
  },
  {
   "cell_type": "code",
   "execution_count": 95,
   "id": "d728d4ce",
   "metadata": {},
   "outputs": [],
   "source": [
    "rd=Ridge()\n",
    "rd.fit(X_train,y_train)\n",
    "pred=rd.predict(X_test)"
   ]
  },
  {
   "cell_type": "code",
   "execution_count": 96,
   "id": "e9c29478",
   "metadata": {},
   "outputs": [
    {
     "name": "stdout",
     "output_type": "stream",
     "text": [
      "mean squared error 0.06629293953422687\n",
      "mean absolute error 0.1970013782560914\n",
      "r2 score 0.9118613541977872\n"
     ]
    }
   ],
   "source": [
    "print('mean squared error',mean_squared_error(y_test,pred))\n",
    "print('mean absolute error',mean_absolute_error(y_test,pred))\n",
    "print('r2 score',r2_score(pred,y_test))"
   ]
  },
  {
   "cell_type": "code",
   "execution_count": 97,
   "id": "d79ad7f3",
   "metadata": {},
   "outputs": [
    {
     "name": "stdout",
     "output_type": "stream",
     "text": [
      "[0.91841946 0.92679553 0.93402693 0.90364829 0.926563  ]\n",
      "0.9218906428173896\n",
      "0.010373146908282355\n"
     ]
    }
   ],
   "source": [
    "score=cross_val_score(rd,x,y,cv=5)\n",
    "print(score)\n",
    "print(score.mean())\n",
    "print(score.std())"
   ]
  },
  {
   "cell_type": "markdown",
   "id": "2221ad4d",
   "metadata": {},
   "source": [
    "# Lasso"
   ]
  },
  {
   "cell_type": "code",
   "execution_count": 98,
   "id": "9bb8d328",
   "metadata": {},
   "outputs": [],
   "source": [
    "from sklearn.linear_model import Lasso"
   ]
  },
  {
   "cell_type": "code",
   "execution_count": 99,
   "id": "5c7602d4",
   "metadata": {},
   "outputs": [],
   "source": [
    "ls=Lasso()\n",
    "ls.fit(X_train,y_train)\n",
    "pred=ls.predict(X_test)"
   ]
  },
  {
   "cell_type": "code",
   "execution_count": 100,
   "id": "23b0c228",
   "metadata": {},
   "outputs": [
    {
     "name": "stdout",
     "output_type": "stream",
     "text": [
      "mean_squared_error 0.8654013760842133\n",
      "mean_absolute_error 0.7384488960769632\n",
      "r2_score -0.003332276458261063\n"
     ]
    }
   ],
   "source": [
    "print('mean_squared_error',mean_squared_error(y_test,pred))\n",
    "print('mean_absolute_error',mean_absolute_error(y_test,pred))\n",
    "print('r2_score',r2_score(y_test,pred))"
   ]
  },
  {
   "cell_type": "code",
   "execution_count": 101,
   "id": "221e63c4",
   "metadata": {},
   "outputs": [
    {
     "name": "stdout",
     "output_type": "stream",
     "text": [
      "[-0.00106376 -0.01549944 -0.02410547 -0.03301725 -0.00342281]\n",
      "-0.015421746183206686\n",
      "0.012125519148789787\n"
     ]
    }
   ],
   "source": [
    "score=cross_val_score(ls,x,y,cv=5)\n",
    "print(score)\n",
    "print(score.mean())\n",
    "print(score.std())"
   ]
  },
  {
   "cell_type": "markdown",
   "id": "4c8a4f79",
   "metadata": {},
   "source": [
    "# ElasticNet"
   ]
  },
  {
   "cell_type": "code",
   "execution_count": 102,
   "id": "75afec55",
   "metadata": {},
   "outputs": [],
   "source": [
    "from sklearn.linear_model import ElasticNet"
   ]
  },
  {
   "cell_type": "code",
   "execution_count": 103,
   "id": "2e5bff6c",
   "metadata": {},
   "outputs": [],
   "source": [
    "en=ElasticNet()\n",
    "en.fit(X_train,y_train)\n",
    "pred=en.predict(X_test)"
   ]
  },
  {
   "cell_type": "code",
   "execution_count": 104,
   "id": "7c6b34f8",
   "metadata": {},
   "outputs": [
    {
     "name": "stdout",
     "output_type": "stream",
     "text": [
      "mean_squared_error 0.5805578751593508\n",
      "mean_absolute_error 0.6071637978647833\n",
      "r2_score 0.3269106444745018\n"
     ]
    }
   ],
   "source": [
    "print('mean_squared_error',mean_squared_error(pred,y_test))\n",
    "print('mean_absolute_error',mean_absolute_error(y_test,pred))\n",
    "print('r2_score',r2_score(y_test,pred))"
   ]
  },
  {
   "cell_type": "code",
   "execution_count": 105,
   "id": "bfc0e676",
   "metadata": {},
   "outputs": [
    {
     "name": "stdout",
     "output_type": "stream",
     "text": [
      "[0.32552535 0.27593546 0.28794028 0.28404696 0.2767232 ]\n",
      "0.29003425160761126\n",
      "0.01830743366913518\n"
     ]
    }
   ],
   "source": [
    "score=cross_val_score(en,x,y,cv=5)\n",
    "print(score)\n",
    "print(score.mean())\n",
    "print(score.std())"
   ]
  },
  {
   "cell_type": "markdown",
   "id": "a761ed53",
   "metadata": {},
   "source": [
    "# support vector machine"
   ]
  },
  {
   "cell_type": "code",
   "execution_count": 106,
   "id": "30404a40",
   "metadata": {},
   "outputs": [],
   "source": [
    "from sklearn.svm import SVR"
   ]
  },
  {
   "cell_type": "code",
   "execution_count": 107,
   "id": "3b173a0d",
   "metadata": {},
   "outputs": [],
   "source": [
    "svr=SVR()\n",
    "svr.fit(X_train,y_train)\n",
    "pred=svr.predict(X_test)"
   ]
  },
  {
   "cell_type": "code",
   "execution_count": 108,
   "id": "30c7b153",
   "metadata": {},
   "outputs": [
    {
     "name": "stdout",
     "output_type": "stream",
     "text": [
      "mean_squared_error 0.018445009756532987\n",
      "mean_absolute_error 0.09674442620734759\n",
      "r2_score 0.9786151557649982\n"
     ]
    }
   ],
   "source": [
    "print('mean_squared_error',mean_squared_error(y_test,pred))\n",
    "print('mean_absolute_error',mean_absolute_error(y_test,pred))\n",
    "print('r2_score',r2_score(y_test,pred))"
   ]
  },
  {
   "cell_type": "code",
   "execution_count": 109,
   "id": "9fa2bc8f",
   "metadata": {},
   "outputs": [],
   "source": [
    "score=cross_val_score(svr,x,y,cv=5)"
   ]
  },
  {
   "cell_type": "code",
   "execution_count": 110,
   "id": "0e874ff3",
   "metadata": {},
   "outputs": [
    {
     "name": "stdout",
     "output_type": "stream",
     "text": [
      "[0.95531711 0.97859275 0.97740425 0.94857465 0.98868024]\n",
      "0.9697138006961774\n",
      "0.015177833224349522\n"
     ]
    }
   ],
   "source": [
    "print(score)\n",
    "print(score.mean())\n",
    "print(score.std())"
   ]
  },
  {
   "cell_type": "markdown",
   "id": "e0f75d1a",
   "metadata": {},
   "source": [
    "# Decision Tree Regressor"
   ]
  },
  {
   "cell_type": "code",
   "execution_count": 111,
   "id": "2217ae44",
   "metadata": {},
   "outputs": [],
   "source": [
    "from sklearn.tree import DecisionTreeRegressor"
   ]
  },
  {
   "cell_type": "code",
   "execution_count": 112,
   "id": "f397417b",
   "metadata": {},
   "outputs": [],
   "source": [
    "dtr=DecisionTreeRegressor()\n",
    "dtr.fit(X_train,y_train)\n",
    "pred=dtr.predict(X_test)"
   ]
  },
  {
   "cell_type": "code",
   "execution_count": 113,
   "id": "f61ec5fd",
   "metadata": {},
   "outputs": [
    {
     "name": "stdout",
     "output_type": "stream",
     "text": [
      "mean_squared_error 0.0478784591006489\n",
      "mean_absolute_error 0.16310276555838457\n",
      "r2_score 0.9444904934400137\n"
     ]
    }
   ],
   "source": [
    "print('mean_squared_error',mean_squared_error(y_test,pred))\n",
    "print('mean_absolute_error',mean_absolute_error(y_test,pred))\n",
    "print('r2_score',r2_score(y_test,pred))"
   ]
  },
  {
   "cell_type": "code",
   "execution_count": 114,
   "id": "a8a71151",
   "metadata": {},
   "outputs": [
    {
     "name": "stdout",
     "output_type": "stream",
     "text": [
      "[0.97224536 0.9347293  0.96174496 0.9439163  0.94134304]\n",
      "0.9507957933219153\n",
      "0.013962678273589409\n"
     ]
    }
   ],
   "source": [
    "score=cross_val_score(dtr,x,y,cv=5)\n",
    "print(score)\n",
    "print(score.mean())\n",
    "print(score.std())"
   ]
  },
  {
   "cell_type": "markdown",
   "id": "fd40f14a",
   "metadata": {},
   "source": [
    "# RandomForest Regressor"
   ]
  },
  {
   "cell_type": "code",
   "execution_count": 115,
   "id": "572b1aba",
   "metadata": {},
   "outputs": [],
   "source": [
    "from sklearn.ensemble import RandomForestRegressor"
   ]
  },
  {
   "cell_type": "code",
   "execution_count": 116,
   "id": "6aa9110d",
   "metadata": {},
   "outputs": [],
   "source": [
    "rf=RandomForestRegressor()\n",
    "rf.fit(X_train,y_train)\n",
    "pred=rf.predict(X_test)"
   ]
  },
  {
   "cell_type": "code",
   "execution_count": 117,
   "id": "ec8f8526",
   "metadata": {},
   "outputs": [
    {
     "name": "stdout",
     "output_type": "stream",
     "text": [
      "mean_squared_error 0.020849578726535235\n",
      "mean_absolute_error 0.11742964729026471\n",
      "r2 score 0.9726846388592376\n"
     ]
    }
   ],
   "source": [
    "print('mean_squared_error',mean_squared_error(y_test,pred))\n",
    "print('mean_absolute_error',mean_absolute_error(y_test,pred))  \n",
    "print('r2 score',r2_score(pred,y_test))"
   ]
  },
  {
   "cell_type": "code",
   "execution_count": 118,
   "id": "bcb5d6bd",
   "metadata": {},
   "outputs": [
    {
     "name": "stdout",
     "output_type": "stream",
     "text": [
      "[0.97411014 0.95020597 0.9499817  0.94764235 0.9376225 ]\n",
      "0.951912529875911\n",
      "0.01201510491996426\n"
     ]
    }
   ],
   "source": [
    "score=cross_val_score(dtr,x,y,cv=5)\n",
    "print(score)\n",
    "print(score.mean())\n",
    "print(score.std())"
   ]
  },
  {
   "cell_type": "markdown",
   "id": "0fded636",
   "metadata": {},
   "source": [
    "Out of all the algorithms we have found Random Forest regresser performing better "
   ]
  },
  {
   "cell_type": "markdown",
   "id": "2f858b1b",
   "metadata": {},
   "source": [
    "# Hyperparameter Tuning"
   ]
  },
  {
   "cell_type": "code",
   "execution_count": 119,
   "id": "d52a39c6",
   "metadata": {},
   "outputs": [],
   "source": [
    "from sklearn.model_selection import GridSearchCV"
   ]
  },
  {
   "cell_type": "code",
   "execution_count": 120,
   "id": "412584e5",
   "metadata": {},
   "outputs": [],
   "source": [
    "model=RandomForestRegressor()\n",
    "param={'n_estimators':[10,30,50,70,100],'criterion':['mse','mae'],'min_samples_split':[1,2,3,4,5],'min_samples_leaf':[1,2,3,4,5]}"
   ]
  },
  {
   "cell_type": "code",
   "execution_count": 121,
   "id": "454d083b",
   "metadata": {},
   "outputs": [],
   "source": [
    "grid=GridSearchCV(estimator=model,param_grid=param,cv=5)"
   ]
  },
  {
   "cell_type": "code",
   "execution_count": 122,
   "id": "9475e516",
   "metadata": {},
   "outputs": [
    {
     "data": {
      "text/plain": [
       "GridSearchCV(cv=5, estimator=RandomForestRegressor(),\n",
       "             param_grid={'criterion': ['mse', 'mae'],\n",
       "                         'min_samples_leaf': [1, 2, 3, 4, 5],\n",
       "                         'min_samples_split': [1, 2, 3, 4, 5],\n",
       "                         'n_estimators': [10, 30, 50, 70, 100]})"
      ]
     },
     "execution_count": 122,
     "metadata": {},
     "output_type": "execute_result"
    }
   ],
   "source": [
    "grid.fit(X_train,y_train)"
   ]
  },
  {
   "cell_type": "code",
   "execution_count": 123,
   "id": "13041ccf",
   "metadata": {},
   "outputs": [
    {
     "name": "stdout",
     "output_type": "stream",
     "text": [
      "GridSearchCV(cv=5, estimator=RandomForestRegressor(),\n",
      "             param_grid={'criterion': ['mse', 'mae'],\n",
      "                         'min_samples_leaf': [1, 2, 3, 4, 5],\n",
      "                         'min_samples_split': [1, 2, 3, 4, 5],\n",
      "                         'n_estimators': [10, 30, 50, 70, 100]})\n",
      "0.9724502888357097\n",
      "mae\n",
      "{'criterion': 'mae', 'min_samples_leaf': 1, 'min_samples_split': 3, 'n_estimators': 50}\n"
     ]
    }
   ],
   "source": [
    "print(grid)\n",
    "print(grid.best_score_)\n",
    "print(grid.best_estimator_.criterion)\n",
    "print(grid.best_params_)"
   ]
  },
  {
   "cell_type": "markdown",
   "id": "d368fbbf",
   "metadata": {},
   "source": [
    "# Saving Model"
   ]
  },
  {
   "cell_type": "code",
   "execution_count": 124,
   "id": "d6d0a314",
   "metadata": {},
   "outputs": [],
   "source": [
    "import joblib"
   ]
  },
  {
   "cell_type": "code",
   "execution_count": 125,
   "id": "0ea73b53",
   "metadata": {},
   "outputs": [
    {
     "data": {
      "text/plain": [
       "['Advertising_sales.obj']"
      ]
     },
     "execution_count": 125,
     "metadata": {},
     "output_type": "execute_result"
    }
   ],
   "source": [
    "joblib.dump(RandomForestRegressor,'Advertising_sales.obj')"
   ]
  },
  {
   "cell_type": "code",
   "execution_count": null,
   "id": "e3a04308",
   "metadata": {},
   "outputs": [],
   "source": []
  }
 ],
 "metadata": {
  "kernelspec": {
   "display_name": "Python 3",
   "language": "python",
   "name": "python3"
  },
  "language_info": {
   "codemirror_mode": {
    "name": "ipython",
    "version": 3
   },
   "file_extension": ".py",
   "mimetype": "text/x-python",
   "name": "python",
   "nbconvert_exporter": "python",
   "pygments_lexer": "ipython3",
   "version": "3.8.8"
  }
 },
 "nbformat": 4,
 "nbformat_minor": 5
}
