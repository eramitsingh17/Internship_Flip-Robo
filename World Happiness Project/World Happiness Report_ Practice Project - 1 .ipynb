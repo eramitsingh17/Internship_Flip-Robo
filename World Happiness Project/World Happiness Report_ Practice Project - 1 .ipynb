{
 "cells": [
  {
   "cell_type": "markdown",
   "id": "13e5300b",
   "metadata": {},
   "source": [
    "Problem Statement:\n",
    "Context\n",
    "\n",
    "The World Happiness Report is a landmark survey of the state of global happiness. The first report was published in 2012, the second in 2013, the third in 2015, and the fourth in the 2016 Update. The World Happiness 2017, which ranks 155 countries by their happiness levels, was released at the United Nations at an event celebrating International Day of Happiness on March 20th. The report continues to gain global recognition as governments, organizations and civil society increasingly use happiness indicators to inform their policy-making decisions. Leading experts across fields – economics, psychology, survey analysis, national statistics, health, public policy and more – describe how measurements of well-being can be used effectively to assess the progress of nations. The reports review the state of happiness in the world today and show how the new science of happiness explains personal and national variations in happiness.\n",
    "\n",
    "Content\n",
    "\n",
    "The happiness scores and rankings use data from the Gallup World Poll. The scores are based on answers to the main life evaluation question asked in the poll. This question, known as the Cantril ladder, asks respondents to think of a ladder with the best possible life for them being a 10 and the worst possible life being a 0 and to rate their own current lives on that scale. The scores are from nationally representative samples for the years 2013-2016 and use the Gallup weights to make the estimates representative. The columns following the happiness score estimate the extent to which each of six factors – economic production, social support, life expectancy, freedom, absence of corruption, and generosity – contribute to making life evaluations higher in each country than they are in Dystopia, a hypothetical country that has values equal to the world’s lowest national averages for each of the six factors. They have no impact on the total score reported for each country, but they do explain why some countries rank higher than others.\n",
    "\n",
    "What is Dystopia?\n",
    "\n",
    "Dystopia is an imaginary country that has the world’s least-happy people. The purpose in establishing Dystopia is to have a benchmark against which all countries can be favorably compared (no country performs more poorly than Dystopia) in terms of each of the six key variables, thus allowing each sub-bar to be of positive width. The lowest scores observed for the six key variables, therefore, characterize Dystopia. Since life would be very unpleasant in a country with the world’s lowest incomes, lowest life expectancy, lowest generosity, most corruption, least freedom and least social support, it is referred to as “Dystopia,” in contrast to Utopia.\n",
    "\n",
    "What are the residuals?\n",
    "\n",
    "The residuals, or unexplained components, differ for each country, reflecting the extent to which the six variables either over- or under-explain average life evaluations. These residuals have an average value of approximately zero over the whole set of countries. \n",
    "\n",
    "What do the columns succeeding the Happiness Score(like Family, Generosity, etc.) describe?\n",
    "\n",
    "The following columns: GDP per Capita, Family, Life Expectancy, Freedom, Generosity, Trust Government Corruption describe the extent to which these factors contribute in evaluating the happiness in each country.\n",
    "The Dystopia Residual metric actually is the Dystopia Happiness Score(1.85) + the Residual value or the unexplained value for each country.\n",
    "\n",
    "The Dystopia Residual is already provided in the dataset. \n",
    "\n",
    "If you add all these factors up, you get the happiness score so it might be un-reliable to model them to predict Happiness Scores.\n",
    "\n",
    "You need to predict the happiness score considering all the other factors mentioned in the dataset. \n",
    "\n",
    "Note: You can find the dataset in the link below."
   ]
  },
  {
   "cell_type": "markdown",
   "id": "8d7e40db",
   "metadata": {},
   "source": [
    "# Importing Required Liberaries"
   ]
  },
  {
   "cell_type": "code",
   "execution_count": 1,
   "id": "f8e041bb",
   "metadata": {},
   "outputs": [],
   "source": [
    "import pandas as pd\n",
    "import numpy as np\n",
    "import seaborn as sns\n",
    "import matplotlib.pyplot as plt\n",
    "%matplotlib inline\n",
    "import warnings\n",
    "warnings.filterwarnings(\"ignore\", category=DeprecationWarning) "
   ]
  },
  {
   "cell_type": "markdown",
   "id": "ca346005",
   "metadata": {},
   "source": [
    "# Read Dataset File"
   ]
  },
  {
   "cell_type": "code",
   "execution_count": 2,
   "id": "37b63c08",
   "metadata": {},
   "outputs": [],
   "source": [
    "df = pd.read_csv(\"E:/Datatrained/DataSets for Projects/DSData-master/DSData-master/happiness_score_dataset.csv\")"
   ]
  },
  {
   "cell_type": "code",
   "execution_count": 3,
   "id": "6a8716a7",
   "metadata": {},
   "outputs": [
    {
     "data": {
      "text/html": [
       "<div>\n",
       "<style scoped>\n",
       "    .dataframe tbody tr th:only-of-type {\n",
       "        vertical-align: middle;\n",
       "    }\n",
       "\n",
       "    .dataframe tbody tr th {\n",
       "        vertical-align: top;\n",
       "    }\n",
       "\n",
       "    .dataframe thead th {\n",
       "        text-align: right;\n",
       "    }\n",
       "</style>\n",
       "<table border=\"1\" class=\"dataframe\">\n",
       "  <thead>\n",
       "    <tr style=\"text-align: right;\">\n",
       "      <th></th>\n",
       "      <th>Country</th>\n",
       "      <th>Region</th>\n",
       "      <th>Happiness Rank</th>\n",
       "      <th>Happiness Score</th>\n",
       "      <th>Standard Error</th>\n",
       "      <th>Economy (GDP per Capita)</th>\n",
       "      <th>Family</th>\n",
       "      <th>Health (Life Expectancy)</th>\n",
       "      <th>Freedom</th>\n",
       "      <th>Trust (Government Corruption)</th>\n",
       "      <th>Generosity</th>\n",
       "      <th>Dystopia Residual</th>\n",
       "    </tr>\n",
       "  </thead>\n",
       "  <tbody>\n",
       "    <tr>\n",
       "      <th>0</th>\n",
       "      <td>Switzerland</td>\n",
       "      <td>Western Europe</td>\n",
       "      <td>1</td>\n",
       "      <td>7.587</td>\n",
       "      <td>0.03411</td>\n",
       "      <td>1.39651</td>\n",
       "      <td>1.34951</td>\n",
       "      <td>0.94143</td>\n",
       "      <td>0.66557</td>\n",
       "      <td>0.41978</td>\n",
       "      <td>0.29678</td>\n",
       "      <td>2.51738</td>\n",
       "    </tr>\n",
       "    <tr>\n",
       "      <th>1</th>\n",
       "      <td>Iceland</td>\n",
       "      <td>Western Europe</td>\n",
       "      <td>2</td>\n",
       "      <td>7.561</td>\n",
       "      <td>0.04884</td>\n",
       "      <td>1.30232</td>\n",
       "      <td>1.40223</td>\n",
       "      <td>0.94784</td>\n",
       "      <td>0.62877</td>\n",
       "      <td>0.14145</td>\n",
       "      <td>0.43630</td>\n",
       "      <td>2.70201</td>\n",
       "    </tr>\n",
       "    <tr>\n",
       "      <th>2</th>\n",
       "      <td>Denmark</td>\n",
       "      <td>Western Europe</td>\n",
       "      <td>3</td>\n",
       "      <td>7.527</td>\n",
       "      <td>0.03328</td>\n",
       "      <td>1.32548</td>\n",
       "      <td>1.36058</td>\n",
       "      <td>0.87464</td>\n",
       "      <td>0.64938</td>\n",
       "      <td>0.48357</td>\n",
       "      <td>0.34139</td>\n",
       "      <td>2.49204</td>\n",
       "    </tr>\n",
       "    <tr>\n",
       "      <th>3</th>\n",
       "      <td>Norway</td>\n",
       "      <td>Western Europe</td>\n",
       "      <td>4</td>\n",
       "      <td>7.522</td>\n",
       "      <td>0.03880</td>\n",
       "      <td>1.45900</td>\n",
       "      <td>1.33095</td>\n",
       "      <td>0.88521</td>\n",
       "      <td>0.66973</td>\n",
       "      <td>0.36503</td>\n",
       "      <td>0.34699</td>\n",
       "      <td>2.46531</td>\n",
       "    </tr>\n",
       "    <tr>\n",
       "      <th>4</th>\n",
       "      <td>Canada</td>\n",
       "      <td>North America</td>\n",
       "      <td>5</td>\n",
       "      <td>7.427</td>\n",
       "      <td>0.03553</td>\n",
       "      <td>1.32629</td>\n",
       "      <td>1.32261</td>\n",
       "      <td>0.90563</td>\n",
       "      <td>0.63297</td>\n",
       "      <td>0.32957</td>\n",
       "      <td>0.45811</td>\n",
       "      <td>2.45176</td>\n",
       "    </tr>\n",
       "  </tbody>\n",
       "</table>\n",
       "</div>"
      ],
      "text/plain": [
       "       Country          Region  Happiness Rank  Happiness Score  \\\n",
       "0  Switzerland  Western Europe               1            7.587   \n",
       "1      Iceland  Western Europe               2            7.561   \n",
       "2      Denmark  Western Europe               3            7.527   \n",
       "3       Norway  Western Europe               4            7.522   \n",
       "4       Canada   North America               5            7.427   \n",
       "\n",
       "   Standard Error  Economy (GDP per Capita)   Family  \\\n",
       "0         0.03411                   1.39651  1.34951   \n",
       "1         0.04884                   1.30232  1.40223   \n",
       "2         0.03328                   1.32548  1.36058   \n",
       "3         0.03880                   1.45900  1.33095   \n",
       "4         0.03553                   1.32629  1.32261   \n",
       "\n",
       "   Health (Life Expectancy)  Freedom  Trust (Government Corruption)  \\\n",
       "0                   0.94143  0.66557                        0.41978   \n",
       "1                   0.94784  0.62877                        0.14145   \n",
       "2                   0.87464  0.64938                        0.48357   \n",
       "3                   0.88521  0.66973                        0.36503   \n",
       "4                   0.90563  0.63297                        0.32957   \n",
       "\n",
       "   Generosity  Dystopia Residual  \n",
       "0     0.29678            2.51738  \n",
       "1     0.43630            2.70201  \n",
       "2     0.34139            2.49204  \n",
       "3     0.34699            2.46531  \n",
       "4     0.45811            2.45176  "
      ]
     },
     "execution_count": 3,
     "metadata": {},
     "output_type": "execute_result"
    }
   ],
   "source": [
    "df.head()"
   ]
  },
  {
   "cell_type": "code",
   "execution_count": 4,
   "id": "51cbc8f0",
   "metadata": {},
   "outputs": [
    {
     "data": {
      "text/plain": [
       "(158, 12)"
      ]
     },
     "execution_count": 4,
     "metadata": {},
     "output_type": "execute_result"
    }
   ],
   "source": [
    "#Checking shape of the dataset\n",
    "df.shape"
   ]
  },
  {
   "cell_type": "code",
   "execution_count": 5,
   "id": "b41b7289",
   "metadata": {},
   "outputs": [
    {
     "data": {
      "text/plain": [
       "Index(['Country', 'Region', 'Happiness Rank', 'Happiness Score',\n",
       "       'Standard Error', 'Economy (GDP per Capita)', 'Family',\n",
       "       'Health (Life Expectancy)', 'Freedom', 'Trust (Government Corruption)',\n",
       "       'Generosity', 'Dystopia Residual'],\n",
       "      dtype='object')"
      ]
     },
     "execution_count": 5,
     "metadata": {},
     "output_type": "execute_result"
    }
   ],
   "source": [
    "#Checking columns in datasets\n",
    "df.columns"
   ]
  },
  {
   "cell_type": "code",
   "execution_count": 6,
   "id": "d06d442e",
   "metadata": {},
   "outputs": [],
   "source": [
    "#Renaming the columns name to avoid space in-between\n",
    "df.rename(columns={'Happiness Rank': 'Happiness_Rank'}, inplace=True)\n",
    "df.rename(columns={'Happiness Score': 'Happiness_Score'}, inplace=True)\n",
    "df.rename(columns={'Standard Error': 'Standard_Error'}, inplace=True)\n",
    "df.rename(columns={'Economy (GDP per Capita)': 'Economy(GDP_per_Capita)'}, inplace=True)\n",
    "df.rename(columns={'Trust (Government Corruption)': 'Government_Corruption'}, inplace=True)\n",
    "df.rename(columns={'Dystopia Residual': 'Dystopia_Residual'}, inplace=True)\n",
    "df.rename(columns={'Health (Life Expectancy)': 'Life_Expectancy'}, inplace=True)"
   ]
  },
  {
   "cell_type": "code",
   "execution_count": 7,
   "id": "143db907",
   "metadata": {},
   "outputs": [
    {
     "data": {
      "text/html": [
       "<div>\n",
       "<style scoped>\n",
       "    .dataframe tbody tr th:only-of-type {\n",
       "        vertical-align: middle;\n",
       "    }\n",
       "\n",
       "    .dataframe tbody tr th {\n",
       "        vertical-align: top;\n",
       "    }\n",
       "\n",
       "    .dataframe thead th {\n",
       "        text-align: right;\n",
       "    }\n",
       "</style>\n",
       "<table border=\"1\" class=\"dataframe\">\n",
       "  <thead>\n",
       "    <tr style=\"text-align: right;\">\n",
       "      <th></th>\n",
       "      <th>Happiness_Rank</th>\n",
       "      <th>Happiness_Score</th>\n",
       "      <th>Standard_Error</th>\n",
       "      <th>Economy(GDP_per_Capita)</th>\n",
       "      <th>Family</th>\n",
       "      <th>Life_Expectancy</th>\n",
       "      <th>Freedom</th>\n",
       "      <th>Government_Corruption</th>\n",
       "      <th>Generosity</th>\n",
       "      <th>Dystopia_Residual</th>\n",
       "    </tr>\n",
       "  </thead>\n",
       "  <tbody>\n",
       "    <tr>\n",
       "      <th>count</th>\n",
       "      <td>158.000000</td>\n",
       "      <td>158.000000</td>\n",
       "      <td>158.000000</td>\n",
       "      <td>158.000000</td>\n",
       "      <td>158.000000</td>\n",
       "      <td>158.000000</td>\n",
       "      <td>158.000000</td>\n",
       "      <td>158.000000</td>\n",
       "      <td>158.000000</td>\n",
       "      <td>158.000000</td>\n",
       "    </tr>\n",
       "    <tr>\n",
       "      <th>mean</th>\n",
       "      <td>79.493671</td>\n",
       "      <td>5.375734</td>\n",
       "      <td>0.047885</td>\n",
       "      <td>0.846137</td>\n",
       "      <td>0.991046</td>\n",
       "      <td>0.630259</td>\n",
       "      <td>0.428615</td>\n",
       "      <td>0.143422</td>\n",
       "      <td>0.237296</td>\n",
       "      <td>2.098977</td>\n",
       "    </tr>\n",
       "    <tr>\n",
       "      <th>std</th>\n",
       "      <td>45.754363</td>\n",
       "      <td>1.145010</td>\n",
       "      <td>0.017146</td>\n",
       "      <td>0.403121</td>\n",
       "      <td>0.272369</td>\n",
       "      <td>0.247078</td>\n",
       "      <td>0.150693</td>\n",
       "      <td>0.120034</td>\n",
       "      <td>0.126685</td>\n",
       "      <td>0.553550</td>\n",
       "    </tr>\n",
       "    <tr>\n",
       "      <th>min</th>\n",
       "      <td>1.000000</td>\n",
       "      <td>2.839000</td>\n",
       "      <td>0.018480</td>\n",
       "      <td>0.000000</td>\n",
       "      <td>0.000000</td>\n",
       "      <td>0.000000</td>\n",
       "      <td>0.000000</td>\n",
       "      <td>0.000000</td>\n",
       "      <td>0.000000</td>\n",
       "      <td>0.328580</td>\n",
       "    </tr>\n",
       "    <tr>\n",
       "      <th>25%</th>\n",
       "      <td>40.250000</td>\n",
       "      <td>4.526000</td>\n",
       "      <td>0.037268</td>\n",
       "      <td>0.545808</td>\n",
       "      <td>0.856823</td>\n",
       "      <td>0.439185</td>\n",
       "      <td>0.328330</td>\n",
       "      <td>0.061675</td>\n",
       "      <td>0.150553</td>\n",
       "      <td>1.759410</td>\n",
       "    </tr>\n",
       "    <tr>\n",
       "      <th>50%</th>\n",
       "      <td>79.500000</td>\n",
       "      <td>5.232500</td>\n",
       "      <td>0.043940</td>\n",
       "      <td>0.910245</td>\n",
       "      <td>1.029510</td>\n",
       "      <td>0.696705</td>\n",
       "      <td>0.435515</td>\n",
       "      <td>0.107220</td>\n",
       "      <td>0.216130</td>\n",
       "      <td>2.095415</td>\n",
       "    </tr>\n",
       "    <tr>\n",
       "      <th>75%</th>\n",
       "      <td>118.750000</td>\n",
       "      <td>6.243750</td>\n",
       "      <td>0.052300</td>\n",
       "      <td>1.158448</td>\n",
       "      <td>1.214405</td>\n",
       "      <td>0.811013</td>\n",
       "      <td>0.549092</td>\n",
       "      <td>0.180255</td>\n",
       "      <td>0.309883</td>\n",
       "      <td>2.462415</td>\n",
       "    </tr>\n",
       "    <tr>\n",
       "      <th>max</th>\n",
       "      <td>158.000000</td>\n",
       "      <td>7.587000</td>\n",
       "      <td>0.136930</td>\n",
       "      <td>1.690420</td>\n",
       "      <td>1.402230</td>\n",
       "      <td>1.025250</td>\n",
       "      <td>0.669730</td>\n",
       "      <td>0.551910</td>\n",
       "      <td>0.795880</td>\n",
       "      <td>3.602140</td>\n",
       "    </tr>\n",
       "  </tbody>\n",
       "</table>\n",
       "</div>"
      ],
      "text/plain": [
       "       Happiness_Rank  Happiness_Score  Standard_Error  \\\n",
       "count      158.000000       158.000000      158.000000   \n",
       "mean        79.493671         5.375734        0.047885   \n",
       "std         45.754363         1.145010        0.017146   \n",
       "min          1.000000         2.839000        0.018480   \n",
       "25%         40.250000         4.526000        0.037268   \n",
       "50%         79.500000         5.232500        0.043940   \n",
       "75%        118.750000         6.243750        0.052300   \n",
       "max        158.000000         7.587000        0.136930   \n",
       "\n",
       "       Economy(GDP_per_Capita)      Family  Life_Expectancy     Freedom  \\\n",
       "count               158.000000  158.000000       158.000000  158.000000   \n",
       "mean                  0.846137    0.991046         0.630259    0.428615   \n",
       "std                   0.403121    0.272369         0.247078    0.150693   \n",
       "min                   0.000000    0.000000         0.000000    0.000000   \n",
       "25%                   0.545808    0.856823         0.439185    0.328330   \n",
       "50%                   0.910245    1.029510         0.696705    0.435515   \n",
       "75%                   1.158448    1.214405         0.811013    0.549092   \n",
       "max                   1.690420    1.402230         1.025250    0.669730   \n",
       "\n",
       "       Government_Corruption  Generosity  Dystopia_Residual  \n",
       "count             158.000000  158.000000         158.000000  \n",
       "mean                0.143422    0.237296           2.098977  \n",
       "std                 0.120034    0.126685           0.553550  \n",
       "min                 0.000000    0.000000           0.328580  \n",
       "25%                 0.061675    0.150553           1.759410  \n",
       "50%                 0.107220    0.216130           2.095415  \n",
       "75%                 0.180255    0.309883           2.462415  \n",
       "max                 0.551910    0.795880           3.602140  "
      ]
     },
     "execution_count": 7,
     "metadata": {},
     "output_type": "execute_result"
    }
   ],
   "source": [
    "#Describing dataset to understand the distribution of datasets\n",
    "df.describe()"
   ]
  },
  {
   "cell_type": "code",
   "execution_count": 8,
   "id": "b7de3f01",
   "metadata": {},
   "outputs": [
    {
     "name": "stdout",
     "output_type": "stream",
     "text": [
      "<class 'pandas.core.frame.DataFrame'>\n",
      "RangeIndex: 158 entries, 0 to 157\n",
      "Data columns (total 12 columns):\n",
      " #   Column                   Non-Null Count  Dtype  \n",
      "---  ------                   --------------  -----  \n",
      " 0   Country                  158 non-null    object \n",
      " 1   Region                   158 non-null    object \n",
      " 2   Happiness_Rank           158 non-null    int64  \n",
      " 3   Happiness_Score          158 non-null    float64\n",
      " 4   Standard_Error           158 non-null    float64\n",
      " 5   Economy(GDP_per_Capita)  158 non-null    float64\n",
      " 6   Family                   158 non-null    float64\n",
      " 7   Life_Expectancy          158 non-null    float64\n",
      " 8   Freedom                  158 non-null    float64\n",
      " 9   Government_Corruption    158 non-null    float64\n",
      " 10  Generosity               158 non-null    float64\n",
      " 11  Dystopia_Residual        158 non-null    float64\n",
      "dtypes: float64(9), int64(1), object(2)\n",
      "memory usage: 14.9+ KB\n"
     ]
    }
   ],
   "source": [
    "#To check the null values and datatypes\n",
    "df.info()"
   ]
  },
  {
   "cell_type": "markdown",
   "id": "a0849923",
   "metadata": {},
   "source": [
    "We have observed no null values and two features are object type which need to be drop out since those are categorical and giving no weighted into datasets"
   ]
  },
  {
   "cell_type": "markdown",
   "id": "126ca1c6",
   "metadata": {},
   "source": [
    "# Removing Categorical columns which will not have any impact in the datasets"
   ]
  },
  {
   "cell_type": "code",
   "execution_count": 9,
   "id": "39a1f9b8",
   "metadata": {},
   "outputs": [
    {
     "data": {
      "text/html": [
       "<div>\n",
       "<style scoped>\n",
       "    .dataframe tbody tr th:only-of-type {\n",
       "        vertical-align: middle;\n",
       "    }\n",
       "\n",
       "    .dataframe tbody tr th {\n",
       "        vertical-align: top;\n",
       "    }\n",
       "\n",
       "    .dataframe thead th {\n",
       "        text-align: right;\n",
       "    }\n",
       "</style>\n",
       "<table border=\"1\" class=\"dataframe\">\n",
       "  <thead>\n",
       "    <tr style=\"text-align: right;\">\n",
       "      <th></th>\n",
       "      <th>Happiness_Rank</th>\n",
       "      <th>Happiness_Score</th>\n",
       "      <th>Standard_Error</th>\n",
       "      <th>Economy(GDP_per_Capita)</th>\n",
       "      <th>Family</th>\n",
       "      <th>Life_Expectancy</th>\n",
       "      <th>Freedom</th>\n",
       "      <th>Government_Corruption</th>\n",
       "      <th>Generosity</th>\n",
       "      <th>Dystopia_Residual</th>\n",
       "    </tr>\n",
       "  </thead>\n",
       "  <tbody>\n",
       "    <tr>\n",
       "      <th>0</th>\n",
       "      <td>1</td>\n",
       "      <td>7.587</td>\n",
       "      <td>0.03411</td>\n",
       "      <td>1.39651</td>\n",
       "      <td>1.34951</td>\n",
       "      <td>0.94143</td>\n",
       "      <td>0.66557</td>\n",
       "      <td>0.41978</td>\n",
       "      <td>0.29678</td>\n",
       "      <td>2.51738</td>\n",
       "    </tr>\n",
       "    <tr>\n",
       "      <th>1</th>\n",
       "      <td>2</td>\n",
       "      <td>7.561</td>\n",
       "      <td>0.04884</td>\n",
       "      <td>1.30232</td>\n",
       "      <td>1.40223</td>\n",
       "      <td>0.94784</td>\n",
       "      <td>0.62877</td>\n",
       "      <td>0.14145</td>\n",
       "      <td>0.43630</td>\n",
       "      <td>2.70201</td>\n",
       "    </tr>\n",
       "  </tbody>\n",
       "</table>\n",
       "</div>"
      ],
      "text/plain": [
       "   Happiness_Rank  Happiness_Score  Standard_Error  Economy(GDP_per_Capita)  \\\n",
       "0               1            7.587         0.03411                  1.39651   \n",
       "1               2            7.561         0.04884                  1.30232   \n",
       "\n",
       "    Family  Life_Expectancy  Freedom  Government_Corruption  Generosity  \\\n",
       "0  1.34951          0.94143  0.66557                0.41978     0.29678   \n",
       "1  1.40223          0.94784  0.62877                0.14145     0.43630   \n",
       "\n",
       "   Dystopia_Residual  \n",
       "0            2.51738  \n",
       "1            2.70201  "
      ]
     },
     "execution_count": 9,
     "metadata": {},
     "output_type": "execute_result"
    }
   ],
   "source": [
    "df_new = df.drop([\"Country\",\"Region\"], axis=1)\n",
    "df_new.head(2)"
   ]
  },
  {
   "cell_type": "markdown",
   "id": "95c9a7b8",
   "metadata": {},
   "source": [
    "# Data Distribution and skewness checking"
   ]
  },
  {
   "cell_type": "code",
   "execution_count": 10,
   "id": "915c0c0b",
   "metadata": {},
   "outputs": [
    {
     "name": "stderr",
     "output_type": "stream",
     "text": [
      "C:\\Users\\Amit Singh\\anaconda3\\lib\\site-packages\\seaborn\\distributions.py:2557: FutureWarning: `distplot` is a deprecated function and will be removed in a future version. Please adapt your code to use either `displot` (a figure-level function with similar flexibility) or `histplot` (an axes-level function for histograms).\n",
      "  warnings.warn(msg, FutureWarning)\n",
      "C:\\Users\\Amit Singh\\anaconda3\\lib\\site-packages\\seaborn\\distributions.py:2557: FutureWarning: `distplot` is a deprecated function and will be removed in a future version. Please adapt your code to use either `displot` (a figure-level function with similar flexibility) or `histplot` (an axes-level function for histograms).\n",
      "  warnings.warn(msg, FutureWarning)\n",
      "C:\\Users\\Amit Singh\\anaconda3\\lib\\site-packages\\seaborn\\distributions.py:2557: FutureWarning: `distplot` is a deprecated function and will be removed in a future version. Please adapt your code to use either `displot` (a figure-level function with similar flexibility) or `histplot` (an axes-level function for histograms).\n",
      "  warnings.warn(msg, FutureWarning)\n",
      "C:\\Users\\Amit Singh\\anaconda3\\lib\\site-packages\\seaborn\\distributions.py:2557: FutureWarning: `distplot` is a deprecated function and will be removed in a future version. Please adapt your code to use either `displot` (a figure-level function with similar flexibility) or `histplot` (an axes-level function for histograms).\n",
      "  warnings.warn(msg, FutureWarning)\n",
      "C:\\Users\\Amit Singh\\anaconda3\\lib\\site-packages\\seaborn\\distributions.py:2557: FutureWarning: `distplot` is a deprecated function and will be removed in a future version. Please adapt your code to use either `displot` (a figure-level function with similar flexibility) or `histplot` (an axes-level function for histograms).\n",
      "  warnings.warn(msg, FutureWarning)\n",
      "C:\\Users\\Amit Singh\\anaconda3\\lib\\site-packages\\seaborn\\distributions.py:2557: FutureWarning: `distplot` is a deprecated function and will be removed in a future version. Please adapt your code to use either `displot` (a figure-level function with similar flexibility) or `histplot` (an axes-level function for histograms).\n",
      "  warnings.warn(msg, FutureWarning)\n",
      "C:\\Users\\Amit Singh\\anaconda3\\lib\\site-packages\\seaborn\\distributions.py:2557: FutureWarning: `distplot` is a deprecated function and will be removed in a future version. Please adapt your code to use either `displot` (a figure-level function with similar flexibility) or `histplot` (an axes-level function for histograms).\n",
      "  warnings.warn(msg, FutureWarning)\n",
      "C:\\Users\\Amit Singh\\anaconda3\\lib\\site-packages\\seaborn\\distributions.py:2557: FutureWarning: `distplot` is a deprecated function and will be removed in a future version. Please adapt your code to use either `displot` (a figure-level function with similar flexibility) or `histplot` (an axes-level function for histograms).\n",
      "  warnings.warn(msg, FutureWarning)\n",
      "C:\\Users\\Amit Singh\\anaconda3\\lib\\site-packages\\seaborn\\distributions.py:2557: FutureWarning: `distplot` is a deprecated function and will be removed in a future version. Please adapt your code to use either `displot` (a figure-level function with similar flexibility) or `histplot` (an axes-level function for histograms).\n",
      "  warnings.warn(msg, FutureWarning)\n"
     ]
    },
    {
     "data": {
      "image/png": "[encoded data removed]",
      "text/plain": [
       "<Figure size 1440x1800 with 9 Axes>"
      ]
     },
     "metadata": {},
     "output_type": "display_data"
    }
   ],
   "source": [
    "# lets see how data are distributed in every column\n",
    "plt.figure(figsize=(20,25), facecolor='white')\n",
    "plotnumber = 1\n",
    "\n",
    "for column in df_new:\n",
    "    if plotnumber<=9 : #As the number of columns are 10 in datasets\n",
    "        ax = plt.subplot(3,3, plotnumber)\n",
    "        sns.distplot(df_new[column])\n",
    "        plt.xlabel(column, fontsize=20)\n",
    "    plotnumber +=1\n",
    "plt.show()"
   ]
  },
  {
   "cell_type": "markdown",
   "id": "2ae93c44",
   "metadata": {},
   "source": [
    "Based on above graph i have found few features are skewed like Standard Error, Government Corruption, Geneosity and Family."
   ]
  },
  {
   "cell_type": "code",
   "execution_count": 11,
   "id": "c0d48c0d",
   "metadata": {},
   "outputs": [],
   "source": [
    "#devide the data into feature and labels\n",
    "y = df_new['Happiness_Score']\n",
    "x = df_new.drop(columns = ['Happiness_Score'])"
   ]
  },
  {
   "cell_type": "markdown",
   "id": "71ceea66",
   "metadata": {},
   "source": [
    "# Data Visualization to see the Correlation"
   ]
  },
  {
   "cell_type": "code",
   "execution_count": 12,
   "id": "185992b6",
   "metadata": {},
   "outputs": [
    {
     "data": {
      "image/png": "[encoded data removed]",
      "text/plain": [
       "<Figure size 1440x1440 with 9 Axes>"
      ]
     },
     "metadata": {},
     "output_type": "display_data"
    }
   ],
   "source": [
    "#lets visualize the graph to see the correlations\n",
    "\n",
    "plt.figure(figsize = (20,20), facecolor='white')\n",
    "plotnumber = 1\n",
    "for column in x:\n",
    "    if plotnumber <=15:\n",
    "        ax = plt.subplot(5,3,plotnumber)\n",
    "        plt.scatter(x[column], y)\n",
    "        plt.xlabel(column, fontsize=20)\n",
    "        plt.ylabel('Happiness_Score', fontsize=20)\n",
    "        \n",
    "    plotnumber +=1\n",
    "plt.tight_layout()"
   ]
  },
  {
   "cell_type": "markdown",
   "id": "974e6a2c",
   "metadata": {},
   "source": [
    "Based on above graph, i have observed that Happiness Rank and Happiness Score highly negatively correlated, Economy, Family, Life Expentancy, Freedom, Government Corruption & Dytopia Residual are Linearly correlated, Standard Error & Generosity shows less correlations."
   ]
  },
  {
   "cell_type": "markdown",
   "id": "dfd8863e",
   "metadata": {},
   "source": [
    "df_new.corr()"
   ]
  },
  {
   "cell_type": "code",
   "execution_count": 13,
   "id": "81a39acf",
   "metadata": {},
   "outputs": [
    {
     "data": {
      "text/plain": [
       "<AxesSubplot:>"
      ]
     },
     "execution_count": 13,
     "metadata": {},
     "output_type": "execute_result"
    },
    {
     "data": {
      "image/png": "[encoded data removed]",
      "text/plain": [
       "<Figure size 432x288 with 2 Axes>"
      ]
     },
     "metadata": {
      "needs_background": "light"
     },
     "output_type": "display_data"
    }
   ],
   "source": [
    "#Heatmap visualization\n",
    "sns.heatmap(df_new.corr(), vmin=-1.00, vmax=1.00, annot=True)"
   ]
  },
  {
   "cell_type": "markdown",
   "id": "eb976169",
   "metadata": {},
   "source": [
    "Observation from heatmap graph, Happiness Score is highly -ve correlated with Happiness Rank with -0.99%, Happiness highly +ve correlated with Economy, Family, Life Expectancy and Dystopia Residual, Happiness Score are very less correlation shows with Standard Error & Generosity. "
   ]
  },
  {
   "cell_type": "markdown",
   "id": "8d6742e2",
   "metadata": {},
   "source": [
    "# Checking Outliers"
   ]
  },
  {
   "cell_type": "code",
   "execution_count": 14,
   "id": "22efafa5",
   "metadata": {},
   "outputs": [
    {
     "name": "stderr",
     "output_type": "stream",
     "text": [
      "C:\\Users\\Amit Singh\\anaconda3\\lib\\site-packages\\seaborn\\_decorators.py:36: FutureWarning: Pass the following variable as a keyword arg: x. From version 0.12, the only valid positional argument will be `data`, and passing other arguments without an explicit keyword will result in an error or misinterpretation.\n",
      "  warnings.warn(\n",
      "C:\\Users\\Amit Singh\\anaconda3\\lib\\site-packages\\seaborn\\_core.py:1319: UserWarning: Vertical orientation ignored with only `x` specified.\n",
      "  warnings.warn(single_var_warning.format(\"Vertical\", \"x\"))\n",
      "C:\\Users\\Amit Singh\\anaconda3\\lib\\site-packages\\seaborn\\_decorators.py:36: FutureWarning: Pass the following variable as a keyword arg: x. From version 0.12, the only valid positional argument will be `data`, and passing other arguments without an explicit keyword will result in an error or misinterpretation.\n",
      "  warnings.warn(\n",
      "C:\\Users\\Amit Singh\\anaconda3\\lib\\site-packages\\seaborn\\_core.py:1319: UserWarning: Vertical orientation ignored with only `x` specified.\n",
      "  warnings.warn(single_var_warning.format(\"Vertical\", \"x\"))\n",
      "C:\\Users\\Amit Singh\\anaconda3\\lib\\site-packages\\seaborn\\_decorators.py:36: FutureWarning: Pass the following variable as a keyword arg: x. From version 0.12, the only valid positional argument will be `data`, and passing other arguments without an explicit keyword will result in an error or misinterpretation.\n",
      "  warnings.warn(\n",
      "C:\\Users\\Amit Singh\\anaconda3\\lib\\site-packages\\seaborn\\_core.py:1319: UserWarning: Vertical orientation ignored with only `x` specified.\n",
      "  warnings.warn(single_var_warning.format(\"Vertical\", \"x\"))\n",
      "C:\\Users\\Amit Singh\\anaconda3\\lib\\site-packages\\seaborn\\_decorators.py:36: FutureWarning: Pass the following variable as a keyword arg: x. From version 0.12, the only valid positional argument will be `data`, and passing other arguments without an explicit keyword will result in an error or misinterpretation.\n",
      "  warnings.warn(\n",
      "C:\\Users\\Amit Singh\\anaconda3\\lib\\site-packages\\seaborn\\_core.py:1319: UserWarning: Vertical orientation ignored with only `x` specified.\n",
      "  warnings.warn(single_var_warning.format(\"Vertical\", \"x\"))\n",
      "C:\\Users\\Amit Singh\\anaconda3\\lib\\site-packages\\seaborn\\_decorators.py:36: FutureWarning: Pass the following variable as a keyword arg: x. From version 0.12, the only valid positional argument will be `data`, and passing other arguments without an explicit keyword will result in an error or misinterpretation.\n",
      "  warnings.warn(\n",
      "C:\\Users\\Amit Singh\\anaconda3\\lib\\site-packages\\seaborn\\_core.py:1319: UserWarning: Vertical orientation ignored with only `x` specified.\n",
      "  warnings.warn(single_var_warning.format(\"Vertical\", \"x\"))\n",
      "C:\\Users\\Amit Singh\\anaconda3\\lib\\site-packages\\seaborn\\_decorators.py:36: FutureWarning: Pass the following variable as a keyword arg: x. From version 0.12, the only valid positional argument will be `data`, and passing other arguments without an explicit keyword will result in an error or misinterpretation.\n",
      "  warnings.warn(\n",
      "C:\\Users\\Amit Singh\\anaconda3\\lib\\site-packages\\seaborn\\_core.py:1319: UserWarning: Vertical orientation ignored with only `x` specified.\n",
      "  warnings.warn(single_var_warning.format(\"Vertical\", \"x\"))\n",
      "C:\\Users\\Amit Singh\\anaconda3\\lib\\site-packages\\seaborn\\_decorators.py:36: FutureWarning: Pass the following variable as a keyword arg: x. From version 0.12, the only valid positional argument will be `data`, and passing other arguments without an explicit keyword will result in an error or misinterpretation.\n",
      "  warnings.warn(\n",
      "C:\\Users\\Amit Singh\\anaconda3\\lib\\site-packages\\seaborn\\_core.py:1319: UserWarning: Vertical orientation ignored with only `x` specified.\n",
      "  warnings.warn(single_var_warning.format(\"Vertical\", \"x\"))\n",
      "C:\\Users\\Amit Singh\\anaconda3\\lib\\site-packages\\seaborn\\_decorators.py:36: FutureWarning: Pass the following variable as a keyword arg: x. From version 0.12, the only valid positional argument will be `data`, and passing other arguments without an explicit keyword will result in an error or misinterpretation.\n",
      "  warnings.warn(\n",
      "C:\\Users\\Amit Singh\\anaconda3\\lib\\site-packages\\seaborn\\_core.py:1319: UserWarning: Vertical orientation ignored with only `x` specified.\n",
      "  warnings.warn(single_var_warning.format(\"Vertical\", \"x\"))\n",
      "C:\\Users\\Amit Singh\\anaconda3\\lib\\site-packages\\seaborn\\_decorators.py:36: FutureWarning: Pass the following variable as a keyword arg: x. From version 0.12, the only valid positional argument will be `data`, and passing other arguments without an explicit keyword will result in an error or misinterpretation.\n",
      "  warnings.warn(\n",
      "C:\\Users\\Amit Singh\\anaconda3\\lib\\site-packages\\seaborn\\_core.py:1319: UserWarning: Vertical orientation ignored with only `x` specified.\n",
      "  warnings.warn(single_var_warning.format(\"Vertical\", \"x\"))\n",
      "C:\\Users\\Amit Singh\\anaconda3\\lib\\site-packages\\seaborn\\_decorators.py:36: FutureWarning: Pass the following variable as a keyword arg: x. From version 0.12, the only valid positional argument will be `data`, and passing other arguments without an explicit keyword will result in an error or misinterpretation.\n",
      "  warnings.warn(\n",
      "C:\\Users\\Amit Singh\\anaconda3\\lib\\site-packages\\seaborn\\_core.py:1319: UserWarning: Vertical orientation ignored with only `x` specified.\n",
      "  warnings.warn(single_var_warning.format(\"Vertical\", \"x\"))\n"
     ]
    },
    {
     "data": {
      "image/png": "[encoded data removed]",
      "text/plain": [
       "<Figure size 1080x3600 with 10 Axes>"
      ]
     },
     "metadata": {
      "needs_background": "light"
     },
     "output_type": "display_data"
    }
   ],
   "source": [
    "#Visualize the outliers in the dataset by using boxplot\n",
    "\n",
    "plt.figure(figsize=(15,50))\n",
    "graph = 1\n",
    "\n",
    "for column in df_new:\n",
    "    if graph<=30 : \n",
    "        ax = plt.subplot(10,3, graph)\n",
    "        sns.boxplot(df_new[column], orient='v')\n",
    "        plt.xlabel(column, fontsize=10)\n",
    "    graph +=1\n",
    "plt.show()"
   ]
  },
  {
   "cell_type": "markdown",
   "id": "eed51595",
   "metadata": {},
   "source": [
    "# Outlier Detection"
   ]
  },
  {
   "cell_type": "code",
   "execution_count": 15,
   "id": "2e1a4091",
   "metadata": {},
   "outputs": [],
   "source": [
    "#Find the IQR to identify the outliers\n",
    "\n",
    "#1st quantile\n",
    "q1 = df_new.quantile(0.25)\n",
    "#3rd quantile\n",
    "q3 = df_new.quantile(0.75)\n",
    "#IQR\n",
    "IQR = q3-q1"
   ]
  },
  {
   "cell_type": "code",
   "execution_count": 16,
   "id": "b929039c",
   "metadata": {},
   "outputs": [
    {
     "name": "stdout",
     "output_type": "stream",
     "text": [
      "0.5488775\n",
      "(156, 10)\n"
     ]
    },
    {
     "data": {
      "text/html": [
       "<div>\n",
       "<style scoped>\n",
       "    .dataframe tbody tr th:only-of-type {\n",
       "        vertical-align: middle;\n",
       "    }\n",
       "\n",
       "    .dataframe tbody tr th {\n",
       "        vertical-align: top;\n",
       "    }\n",
       "\n",
       "    .dataframe thead th {\n",
       "        text-align: right;\n",
       "    }\n",
       "</style>\n",
       "<table border=\"1\" class=\"dataframe\">\n",
       "  <thead>\n",
       "    <tr style=\"text-align: right;\">\n",
       "      <th></th>\n",
       "      <th>index</th>\n",
       "      <th>Happiness_Rank</th>\n",
       "      <th>Happiness_Score</th>\n",
       "      <th>Standard_Error</th>\n",
       "      <th>Economy(GDP_per_Capita)</th>\n",
       "      <th>Family</th>\n",
       "      <th>Life_Expectancy</th>\n",
       "      <th>Freedom</th>\n",
       "      <th>Government_Corruption</th>\n",
       "      <th>Generosity</th>\n",
       "      <th>Dystopia_Residual</th>\n",
       "    </tr>\n",
       "  </thead>\n",
       "  <tbody>\n",
       "    <tr>\n",
       "      <th>0</th>\n",
       "      <td>0</td>\n",
       "      <td>1</td>\n",
       "      <td>7.587</td>\n",
       "      <td>0.03411</td>\n",
       "      <td>1.39651</td>\n",
       "      <td>1.34951</td>\n",
       "      <td>0.94143</td>\n",
       "      <td>0.66557</td>\n",
       "      <td>0.41978</td>\n",
       "      <td>0.29678</td>\n",
       "      <td>2.51738</td>\n",
       "    </tr>\n",
       "    <tr>\n",
       "      <th>1</th>\n",
       "      <td>1</td>\n",
       "      <td>2</td>\n",
       "      <td>7.561</td>\n",
       "      <td>0.04884</td>\n",
       "      <td>1.30232</td>\n",
       "      <td>1.40223</td>\n",
       "      <td>0.94784</td>\n",
       "      <td>0.62877</td>\n",
       "      <td>0.14145</td>\n",
       "      <td>0.43630</td>\n",
       "      <td>2.70201</td>\n",
       "    </tr>\n",
       "    <tr>\n",
       "      <th>2</th>\n",
       "      <td>2</td>\n",
       "      <td>3</td>\n",
       "      <td>7.527</td>\n",
       "      <td>0.03328</td>\n",
       "      <td>1.32548</td>\n",
       "      <td>1.36058</td>\n",
       "      <td>0.87464</td>\n",
       "      <td>0.64938</td>\n",
       "      <td>0.48357</td>\n",
       "      <td>0.34139</td>\n",
       "      <td>2.49204</td>\n",
       "    </tr>\n",
       "    <tr>\n",
       "      <th>3</th>\n",
       "      <td>3</td>\n",
       "      <td>4</td>\n",
       "      <td>7.522</td>\n",
       "      <td>0.03880</td>\n",
       "      <td>1.45900</td>\n",
       "      <td>1.33095</td>\n",
       "      <td>0.88521</td>\n",
       "      <td>0.66973</td>\n",
       "      <td>0.36503</td>\n",
       "      <td>0.34699</td>\n",
       "      <td>2.46531</td>\n",
       "    </tr>\n",
       "    <tr>\n",
       "      <th>4</th>\n",
       "      <td>4</td>\n",
       "      <td>5</td>\n",
       "      <td>7.427</td>\n",
       "      <td>0.03553</td>\n",
       "      <td>1.32629</td>\n",
       "      <td>1.32261</td>\n",
       "      <td>0.90563</td>\n",
       "      <td>0.63297</td>\n",
       "      <td>0.32957</td>\n",
       "      <td>0.45811</td>\n",
       "      <td>2.45176</td>\n",
       "    </tr>\n",
       "    <tr>\n",
       "      <th>...</th>\n",
       "      <td>...</td>\n",
       "      <td>...</td>\n",
       "      <td>...</td>\n",
       "      <td>...</td>\n",
       "      <td>...</td>\n",
       "      <td>...</td>\n",
       "      <td>...</td>\n",
       "      <td>...</td>\n",
       "      <td>...</td>\n",
       "      <td>...</td>\n",
       "      <td>...</td>\n",
       "    </tr>\n",
       "    <tr>\n",
       "      <th>151</th>\n",
       "      <td>153</td>\n",
       "      <td>154</td>\n",
       "      <td>3.465</td>\n",
       "      <td>0.03464</td>\n",
       "      <td>0.22208</td>\n",
       "      <td>0.77370</td>\n",
       "      <td>0.42864</td>\n",
       "      <td>0.59201</td>\n",
       "      <td>0.55191</td>\n",
       "      <td>0.22628</td>\n",
       "      <td>0.67042</td>\n",
       "    </tr>\n",
       "    <tr>\n",
       "      <th>152</th>\n",
       "      <td>154</td>\n",
       "      <td>155</td>\n",
       "      <td>3.340</td>\n",
       "      <td>0.03656</td>\n",
       "      <td>0.28665</td>\n",
       "      <td>0.35386</td>\n",
       "      <td>0.31910</td>\n",
       "      <td>0.48450</td>\n",
       "      <td>0.08010</td>\n",
       "      <td>0.18260</td>\n",
       "      <td>1.63328</td>\n",
       "    </tr>\n",
       "    <tr>\n",
       "      <th>153</th>\n",
       "      <td>155</td>\n",
       "      <td>156</td>\n",
       "      <td>3.006</td>\n",
       "      <td>0.05015</td>\n",
       "      <td>0.66320</td>\n",
       "      <td>0.47489</td>\n",
       "      <td>0.72193</td>\n",
       "      <td>0.15684</td>\n",
       "      <td>0.18906</td>\n",
       "      <td>0.47179</td>\n",
       "      <td>0.32858</td>\n",
       "    </tr>\n",
       "    <tr>\n",
       "      <th>154</th>\n",
       "      <td>156</td>\n",
       "      <td>157</td>\n",
       "      <td>2.905</td>\n",
       "      <td>0.08658</td>\n",
       "      <td>0.01530</td>\n",
       "      <td>0.41587</td>\n",
       "      <td>0.22396</td>\n",
       "      <td>0.11850</td>\n",
       "      <td>0.10062</td>\n",
       "      <td>0.19727</td>\n",
       "      <td>1.83302</td>\n",
       "    </tr>\n",
       "    <tr>\n",
       "      <th>155</th>\n",
       "      <td>157</td>\n",
       "      <td>158</td>\n",
       "      <td>2.839</td>\n",
       "      <td>0.06727</td>\n",
       "      <td>0.20868</td>\n",
       "      <td>0.13995</td>\n",
       "      <td>0.28443</td>\n",
       "      <td>0.36453</td>\n",
       "      <td>0.10731</td>\n",
       "      <td>0.16681</td>\n",
       "      <td>1.56726</td>\n",
       "    </tr>\n",
       "  </tbody>\n",
       "</table>\n",
       "<p>156 rows × 11 columns</p>\n",
       "</div>"
      ],
      "text/plain": [
       "     index  Happiness_Rank  Happiness_Score  Standard_Error  \\\n",
       "0        0               1            7.587         0.03411   \n",
       "1        1               2            7.561         0.04884   \n",
       "2        2               3            7.527         0.03328   \n",
       "3        3               4            7.522         0.03880   \n",
       "4        4               5            7.427         0.03553   \n",
       "..     ...             ...              ...             ...   \n",
       "151    153             154            3.465         0.03464   \n",
       "152    154             155            3.340         0.03656   \n",
       "153    155             156            3.006         0.05015   \n",
       "154    156             157            2.905         0.08658   \n",
       "155    157             158            2.839         0.06727   \n",
       "\n",
       "     Economy(GDP_per_Capita)   Family  Life_Expectancy  Freedom  \\\n",
       "0                    1.39651  1.34951          0.94143  0.66557   \n",
       "1                    1.30232  1.40223          0.94784  0.62877   \n",
       "2                    1.32548  1.36058          0.87464  0.64938   \n",
       "3                    1.45900  1.33095          0.88521  0.66973   \n",
       "4                    1.32629  1.32261          0.90563  0.63297   \n",
       "..                       ...      ...              ...      ...   \n",
       "151                  0.22208  0.77370          0.42864  0.59201   \n",
       "152                  0.28665  0.35386          0.31910  0.48450   \n",
       "153                  0.66320  0.47489          0.72193  0.15684   \n",
       "154                  0.01530  0.41587          0.22396  0.11850   \n",
       "155                  0.20868  0.13995          0.28443  0.36453   \n",
       "\n",
       "     Government_Corruption  Generosity  Dystopia_Residual  \n",
       "0                  0.41978     0.29678            2.51738  \n",
       "1                  0.14145     0.43630            2.70201  \n",
       "2                  0.48357     0.34139            2.49204  \n",
       "3                  0.36503     0.34699            2.46531  \n",
       "4                  0.32957     0.45811            2.45176  \n",
       "..                     ...         ...                ...  \n",
       "151                0.55191     0.22628            0.67042  \n",
       "152                0.08010     0.18260            1.63328  \n",
       "153                0.18906     0.47179            0.32858  \n",
       "154                0.10062     0.19727            1.83302  \n",
       "155                0.10731     0.16681            1.56726  \n",
       "\n",
       "[156 rows x 11 columns]"
      ]
     },
     "execution_count": 16,
     "metadata": {},
     "output_type": "execute_result"
    }
   ],
   "source": [
    "#Validating one outlier\n",
    "Generosity_high = (q3.Generosity + (1.5 * IQR.Generosity))\n",
    "print(Generosity_high)\n",
    "index = np.where(df_new['Generosity']>Generosity_high)\n",
    "data = df_new.drop(df_new.index[index])\n",
    "print(data.shape)\n",
    "data.reset_index()"
   ]
  },
  {
   "cell_type": "code",
   "execution_count": 17,
   "id": "7690c677",
   "metadata": {},
   "outputs": [
    {
     "name": "stdout",
     "output_type": "stream",
     "text": [
      "0.07484874999999999\n",
      "(148, 10)\n"
     ]
    },
    {
     "data": {
      "text/html": [
       "<div>\n",
       "<style scoped>\n",
       "    .dataframe tbody tr th:only-of-type {\n",
       "        vertical-align: middle;\n",
       "    }\n",
       "\n",
       "    .dataframe tbody tr th {\n",
       "        vertical-align: top;\n",
       "    }\n",
       "\n",
       "    .dataframe thead th {\n",
       "        text-align: right;\n",
       "    }\n",
       "</style>\n",
       "<table border=\"1\" class=\"dataframe\">\n",
       "  <thead>\n",
       "    <tr style=\"text-align: right;\">\n",
       "      <th></th>\n",
       "      <th>index</th>\n",
       "      <th>Happiness_Rank</th>\n",
       "      <th>Happiness_Score</th>\n",
       "      <th>Standard_Error</th>\n",
       "      <th>Economy(GDP_per_Capita)</th>\n",
       "      <th>Family</th>\n",
       "      <th>Life_Expectancy</th>\n",
       "      <th>Freedom</th>\n",
       "      <th>Government_Corruption</th>\n",
       "      <th>Generosity</th>\n",
       "      <th>Dystopia_Residual</th>\n",
       "    </tr>\n",
       "  </thead>\n",
       "  <tbody>\n",
       "    <tr>\n",
       "      <th>0</th>\n",
       "      <td>0</td>\n",
       "      <td>1</td>\n",
       "      <td>7.587</td>\n",
       "      <td>0.03411</td>\n",
       "      <td>1.39651</td>\n",
       "      <td>1.34951</td>\n",
       "      <td>0.94143</td>\n",
       "      <td>0.66557</td>\n",
       "      <td>0.41978</td>\n",
       "      <td>0.29678</td>\n",
       "      <td>2.51738</td>\n",
       "    </tr>\n",
       "    <tr>\n",
       "      <th>1</th>\n",
       "      <td>1</td>\n",
       "      <td>2</td>\n",
       "      <td>7.561</td>\n",
       "      <td>0.04884</td>\n",
       "      <td>1.30232</td>\n",
       "      <td>1.40223</td>\n",
       "      <td>0.94784</td>\n",
       "      <td>0.62877</td>\n",
       "      <td>0.14145</td>\n",
       "      <td>0.43630</td>\n",
       "      <td>2.70201</td>\n",
       "    </tr>\n",
       "    <tr>\n",
       "      <th>2</th>\n",
       "      <td>2</td>\n",
       "      <td>3</td>\n",
       "      <td>7.527</td>\n",
       "      <td>0.03328</td>\n",
       "      <td>1.32548</td>\n",
       "      <td>1.36058</td>\n",
       "      <td>0.87464</td>\n",
       "      <td>0.64938</td>\n",
       "      <td>0.48357</td>\n",
       "      <td>0.34139</td>\n",
       "      <td>2.49204</td>\n",
       "    </tr>\n",
       "    <tr>\n",
       "      <th>3</th>\n",
       "      <td>3</td>\n",
       "      <td>4</td>\n",
       "      <td>7.522</td>\n",
       "      <td>0.03880</td>\n",
       "      <td>1.45900</td>\n",
       "      <td>1.33095</td>\n",
       "      <td>0.88521</td>\n",
       "      <td>0.66973</td>\n",
       "      <td>0.36503</td>\n",
       "      <td>0.34699</td>\n",
       "      <td>2.46531</td>\n",
       "    </tr>\n",
       "    <tr>\n",
       "      <th>4</th>\n",
       "      <td>4</td>\n",
       "      <td>5</td>\n",
       "      <td>7.427</td>\n",
       "      <td>0.03553</td>\n",
       "      <td>1.32629</td>\n",
       "      <td>1.32261</td>\n",
       "      <td>0.90563</td>\n",
       "      <td>0.63297</td>\n",
       "      <td>0.32957</td>\n",
       "      <td>0.45811</td>\n",
       "      <td>2.45176</td>\n",
       "    </tr>\n",
       "    <tr>\n",
       "      <th>...</th>\n",
       "      <td>...</td>\n",
       "      <td>...</td>\n",
       "      <td>...</td>\n",
       "      <td>...</td>\n",
       "      <td>...</td>\n",
       "      <td>...</td>\n",
       "      <td>...</td>\n",
       "      <td>...</td>\n",
       "      <td>...</td>\n",
       "      <td>...</td>\n",
       "      <td>...</td>\n",
       "    </tr>\n",
       "    <tr>\n",
       "      <th>143</th>\n",
       "      <td>152</td>\n",
       "      <td>153</td>\n",
       "      <td>3.575</td>\n",
       "      <td>0.03084</td>\n",
       "      <td>0.31982</td>\n",
       "      <td>0.30285</td>\n",
       "      <td>0.30335</td>\n",
       "      <td>0.23414</td>\n",
       "      <td>0.09719</td>\n",
       "      <td>0.36510</td>\n",
       "      <td>1.95210</td>\n",
       "    </tr>\n",
       "    <tr>\n",
       "      <th>144</th>\n",
       "      <td>153</td>\n",
       "      <td>154</td>\n",
       "      <td>3.465</td>\n",
       "      <td>0.03464</td>\n",
       "      <td>0.22208</td>\n",
       "      <td>0.77370</td>\n",
       "      <td>0.42864</td>\n",
       "      <td>0.59201</td>\n",
       "      <td>0.55191</td>\n",
       "      <td>0.22628</td>\n",
       "      <td>0.67042</td>\n",
       "    </tr>\n",
       "    <tr>\n",
       "      <th>145</th>\n",
       "      <td>154</td>\n",
       "      <td>155</td>\n",
       "      <td>3.340</td>\n",
       "      <td>0.03656</td>\n",
       "      <td>0.28665</td>\n",
       "      <td>0.35386</td>\n",
       "      <td>0.31910</td>\n",
       "      <td>0.48450</td>\n",
       "      <td>0.08010</td>\n",
       "      <td>0.18260</td>\n",
       "      <td>1.63328</td>\n",
       "    </tr>\n",
       "    <tr>\n",
       "      <th>146</th>\n",
       "      <td>155</td>\n",
       "      <td>156</td>\n",
       "      <td>3.006</td>\n",
       "      <td>0.05015</td>\n",
       "      <td>0.66320</td>\n",
       "      <td>0.47489</td>\n",
       "      <td>0.72193</td>\n",
       "      <td>0.15684</td>\n",
       "      <td>0.18906</td>\n",
       "      <td>0.47179</td>\n",
       "      <td>0.32858</td>\n",
       "    </tr>\n",
       "    <tr>\n",
       "      <th>147</th>\n",
       "      <td>157</td>\n",
       "      <td>158</td>\n",
       "      <td>2.839</td>\n",
       "      <td>0.06727</td>\n",
       "      <td>0.20868</td>\n",
       "      <td>0.13995</td>\n",
       "      <td>0.28443</td>\n",
       "      <td>0.36453</td>\n",
       "      <td>0.10731</td>\n",
       "      <td>0.16681</td>\n",
       "      <td>1.56726</td>\n",
       "    </tr>\n",
       "  </tbody>\n",
       "</table>\n",
       "<p>148 rows × 11 columns</p>\n",
       "</div>"
      ],
      "text/plain": [
       "     index  Happiness_Rank  Happiness_Score  Standard_Error  \\\n",
       "0        0               1            7.587         0.03411   \n",
       "1        1               2            7.561         0.04884   \n",
       "2        2               3            7.527         0.03328   \n",
       "3        3               4            7.522         0.03880   \n",
       "4        4               5            7.427         0.03553   \n",
       "..     ...             ...              ...             ...   \n",
       "143    152             153            3.575         0.03084   \n",
       "144    153             154            3.465         0.03464   \n",
       "145    154             155            3.340         0.03656   \n",
       "146    155             156            3.006         0.05015   \n",
       "147    157             158            2.839         0.06727   \n",
       "\n",
       "     Economy(GDP_per_Capita)   Family  Life_Expectancy  Freedom  \\\n",
       "0                    1.39651  1.34951          0.94143  0.66557   \n",
       "1                    1.30232  1.40223          0.94784  0.62877   \n",
       "2                    1.32548  1.36058          0.87464  0.64938   \n",
       "3                    1.45900  1.33095          0.88521  0.66973   \n",
       "4                    1.32629  1.32261          0.90563  0.63297   \n",
       "..                       ...      ...              ...      ...   \n",
       "143                  0.31982  0.30285          0.30335  0.23414   \n",
       "144                  0.22208  0.77370          0.42864  0.59201   \n",
       "145                  0.28665  0.35386          0.31910  0.48450   \n",
       "146                  0.66320  0.47489          0.72193  0.15684   \n",
       "147                  0.20868  0.13995          0.28443  0.36453   \n",
       "\n",
       "     Government_Corruption  Generosity  Dystopia_Residual  \n",
       "0                  0.41978     0.29678            2.51738  \n",
       "1                  0.14145     0.43630            2.70201  \n",
       "2                  0.48357     0.34139            2.49204  \n",
       "3                  0.36503     0.34699            2.46531  \n",
       "4                  0.32957     0.45811            2.45176  \n",
       "..                     ...         ...                ...  \n",
       "143                0.09719     0.36510            1.95210  \n",
       "144                0.55191     0.22628            0.67042  \n",
       "145                0.08010     0.18260            1.63328  \n",
       "146                0.18906     0.47179            0.32858  \n",
       "147                0.10731     0.16681            1.56726  \n",
       "\n",
       "[148 rows x 11 columns]"
      ]
     },
     "execution_count": 17,
     "metadata": {},
     "output_type": "execute_result"
    }
   ],
   "source": [
    "#Validating one outlier\n",
    "StandardError_high = (q3.Standard_Error + (1.5 * IQR.Standard_Error))\n",
    "print(StandardError_high)\n",
    "index = np.where(df_new['Standard_Error']>StandardError_high)\n",
    "data = df_new.drop(df_new.index[index])\n",
    "print(data.shape)\n",
    "data.reset_index()"
   ]
  },
  {
   "cell_type": "code",
   "execution_count": 18,
   "id": "8ad3eeb7",
   "metadata": {},
   "outputs": [
    {
     "name": "stdout",
     "output_type": "stream",
     "text": [
      "0.35812499999999997\n",
      "(144, 10)\n"
     ]
    },
    {
     "data": {
      "text/html": [
       "<div>\n",
       "<style scoped>\n",
       "    .dataframe tbody tr th:only-of-type {\n",
       "        vertical-align: middle;\n",
       "    }\n",
       "\n",
       "    .dataframe tbody tr th {\n",
       "        vertical-align: top;\n",
       "    }\n",
       "\n",
       "    .dataframe thead th {\n",
       "        text-align: right;\n",
       "    }\n",
       "</style>\n",
       "<table border=\"1\" class=\"dataframe\">\n",
       "  <thead>\n",
       "    <tr style=\"text-align: right;\">\n",
       "      <th></th>\n",
       "      <th>index</th>\n",
       "      <th>Happiness_Rank</th>\n",
       "      <th>Happiness_Score</th>\n",
       "      <th>Standard_Error</th>\n",
       "      <th>Economy(GDP_per_Capita)</th>\n",
       "      <th>Family</th>\n",
       "      <th>Life_Expectancy</th>\n",
       "      <th>Freedom</th>\n",
       "      <th>Government_Corruption</th>\n",
       "      <th>Generosity</th>\n",
       "      <th>Dystopia_Residual</th>\n",
       "    </tr>\n",
       "  </thead>\n",
       "  <tbody>\n",
       "    <tr>\n",
       "      <th>0</th>\n",
       "      <td>1</td>\n",
       "      <td>2</td>\n",
       "      <td>7.561</td>\n",
       "      <td>0.04884</td>\n",
       "      <td>1.30232</td>\n",
       "      <td>1.40223</td>\n",
       "      <td>0.94784</td>\n",
       "      <td>0.62877</td>\n",
       "      <td>0.14145</td>\n",
       "      <td>0.43630</td>\n",
       "      <td>2.70201</td>\n",
       "    </tr>\n",
       "    <tr>\n",
       "      <th>1</th>\n",
       "      <td>4</td>\n",
       "      <td>5</td>\n",
       "      <td>7.427</td>\n",
       "      <td>0.03553</td>\n",
       "      <td>1.32629</td>\n",
       "      <td>1.32261</td>\n",
       "      <td>0.90563</td>\n",
       "      <td>0.63297</td>\n",
       "      <td>0.32957</td>\n",
       "      <td>0.45811</td>\n",
       "      <td>2.45176</td>\n",
       "    </tr>\n",
       "    <tr>\n",
       "      <th>2</th>\n",
       "      <td>6</td>\n",
       "      <td>7</td>\n",
       "      <td>7.378</td>\n",
       "      <td>0.02799</td>\n",
       "      <td>1.32944</td>\n",
       "      <td>1.28017</td>\n",
       "      <td>0.89284</td>\n",
       "      <td>0.61576</td>\n",
       "      <td>0.31814</td>\n",
       "      <td>0.47610</td>\n",
       "      <td>2.46570</td>\n",
       "    </tr>\n",
       "    <tr>\n",
       "      <th>3</th>\n",
       "      <td>9</td>\n",
       "      <td>10</td>\n",
       "      <td>7.284</td>\n",
       "      <td>0.04083</td>\n",
       "      <td>1.33358</td>\n",
       "      <td>1.30923</td>\n",
       "      <td>0.93156</td>\n",
       "      <td>0.65124</td>\n",
       "      <td>0.35637</td>\n",
       "      <td>0.43562</td>\n",
       "      <td>2.26646</td>\n",
       "    </tr>\n",
       "    <tr>\n",
       "      <th>4</th>\n",
       "      <td>10</td>\n",
       "      <td>11</td>\n",
       "      <td>7.278</td>\n",
       "      <td>0.03470</td>\n",
       "      <td>1.22857</td>\n",
       "      <td>1.22393</td>\n",
       "      <td>0.91387</td>\n",
       "      <td>0.41319</td>\n",
       "      <td>0.07785</td>\n",
       "      <td>0.33172</td>\n",
       "      <td>3.08854</td>\n",
       "    </tr>\n",
       "    <tr>\n",
       "      <th>...</th>\n",
       "      <td>...</td>\n",
       "      <td>...</td>\n",
       "      <td>...</td>\n",
       "      <td>...</td>\n",
       "      <td>...</td>\n",
       "      <td>...</td>\n",
       "      <td>...</td>\n",
       "      <td>...</td>\n",
       "      <td>...</td>\n",
       "      <td>...</td>\n",
       "      <td>...</td>\n",
       "    </tr>\n",
       "    <tr>\n",
       "      <th>139</th>\n",
       "      <td>152</td>\n",
       "      <td>153</td>\n",
       "      <td>3.575</td>\n",
       "      <td>0.03084</td>\n",
       "      <td>0.31982</td>\n",
       "      <td>0.30285</td>\n",
       "      <td>0.30335</td>\n",
       "      <td>0.23414</td>\n",
       "      <td>0.09719</td>\n",
       "      <td>0.36510</td>\n",
       "      <td>1.95210</td>\n",
       "    </tr>\n",
       "    <tr>\n",
       "      <th>140</th>\n",
       "      <td>154</td>\n",
       "      <td>155</td>\n",
       "      <td>3.340</td>\n",
       "      <td>0.03656</td>\n",
       "      <td>0.28665</td>\n",
       "      <td>0.35386</td>\n",
       "      <td>0.31910</td>\n",
       "      <td>0.48450</td>\n",
       "      <td>0.08010</td>\n",
       "      <td>0.18260</td>\n",
       "      <td>1.63328</td>\n",
       "    </tr>\n",
       "    <tr>\n",
       "      <th>141</th>\n",
       "      <td>155</td>\n",
       "      <td>156</td>\n",
       "      <td>3.006</td>\n",
       "      <td>0.05015</td>\n",
       "      <td>0.66320</td>\n",
       "      <td>0.47489</td>\n",
       "      <td>0.72193</td>\n",
       "      <td>0.15684</td>\n",
       "      <td>0.18906</td>\n",
       "      <td>0.47179</td>\n",
       "      <td>0.32858</td>\n",
       "    </tr>\n",
       "    <tr>\n",
       "      <th>142</th>\n",
       "      <td>156</td>\n",
       "      <td>157</td>\n",
       "      <td>2.905</td>\n",
       "      <td>0.08658</td>\n",
       "      <td>0.01530</td>\n",
       "      <td>0.41587</td>\n",
       "      <td>0.22396</td>\n",
       "      <td>0.11850</td>\n",
       "      <td>0.10062</td>\n",
       "      <td>0.19727</td>\n",
       "      <td>1.83302</td>\n",
       "    </tr>\n",
       "    <tr>\n",
       "      <th>143</th>\n",
       "      <td>157</td>\n",
       "      <td>158</td>\n",
       "      <td>2.839</td>\n",
       "      <td>0.06727</td>\n",
       "      <td>0.20868</td>\n",
       "      <td>0.13995</td>\n",
       "      <td>0.28443</td>\n",
       "      <td>0.36453</td>\n",
       "      <td>0.10731</td>\n",
       "      <td>0.16681</td>\n",
       "      <td>1.56726</td>\n",
       "    </tr>\n",
       "  </tbody>\n",
       "</table>\n",
       "<p>144 rows × 11 columns</p>\n",
       "</div>"
      ],
      "text/plain": [
       "     index  Happiness_Rank  Happiness_Score  Standard_Error  \\\n",
       "0        1               2            7.561         0.04884   \n",
       "1        4               5            7.427         0.03553   \n",
       "2        6               7            7.378         0.02799   \n",
       "3        9              10            7.284         0.04083   \n",
       "4       10              11            7.278         0.03470   \n",
       "..     ...             ...              ...             ...   \n",
       "139    152             153            3.575         0.03084   \n",
       "140    154             155            3.340         0.03656   \n",
       "141    155             156            3.006         0.05015   \n",
       "142    156             157            2.905         0.08658   \n",
       "143    157             158            2.839         0.06727   \n",
       "\n",
       "     Economy(GDP_per_Capita)   Family  Life_Expectancy  Freedom  \\\n",
       "0                    1.30232  1.40223          0.94784  0.62877   \n",
       "1                    1.32629  1.32261          0.90563  0.63297   \n",
       "2                    1.32944  1.28017          0.89284  0.61576   \n",
       "3                    1.33358  1.30923          0.93156  0.65124   \n",
       "4                    1.22857  1.22393          0.91387  0.41319   \n",
       "..                       ...      ...              ...      ...   \n",
       "139                  0.31982  0.30285          0.30335  0.23414   \n",
       "140                  0.28665  0.35386          0.31910  0.48450   \n",
       "141                  0.66320  0.47489          0.72193  0.15684   \n",
       "142                  0.01530  0.41587          0.22396  0.11850   \n",
       "143                  0.20868  0.13995          0.28443  0.36453   \n",
       "\n",
       "     Government_Corruption  Generosity  Dystopia_Residual  \n",
       "0                  0.14145     0.43630            2.70201  \n",
       "1                  0.32957     0.45811            2.45176  \n",
       "2                  0.31814     0.47610            2.46570  \n",
       "3                  0.35637     0.43562            2.26646  \n",
       "4                  0.07785     0.33172            3.08854  \n",
       "..                     ...         ...                ...  \n",
       "139                0.09719     0.36510            1.95210  \n",
       "140                0.08010     0.18260            1.63328  \n",
       "141                0.18906     0.47179            0.32858  \n",
       "142                0.10062     0.19727            1.83302  \n",
       "143                0.10731     0.16681            1.56726  \n",
       "\n",
       "[144 rows x 11 columns]"
      ]
     },
     "execution_count": 18,
     "metadata": {},
     "output_type": "execute_result"
    }
   ],
   "source": [
    "#Validating one outlier\n",
    "Trust_high = (q3.Government_Corruption + (1.5 * IQR.Government_Corruption))\n",
    "print(Trust_high)\n",
    "index = np.where(df_new['Government_Corruption']>Trust_high)\n",
    "data = df_new.drop(df_new.index[index])\n",
    "print(data.shape)\n",
    "data.reset_index()"
   ]
  },
  {
   "cell_type": "code",
   "execution_count": 19,
   "id": "8aaf3d38",
   "metadata": {},
   "outputs": [
    {
     "name": "stdout",
     "output_type": "stream",
     "text": [
      "0.6780312500000001\n",
      "(138, 10)\n"
     ]
    },
    {
     "data": {
      "text/html": [
       "<div>\n",
       "<style scoped>\n",
       "    .dataframe tbody tr th:only-of-type {\n",
       "        vertical-align: middle;\n",
       "    }\n",
       "\n",
       "    .dataframe tbody tr th {\n",
       "        vertical-align: top;\n",
       "    }\n",
       "\n",
       "    .dataframe thead th {\n",
       "        text-align: right;\n",
       "    }\n",
       "</style>\n",
       "<table border=\"1\" class=\"dataframe\">\n",
       "  <thead>\n",
       "    <tr style=\"text-align: right;\">\n",
       "      <th></th>\n",
       "      <th>index</th>\n",
       "      <th>Happiness_Rank</th>\n",
       "      <th>Happiness_Score</th>\n",
       "      <th>Standard_Error</th>\n",
       "      <th>Economy(GDP_per_Capita)</th>\n",
       "      <th>Family</th>\n",
       "      <th>Life_Expectancy</th>\n",
       "      <th>Freedom</th>\n",
       "      <th>Government_Corruption</th>\n",
       "      <th>Generosity</th>\n",
       "      <th>Dystopia_Residual</th>\n",
       "    </tr>\n",
       "  </thead>\n",
       "  <tbody>\n",
       "    <tr>\n",
       "      <th>0</th>\n",
       "      <td>0</td>\n",
       "      <td>1</td>\n",
       "      <td>7.587</td>\n",
       "      <td>0.03411</td>\n",
       "      <td>1.39651</td>\n",
       "      <td>1.34951</td>\n",
       "      <td>0.94143</td>\n",
       "      <td>0.66557</td>\n",
       "      <td>0.41978</td>\n",
       "      <td>0.29678</td>\n",
       "      <td>2.51738</td>\n",
       "    </tr>\n",
       "    <tr>\n",
       "      <th>1</th>\n",
       "      <td>1</td>\n",
       "      <td>2</td>\n",
       "      <td>7.561</td>\n",
       "      <td>0.04884</td>\n",
       "      <td>1.30232</td>\n",
       "      <td>1.40223</td>\n",
       "      <td>0.94784</td>\n",
       "      <td>0.62877</td>\n",
       "      <td>0.14145</td>\n",
       "      <td>0.43630</td>\n",
       "      <td>2.70201</td>\n",
       "    </tr>\n",
       "    <tr>\n",
       "      <th>2</th>\n",
       "      <td>2</td>\n",
       "      <td>3</td>\n",
       "      <td>7.527</td>\n",
       "      <td>0.03328</td>\n",
       "      <td>1.32548</td>\n",
       "      <td>1.36058</td>\n",
       "      <td>0.87464</td>\n",
       "      <td>0.64938</td>\n",
       "      <td>0.48357</td>\n",
       "      <td>0.34139</td>\n",
       "      <td>2.49204</td>\n",
       "    </tr>\n",
       "    <tr>\n",
       "      <th>3</th>\n",
       "      <td>3</td>\n",
       "      <td>4</td>\n",
       "      <td>7.522</td>\n",
       "      <td>0.03880</td>\n",
       "      <td>1.45900</td>\n",
       "      <td>1.33095</td>\n",
       "      <td>0.88521</td>\n",
       "      <td>0.66973</td>\n",
       "      <td>0.36503</td>\n",
       "      <td>0.34699</td>\n",
       "      <td>2.46531</td>\n",
       "    </tr>\n",
       "    <tr>\n",
       "      <th>4</th>\n",
       "      <td>4</td>\n",
       "      <td>5</td>\n",
       "      <td>7.427</td>\n",
       "      <td>0.03553</td>\n",
       "      <td>1.32629</td>\n",
       "      <td>1.32261</td>\n",
       "      <td>0.90563</td>\n",
       "      <td>0.63297</td>\n",
       "      <td>0.32957</td>\n",
       "      <td>0.45811</td>\n",
       "      <td>2.45176</td>\n",
       "    </tr>\n",
       "    <tr>\n",
       "      <th>...</th>\n",
       "      <td>...</td>\n",
       "      <td>...</td>\n",
       "      <td>...</td>\n",
       "      <td>...</td>\n",
       "      <td>...</td>\n",
       "      <td>...</td>\n",
       "      <td>...</td>\n",
       "      <td>...</td>\n",
       "      <td>...</td>\n",
       "      <td>...</td>\n",
       "      <td>...</td>\n",
       "    </tr>\n",
       "    <tr>\n",
       "      <th>133</th>\n",
       "      <td>145</td>\n",
       "      <td>146</td>\n",
       "      <td>3.781</td>\n",
       "      <td>0.05061</td>\n",
       "      <td>0.28520</td>\n",
       "      <td>1.00268</td>\n",
       "      <td>0.38215</td>\n",
       "      <td>0.32878</td>\n",
       "      <td>0.05747</td>\n",
       "      <td>0.34377</td>\n",
       "      <td>1.38079</td>\n",
       "    </tr>\n",
       "    <tr>\n",
       "      <th>134</th>\n",
       "      <td>148</td>\n",
       "      <td>149</td>\n",
       "      <td>3.667</td>\n",
       "      <td>0.03830</td>\n",
       "      <td>0.34193</td>\n",
       "      <td>0.76062</td>\n",
       "      <td>0.15010</td>\n",
       "      <td>0.23501</td>\n",
       "      <td>0.05269</td>\n",
       "      <td>0.18386</td>\n",
       "      <td>1.94296</td>\n",
       "    </tr>\n",
       "    <tr>\n",
       "      <th>135</th>\n",
       "      <td>150</td>\n",
       "      <td>151</td>\n",
       "      <td>3.655</td>\n",
       "      <td>0.05141</td>\n",
       "      <td>0.46534</td>\n",
       "      <td>0.77115</td>\n",
       "      <td>0.15185</td>\n",
       "      <td>0.46866</td>\n",
       "      <td>0.17922</td>\n",
       "      <td>0.20165</td>\n",
       "      <td>1.41723</td>\n",
       "    </tr>\n",
       "    <tr>\n",
       "      <th>136</th>\n",
       "      <td>151</td>\n",
       "      <td>152</td>\n",
       "      <td>3.587</td>\n",
       "      <td>0.04324</td>\n",
       "      <td>0.25812</td>\n",
       "      <td>0.85188</td>\n",
       "      <td>0.27125</td>\n",
       "      <td>0.39493</td>\n",
       "      <td>0.12832</td>\n",
       "      <td>0.21747</td>\n",
       "      <td>1.46494</td>\n",
       "    </tr>\n",
       "    <tr>\n",
       "      <th>137</th>\n",
       "      <td>153</td>\n",
       "      <td>154</td>\n",
       "      <td>3.465</td>\n",
       "      <td>0.03464</td>\n",
       "      <td>0.22208</td>\n",
       "      <td>0.77370</td>\n",
       "      <td>0.42864</td>\n",
       "      <td>0.59201</td>\n",
       "      <td>0.55191</td>\n",
       "      <td>0.22628</td>\n",
       "      <td>0.67042</td>\n",
       "    </tr>\n",
       "  </tbody>\n",
       "</table>\n",
       "<p>138 rows × 11 columns</p>\n",
       "</div>"
      ],
      "text/plain": [
       "     index  Happiness_Rank  Happiness_Score  Standard_Error  \\\n",
       "0        0               1            7.587         0.03411   \n",
       "1        1               2            7.561         0.04884   \n",
       "2        2               3            7.527         0.03328   \n",
       "3        3               4            7.522         0.03880   \n",
       "4        4               5            7.427         0.03553   \n",
       "..     ...             ...              ...             ...   \n",
       "133    145             146            3.781         0.05061   \n",
       "134    148             149            3.667         0.03830   \n",
       "135    150             151            3.655         0.05141   \n",
       "136    151             152            3.587         0.04324   \n",
       "137    153             154            3.465         0.03464   \n",
       "\n",
       "     Economy(GDP_per_Capita)   Family  Life_Expectancy  Freedom  \\\n",
       "0                    1.39651  1.34951          0.94143  0.66557   \n",
       "1                    1.30232  1.40223          0.94784  0.62877   \n",
       "2                    1.32548  1.36058          0.87464  0.64938   \n",
       "3                    1.45900  1.33095          0.88521  0.66973   \n",
       "4                    1.32629  1.32261          0.90563  0.63297   \n",
       "..                       ...      ...              ...      ...   \n",
       "133                  0.28520  1.00268          0.38215  0.32878   \n",
       "134                  0.34193  0.76062          0.15010  0.23501   \n",
       "135                  0.46534  0.77115          0.15185  0.46866   \n",
       "136                  0.25812  0.85188          0.27125  0.39493   \n",
       "137                  0.22208  0.77370          0.42864  0.59201   \n",
       "\n",
       "     Government_Corruption  Generosity  Dystopia_Residual  \n",
       "0                  0.41978     0.29678            2.51738  \n",
       "1                  0.14145     0.43630            2.70201  \n",
       "2                  0.48357     0.34139            2.49204  \n",
       "3                  0.36503     0.34699            2.46531  \n",
       "4                  0.32957     0.45811            2.45176  \n",
       "..                     ...         ...                ...  \n",
       "133                0.05747     0.34377            1.38079  \n",
       "134                0.05269     0.18386            1.94296  \n",
       "135                0.17922     0.20165            1.41723  \n",
       "136                0.12832     0.21747            1.46494  \n",
       "137                0.55191     0.22628            0.67042  \n",
       "\n",
       "[138 rows x 11 columns]"
      ]
     },
     "execution_count": 19,
     "metadata": {},
     "output_type": "execute_result"
    }
   ],
   "source": [
    "#Validating one outlier\n",
    "Family_low = (q3.Family - (1.5 * IQR.Family))\n",
    "print(Family_low)\n",
    "index = np.where(df_new['Family']<Family_low)\n",
    "data = df_new.drop(df_new.index[index])\n",
    "print(data.shape)\n",
    "data.reset_index()"
   ]
  },
  {
   "cell_type": "markdown",
   "id": "9f77ac6b",
   "metadata": {},
   "source": [
    "# Dividing data in feature and vectors"
   ]
  },
  {
   "cell_type": "code",
   "execution_count": 20,
   "id": "c09cfe16",
   "metadata": {},
   "outputs": [],
   "source": [
    "x = data.drop([\"Happiness_Score\"], axis=1)\n",
    "y = data[\"Happiness_Score\"]"
   ]
  },
  {
   "cell_type": "code",
   "execution_count": 21,
   "id": "f0391658",
   "metadata": {},
   "outputs": [
    {
     "data": {
      "text/plain": [
       "array([[-1.64594629, -0.81207322,  1.28859477, ...,  2.19959977,\n",
       "         0.46726625,  0.74477984],\n",
       "       [-1.62274264,  0.05171494,  1.04145773, ..., -0.03987431,\n",
       "         1.557273  ,  1.08744241],\n",
       "       [-1.59953898, -0.8607456 ,  1.10222526, ...,  2.71286119,\n",
       "         0.81578403,  0.69775027],\n",
       "       ...,\n",
       "       [ 1.8346021 ,  0.20242339, -1.15462207, ...,  0.2640273 ,\n",
       "        -0.27594147, -1.29703475],\n",
       "       [ 1.85780576, -0.27667703, -1.69832879, ..., -0.14551975,\n",
       "        -0.15234696, -1.20848776],\n",
       "       [ 1.90421307, -0.78099326, -1.79289105, ...,  3.26273242,\n",
       "        -0.08351841, -2.6830708 ]])"
      ]
     },
     "execution_count": 21,
     "metadata": {},
     "output_type": "execute_result"
    }
   ],
   "source": [
    "from sklearn.preprocessing import StandardScaler\n",
    "scalar = StandardScaler()\n",
    "x_scaled = scalar.fit_transform(x)\n",
    "x_scaled"
   ]
  },
  {
   "cell_type": "markdown",
   "id": "da72b5eb",
   "metadata": {},
   "source": [
    "# This is how data looks after scaling. Now we will check for multicollinearity using VIF(Variance Inflation Factor)"
   ]
  },
  {
   "cell_type": "code",
   "execution_count": 22,
   "id": "f848e959",
   "metadata": {},
   "outputs": [
    {
     "data": {
      "text/plain": [
       "9"
      ]
     },
     "execution_count": 22,
     "metadata": {},
     "output_type": "execute_result"
    }
   ],
   "source": [
    "x_scaled.shape[1]"
   ]
  },
  {
   "cell_type": "markdown",
   "id": "b939a7b0",
   "metadata": {},
   "source": [
    "# Checking Multicollinearity Using Variance Inflation Factor"
   ]
  },
  {
   "cell_type": "markdown",
   "id": "cf738bef",
   "metadata": {},
   "source": [
    "Finding Variance Inflation Factor in each scaled column i.e X_scaled.shape[1](1/1-R2))"
   ]
  },
  {
   "cell_type": "code",
   "execution_count": 23,
   "id": "9248218e",
   "metadata": {},
   "outputs": [
    {
     "data": {
      "text/html": [
       "<div>\n",
       "<style scoped>\n",
       "    .dataframe tbody tr th:only-of-type {\n",
       "        vertical-align: middle;\n",
       "    }\n",
       "\n",
       "    .dataframe tbody tr th {\n",
       "        vertical-align: top;\n",
       "    }\n",
       "\n",
       "    .dataframe thead th {\n",
       "        text-align: right;\n",
       "    }\n",
       "</style>\n",
       "<table border=\"1\" class=\"dataframe\">\n",
       "  <thead>\n",
       "    <tr style=\"text-align: right;\">\n",
       "      <th></th>\n",
       "      <th>vif</th>\n",
       "      <th>Features</th>\n",
       "    </tr>\n",
       "  </thead>\n",
       "  <tbody>\n",
       "    <tr>\n",
       "      <th>0</th>\n",
       "      <td>87.803592</td>\n",
       "      <td>Happiness_Rank</td>\n",
       "    </tr>\n",
       "    <tr>\n",
       "      <th>1</th>\n",
       "      <td>1.200924</td>\n",
       "      <td>Standard_Error</td>\n",
       "    </tr>\n",
       "    <tr>\n",
       "      <th>2</th>\n",
       "      <td>14.015969</td>\n",
       "      <td>Economy(GDP_per_Capita)</td>\n",
       "    </tr>\n",
       "    <tr>\n",
       "      <th>3</th>\n",
       "      <td>4.574120</td>\n",
       "      <td>Family</td>\n",
       "    </tr>\n",
       "    <tr>\n",
       "      <th>4</th>\n",
       "      <td>9.007107</td>\n",
       "      <td>Life_Expectancy</td>\n",
       "    </tr>\n",
       "    <tr>\n",
       "      <th>5</th>\n",
       "      <td>4.355906</td>\n",
       "      <td>Freedom</td>\n",
       "    </tr>\n",
       "    <tr>\n",
       "      <th>6</th>\n",
       "      <td>2.225915</td>\n",
       "      <td>Government_Corruption</td>\n",
       "    </tr>\n",
       "    <tr>\n",
       "      <th>7</th>\n",
       "      <td>2.051114</td>\n",
       "      <td>Generosity</td>\n",
       "    </tr>\n",
       "    <tr>\n",
       "      <th>8</th>\n",
       "      <td>22.669722</td>\n",
       "      <td>Dystopia_Residual</td>\n",
       "    </tr>\n",
       "  </tbody>\n",
       "</table>\n",
       "</div>"
      ],
      "text/plain": [
       "         vif                 Features\n",
       "0  87.803592           Happiness_Rank\n",
       "1   1.200924           Standard_Error\n",
       "2  14.015969  Economy(GDP_per_Capita)\n",
       "3   4.574120                   Family\n",
       "4   9.007107          Life_Expectancy\n",
       "5   4.355906                  Freedom\n",
       "6   2.225915    Government_Corruption\n",
       "7   2.051114               Generosity\n",
       "8  22.669722        Dystopia_Residual"
      ]
     },
     "execution_count": 23,
     "metadata": {},
     "output_type": "execute_result"
    }
   ],
   "source": [
    "from statsmodels.stats.outliers_influence import variance_inflation_factor\n",
    "vif = pd.DataFrame()\n",
    "vif['vif'] = [variance_inflation_factor(x_scaled, i) for i in range(x_scaled.shape[1])]\n",
    "vif['Features'] = x.columns\n",
    "#lets check the values\n",
    "vif"
   ]
  },
  {
   "cell_type": "markdown",
   "id": "4394f05c",
   "metadata": {},
   "source": [
    "Observed VIF values are greater than value 5 for feature Happiness_Rank, Economy, Dystopia_Residual and Life_Expectancy, other than these feature are less than value 5, Which means that we have multicollinearity in the datasets. The multicollinearity issues will be handled by Lasso method in regression "
   ]
  },
  {
   "cell_type": "code",
   "execution_count": 24,
   "id": "8c325a97",
   "metadata": {},
   "outputs": [],
   "source": [
    "#Split data in train and test \n",
    "from sklearn.model_selection import train_test_split\n",
    "X_train, X_test, y_train, y_test = train_test_split(x_scaled, y, test_size=0.25, random_state=323)"
   ]
  },
  {
   "cell_type": "code",
   "execution_count": 25,
   "id": "a3a05177",
   "metadata": {},
   "outputs": [
    {
     "data": {
      "text/plain": [
       "array([[ 1.40735218e-01, -3.54083707e-01, -6.58694992e-01,\n",
       "        -9.08485487e-01, -2.05299519e+00, -6.41056997e-01,\n",
       "        -8.53738441e-01,  2.76249445e-01,  1.44226141e+00],\n",
       "       [-1.50672436e+00, -1.17095872e+00,  1.11261557e+00,\n",
       "         1.17015906e+00,  9.77396280e-01,  1.18356011e+00,\n",
       "         1.38179305e+00,  1.86821242e+00,  6.48864760e-01],\n",
       "       [-7.17800053e-01,  3.57665083e+00,  8.04028807e-01,\n",
       "         6.35745271e-01, -1.72322093e-01,  8.02320822e-01,\n",
       "        -1.08627105e+00,  6.36486049e-01,  2.83466898e-01],\n",
       "       [ 1.18489974e+00,  1.33244360e+00, -1.50909933e+00,\n",
       "        -6.24272255e-01, -2.71496929e+00, -2.05297550e-01,\n",
       "        -4.71065401e-01, -1.72581457e-01,  7.31250025e-01],\n",
       "       [-1.84115966e-01, -9.73923541e-01,  6.09368050e-01,\n",
       "         9.26816343e-01,  5.27747422e-02, -4.83993379e-01,\n",
       "        -9.36211079e-01, -1.83579487e+00,  2.92969321e-01],\n",
       "       [ 1.06888146e+00,  1.14009973e+00, -1.00839692e+00,\n",
       "        -3.01677240e-01, -1.18986896e+00, -2.26547659e+00,\n",
       "         1.56316113e-03, -3.62113880e-01,  1.71646393e-01],\n",
       "       [ 1.13849242e+00, -6.97136027e-01, -1.43109334e+00,\n",
       "        -1.12876595e+00, -3.62928617e-01, -3.76627502e-01,\n",
       "        -7.02712937e-01,  6.71798767e-01, -2.96422180e-01],\n",
       "       [ 1.23130705e+00, -3.62471980e-02, -1.41865646e+00,\n",
       "        -3.86183529e-01, -1.00141291e+00, -1.13202677e-01,\n",
       "        -7.08184292e-01,  1.08164505e+00, -6.13454193e-01],\n",
       "       [ 1.46334361e+00, -9.00621763e-01, -6.19085098e-02,\n",
       "        -1.77854631e+00, -1.62851732e-01, -1.78276550e+00,\n",
       "        -6.69160654e-01, -9.69227011e-01, -9.59179070e-01],\n",
       "       [ 1.53295458e+00,  4.72760348e-01, -1.69145440e+00,\n",
       "        -1.84319684e-01, -1.86375339e+00, -3.38115101e-01,\n",
       "        -1.84141081e-01, -3.82739008e-01, -5.99757341e-01],\n",
       "       [ 2.47169379e-02, -4.59051853e-01,  6.46363827e-01,\n",
       "         8.81134279e-01,  4.84317177e-01,  6.58297546e-02,\n",
       "         4.37247829e-02, -1.17321265e+00, -9.80429606e-01],\n",
       "       [-9.96243925e-01, -7.52845378e-01,  9.77069337e-01,\n",
       "         1.06071014e+00,  1.19637253e+00,  7.43848950e-01,\n",
       "         4.83203367e-01, -8.87898383e-01,  1.76638877e-01],\n",
       "       [-1.04265124e+00,  5.88870364e-01,  5.29367963e-01,\n",
       "         3.09057674e-01,  8.35671707e-01,  1.51943192e-02,\n",
       "        -1.42542687e-01,  7.55158658e-01,  1.03889097e+00],\n",
       "       [-1.18187317e+00, -1.71808319e+00,  9.47131620e-01,\n",
       "         1.19952610e+00,  1.04600470e+00,  1.05288585e+00,\n",
       "         1.40214971e+00,  2.20430825e+00, -2.71237047e-01],\n",
       "       [ 6.97622961e-01,  1.56096667e-01,  6.52451075e-01,\n",
       "        -7.70167275e-01,  9.33104767e-01, -2.42501840e+00,\n",
       "        -1.06559254e+00, -1.85134184e+00, -5.84761330e-01],\n",
       "       [-9.26632957e-01, -1.50597971e-01,  4.10010667e-01,\n",
       "         7.75999164e-01,  6.41425917e-01,  1.10224870e+00,\n",
       "         7.97967230e-01, -3.57056104e-02,  3.81089448e-01],\n",
       "       [-5.78578118e-01, -4.09206644e-01,  8.90037428e-01,\n",
       "        -6.13045307e-01,  1.27738754e+00, -7.16474326e-01,\n",
       "        -5.45813772e-01, -4.01567249e-01,  1.92451503e-01],\n",
       "       [ 1.63938874e-01, -9.21146260e-01, -3.54148907e-01,\n",
       "         1.95571480e-01, -3.40886248e-01,  6.22953499e-01,\n",
       "         6.47251327e-02,  1.89852511e+00, -8.87409792e-01],\n",
       "       [ 1.83460210e+00,  2.02423391e-01, -1.15462207e+00,\n",
       "        -1.64498434e+00, -2.08698924e+00,  1.98312415e-01,\n",
       "         2.64027303e-01, -2.75941472e-01, -1.29703475e+00],\n",
       "       [-1.01944758e+00,  8.56861664e-01,  2.05975992e+00,\n",
       "         5.53728917e-02,  5.82411921e-01,  1.34859412e+00,\n",
       "         3.02271693e+00,  6.93439526e-01, -1.03811228e+00],\n",
       "       [ 1.67217651e+00, -7.00068098e-01, -2.19349496e+00,\n",
       "        -1.63668857e+00, -1.48642774e+00,  2.53636316e-01,\n",
       "         8.03345881e-02, -3.36723098e-01, -4.40443280e-01],\n",
       "       [ 6.28011993e-01,  1.11547034e+00, -8.25805702e-01,\n",
       "        -1.82815504e+00, -4.44191759e-01,  1.05060860e+00,\n",
       "         7.73104747e-01,  1.44492855e+00, -7.01722795e-01],\n",
       "       [-4.48940300e-02, -3.64052749e-01,  1.39259306e-01,\n",
       "         8.74331744e-01, -4.86498219e-01,  2.48144113e-01,\n",
       "         1.30374577e+00, -5.24849262e-01, -4.57016842e-01],\n",
       "       [-6.48189086e-01, -2.54979703e-01, -7.16182756e-01,\n",
       "         1.50342797e+00, -2.43080991e-01,  1.46788209e+00,\n",
       "         1.30229747e+00, -6.71901802e-02,  2.25171760e-01],\n",
       "       [-6.94596398e-01,  4.82142975e-01, -3.69576933e-01,\n",
       "        -2.40675645e-01,  8.63138811e-02, -2.38116814e-01,\n",
       "        -2.30486681e-01, -1.01602418e+00,  1.70545254e+00],\n",
       "       [-3.69745214e-01, -5.58742271e-01,  6.34530426e-01,\n",
       "         1.04450573e+00,  3.09260241e-01, -1.51123633e+00,\n",
       "        -1.09504131e+00, -1.64501244e+00,  6.13212114e-01],\n",
       "       [-1.29789145e+00, -4.22107757e-01,  1.99003549e-01,\n",
       "         9.08565640e-01,  1.67577023e-01,  3.44525583e-01,\n",
       "         2.31762398e-01, -7.12741049e-01,  2.12305805e+00],\n",
       "       [-3.92948870e-01, -3.19485268e-01,  7.33579403e-01,\n",
       "         1.13520620e+00,  8.96877534e-01,  1.13526890e+00,\n",
       "        -8.73290491e-01,  1.27420399e-01, -9.28444670e-01],\n",
       "       [ 4.79205939e-02, -1.29000081e+00, -2.02361270e-01,\n",
       "         1.02271670e-01, -7.67913764e-02,  1.81233002e-01,\n",
       "        -1.17799672e+00,  2.17485494e+00, -4.67874103e-01],\n",
       "       [ 6.04808337e-01,  1.55410817e+00, -2.63033546e-02,\n",
       "         5.72033723e-01,  4.85978580e-02,  9.22077645e-01,\n",
       "        -3.27132718e-02, -1.57268863e-01, -1.67598099e+00],\n",
       "       [-1.39070608e+00, -2.00443180e-01,  1.32201246e-01,\n",
       "         9.36273526e-01,  8.42702106e-01,  1.30412067e+00,\n",
       "        -3.26476785e-01,  1.40623606e-01,  1.96951597e+00],\n",
       "       [-1.22828049e+00, -7.04172998e-01,  1.05588871e+00,\n",
       "         1.20052159e+00,  9.93235356e-01,  9.74186599e-01,\n",
       "         6.35596710e-01, -1.13049839e-01,  5.54471550e-01],\n",
       "       [-7.64207365e-01, -1.99270352e-01,  1.70239646e+00,\n",
       "         5.38408184e-01,  2.82958277e-01,  7.76534258e-01,\n",
       "         8.82531857e-01, -5.83521500e-01, -4.44953219e-01],\n",
       "       [-8.33818333e-01, -7.78647604e-01,  8.51992126e-01,\n",
       "         1.35609502e+00,  1.23702478e+00,  1.37027463e-01,\n",
       "        -6.63206532e-01, -4.27348659e-01,  1.40769166e-02],\n",
       "       [-4.16152526e-01, -3.99824016e-01,  5.69748460e-01,\n",
       "         2.97664810e-01, -5.30120856e-02,  5.18668615e-01,\n",
       "        -4.97778489e-01, -9.27351752e-01,  2.43508467e-01],\n",
       "       [ 1.71858382e+00,  1.55510253e-01, -1.62727591e+00,\n",
       "        -3.64503905e-01, -1.13457694e+00, -7.38577095e-01,\n",
       "        -7.15586715e-01,  8.34377898e-01, -1.36466528e+00],\n",
       "       [-2.16903741e-02,  1.40809103e+00,  2.68193523e-01,\n",
       "        -4.61122025e-01,  2.19188423e-01,  8.14510834e-01,\n",
       "        -5.72848705e-01,  1.09742640e+00, -6.58182396e-01],\n",
       "       [ 4.88790058e-01,  3.40230733e-01,  3.44117002e-02,\n",
       "        -3.66494891e-01,  3.26505396e-01, -6.99796782e-01,\n",
       "        -7.49380381e-01, -1.04534161e-01, -6.99235833e-01],\n",
       "       [-1.59953898e+00, -8.60745596e-01,  1.10222526e+00,\n",
       "         1.61486787e+00,  9.02129656e-01,  1.40874044e+00,\n",
       "         2.71286119e+00,  8.15784033e-01,  6.97750272e-01],\n",
       "       [ 1.48654726e+00, -2.51461218e-01, -9.41699565e-01,\n",
       "        -2.14394752e+00, -1.05811102e+00, -5.58205101e-01,\n",
       "        -5.46055155e-01, -1.13797806e+00, -3.58113693e-01],\n",
       "       [ 1.09208511e+00,  1.48667054e+00, -1.67573775e+00,\n",
       "        -1.80055776e+00, -1.10844040e+00, -1.30474288e+00,\n",
       "         2.03922853e-01,  1.75703986e+00,  2.33189429e-01],\n",
       "       [-2.53726934e-01, -2.73158544e-01,  5.75835708e-01,\n",
       "         9.08247034e-03,  2.78905459e-01,  6.10763487e-01,\n",
       "        -3.33074596e-01,  7.32658519e-01, -4.28119825e-01],\n",
       "       [-7.87411021e-01, -5.44081915e-01,  1.01170368e+00,\n",
       "         4.19337371e-02,  9.04859105e-01, -2.78973448e-01,\n",
       "        -5.23928350e-01,  1.31170422e-01,  3.84448703e-01],\n",
       "       [-6.80976860e-02,  1.30294441e-01, -2.72653246e-01,\n",
       "        -1.41917336e+00, -1.04127222e-01, -1.28304198e+00,\n",
       "        -7.96530592e-01,  3.60390590e-01,  1.20581440e+00],\n",
       "       [-1.15866952e+00,  3.16187750e-01,  1.19308794e+00,\n",
       "         7.31811541e-02,  4.39446689e-01,  1.29728890e+00,\n",
       "         1.43892043e+00, -1.68362681e-01,  6.65920867e-01],\n",
       "       [-3.23337902e-01, -1.06030491e-01, -1.36565713e-02,\n",
       "        -5.19856108e-01,  3.04669804e-01, -1.61359924e-01,\n",
       "        -6.96115126e-01, -6.80865852e-01,  8.87910090e-01],\n",
       "       [-8.10614677e-01, -3.45873908e-01,  7.92405311e-01,\n",
       "         1.29105615e+00,  9.54113253e-01,  1.10244964e+00,\n",
       "        -8.48520713e-02,  2.19180817e+00, -8.67254262e-01],\n",
       "       [-1.13546586e+00,  9.85286378e-01,  3.64303828e-01,\n",
       "         1.03626526e+00,  2.64761951e-01, -6.67868618e-02,\n",
       "        -2.87372686e-01, -1.39501090e+00,  1.99555484e+00],\n",
       "       [-1.62274264e+00,  5.17149355e-02,  1.04145773e+00,\n",
       "         1.84521388e+00,  1.20485037e+00,  1.27069860e+00,\n",
       "        -3.98743106e-02,  1.55727300e+00,  1.08744241e+00],\n",
       "       [-7.41003709e-01,  2.94097781e+00,  2.35999326e-01,\n",
       "        -5.34180145e-01, -1.99740649e-01,  1.05502915e+00,\n",
       "        -8.10703991e-02, -5.23911756e-01,  1.25249134e+00],\n",
       "       [-9.49836613e-01, -3.68157648e-01,  7.17836519e-01,\n",
       "         7.62338789e-01,  7.78849541e-01,  1.64689414e-01,\n",
       "        -9.64613851e-01, -1.01649293e+00,  1.04254718e+00],\n",
       "       [-6.71392742e-01,  2.51095771e-01, -4.19455636e-01,\n",
       "        -1.38416399e-01, -5.06548341e-02,  9.26163309e-01,\n",
       "        -4.15869079e-01,  2.96249568e-01,  1.16268230e+00],\n",
       "       [ 7.67233929e-01,  4.99735402e-01, -8.13578729e-01,\n",
       "        -6.36605306e-01,  1.59636807e-01, -2.51646388e-01,\n",
       "        -6.28849638e-01, -5.23463384e-02, -5.04825908e-01],\n",
       "       [-1.32109511e+00, -5.61087928e-01,  1.28334714e+00,\n",
       "         9.87320192e-01,  8.48988110e-01,  7.16588868e-01,\n",
       "         1.00530327e-01,  1.28188067e+00,  7.31287144e-01],\n",
       "       [ 3.26364466e-01,  1.06210664e+00,  3.62231015e-01,\n",
       "        -1.01046821e+00,  4.64838836e-01, -5.91895080e-01,\n",
       "        -1.12577745e+00, -7.77272699e-01, -3.42969206e-01],\n",
       "       [-1.34429876e+00, -3.63466334e-01,  3.02119437e-01,\n",
       "        -8.52129526e-01,  6.53170819e-01,  2.86388602e-01,\n",
       "         5.36790467e-01, -7.51803791e-01,  2.75803149e+00],\n",
       "       [ 1.32412167e+00, -2.60843845e-01, -1.66432416e+00,\n",
       "        -1.98842940e+00, -7.19742045e-01,  7.49183901e-03,\n",
       "         3.53500057e-01,  4.36650913e+00, -1.29551288e+00],\n",
       "       [ 9.29659521e-01,  2.55787085e-01,  2.10154758e-01,\n",
       "        -1.38095749e+00, -2.23850782e-01, -2.94068271e+00,\n",
       "        -6.85989270e-02, -4.51176931e-01, -3.02027125e-01],\n",
       "       [ 1.62576920e+00, -6.96549613e-01, -1.41794803e+00,\n",
       "        -5.11007281e-01, -9.14360033e-01, -4.77764416e-01,\n",
       "        -3.16016841e-01, -2.22972394e-01, -1.24744398e+00],\n",
       "       [ 1.51328191e-03,  1.49646111e-01,  1.26112344e+00,\n",
       "        -5.75602509e-02,  1.47547937e+00,  1.05174723e+00,\n",
       "         1.80904154e+00,  1.23289599e+00, -2.71300714e+00],\n",
       "       [ 7.11242499e-02, -9.90343139e-01, -7.16917424e-01,\n",
       "        -8.64573188e-01,  3.73278227e-01,  1.04076282e+00,\n",
       "        -3.37902263e-01, -5.34146194e-01,  1.58951749e-01],\n",
       "       [ 2.79957154e-01, -1.39086405e+00, -4.00783778e-02,\n",
       "        -6.73825681e-01,  6.62020851e-01,  5.21883563e-01,\n",
       "        -9.54234368e-01, -1.21188476e+00, -4.74536934e-01],\n",
       "       [ 1.60256554e+00, -2.80781929e-01, -1.82191043e+00,\n",
       "         3.56177673e-01, -1.31463787e+00,  1.22024371e-01,\n",
       "        -5.93285827e-01,  4.19453456e-01, -1.27767728e+00],\n",
       "       [-5.55374462e-01, -1.57048528e-01, -1.08559922e-01,\n",
       "        -3.84690289e-01,  5.55200141e-01,  3.12710991e-01,\n",
       "         2.77544769e-01, -9.49695641e-01,  7.85684804e-01],\n",
       "       [-3.46541558e-01,  3.37298662e-01, -8.19010024e-01,\n",
       "         4.05122742e-01,  3.58307613e-01,  7.74926784e-01,\n",
       "         3.76270552e-01,  3.21718476e-01,  3.86007694e-01],\n",
       "       [-1.57633532e+00, -5.37044944e-01,  1.45255690e+00,\n",
       "         1.45099868e+00,  9.45842195e-01,  1.54504085e+00,\n",
       "         1.75907519e+00,  8.59534304e-01,  6.48140942e-01],\n",
       "       [ 1.78819479e+00, -5.66365656e-01, -1.47842695e+00,\n",
       "        -1.70322068e+00, -2.09422641e+00, -1.36663064e+00,\n",
       "        -7.54047125e-01, -4.14926707e-01, -3.21310363e-01],\n",
       "       [ 3.95975434e-01, -9.13701349e-02,  5.45032132e-01,\n",
       "         1.49502279e-01,  2.80683737e-01, -9.53375827e-01,\n",
       "        -6.68516965e-01, -4.27426784e-01, -9.16715117e-01],\n",
       "       [ 1.44013995e+00,  1.88757390e-02,  2.80131876e-01,\n",
       "         2.07683310e-01,  4.54872211e-01, -8.92023897e-01,\n",
       "        -1.10783463e+00, -9.20007957e-01, -2.25715067e+00],\n",
       "       [-2.07319622e-01,  1.78046406e+00,  5.93126642e-01,\n",
       "         2.76704154e-01,  1.95615908e-01, -1.49839692e-01,\n",
       "        -2.91073897e-01, -4.22036126e-01, -4.71877289e-02],\n",
       "       [-5.08967150e-01, -5.17106861e-01,  9.07170934e-01,\n",
       "         7.14444518e-01,  1.23222757e+00, -1.18344556e+00,\n",
       "        -9.44579034e-01, -6.82839370e-02, -1.68714811e-01],\n",
       "       [ 1.85780576e+00, -2.76677029e-01, -1.69832879e+00,\n",
       "        -1.19850576e+00, -1.59320709e+00, -2.95517036e-01,\n",
       "        -1.45519748e-01, -1.52346957e-01, -1.20848776e+00],\n",
       "       [-1.36750242e+00, -6.12692379e-01,  1.13305508e+00,\n",
       "         1.26345887e+00,  9.67388301e-01,  1.24096033e+00,\n",
       "         3.24694980e-01,  7.33674150e-01,  7.74140845e-01],\n",
       "       [ 1.64897286e+00, -1.45906658e-01,  4.06284851e-01,\n",
       "        -9.03176192e-01, -9.21307721e-01, -8.03143973e-01,\n",
       "        -2.85602541e-01, -1.31836980e+00, -2.07333817e+00],\n",
       "       [-1.11226221e+00, -5.95686367e-01,  1.61748985e+00,\n",
       "        -2.68715363e-01,  1.52498165e+00,  6.93012581e-01,\n",
       "         2.78149452e+00,  5.78751316e-01, -4.28862202e-01],\n",
       "       [-1.06585489e+00, -1.72863865e+00,  1.10862737e+00,\n",
       "         1.27634497e+00,  9.73343462e-01,  1.17692927e+00,\n",
       "         5.79515316e-01,  3.52890544e-01, -7.33500557e-04],\n",
       "       [ 1.57936189e+00,  6.96898062e-04, -1.74833869e+00,\n",
       "        -1.52563580e+00, -1.21315199e+00, -1.40574584e+00,\n",
       "         4.23179379e-01, -4.88755289e-01, -2.93174282e-01],\n",
       "       [-2.76930590e-01, -3.12448297e-01,  5.77646140e-01,\n",
       "         1.16634300e+00,  5.06731743e-01,  6.17327340e-01,\n",
       "        -8.39094519e-01, -5.42036868e-01, -4.64793239e-01],\n",
       "       [ 3.03160810e-01,  1.28553046e+00, -1.14139804e+00,\n",
       "        -8.43225395e-01, -1.47745364e+00,  3.29656447e-01,\n",
       "        -1.74807593e-01, -3.20785499e-01,  9.61776581e-01],\n",
       "       [ 1.50975092e+00, -2.21732566e-02, -3.87313916e-01,\n",
       "        -1.15138576e+00, -2.02503901e+00, -2.24518223e+00,\n",
       "        -6.04952688e-01, -8.86960877e-01, -3.09376656e-01],\n",
       "       [ 8.36844897e-01, -2.35628034e-01, -8.04788953e-01,\n",
       "        -7.90906711e-01,  1.51000744e-02, -1.29978650e+00,\n",
       "        -1.39646087e-01, -9.72352031e-01, -1.34082933e-01],\n",
       "       [-4.39356182e-01, -1.36524030e-01, -3.81882621e-01,\n",
       "         1.30620976e+00,  1.85325634e-02,  6.69369315e-01,\n",
       "        -5.14836245e-01,  8.23674707e-01,  1.35251370e-01],\n",
       "       [ 1.87142530e-01, -8.40221098e-01,  3.10909214e-01,\n",
       "        -7.22604835e-01, -6.63698437e-02, -4.60484069e-01,\n",
       "         1.14611021e-01, -1.24204120e+00, -2.14092593e-01],\n",
       "       [ 9.06455865e-01, -2.25072578e-01, -2.78976638e-01,\n",
       "         7.42152404e-01,  7.19635960e-02, -1.25799218e+00,\n",
       "        -9.39751368e-01, -6.57975086e-01, -1.01090417e+00],\n",
       "       [ 5.58401025e-01,  1.24154939e+00, -1.91970967e-01,\n",
       "        -8.26412625e-01,  5.55448273e-01, -2.32147027e+00,\n",
       "        -1.15973204e+00,  8.67951475e-02, -9.72796035e-02],\n",
       "       [ 5.11993713e-01,  1.81799458e+00, -2.15760119e+00,\n",
       "        -2.34094331e-01, -2.33735415e+00, -6.60949490e-01,\n",
       "         7.74379881e-02, -1.11565455e-01,  1.73583431e+00],\n",
       "       [-1.55313167e+00, -7.28802395e-01,  1.10435055e+00,\n",
       "         1.40487417e+00,  1.03028969e+00,  1.29882940e+00,\n",
       "         1.47376010e+00,  1.72766468e+00,  6.22992928e-01],\n",
       "       [-8.57021989e-01, -9.54750345e-02,  1.28570857e+00,\n",
       "         8.48505435e-02,  2.63645358e-01, -8.61146998e-01,\n",
       "         1.43892043e+00, -7.80553969e-01,  5.98791445e-01],\n",
       "       [ 1.20810339e+00, -4.97755191e-01, -1.18419245e+00,\n",
       "        -1.10338088e+00, -1.23138967e+00, -1.31766965e+00,\n",
       "         2.26934731e-01, -1.40393758e-01,  3.05262113e-03],\n",
       "       [-9.03429301e-01,  1.49646111e-01,  3.46740816e-02,\n",
       "         9.48993714e-01,  1.41729968e-01,  6.40367803e-01,\n",
       "        -7.66035831e-01, -4.13754825e-01,  1.37578156e+00],\n",
       "       [-1.64594629e+00, -8.12073215e-01,  1.28859477e+00,\n",
       "         1.55364506e+00,  1.17834163e+00,  1.51717797e+00,\n",
       "         2.19959977e+00,  4.67266252e-01,  7.44779843e-01],\n",
       "       [ 1.30091802e+00,  8.10356466e-02,  2.31302699e-01,\n",
       "         1.99387536e-01, -2.51745643e+00,  3.74397811e-01,\n",
       "        -1.74324826e-01, -1.03407116e+00, -1.21429686e+00],\n",
       "       [-1.41390973e+00, -7.77474776e-01,  8.47951453e-01,\n",
       "         8.59122824e-01,  1.06436645e+00, -1.73215045e-01,\n",
       "        -5.51606972e-01,  7.40236691e-01,  1.80481968e+00],\n",
       "       [-1.37708654e-01,  4.92112017e-01,  7.94137029e-01,\n",
       "         8.25289289e-03,  1.10443973e+00,  3.43052065e-01,\n",
       "        -2.90120608e-02,  1.93123930e-01, -9.59902887e-01],\n",
       "       [-6.01781774e-01, -7.12382797e-01,  9.58597687e-01,\n",
       "         1.04268066e+00,  1.38379470e+00,  3.82435182e-01,\n",
       "         2.75130936e-01, -1.01500854e+00, -8.01275524e-01],\n",
       "       [ 5.81604681e-01,  2.72224531e+00, -1.39047670e+00,\n",
       "        -1.52408605e-01, -2.40017283e+00, -8.12989752e-01,\n",
       "        -1.71910993e-01, -5.71021423e-01,  1.26618819e+00],\n",
       "       [ 3.72771778e-01,  3.62896918e-03,  6.67800387e-01,\n",
       "         3.91351756e-01,  9.04404196e-01,  5.06612559e-01,\n",
       "        -1.09125964e+00, -7.79538338e-01, -1.58027006e+00],\n",
       "       [ 4.19179090e-01,  8.10356466e-02, -5.24959195e-01,\n",
       "        -1.84872736e-01, -3.11648059e-01,  1.24846187e+00,\n",
       "        -1.90014742e-01,  1.01092111e-01, -6.72751540e-01],\n",
       "       [-1.46031704e+00, -8.35529784e-01,  9.04652072e-01,\n",
       "         1.38861445e+00,  1.04162104e+00,  1.34176235e+00,\n",
       "         2.27555506e+00,  1.85969674e+00,  2.74985243e-01],\n",
       "       [-3.00134246e-01, -5.03032919e-01,  3.31978440e-01,\n",
       "         9.08676250e-01,  3.29110779e-01, -3.99667964e-01,\n",
       "         3.58005880e-01, -9.88367755e-01,  2.74953773e-02],\n",
       "       [-4.62559838e-01, -5.84544496e-01, -8.15782733e-01,\n",
       "        -2.94819400e-01, -1.58137229e-01, -7.42595781e-01,\n",
       "        -1.04805202e+00, -2.14534842e-01,  1.83930308e+00],\n",
       "       [-6.24985430e-01, -3.10102640e-01,  6.91414713e-01,\n",
       "         1.11385840e+00,  5.48045676e-01, -8.14061402e-01,\n",
       "        -9.01934646e-01, -5.31568053e-01,  2.41838119e-01],\n",
       "       [-5.32170806e-01,  3.61341645e-01,  1.09771230e+00,\n",
       "         8.16593154e-01,  3.74932439e-01,  1.06284520e-01,\n",
       "         1.28411326e+00, -4.94927202e-01, -7.01759914e-01]])"
      ]
     },
     "execution_count": 25,
     "metadata": {},
     "output_type": "execute_result"
    }
   ],
   "source": [
    "X_train"
   ]
  },
  {
   "cell_type": "code",
   "execution_count": 26,
   "id": "8359f615",
   "metadata": {},
   "outputs": [
    {
     "data": {
      "text/plain": [
       "77     5.268\n",
       "6      7.378\n",
       "40     6.168\n",
       "122    4.507\n",
       "63     5.716\n",
       "       ...  \n",
       "8      7.286\n",
       "58     5.813\n",
       "51     5.889\n",
       "44     5.995\n",
       "48     5.960\n",
       "Name: Happiness_Score, Length: 103, dtype: float64"
      ]
     },
     "execution_count": 26,
     "metadata": {},
     "output_type": "execute_result"
    }
   ],
   "source": [
    "y_train"
   ]
  },
  {
   "cell_type": "markdown",
   "id": "b11ea032",
   "metadata": {},
   "source": [
    "# Model Instantiating and training"
   ]
  },
  {
   "cell_type": "markdown",
   "id": "5934a96e",
   "metadata": {},
   "source": [
    "Since Target/Labelled data shows continous Variable so the dataset belongs to a Regression model"
   ]
  },
  {
   "cell_type": "code",
   "execution_count": 27,
   "id": "36019d88",
   "metadata": {},
   "outputs": [
    {
     "data": {
      "text/plain": [
       "LinearRegression()"
      ]
     },
     "execution_count": 27,
     "metadata": {},
     "output_type": "execute_result"
    }
   ],
   "source": [
    "from sklearn.linear_model import LinearRegression\n",
    "regression = LinearRegression()\n",
    "regression.fit(X_train, y_train)"
   ]
  },
  {
   "cell_type": "markdown",
   "id": "7a693ef4",
   "metadata": {},
   "source": [
    "# Predict the Happiness score from testing dataset"
   ]
  },
  {
   "cell_type": "code",
   "execution_count": 28,
   "id": "87ef23af",
   "metadata": {},
   "outputs": [
    {
     "data": {
      "text/html": [
       "<div>\n",
       "<style scoped>\n",
       "    .dataframe tbody tr th:only-of-type {\n",
       "        vertical-align: middle;\n",
       "    }\n",
       "\n",
       "    .dataframe tbody tr th {\n",
       "        vertical-align: top;\n",
       "    }\n",
       "\n",
       "    .dataframe thead th {\n",
       "        text-align: right;\n",
       "    }\n",
       "</style>\n",
       "<table border=\"1\" class=\"dataframe\">\n",
       "  <thead>\n",
       "    <tr style=\"text-align: right;\">\n",
       "      <th></th>\n",
       "      <th>Country</th>\n",
       "      <th>Region</th>\n",
       "      <th>Happiness_Rank</th>\n",
       "      <th>Happiness_Score</th>\n",
       "      <th>Standard_Error</th>\n",
       "      <th>Economy(GDP_per_Capita)</th>\n",
       "      <th>Family</th>\n",
       "      <th>Life_Expectancy</th>\n",
       "      <th>Freedom</th>\n",
       "      <th>Government_Corruption</th>\n",
       "      <th>Generosity</th>\n",
       "      <th>Dystopia_Residual</th>\n",
       "    </tr>\n",
       "  </thead>\n",
       "  <tbody>\n",
       "    <tr>\n",
       "      <th>156</th>\n",
       "      <td>Burundi</td>\n",
       "      <td>Sub-Saharan Africa</td>\n",
       "      <td>157</td>\n",
       "      <td>2.905</td>\n",
       "      <td>0.08658</td>\n",
       "      <td>0.01530</td>\n",
       "      <td>0.41587</td>\n",
       "      <td>0.22396</td>\n",
       "      <td>0.11850</td>\n",
       "      <td>0.10062</td>\n",
       "      <td>0.19727</td>\n",
       "      <td>1.83302</td>\n",
       "    </tr>\n",
       "    <tr>\n",
       "      <th>157</th>\n",
       "      <td>Togo</td>\n",
       "      <td>Sub-Saharan Africa</td>\n",
       "      <td>158</td>\n",
       "      <td>2.839</td>\n",
       "      <td>0.06727</td>\n",
       "      <td>0.20868</td>\n",
       "      <td>0.13995</td>\n",
       "      <td>0.28443</td>\n",
       "      <td>0.36453</td>\n",
       "      <td>0.10731</td>\n",
       "      <td>0.16681</td>\n",
       "      <td>1.56726</td>\n",
       "    </tr>\n",
       "  </tbody>\n",
       "</table>\n",
       "</div>"
      ],
      "text/plain": [
       "     Country              Region  Happiness_Rank  Happiness_Score  \\\n",
       "156  Burundi  Sub-Saharan Africa             157            2.905   \n",
       "157     Togo  Sub-Saharan Africa             158            2.839   \n",
       "\n",
       "     Standard_Error  Economy(GDP_per_Capita)   Family  Life_Expectancy  \\\n",
       "156         0.08658                  0.01530  0.41587          0.22396   \n",
       "157         0.06727                  0.20868  0.13995          0.28443   \n",
       "\n",
       "     Freedom  Government_Corruption  Generosity  Dystopia_Residual  \n",
       "156  0.11850                0.10062     0.19727            1.83302  \n",
       "157  0.36453                0.10731     0.16681            1.56726  "
      ]
     },
     "execution_count": 28,
     "metadata": {},
     "output_type": "execute_result"
    }
   ],
   "source": [
    "df.tail(2)"
   ]
  },
  {
   "cell_type": "code",
   "execution_count": 29,
   "id": "52a8a009",
   "metadata": {},
   "outputs": [
    {
     "name": "stdout",
     "output_type": "stream",
     "text": [
      "Happiness Score : [2.83885758]\n"
     ]
    }
   ],
   "source": [
    "print('Happiness Score :', regression.predict(scalar.transform([[158,0.06727,0.20868,0.13995,0.28443,0.36453,0.10731,0.16681,1.56726]])))"
   ]
  },
  {
   "cell_type": "markdown",
   "id": "65cf1cd4",
   "metadata": {},
   "source": [
    "# Save the model and later you can use it for prediction"
   ]
  },
  {
   "cell_type": "code",
   "execution_count": 30,
   "id": "454f02c5",
   "metadata": {},
   "outputs": [],
   "source": [
    "#Saving the model to the local file system\n",
    "import pickle\n",
    "filename = 'World Happiness Score.pickle'\n",
    "pickle.dump(regression, open(filename, 'wb'))\n"
   ]
  },
  {
   "cell_type": "markdown",
   "id": "38d93b87",
   "metadata": {},
   "source": [
    "Saved regression model as name of World Happiness Score.pickle"
   ]
  },
  {
   "cell_type": "code",
   "execution_count": 31,
   "id": "d0e98c17",
   "metadata": {},
   "outputs": [
    {
     "data": {
      "text/plain": [
       "array([2.90468618])"
      ]
     },
     "execution_count": 31,
     "metadata": {},
     "output_type": "execute_result"
    }
   ],
   "source": [
    "#Prediction using the saved model\n",
    "loaded_model = pickle.load(open(filename, 'rb'))\n",
    "a = loaded_model.predict(scalar.transform([[157, 0.08658,0.01530,0.41587,0.22396,0.11850,0.10062,0.19727,1.83302]]))\n",
    "a"
   ]
  },
  {
   "cell_type": "markdown",
   "id": "abb99898",
   "metadata": {},
   "source": [
    "As i see from above results, after training the train data it is giving a perfect prediction after trying with one of the data from test distribution."
   ]
  },
  {
   "cell_type": "code",
   "execution_count": 32,
   "id": "1b797302",
   "metadata": {},
   "outputs": [
    {
     "data": {
      "text/plain": [
       "0.9999999410846231"
      ]
     },
     "execution_count": 32,
     "metadata": {},
     "output_type": "execute_result"
    }
   ],
   "source": [
    "#Adjusted R2\n",
    "regression.score(X_train,y_train)"
   ]
  },
  {
   "cell_type": "markdown",
   "id": "062a1cca",
   "metadata": {},
   "source": [
    "Observation : Over Model is predicting 99.99% while training the train datasets which is pretty good prediction."
   ]
  },
  {
   "cell_type": "code",
   "execution_count": 33,
   "id": "8bfe6caf",
   "metadata": {},
   "outputs": [],
   "source": [
    "y_pred = regression.predict(X_test)"
   ]
  },
  {
   "cell_type": "code",
   "execution_count": 34,
   "id": "bb4310ff",
   "metadata": {},
   "outputs": [
    {
     "data": {
      "text/plain": [
       "array([4.57148404, 6.57409271, 7.40601417, 5.68860931, 4.63331176,\n",
       "       4.25192025, 4.79959687, 7.28398846, 7.36360955, 4.51716728,\n",
       "       4.34985729, 6.94615247, 4.8390733 , 6.94027939, 4.64231358,\n",
       "       4.95926031, 5.60467341, 4.87434382, 4.60978518, 5.70894485,\n",
       "       5.19234076, 5.33247077, 3.46495099, 4.27059666, 5.28649365,\n",
       "       6.78622092, 5.12313396, 4.78640278, 5.88976623, 6.90126248,\n",
       "       5.75845255, 4.86722121, 6.45473931, 5.19232554, 5.05741642])"
      ]
     },
     "execution_count": 34,
     "metadata": {},
     "output_type": "execute_result"
    }
   ],
   "source": [
    "y_pred"
   ]
  },
  {
   "cell_type": "markdown",
   "id": "a65b357e",
   "metadata": {},
   "source": [
    "All the predictions using test datasets which shows almost similar data."
   ]
  },
  {
   "cell_type": "markdown",
   "id": "09103727",
   "metadata": {},
   "source": [
    "# Plot to Visualize Actual data Vs Predicted data"
   ]
  },
  {
   "cell_type": "code",
   "execution_count": 35,
   "id": "fe19ef8d",
   "metadata": {},
   "outputs": [
    {
     "data": {
      "image/png": "[encoded data removed]",
      "text/plain": [
       "<Figure size 432x288 with 1 Axes>"
      ]
     },
     "metadata": {
      "needs_background": "light"
     },
     "output_type": "display_data"
    }
   ],
   "source": [
    "plt.scatter(y_test,y_pred)\n",
    "plt.xlabel('Actual Happiness Score')\n",
    "plt.ylabel('Predicted Happiness Score')\n",
    "plt.title('Actual Vs Model Predicted')\n",
    "plt.show()"
   ]
  },
  {
   "cell_type": "markdown",
   "id": "095f0137",
   "metadata": {},
   "source": [
    "Observation : Actual Vs Model Prediction shows pretty good correlation and giving a perfect linear graph correlation."
   ]
  },
  {
   "cell_type": "markdown",
   "id": "b91b67bf",
   "metadata": {},
   "source": [
    "# Model Evaluation"
   ]
  },
  {
   "cell_type": "code",
   "execution_count": 36,
   "id": "2b610c6d",
   "metadata": {},
   "outputs": [],
   "source": [
    "from sklearn.metrics import mean_squared_error, mean_absolute_error"
   ]
  },
  {
   "cell_type": "code",
   "execution_count": 37,
   "id": "79621261",
   "metadata": {},
   "outputs": [],
   "source": [
    "y_pred = regression.predict(X_test)"
   ]
  },
  {
   "cell_type": "code",
   "execution_count": 38,
   "id": "2ae02769",
   "metadata": {},
   "outputs": [
    {
     "data": {
      "text/plain": [
       "0.00026544065205024326"
      ]
     },
     "execution_count": 38,
     "metadata": {},
     "output_type": "execute_result"
    }
   ],
   "source": [
    "mean_absolute_error(y_test,y_pred)"
   ]
  },
  {
   "cell_type": "markdown",
   "id": "1edde073",
   "metadata": {},
   "source": [
    "MAE results show very less error in the model which is good sign for our model."
   ]
  },
  {
   "cell_type": "code",
   "execution_count": 39,
   "id": "48a01e88",
   "metadata": {},
   "outputs": [
    {
     "data": {
      "text/plain": [
       "9.155993829394322e-08"
      ]
     },
     "execution_count": 39,
     "metadata": {},
     "output_type": "execute_result"
    }
   ],
   "source": [
    "mean_squared_error(y_test,y_pred)"
   ]
  },
  {
   "cell_type": "markdown",
   "id": "8d70a7f9",
   "metadata": {},
   "source": [
    "MSE results show very less error in the model which is good sign for our model."
   ]
  },
  {
   "cell_type": "code",
   "execution_count": 40,
   "id": "3ed4e977",
   "metadata": {},
   "outputs": [
    {
     "data": {
      "text/plain": [
       "0.01629234949447879"
      ]
     },
     "execution_count": 40,
     "metadata": {},
     "output_type": "execute_result"
    }
   ],
   "source": [
    "np.sqrt(mean_absolute_error(y_test,y_pred))"
   ]
  },
  {
   "cell_type": "markdown",
   "id": "53121e29",
   "metadata": {},
   "source": [
    "SMAE results show very less error in the model which is good sign for our model."
   ]
  },
  {
   "cell_type": "markdown",
   "id": "ccad1f90",
   "metadata": {},
   "source": [
    "# Regularisation"
   ]
  },
  {
   "cell_type": "code",
   "execution_count": 41,
   "id": "006254a2",
   "metadata": {},
   "outputs": [],
   "source": [
    "from sklearn.linear_model import Ridge, Lasso, RidgeCV, LassoCV"
   ]
  },
  {
   "cell_type": "markdown",
   "id": "efc8b1b1",
   "metadata": {},
   "source": [
    "# Lasso Regularization"
   ]
  },
  {
   "cell_type": "code",
   "execution_count": 42,
   "id": "3b5ca7f6",
   "metadata": {},
   "outputs": [
    {
     "data": {
      "text/plain": [
       "LassoCV(normalize=True)"
      ]
     },
     "execution_count": 42,
     "metadata": {},
     "output_type": "execute_result"
    }
   ],
   "source": [
    "#LassoCV will return the best alpha(Learning rate or Labmda) after max iteration\n",
    "#Normalize is substracting the mean and deviding by the L2-norm\n",
    "lasscv = LassoCV(alphas = None, max_iter = 1000, normalize = True)\n",
    "lasscv.fit(X_train, y_train)"
   ]
  },
  {
   "cell_type": "code",
   "execution_count": 43,
   "id": "fa836afb",
   "metadata": {},
   "outputs": [
    {
     "data": {
      "text/plain": [
       "0.00010518408412823715"
      ]
     },
     "execution_count": 43,
     "metadata": {},
     "output_type": "execute_result"
    }
   ],
   "source": [
    "#best alpha parameter\n",
    "alpha = lasscv.alpha_\n",
    "alpha"
   ]
  },
  {
   "cell_type": "code",
   "execution_count": 44,
   "id": "e773514f",
   "metadata": {},
   "outputs": [
    {
     "data": {
      "text/plain": [
       "Lasso(alpha=0.00010518408412823715)"
      ]
     },
     "execution_count": 44,
     "metadata": {},
     "output_type": "execute_result"
    }
   ],
   "source": [
    "#Now that we have parameter, lets use lasso regression and see how well our data has fitted before\n",
    "lasso_reg = Lasso(alpha)\n",
    "lasso_reg.fit(X_train, y_train)"
   ]
  },
  {
   "cell_type": "code",
   "execution_count": 45,
   "id": "a88800f3",
   "metadata": {},
   "outputs": [
    {
     "data": {
      "text/plain": [
       "0.9999989665900163"
      ]
     },
     "execution_count": 45,
     "metadata": {},
     "output_type": "execute_result"
    }
   ],
   "source": [
    "lasso_reg.score(X_test, y_test)"
   ]
  },
  {
   "cell_type": "markdown",
   "id": "76dc25fa",
   "metadata": {},
   "source": [
    "Observation: Lasso Regularization also give a similar results above 99% which is pretty good sign for our model. "
   ]
  },
  {
   "cell_type": "markdown",
   "id": "0d77218c",
   "metadata": {},
   "source": [
    "# Using Ridge Regularization"
   ]
  },
  {
   "cell_type": "code",
   "execution_count": 46,
   "id": "610b74be",
   "metadata": {},
   "outputs": [
    {
     "ename": "ValueError",
     "evalue": "Number of targets and number of penalties do not correspond: 10 != 1",
     "output_type": "error",
     "traceback": [
      "\u001b[1;31m---------------------------------------------------------------------------\u001b[0m",
      "\u001b[1;31mValueError\u001b[0m                                Traceback (most recent call last)",
      "\u001b[1;32m<ipython-input-46-da20d7fba01d>\u001b[0m in \u001b[0;36m<module>\u001b[1;34m\u001b[0m\n\u001b[0;32m      1\u001b[0m \u001b[1;31m#RidgeCV will return best alpha and coefficient after performing 10 cross validation\u001b[0m\u001b[1;33m\u001b[0m\u001b[1;33m\u001b[0m\u001b[1;33m\u001b[0m\u001b[0m\n\u001b[0;32m      2\u001b[0m \u001b[0mridgecv\u001b[0m \u001b[1;33m=\u001b[0m \u001b[0mRidge\u001b[0m\u001b[1;33m(\u001b[0m\u001b[0malpha\u001b[0m \u001b[1;33m=\u001b[0m \u001b[0mnp\u001b[0m\u001b[1;33m.\u001b[0m\u001b[0marange\u001b[0m\u001b[1;33m(\u001b[0m\u001b[1;36m0.001\u001b[0m\u001b[1;33m,\u001b[0m\u001b[1;36m0.1\u001b[0m\u001b[1;33m,\u001b[0m\u001b[1;36m0.01\u001b[0m\u001b[1;33m)\u001b[0m\u001b[1;33m,\u001b[0m \u001b[0mnormalize\u001b[0m\u001b[1;33m=\u001b[0m\u001b[1;32mTrue\u001b[0m\u001b[1;33m)\u001b[0m\u001b[1;33m\u001b[0m\u001b[1;33m\u001b[0m\u001b[0m\n\u001b[1;32m----> 3\u001b[1;33m \u001b[0mridgecv\u001b[0m\u001b[1;33m.\u001b[0m\u001b[0mfit\u001b[0m\u001b[1;33m(\u001b[0m\u001b[0mX_train\u001b[0m\u001b[1;33m,\u001b[0m \u001b[0my_train\u001b[0m\u001b[1;33m)\u001b[0m\u001b[1;33m\u001b[0m\u001b[1;33m\u001b[0m\u001b[0m\n\u001b[0m",
      "\u001b[1;32m~\\anaconda3\\lib\\site-packages\\sklearn\\linear_model\\_ridge.py\u001b[0m in \u001b[0;36mfit\u001b[1;34m(self, X, y, sample_weight)\u001b[0m\n\u001b[0;32m    760\u001b[0m         \u001b[0mself\u001b[0m \u001b[1;33m:\u001b[0m \u001b[0mreturns\u001b[0m \u001b[0man\u001b[0m \u001b[0minstance\u001b[0m \u001b[0mof\u001b[0m \u001b[0mself\u001b[0m\u001b[1;33m.\u001b[0m\u001b[1;33m\u001b[0m\u001b[1;33m\u001b[0m\u001b[0m\n\u001b[0;32m    761\u001b[0m         \"\"\"\n\u001b[1;32m--> 762\u001b[1;33m         \u001b[1;32mreturn\u001b[0m \u001b[0msuper\u001b[0m\u001b[1;33m(\u001b[0m\u001b[1;33m)\u001b[0m\u001b[1;33m.\u001b[0m\u001b[0mfit\u001b[0m\u001b[1;33m(\u001b[0m\u001b[0mX\u001b[0m\u001b[1;33m,\u001b[0m \u001b[0my\u001b[0m\u001b[1;33m,\u001b[0m \u001b[0msample_weight\u001b[0m\u001b[1;33m=\u001b[0m\u001b[0msample_weight\u001b[0m\u001b[1;33m)\u001b[0m\u001b[1;33m\u001b[0m\u001b[1;33m\u001b[0m\u001b[0m\n\u001b[0m\u001b[0;32m    763\u001b[0m \u001b[1;33m\u001b[0m\u001b[0m\n\u001b[0;32m    764\u001b[0m \u001b[1;33m\u001b[0m\u001b[0m\n",
      "\u001b[1;32m~\\anaconda3\\lib\\site-packages\\sklearn\\linear_model\\_ridge.py\u001b[0m in \u001b[0;36mfit\u001b[1;34m(self, X, y, sample_weight)\u001b[0m\n\u001b[0;32m    591\u001b[0m                 \u001b[0mparams\u001b[0m \u001b[1;33m=\u001b[0m \u001b[1;33m{\u001b[0m\u001b[1;33m}\u001b[0m\u001b[1;33m\u001b[0m\u001b[1;33m\u001b[0m\u001b[0m\n\u001b[0;32m    592\u001b[0m \u001b[1;33m\u001b[0m\u001b[0m\n\u001b[1;32m--> 593\u001b[1;33m             self.coef_, self.n_iter_ = _ridge_regression(\n\u001b[0m\u001b[0;32m    594\u001b[0m                 \u001b[0mX\u001b[0m\u001b[1;33m,\u001b[0m \u001b[0my\u001b[0m\u001b[1;33m,\u001b[0m \u001b[0malpha\u001b[0m\u001b[1;33m=\u001b[0m\u001b[0mself\u001b[0m\u001b[1;33m.\u001b[0m\u001b[0malpha\u001b[0m\u001b[1;33m,\u001b[0m \u001b[0msample_weight\u001b[0m\u001b[1;33m=\u001b[0m\u001b[0msample_weight\u001b[0m\u001b[1;33m,\u001b[0m\u001b[1;33m\u001b[0m\u001b[1;33m\u001b[0m\u001b[0m\n\u001b[0;32m    595\u001b[0m                 \u001b[0mmax_iter\u001b[0m\u001b[1;33m=\u001b[0m\u001b[0mself\u001b[0m\u001b[1;33m.\u001b[0m\u001b[0mmax_iter\u001b[0m\u001b[1;33m,\u001b[0m \u001b[0mtol\u001b[0m\u001b[1;33m=\u001b[0m\u001b[0mself\u001b[0m\u001b[1;33m.\u001b[0m\u001b[0mtol\u001b[0m\u001b[1;33m,\u001b[0m \u001b[0msolver\u001b[0m\u001b[1;33m=\u001b[0m\u001b[0msolver\u001b[0m\u001b[1;33m,\u001b[0m\u001b[1;33m\u001b[0m\u001b[1;33m\u001b[0m\u001b[0m\n",
      "\u001b[1;32m~\\anaconda3\\lib\\site-packages\\sklearn\\linear_model\\_ridge.py\u001b[0m in \u001b[0;36m_ridge_regression\u001b[1;34m(X, y, alpha, sample_weight, solver, max_iter, tol, verbose, random_state, return_n_iter, return_intercept, X_scale, X_offset, check_input)\u001b[0m\n\u001b[0;32m    438\u001b[0m     \u001b[0malpha\u001b[0m \u001b[1;33m=\u001b[0m \u001b[0mnp\u001b[0m\u001b[1;33m.\u001b[0m\u001b[0masarray\u001b[0m\u001b[1;33m(\u001b[0m\u001b[0malpha\u001b[0m\u001b[1;33m,\u001b[0m \u001b[0mdtype\u001b[0m\u001b[1;33m=\u001b[0m\u001b[0mX\u001b[0m\u001b[1;33m.\u001b[0m\u001b[0mdtype\u001b[0m\u001b[1;33m)\u001b[0m\u001b[1;33m.\u001b[0m\u001b[0mravel\u001b[0m\u001b[1;33m(\u001b[0m\u001b[1;33m)\u001b[0m\u001b[1;33m\u001b[0m\u001b[1;33m\u001b[0m\u001b[0m\n\u001b[0;32m    439\u001b[0m     \u001b[1;32mif\u001b[0m \u001b[0malpha\u001b[0m\u001b[1;33m.\u001b[0m\u001b[0msize\u001b[0m \u001b[1;32mnot\u001b[0m \u001b[1;32min\u001b[0m \u001b[1;33m[\u001b[0m\u001b[1;36m1\u001b[0m\u001b[1;33m,\u001b[0m \u001b[0mn_targets\u001b[0m\u001b[1;33m]\u001b[0m\u001b[1;33m:\u001b[0m\u001b[1;33m\u001b[0m\u001b[1;33m\u001b[0m\u001b[0m\n\u001b[1;32m--> 440\u001b[1;33m         raise ValueError(\"Number of targets and number of penalties \"\n\u001b[0m\u001b[0;32m    441\u001b[0m                          \u001b[1;34m\"do not correspond: %d != %d\"\u001b[0m\u001b[1;33m\u001b[0m\u001b[1;33m\u001b[0m\u001b[0m\n\u001b[0;32m    442\u001b[0m                          % (alpha.size, n_targets))\n",
      "\u001b[1;31mValueError\u001b[0m: Number of targets and number of penalties do not correspond: 10 != 1"
     ]
    }
   ],
   "source": [
    "#RidgeCV will return best alpha and coefficient after performing 10 cross validation\n",
    "ridgecv = Ridge(alpha = np.arange(0.001,0.1,0.01), normalize=True)\n",
    "ridgecv.fit(X_train, y_train)"
   ]
  },
  {
   "cell_type": "code",
   "execution_count": 47,
   "id": "692790c8",
   "metadata": {},
   "outputs": [
    {
     "ename": "AttributeError",
     "evalue": "'Ridge' object has no attribute 'alpha_'",
     "output_type": "error",
     "traceback": [
      "\u001b[1;31m---------------------------------------------------------------------------\u001b[0m",
      "\u001b[1;31mAttributeError\u001b[0m                            Traceback (most recent call last)",
      "\u001b[1;32m<ipython-input-47-faf74d5976bf>\u001b[0m in \u001b[0;36m<module>\u001b[1;34m\u001b[0m\n\u001b[1;32m----> 1\u001b[1;33m \u001b[0mridgecv\u001b[0m\u001b[1;33m.\u001b[0m\u001b[0malpha_\u001b[0m\u001b[1;33m\u001b[0m\u001b[1;33m\u001b[0m\u001b[0m\n\u001b[0m",
      "\u001b[1;31mAttributeError\u001b[0m: 'Ridge' object has no attribute 'alpha_'"
     ]
    }
   ],
   "source": [
    "ridgecv.alpha_"
   ]
  },
  {
   "cell_type": "code",
   "execution_count": 48,
   "id": "3f87efe4",
   "metadata": {},
   "outputs": [
    {
     "ename": "AttributeError",
     "evalue": "'Ridge' object has no attribute 'alpha_'",
     "output_type": "error",
     "traceback": [
      "\u001b[1;31m---------------------------------------------------------------------------\u001b[0m",
      "\u001b[1;31mAttributeError\u001b[0m                            Traceback (most recent call last)",
      "\u001b[1;32m<ipython-input-48-86402de3336a>\u001b[0m in \u001b[0;36m<module>\u001b[1;34m\u001b[0m\n\u001b[1;32m----> 1\u001b[1;33m \u001b[0mridge_model\u001b[0m \u001b[1;33m=\u001b[0m \u001b[0mRidge\u001b[0m\u001b[1;33m(\u001b[0m\u001b[0malpha\u001b[0m\u001b[1;33m=\u001b[0m\u001b[0mridgecv\u001b[0m\u001b[1;33m.\u001b[0m\u001b[0malpha_\u001b[0m\u001b[1;33m)\u001b[0m\u001b[1;33m\u001b[0m\u001b[1;33m\u001b[0m\u001b[0m\n\u001b[0m\u001b[0;32m      2\u001b[0m \u001b[0mridge_model\u001b[0m\u001b[1;33m.\u001b[0m\u001b[0mfit\u001b[0m\u001b[1;33m(\u001b[0m\u001b[0mX_train\u001b[0m\u001b[1;33m,\u001b[0m\u001b[0my_train\u001b[0m\u001b[1;33m)\u001b[0m\u001b[1;33m\u001b[0m\u001b[1;33m\u001b[0m\u001b[0m\n",
      "\u001b[1;31mAttributeError\u001b[0m: 'Ridge' object has no attribute 'alpha_'"
     ]
    }
   ],
   "source": [
    "ridge_model = Ridge(alpha=ridgecv.alpha_)\n",
    "ridge_model.fit(X_train,y_train)"
   ]
  },
  {
   "cell_type": "code",
   "execution_count": 49,
   "id": "bb16346f",
   "metadata": {},
   "outputs": [
    {
     "ename": "NameError",
     "evalue": "name 'ridge_model' is not defined",
     "output_type": "error",
     "traceback": [
      "\u001b[1;31m---------------------------------------------------------------------------\u001b[0m",
      "\u001b[1;31mNameError\u001b[0m                                 Traceback (most recent call last)",
      "\u001b[1;32m<ipython-input-49-79bdef650c34>\u001b[0m in \u001b[0;36m<module>\u001b[1;34m\u001b[0m\n\u001b[1;32m----> 1\u001b[1;33m \u001b[0mridge_model\u001b[0m\u001b[1;33m.\u001b[0m\u001b[0mscore\u001b[0m\u001b[1;33m(\u001b[0m\u001b[0mX_test\u001b[0m\u001b[1;33m,\u001b[0m \u001b[0my_test\u001b[0m\u001b[1;33m)\u001b[0m\u001b[1;33m\u001b[0m\u001b[1;33m\u001b[0m\u001b[0m\n\u001b[0m",
      "\u001b[1;31mNameError\u001b[0m: name 'ridge_model' is not defined"
     ]
    }
   ],
   "source": [
    "ridge_model.score(X_test, y_test)"
   ]
  },
  {
   "cell_type": "markdown",
   "id": "c5dd8ac1",
   "metadata": {},
   "source": [
    "# Model Observation :"
   ]
  },
  {
   "cell_type": "markdown",
   "id": "ccecd3a8",
   "metadata": {},
   "source": [
    "    1. Imported all the required liberaties\n",
    "    2. Loaded the CSV file\n",
    "    3. Data Describes\n",
    "    4. In the dataset, we do not observe any missing data\n",
    "    5. Few variables were skewed\n",
    "    6. Boxplot observation shows outliers in the datasets\n",
    "    7. Observed Outliers in the dataset which was removed using Upper Limit & Lower Limit method of IQR which is called as statistical distribution method.\n",
    "    8. Heatmap shows the correlation of each variables\n",
    "    9. Scaling was performed\n",
    "    10.VIF applied to check Multicollinearity\n",
    "    11.Target variable was continous values so i have used regression model  \n",
    "    12.Split Data into Train and Testing\n",
    "    13. Trained our model using train dataset\n",
    "    14. Predicted the results which shows very good result with 99.99%\n",
    "    15. Evaluation done using regression metrics like MAE, MSE & MSAE\n",
    "    16. Lasso Regression tested which has given similar results.\n",
    "    17. Actual Vs Model Predicted plots shows perfectly fit model.\n",
    "    18. Support needed on ridge method where i am getting some error. Need technical support to fix the issues\n",
    "    "
   ]
  },
  {
   "cell_type": "code",
   "execution_count": null,
   "id": "a6e86d2e",
   "metadata": {},
   "outputs": [],
   "source": []
  },
  {
   "cell_type": "code",
   "execution_count": null,
   "id": "94e31ca3",
   "metadata": {},
   "outputs": [],
   "source": []
  }
 ],
 "metadata": {
  "kernelspec": {
   "display_name": "Python 3",
   "language": "python",
   "name": "python3"
  },
  "language_info": {
   "codemirror_mode": {
    "name": "ipython",
    "version": 3
   },
   "file_extension": ".py",
   "mimetype": "text/x-python",
   "name": "python",
   "nbconvert_exporter": "python",
   "pygments_lexer": "ipython3",
   "version": "3.8.8"
  }
 },
 "nbformat": 4,
 "nbformat_minor": 5
}
