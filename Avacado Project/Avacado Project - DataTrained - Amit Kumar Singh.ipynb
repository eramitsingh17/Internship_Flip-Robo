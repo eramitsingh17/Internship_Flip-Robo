{
 "cells": [
  {
   "cell_type": "markdown",
   "id": "a572cfeb",
   "metadata": {},
   "source": [
    "# Avacado Project\n",
    "# Problem Statement:\n",
    "Avocado is a fruit consumed by people heavily in the United States. \n",
    "\n",
    "Content\n",
    "This data was downloaded from the Hass Avocado Board website in May of 2018 & compiled into a single CSV. \n",
    "\n",
    "The table below represents weekly 2018 retail scan data for National retail volume (units) and price. Retail scan data comes directly from retailers’ cash registers based on actual retail sales of Hass avocados. \n",
    "\n",
    "Starting in 2013, the table below reflects an expanded, multi-outlet retail data set. Multi-outlet reporting includes an aggregation of the following channels: grocery, mass, club, drug, dollar and military. The Average Price (of avocados) in the table reflects a per unit (per avocado) cost, even when multiple units (avocados) are sold in bags. \n",
    "\n",
    "The Product Lookup codes (PLU’s) in the table are only for Hass avocados. Other varieties of avocados (e.g. greenskins) are not included in this table.\n",
    "\n",
    "Some relevant columns in the dataset:\n",
    "\n",
    "Date - The date of the observation\n",
    "AveragePrice - the average price of a single avocado\n",
    "type - conventional or organic\n",
    "year - the year\n",
    "Region - the city or region of the observation\n",
    "Total Volume - Total number of avocados sold\n",
    "4046 - Total number of avocados with PLU 4046 sold\n",
    "4225 - Total number of avocados with PLU 4225 sold\n",
    "4770 - Total number of avocados with PLU 4770 sold\n",
    "\n",
    "\n",
    "Inspiration /Label \n",
    "\n",
    "The dataset can be seen in two angles to find the region and find the average price .\n",
    "\n",
    "Task: One of Classification and other of Regression\n",
    "\n",
    "Do both tasks in the same .ipynb file and submit at single file. \n",
    "\n",
    "To download the dataset, use the link given below. "
   ]
  },
  {
   "cell_type": "code",
   "execution_count": 1,
   "id": "ffdf2df1",
   "metadata": {},
   "outputs": [],
   "source": [
    "import pandas as pd\n",
    "import numpy as np\n",
    "import seaborn as sns\n",
    "import matplotlib.pyplot as plt\n",
    "%matplotlib inline\n",
    "\n",
    "import warnings\n",
    "warnings.filterwarnings(\"ignore\")\n"
   ]
  },
  {
   "cell_type": "code",
   "execution_count": 2,
   "id": "5c4aed93",
   "metadata": {},
   "outputs": [],
   "source": [
    "df = pd.read_csv(\"E:/Datatrained/Practice Project/Avacado Project/avocado.csv\")"
   ]
  },
  {
   "cell_type": "code",
   "execution_count": 3,
   "id": "2f57317c",
   "metadata": {},
   "outputs": [
    {
     "data": {
      "text/html": [
       "<div>\n",
       "<style scoped>\n",
       "    .dataframe tbody tr th:only-of-type {\n",
       "        vertical-align: middle;\n",
       "    }\n",
       "\n",
       "    .dataframe tbody tr th {\n",
       "        vertical-align: top;\n",
       "    }\n",
       "\n",
       "    .dataframe thead th {\n",
       "        text-align: right;\n",
       "    }\n",
       "</style>\n",
       "<table border=\"1\" class=\"dataframe\">\n",
       "  <thead>\n",
       "    <tr style=\"text-align: right;\">\n",
       "      <th></th>\n",
       "      <th>Unnamed: 0</th>\n",
       "      <th>Date</th>\n",
       "      <th>AveragePrice</th>\n",
       "      <th>Total Volume</th>\n",
       "      <th>4046</th>\n",
       "      <th>4225</th>\n",
       "      <th>4770</th>\n",
       "      <th>Total Bags</th>\n",
       "      <th>Small Bags</th>\n",
       "      <th>Large Bags</th>\n",
       "      <th>XLarge Bags</th>\n",
       "      <th>type</th>\n",
       "      <th>year</th>\n",
       "      <th>region</th>\n",
       "    </tr>\n",
       "  </thead>\n",
       "  <tbody>\n",
       "    <tr>\n",
       "      <th>0</th>\n",
       "      <td>0.0</td>\n",
       "      <td>27-12-2015</td>\n",
       "      <td>1.33</td>\n",
       "      <td>64236.62</td>\n",
       "      <td>1036.74</td>\n",
       "      <td>54454.85</td>\n",
       "      <td>48.16</td>\n",
       "      <td>8696.87</td>\n",
       "      <td>8603.62</td>\n",
       "      <td>93.25</td>\n",
       "      <td>0.0</td>\n",
       "      <td>conventional</td>\n",
       "      <td>2015.0</td>\n",
       "      <td>Albany</td>\n",
       "    </tr>\n",
       "    <tr>\n",
       "      <th>1</th>\n",
       "      <td>1.0</td>\n",
       "      <td>20-12-2015</td>\n",
       "      <td>1.35</td>\n",
       "      <td>54876.98</td>\n",
       "      <td>674.28</td>\n",
       "      <td>44638.81</td>\n",
       "      <td>58.33</td>\n",
       "      <td>9505.56</td>\n",
       "      <td>9408.07</td>\n",
       "      <td>97.49</td>\n",
       "      <td>0.0</td>\n",
       "      <td>conventional</td>\n",
       "      <td>2015.0</td>\n",
       "      <td>Albany</td>\n",
       "    </tr>\n",
       "    <tr>\n",
       "      <th>2</th>\n",
       "      <td>2.0</td>\n",
       "      <td>13-12-2015</td>\n",
       "      <td>0.93</td>\n",
       "      <td>118220.22</td>\n",
       "      <td>794.70</td>\n",
       "      <td>109149.67</td>\n",
       "      <td>130.50</td>\n",
       "      <td>8145.35</td>\n",
       "      <td>8042.21</td>\n",
       "      <td>103.14</td>\n",
       "      <td>0.0</td>\n",
       "      <td>conventional</td>\n",
       "      <td>2015.0</td>\n",
       "      <td>Albany</td>\n",
       "    </tr>\n",
       "    <tr>\n",
       "      <th>3</th>\n",
       "      <td>3.0</td>\n",
       "      <td>06-12-2015</td>\n",
       "      <td>1.08</td>\n",
       "      <td>78992.15</td>\n",
       "      <td>1132.00</td>\n",
       "      <td>71976.41</td>\n",
       "      <td>72.58</td>\n",
       "      <td>5811.16</td>\n",
       "      <td>5677.40</td>\n",
       "      <td>133.76</td>\n",
       "      <td>0.0</td>\n",
       "      <td>conventional</td>\n",
       "      <td>2015.0</td>\n",
       "      <td>Albany</td>\n",
       "    </tr>\n",
       "    <tr>\n",
       "      <th>4</th>\n",
       "      <td>4.0</td>\n",
       "      <td>29-11-2015</td>\n",
       "      <td>1.28</td>\n",
       "      <td>51039.60</td>\n",
       "      <td>941.48</td>\n",
       "      <td>43838.39</td>\n",
       "      <td>75.78</td>\n",
       "      <td>6183.95</td>\n",
       "      <td>5986.26</td>\n",
       "      <td>197.69</td>\n",
       "      <td>0.0</td>\n",
       "      <td>conventional</td>\n",
       "      <td>2015.0</td>\n",
       "      <td>Albany</td>\n",
       "    </tr>\n",
       "  </tbody>\n",
       "</table>\n",
       "</div>"
      ],
      "text/plain": [
       "   Unnamed: 0        Date  AveragePrice  Total Volume     4046       4225  \\\n",
       "0         0.0  27-12-2015          1.33      64236.62  1036.74   54454.85   \n",
       "1         1.0  20-12-2015          1.35      54876.98   674.28   44638.81   \n",
       "2         2.0  13-12-2015          0.93     118220.22   794.70  109149.67   \n",
       "3         3.0  06-12-2015          1.08      78992.15  1132.00   71976.41   \n",
       "4         4.0  29-11-2015          1.28      51039.60   941.48   43838.39   \n",
       "\n",
       "     4770  Total Bags  Small Bags  Large Bags  XLarge Bags          type  \\\n",
       "0   48.16     8696.87     8603.62       93.25          0.0  conventional   \n",
       "1   58.33     9505.56     9408.07       97.49          0.0  conventional   \n",
       "2  130.50     8145.35     8042.21      103.14          0.0  conventional   \n",
       "3   72.58     5811.16     5677.40      133.76          0.0  conventional   \n",
       "4   75.78     6183.95     5986.26      197.69          0.0  conventional   \n",
       "\n",
       "     year  region  \n",
       "0  2015.0  Albany  \n",
       "1  2015.0  Albany  \n",
       "2  2015.0  Albany  \n",
       "3  2015.0  Albany  \n",
       "4  2015.0  Albany  "
      ]
     },
     "execution_count": 3,
     "metadata": {},
     "output_type": "execute_result"
    }
   ],
   "source": [
    "df.head()"
   ]
  },
  {
   "cell_type": "code",
   "execution_count": 5,
   "id": "1ec80f8e",
   "metadata": {},
   "outputs": [
    {
     "data": {
      "text/plain": [
       "(16468, 14)"
      ]
     },
     "execution_count": 5,
     "metadata": {},
     "output_type": "execute_result"
    }
   ],
   "source": [
    "df.shape"
   ]
  },
  {
   "cell_type": "code",
   "execution_count": 14,
   "id": "4cee45aa",
   "metadata": {},
   "outputs": [],
   "source": [
    "df.drop(columns = [\"Unnamed: 0\"], axis=1, inplace=True)"
   ]
  },
  {
   "cell_type": "code",
   "execution_count": 16,
   "id": "a66d696c",
   "metadata": {},
   "outputs": [
    {
     "name": "stdout",
     "output_type": "stream",
     "text": [
      "<class 'pandas.core.frame.DataFrame'>\n",
      "RangeIndex: 16468 entries, 0 to 16467\n",
      "Data columns (total 13 columns):\n",
      " #   Column        Non-Null Count  Dtype  \n",
      "---  ------        --------------  -----  \n",
      " 0   Date          1517 non-null   object \n",
      " 1   AveragePrice  1517 non-null   float64\n",
      " 2   Total Volume  1517 non-null   float64\n",
      " 3   4046          1517 non-null   float64\n",
      " 4   4225          1517 non-null   float64\n",
      " 5   4770          1517 non-null   float64\n",
      " 6   Total Bags    1517 non-null   float64\n",
      " 7   Small Bags    1517 non-null   float64\n",
      " 8   Large Bags    1517 non-null   float64\n",
      " 9   XLarge Bags   1517 non-null   float64\n",
      " 10  type          1517 non-null   object \n",
      " 11  year          1517 non-null   float64\n",
      " 12  region        1517 non-null   object \n",
      "dtypes: float64(10), object(3)\n",
      "memory usage: 1.6+ MB\n"
     ]
    }
   ],
   "source": [
    "df.info()"
   ]
  },
  {
   "cell_type": "markdown",
   "id": "5c1ef391",
   "metadata": {},
   "source": [
    "we can notice data having huge amount of null values"
   ]
  },
  {
   "cell_type": "code",
   "execution_count": 17,
   "id": "f5477748",
   "metadata": {},
   "outputs": [
    {
     "data": {
      "text/plain": [
       "Date            90.788195\n",
       "AveragePrice    90.788195\n",
       "Total Volume    90.788195\n",
       "4046            90.788195\n",
       "4225            90.788195\n",
       "4770            90.788195\n",
       "Total Bags      90.788195\n",
       "Small Bags      90.788195\n",
       "Large Bags      90.788195\n",
       "XLarge Bags     90.788195\n",
       "type            90.788195\n",
       "year            90.788195\n",
       "region          90.788195\n",
       "dtype: float64"
      ]
     },
     "execution_count": 17,
     "metadata": {},
     "output_type": "execute_result"
    }
   ],
   "source": [
    "df.isnull().mean()*100"
   ]
  },
  {
   "cell_type": "code",
   "execution_count": 18,
   "id": "3fa82486",
   "metadata": {},
   "outputs": [
    {
     "data": {
      "text/plain": [
       "Index(['Date', 'AveragePrice', 'Total Volume', '4046', '4225', '4770',\n",
       "       'Total Bags', 'Small Bags', 'Large Bags', 'XLarge Bags', 'type', 'year',\n",
       "       'region'],\n",
       "      dtype='object')"
      ]
     },
     "execution_count": 18,
     "metadata": {},
     "output_type": "execute_result"
    }
   ],
   "source": [
    "df.columns"
   ]
  },
  {
   "cell_type": "code",
   "execution_count": 19,
   "id": "d739a679",
   "metadata": {},
   "outputs": [
    {
     "data": {
      "text/html": [
       "<div>\n",
       "<style scoped>\n",
       "    .dataframe tbody tr th:only-of-type {\n",
       "        vertical-align: middle;\n",
       "    }\n",
       "\n",
       "    .dataframe tbody tr th {\n",
       "        vertical-align: top;\n",
       "    }\n",
       "\n",
       "    .dataframe thead th {\n",
       "        text-align: right;\n",
       "    }\n",
       "</style>\n",
       "<table border=\"1\" class=\"dataframe\">\n",
       "  <thead>\n",
       "    <tr style=\"text-align: right;\">\n",
       "      <th></th>\n",
       "      <th>AveragePrice</th>\n",
       "      <th>Total Volume</th>\n",
       "      <th>4046</th>\n",
       "      <th>4225</th>\n",
       "      <th>4770</th>\n",
       "      <th>Total Bags</th>\n",
       "      <th>Small Bags</th>\n",
       "      <th>Large Bags</th>\n",
       "      <th>XLarge Bags</th>\n",
       "      <th>year</th>\n",
       "    </tr>\n",
       "  </thead>\n",
       "  <tbody>\n",
       "    <tr>\n",
       "      <th>count</th>\n",
       "      <td>1517.000000</td>\n",
       "      <td>1.517000e+03</td>\n",
       "      <td>1.517000e+03</td>\n",
       "      <td>1.517000e+03</td>\n",
       "      <td>1.517000e+03</td>\n",
       "      <td>1.517000e+03</td>\n",
       "      <td>1.517000e+03</td>\n",
       "      <td>1.517000e+03</td>\n",
       "      <td>1517.000000</td>\n",
       "      <td>1517.000000</td>\n",
       "    </tr>\n",
       "    <tr>\n",
       "      <th>mean</th>\n",
       "      <td>1.074990</td>\n",
       "      <td>1.601879e+06</td>\n",
       "      <td>6.464387e+05</td>\n",
       "      <td>6.114375e+05</td>\n",
       "      <td>5.040550e+04</td>\n",
       "      <td>2.935974e+05</td>\n",
       "      <td>2.487736e+05</td>\n",
       "      <td>4.264205e+04</td>\n",
       "      <td>2181.771074</td>\n",
       "      <td>2015.162821</td>\n",
       "    </tr>\n",
       "    <tr>\n",
       "      <th>std</th>\n",
       "      <td>0.188891</td>\n",
       "      <td>4.433143e+06</td>\n",
       "      <td>1.947614e+06</td>\n",
       "      <td>1.672906e+06</td>\n",
       "      <td>1.377812e+05</td>\n",
       "      <td>7.579765e+05</td>\n",
       "      <td>6.474765e+05</td>\n",
       "      <td>1.182157e+05</td>\n",
       "      <td>7455.712144</td>\n",
       "      <td>0.369324</td>\n",
       "    </tr>\n",
       "    <tr>\n",
       "      <th>min</th>\n",
       "      <td>0.490000</td>\n",
       "      <td>3.875074e+04</td>\n",
       "      <td>4.677200e+02</td>\n",
       "      <td>1.783770e+03</td>\n",
       "      <td>0.000000e+00</td>\n",
       "      <td>3.311770e+03</td>\n",
       "      <td>3.311770e+03</td>\n",
       "      <td>0.000000e+00</td>\n",
       "      <td>0.000000</td>\n",
       "      <td>2015.000000</td>\n",
       "    </tr>\n",
       "    <tr>\n",
       "      <th>25%</th>\n",
       "      <td>0.980000</td>\n",
       "      <td>1.474700e+05</td>\n",
       "      <td>2.040034e+04</td>\n",
       "      <td>4.147606e+04</td>\n",
       "      <td>9.112500e+02</td>\n",
       "      <td>3.620689e+04</td>\n",
       "      <td>2.972722e+04</td>\n",
       "      <td>5.407400e+02</td>\n",
       "      <td>0.000000</td>\n",
       "      <td>2015.000000</td>\n",
       "    </tr>\n",
       "    <tr>\n",
       "      <th>50%</th>\n",
       "      <td>1.080000</td>\n",
       "      <td>4.027919e+05</td>\n",
       "      <td>8.175117e+04</td>\n",
       "      <td>1.186649e+05</td>\n",
       "      <td>7.688170e+03</td>\n",
       "      <td>7.397906e+04</td>\n",
       "      <td>6.237569e+04</td>\n",
       "      <td>5.044350e+03</td>\n",
       "      <td>0.000000</td>\n",
       "      <td>2015.000000</td>\n",
       "    </tr>\n",
       "    <tr>\n",
       "      <th>75%</th>\n",
       "      <td>1.190000</td>\n",
       "      <td>9.819751e+05</td>\n",
       "      <td>3.775785e+05</td>\n",
       "      <td>4.851503e+05</td>\n",
       "      <td>2.916730e+04</td>\n",
       "      <td>1.576097e+05</td>\n",
       "      <td>1.461994e+05</td>\n",
       "      <td>2.926767e+04</td>\n",
       "      <td>401.480000</td>\n",
       "      <td>2015.000000</td>\n",
       "    </tr>\n",
       "    <tr>\n",
       "      <th>max</th>\n",
       "      <td>1.680000</td>\n",
       "      <td>4.465546e+07</td>\n",
       "      <td>1.893304e+07</td>\n",
       "      <td>1.895648e+07</td>\n",
       "      <td>1.381516e+06</td>\n",
       "      <td>6.736304e+06</td>\n",
       "      <td>5.893642e+06</td>\n",
       "      <td>1.121076e+06</td>\n",
       "      <td>108072.790000</td>\n",
       "      <td>2016.000000</td>\n",
       "    </tr>\n",
       "  </tbody>\n",
       "</table>\n",
       "</div>"
      ],
      "text/plain": [
       "       AveragePrice  Total Volume          4046          4225          4770  \\\n",
       "count   1517.000000  1.517000e+03  1.517000e+03  1.517000e+03  1.517000e+03   \n",
       "mean       1.074990  1.601879e+06  6.464387e+05  6.114375e+05  5.040550e+04   \n",
       "std        0.188891  4.433143e+06  1.947614e+06  1.672906e+06  1.377812e+05   \n",
       "min        0.490000  3.875074e+04  4.677200e+02  1.783770e+03  0.000000e+00   \n",
       "25%        0.980000  1.474700e+05  2.040034e+04  4.147606e+04  9.112500e+02   \n",
       "50%        1.080000  4.027919e+05  8.175117e+04  1.186649e+05  7.688170e+03   \n",
       "75%        1.190000  9.819751e+05  3.775785e+05  4.851503e+05  2.916730e+04   \n",
       "max        1.680000  4.465546e+07  1.893304e+07  1.895648e+07  1.381516e+06   \n",
       "\n",
       "         Total Bags    Small Bags    Large Bags    XLarge Bags         year  \n",
       "count  1.517000e+03  1.517000e+03  1.517000e+03    1517.000000  1517.000000  \n",
       "mean   2.935974e+05  2.487736e+05  4.264205e+04    2181.771074  2015.162821  \n",
       "std    7.579765e+05  6.474765e+05  1.182157e+05    7455.712144     0.369324  \n",
       "min    3.311770e+03  3.311770e+03  0.000000e+00       0.000000  2015.000000  \n",
       "25%    3.620689e+04  2.972722e+04  5.407400e+02       0.000000  2015.000000  \n",
       "50%    7.397906e+04  6.237569e+04  5.044350e+03       0.000000  2015.000000  \n",
       "75%    1.576097e+05  1.461994e+05  2.926767e+04     401.480000  2015.000000  \n",
       "max    6.736304e+06  5.893642e+06  1.121076e+06  108072.790000  2016.000000  "
      ]
     },
     "execution_count": 19,
     "metadata": {},
     "output_type": "execute_result"
    }
   ],
   "source": [
    "df.describe()"
   ]
  },
  {
   "cell_type": "code",
   "execution_count": 20,
   "id": "86b996b8",
   "metadata": {},
   "outputs": [
    {
     "data": {
      "text/plain": [
       "array([1.33, 1.35, 0.93, 1.08, 1.28, 1.26, 0.99, 0.98, 1.02, 1.07, 1.12,\n",
       "       1.31, 1.11, 1.34, 1.45, 1.05, 1.37, 1.27, 1.32, 1.23, 1.19, 1.43,\n",
       "       1.2 , 1.22, 1.13, 1.16, 1.06, 1.17, 1.24, 0.96, 1.  , 1.09, 0.95,\n",
       "       0.97, 1.15, 1.01, 1.14, 1.1 , 1.04, 1.18, 1.29, 1.25, 1.03, 1.39,\n",
       "       1.4 , 1.36, 1.3 , 0.88, 1.21, 0.9 , 0.94, 0.75, 0.77, 0.81, 0.8 ,\n",
       "       0.72, 0.79, 0.67, 0.82, 0.68, 0.76, 0.91, 1.38, 0.92, 0.78, 0.74,\n",
       "       0.62, 0.83, 0.87, 0.73, 0.7 , 0.89, 0.85, 1.44, 1.42, 1.41, 0.49,\n",
       "       0.53, 0.66, 0.56, 0.6 , 0.71, 0.65, 0.58, 0.54, 0.52, 0.51, 0.57,\n",
       "       0.63, 0.64, 0.61, 0.84, 0.86, 0.69, 1.52, 1.53, 1.49, 1.48, 1.56,\n",
       "       1.62, 1.63, 1.46, 1.51, 1.61, 1.47, 1.66, 1.57, 1.6 , 1.5 , 1.68,\n",
       "       1.54, 1.64, 1.58,  nan])"
      ]
     },
     "execution_count": 20,
     "metadata": {},
     "output_type": "execute_result"
    }
   ],
   "source": [
    "# Exploring the data variable\n",
    "df.AveragePrice.unique()"
   ]
  },
  {
   "cell_type": "code",
   "execution_count": 21,
   "id": "21f68156",
   "metadata": {},
   "outputs": [
    {
     "data": {
      "text/plain": [
       "1.08    46\n",
       "0.99    44\n",
       "1.03    44\n",
       "1.10    43\n",
       "1.09    43\n",
       "        ..\n",
       "1.58     1\n",
       "0.49     1\n",
       "1.50     1\n",
       "1.54     1\n",
       "0.54     1\n",
       "Name: AveragePrice, Length: 113, dtype: int64"
      ]
     },
     "execution_count": 21,
     "metadata": {},
     "output_type": "execute_result"
    }
   ],
   "source": [
    "df.AveragePrice.value_counts()"
   ]
  },
  {
   "cell_type": "code",
   "execution_count": 22,
   "id": "d4a3d6be",
   "metadata": {},
   "outputs": [
    {
     "data": {
      "text/plain": [
       "<AxesSubplot:>"
      ]
     },
     "execution_count": 22,
     "metadata": {},
     "output_type": "execute_result"
    },
    {
     "data": {
      "image/png": "[encoded data removed]",
      "text/plain": [
       "<Figure size 432x288 with 2 Axes>"
      ]
     },
     "metadata": {
      "needs_background": "light"
     },
     "output_type": "display_data"
    }
   ],
   "source": [
    "# Data Visualization to cheak the missing values\n",
    "sns.heatmap(df.isnull())"
   ]
  },
  {
   "cell_type": "markdown",
   "id": "66024841",
   "metadata": {},
   "source": [
    "Null Values are available in similar rows in every columns so we will remove them since no impact in our model"
   ]
  },
  {
   "cell_type": "code",
   "execution_count": 23,
   "id": "a2e50240",
   "metadata": {},
   "outputs": [],
   "source": [
    "df.dropna(inplace=True)"
   ]
  },
  {
   "cell_type": "code",
   "execution_count": 24,
   "id": "cf996753",
   "metadata": {},
   "outputs": [
    {
     "data": {
      "text/plain": [
       "(1517, 13)"
      ]
     },
     "execution_count": 24,
     "metadata": {},
     "output_type": "execute_result"
    }
   ],
   "source": [
    "df.shape"
   ]
  },
  {
   "cell_type": "markdown",
   "id": "c2479e78",
   "metadata": {},
   "source": [
    "After dropping the null rows we have 1517 rows and 14 columns only"
   ]
  },
  {
   "cell_type": "code",
   "execution_count": 25,
   "id": "1400a1a0",
   "metadata": {},
   "outputs": [
    {
     "name": "stdout",
     "output_type": "stream",
     "text": [
      "<class 'pandas.core.frame.DataFrame'>\n",
      "Int64Index: 1517 entries, 0 to 1516\n",
      "Data columns (total 13 columns):\n",
      " #   Column        Non-Null Count  Dtype  \n",
      "---  ------        --------------  -----  \n",
      " 0   Date          1517 non-null   object \n",
      " 1   AveragePrice  1517 non-null   float64\n",
      " 2   Total Volume  1517 non-null   float64\n",
      " 3   4046          1517 non-null   float64\n",
      " 4   4225          1517 non-null   float64\n",
      " 5   4770          1517 non-null   float64\n",
      " 6   Total Bags    1517 non-null   float64\n",
      " 7   Small Bags    1517 non-null   float64\n",
      " 8   Large Bags    1517 non-null   float64\n",
      " 9   XLarge Bags   1517 non-null   float64\n",
      " 10  type          1517 non-null   object \n",
      " 11  year          1517 non-null   float64\n",
      " 12  region        1517 non-null   object \n",
      "dtypes: float64(10), object(3)\n",
      "memory usage: 165.9+ KB\n"
     ]
    }
   ],
   "source": [
    "df.info()"
   ]
  },
  {
   "cell_type": "code",
   "execution_count": 26,
   "id": "1022d6a8",
   "metadata": {},
   "outputs": [
    {
     "data": {
      "text/html": [
       "<div>\n",
       "<style scoped>\n",
       "    .dataframe tbody tr th:only-of-type {\n",
       "        vertical-align: middle;\n",
       "    }\n",
       "\n",
       "    .dataframe tbody tr th {\n",
       "        vertical-align: top;\n",
       "    }\n",
       "\n",
       "    .dataframe thead th {\n",
       "        text-align: right;\n",
       "    }\n",
       "</style>\n",
       "<table border=\"1\" class=\"dataframe\">\n",
       "  <thead>\n",
       "    <tr style=\"text-align: right;\">\n",
       "      <th></th>\n",
       "      <th>AveragePrice</th>\n",
       "      <th>Total Volume</th>\n",
       "      <th>4046</th>\n",
       "      <th>4225</th>\n",
       "      <th>4770</th>\n",
       "      <th>Total Bags</th>\n",
       "      <th>Small Bags</th>\n",
       "      <th>Large Bags</th>\n",
       "      <th>XLarge Bags</th>\n",
       "      <th>year</th>\n",
       "    </tr>\n",
       "  </thead>\n",
       "  <tbody>\n",
       "    <tr>\n",
       "      <th>count</th>\n",
       "      <td>1517.000000</td>\n",
       "      <td>1.517000e+03</td>\n",
       "      <td>1.517000e+03</td>\n",
       "      <td>1.517000e+03</td>\n",
       "      <td>1.517000e+03</td>\n",
       "      <td>1.517000e+03</td>\n",
       "      <td>1.517000e+03</td>\n",
       "      <td>1.517000e+03</td>\n",
       "      <td>1517.000000</td>\n",
       "      <td>1517.000000</td>\n",
       "    </tr>\n",
       "    <tr>\n",
       "      <th>mean</th>\n",
       "      <td>1.074990</td>\n",
       "      <td>1.601879e+06</td>\n",
       "      <td>6.464387e+05</td>\n",
       "      <td>6.114375e+05</td>\n",
       "      <td>5.040550e+04</td>\n",
       "      <td>2.935974e+05</td>\n",
       "      <td>2.487736e+05</td>\n",
       "      <td>4.264205e+04</td>\n",
       "      <td>2181.771074</td>\n",
       "      <td>2015.162821</td>\n",
       "    </tr>\n",
       "    <tr>\n",
       "      <th>std</th>\n",
       "      <td>0.188891</td>\n",
       "      <td>4.433143e+06</td>\n",
       "      <td>1.947614e+06</td>\n",
       "      <td>1.672906e+06</td>\n",
       "      <td>1.377812e+05</td>\n",
       "      <td>7.579765e+05</td>\n",
       "      <td>6.474765e+05</td>\n",
       "      <td>1.182157e+05</td>\n",
       "      <td>7455.712144</td>\n",
       "      <td>0.369324</td>\n",
       "    </tr>\n",
       "    <tr>\n",
       "      <th>min</th>\n",
       "      <td>0.490000</td>\n",
       "      <td>3.875074e+04</td>\n",
       "      <td>4.677200e+02</td>\n",
       "      <td>1.783770e+03</td>\n",
       "      <td>0.000000e+00</td>\n",
       "      <td>3.311770e+03</td>\n",
       "      <td>3.311770e+03</td>\n",
       "      <td>0.000000e+00</td>\n",
       "      <td>0.000000</td>\n",
       "      <td>2015.000000</td>\n",
       "    </tr>\n",
       "    <tr>\n",
       "      <th>25%</th>\n",
       "      <td>0.980000</td>\n",
       "      <td>1.474700e+05</td>\n",
       "      <td>2.040034e+04</td>\n",
       "      <td>4.147606e+04</td>\n",
       "      <td>9.112500e+02</td>\n",
       "      <td>3.620689e+04</td>\n",
       "      <td>2.972722e+04</td>\n",
       "      <td>5.407400e+02</td>\n",
       "      <td>0.000000</td>\n",
       "      <td>2015.000000</td>\n",
       "    </tr>\n",
       "    <tr>\n",
       "      <th>50%</th>\n",
       "      <td>1.080000</td>\n",
       "      <td>4.027919e+05</td>\n",
       "      <td>8.175117e+04</td>\n",
       "      <td>1.186649e+05</td>\n",
       "      <td>7.688170e+03</td>\n",
       "      <td>7.397906e+04</td>\n",
       "      <td>6.237569e+04</td>\n",
       "      <td>5.044350e+03</td>\n",
       "      <td>0.000000</td>\n",
       "      <td>2015.000000</td>\n",
       "    </tr>\n",
       "    <tr>\n",
       "      <th>75%</th>\n",
       "      <td>1.190000</td>\n",
       "      <td>9.819751e+05</td>\n",
       "      <td>3.775785e+05</td>\n",
       "      <td>4.851503e+05</td>\n",
       "      <td>2.916730e+04</td>\n",
       "      <td>1.576097e+05</td>\n",
       "      <td>1.461994e+05</td>\n",
       "      <td>2.926767e+04</td>\n",
       "      <td>401.480000</td>\n",
       "      <td>2015.000000</td>\n",
       "    </tr>\n",
       "    <tr>\n",
       "      <th>max</th>\n",
       "      <td>1.680000</td>\n",
       "      <td>4.465546e+07</td>\n",
       "      <td>1.893304e+07</td>\n",
       "      <td>1.895648e+07</td>\n",
       "      <td>1.381516e+06</td>\n",
       "      <td>6.736304e+06</td>\n",
       "      <td>5.893642e+06</td>\n",
       "      <td>1.121076e+06</td>\n",
       "      <td>108072.790000</td>\n",
       "      <td>2016.000000</td>\n",
       "    </tr>\n",
       "  </tbody>\n",
       "</table>\n",
       "</div>"
      ],
      "text/plain": [
       "       AveragePrice  Total Volume          4046          4225          4770  \\\n",
       "count   1517.000000  1.517000e+03  1.517000e+03  1.517000e+03  1.517000e+03   \n",
       "mean       1.074990  1.601879e+06  6.464387e+05  6.114375e+05  5.040550e+04   \n",
       "std        0.188891  4.433143e+06  1.947614e+06  1.672906e+06  1.377812e+05   \n",
       "min        0.490000  3.875074e+04  4.677200e+02  1.783770e+03  0.000000e+00   \n",
       "25%        0.980000  1.474700e+05  2.040034e+04  4.147606e+04  9.112500e+02   \n",
       "50%        1.080000  4.027919e+05  8.175117e+04  1.186649e+05  7.688170e+03   \n",
       "75%        1.190000  9.819751e+05  3.775785e+05  4.851503e+05  2.916730e+04   \n",
       "max        1.680000  4.465546e+07  1.893304e+07  1.895648e+07  1.381516e+06   \n",
       "\n",
       "         Total Bags    Small Bags    Large Bags    XLarge Bags         year  \n",
       "count  1.517000e+03  1.517000e+03  1.517000e+03    1517.000000  1517.000000  \n",
       "mean   2.935974e+05  2.487736e+05  4.264205e+04    2181.771074  2015.162821  \n",
       "std    7.579765e+05  6.474765e+05  1.182157e+05    7455.712144     0.369324  \n",
       "min    3.311770e+03  3.311770e+03  0.000000e+00       0.000000  2015.000000  \n",
       "25%    3.620689e+04  2.972722e+04  5.407400e+02       0.000000  2015.000000  \n",
       "50%    7.397906e+04  6.237569e+04  5.044350e+03       0.000000  2015.000000  \n",
       "75%    1.576097e+05  1.461994e+05  2.926767e+04     401.480000  2015.000000  \n",
       "max    6.736304e+06  5.893642e+06  1.121076e+06  108072.790000  2016.000000  "
      ]
     },
     "execution_count": 26,
     "metadata": {},
     "output_type": "execute_result"
    }
   ],
   "source": [
    "df.describe()"
   ]
  },
  {
   "cell_type": "markdown",
   "id": "13431e97",
   "metadata": {},
   "source": [
    "# Observation:-\n",
    "\n",
    "- No missing values in the dataset\n",
    "- 10 numerical columns and 3 object columns\n",
    "- Though features are not normaly distributed, are close to normality\n",
    "- some of the features have minimum (requires re-check)\n",
    "- Each feature has difference scale range\n",
    "- some of these columns only informing about bags which not relevant for prediction(better to drop them)"
   ]
  },
  {
   "cell_type": "code",
   "execution_count": 27,
   "id": "77b60f00",
   "metadata": {},
   "outputs": [],
   "source": [
    "df.drop(['XLarge Bags','Small Bags','Total Bags','Large Bags'], axis=1, inplace= True)"
   ]
  },
  {
   "cell_type": "code",
   "execution_count": 28,
   "id": "6624b16b",
   "metadata": {},
   "outputs": [
    {
     "data": {
      "text/plain": [
       "(1517, 9)"
      ]
     },
     "execution_count": 28,
     "metadata": {},
     "output_type": "execute_result"
    }
   ],
   "source": [
    "df.shape"
   ]
  },
  {
   "cell_type": "code",
   "execution_count": 29,
   "id": "82331714",
   "metadata": {},
   "outputs": [
    {
     "data": {
      "text/html": [
       "<div>\n",
       "<style scoped>\n",
       "    .dataframe tbody tr th:only-of-type {\n",
       "        vertical-align: middle;\n",
       "    }\n",
       "\n",
       "    .dataframe tbody tr th {\n",
       "        vertical-align: top;\n",
       "    }\n",
       "\n",
       "    .dataframe thead th {\n",
       "        text-align: right;\n",
       "    }\n",
       "</style>\n",
       "<table border=\"1\" class=\"dataframe\">\n",
       "  <thead>\n",
       "    <tr style=\"text-align: right;\">\n",
       "      <th></th>\n",
       "      <th>AveragePrice</th>\n",
       "      <th>Total Volume</th>\n",
       "      <th>4046</th>\n",
       "      <th>4225</th>\n",
       "      <th>4770</th>\n",
       "      <th>year</th>\n",
       "    </tr>\n",
       "  </thead>\n",
       "  <tbody>\n",
       "    <tr>\n",
       "      <th>count</th>\n",
       "      <td>1517.000000</td>\n",
       "      <td>1.517000e+03</td>\n",
       "      <td>1.517000e+03</td>\n",
       "      <td>1.517000e+03</td>\n",
       "      <td>1.517000e+03</td>\n",
       "      <td>1517.000000</td>\n",
       "    </tr>\n",
       "    <tr>\n",
       "      <th>mean</th>\n",
       "      <td>1.074990</td>\n",
       "      <td>1.601879e+06</td>\n",
       "      <td>6.464387e+05</td>\n",
       "      <td>6.114375e+05</td>\n",
       "      <td>5.040550e+04</td>\n",
       "      <td>2015.162821</td>\n",
       "    </tr>\n",
       "    <tr>\n",
       "      <th>std</th>\n",
       "      <td>0.188891</td>\n",
       "      <td>4.433143e+06</td>\n",
       "      <td>1.947614e+06</td>\n",
       "      <td>1.672906e+06</td>\n",
       "      <td>1.377812e+05</td>\n",
       "      <td>0.369324</td>\n",
       "    </tr>\n",
       "    <tr>\n",
       "      <th>min</th>\n",
       "      <td>0.490000</td>\n",
       "      <td>3.875074e+04</td>\n",
       "      <td>4.677200e+02</td>\n",
       "      <td>1.783770e+03</td>\n",
       "      <td>0.000000e+00</td>\n",
       "      <td>2015.000000</td>\n",
       "    </tr>\n",
       "    <tr>\n",
       "      <th>25%</th>\n",
       "      <td>0.980000</td>\n",
       "      <td>1.474700e+05</td>\n",
       "      <td>2.040034e+04</td>\n",
       "      <td>4.147606e+04</td>\n",
       "      <td>9.112500e+02</td>\n",
       "      <td>2015.000000</td>\n",
       "    </tr>\n",
       "    <tr>\n",
       "      <th>50%</th>\n",
       "      <td>1.080000</td>\n",
       "      <td>4.027919e+05</td>\n",
       "      <td>8.175117e+04</td>\n",
       "      <td>1.186649e+05</td>\n",
       "      <td>7.688170e+03</td>\n",
       "      <td>2015.000000</td>\n",
       "    </tr>\n",
       "    <tr>\n",
       "      <th>75%</th>\n",
       "      <td>1.190000</td>\n",
       "      <td>9.819751e+05</td>\n",
       "      <td>3.775785e+05</td>\n",
       "      <td>4.851503e+05</td>\n",
       "      <td>2.916730e+04</td>\n",
       "      <td>2015.000000</td>\n",
       "    </tr>\n",
       "    <tr>\n",
       "      <th>max</th>\n",
       "      <td>1.680000</td>\n",
       "      <td>4.465546e+07</td>\n",
       "      <td>1.893304e+07</td>\n",
       "      <td>1.895648e+07</td>\n",
       "      <td>1.381516e+06</td>\n",
       "      <td>2016.000000</td>\n",
       "    </tr>\n",
       "  </tbody>\n",
       "</table>\n",
       "</div>"
      ],
      "text/plain": [
       "       AveragePrice  Total Volume          4046          4225          4770  \\\n",
       "count   1517.000000  1.517000e+03  1.517000e+03  1.517000e+03  1.517000e+03   \n",
       "mean       1.074990  1.601879e+06  6.464387e+05  6.114375e+05  5.040550e+04   \n",
       "std        0.188891  4.433143e+06  1.947614e+06  1.672906e+06  1.377812e+05   \n",
       "min        0.490000  3.875074e+04  4.677200e+02  1.783770e+03  0.000000e+00   \n",
       "25%        0.980000  1.474700e+05  2.040034e+04  4.147606e+04  9.112500e+02   \n",
       "50%        1.080000  4.027919e+05  8.175117e+04  1.186649e+05  7.688170e+03   \n",
       "75%        1.190000  9.819751e+05  3.775785e+05  4.851503e+05  2.916730e+04   \n",
       "max        1.680000  4.465546e+07  1.893304e+07  1.895648e+07  1.381516e+06   \n",
       "\n",
       "              year  \n",
       "count  1517.000000  \n",
       "mean   2015.162821  \n",
       "std       0.369324  \n",
       "min    2015.000000  \n",
       "25%    2015.000000  \n",
       "50%    2015.000000  \n",
       "75%    2015.000000  \n",
       "max    2016.000000  "
      ]
     },
     "execution_count": 29,
     "metadata": {},
     "output_type": "execute_result"
    }
   ],
   "source": [
    "df.describe()"
   ]
  },
  {
   "cell_type": "code",
   "execution_count": 30,
   "id": "dfa16e00",
   "metadata": {},
   "outputs": [
    {
     "data": {
      "text/html": [
       "<div>\n",
       "<style scoped>\n",
       "    .dataframe tbody tr th:only-of-type {\n",
       "        vertical-align: middle;\n",
       "    }\n",
       "\n",
       "    .dataframe tbody tr th {\n",
       "        vertical-align: top;\n",
       "    }\n",
       "\n",
       "    .dataframe thead th {\n",
       "        text-align: right;\n",
       "    }\n",
       "</style>\n",
       "<table border=\"1\" class=\"dataframe\">\n",
       "  <thead>\n",
       "    <tr style=\"text-align: right;\">\n",
       "      <th></th>\n",
       "      <th>Date</th>\n",
       "      <th>AveragePrice</th>\n",
       "      <th>Total Volume</th>\n",
       "      <th>4046</th>\n",
       "      <th>4225</th>\n",
       "      <th>4770</th>\n",
       "      <th>type</th>\n",
       "      <th>year</th>\n",
       "      <th>region</th>\n",
       "    </tr>\n",
       "  </thead>\n",
       "  <tbody>\n",
       "    <tr>\n",
       "      <th>0</th>\n",
       "      <td>27-12-2015</td>\n",
       "      <td>1.33</td>\n",
       "      <td>64236.62</td>\n",
       "      <td>1036.74</td>\n",
       "      <td>54454.85</td>\n",
       "      <td>48.16</td>\n",
       "      <td>conventional</td>\n",
       "      <td>2015.0</td>\n",
       "      <td>Albany</td>\n",
       "    </tr>\n",
       "    <tr>\n",
       "      <th>1</th>\n",
       "      <td>20-12-2015</td>\n",
       "      <td>1.35</td>\n",
       "      <td>54876.98</td>\n",
       "      <td>674.28</td>\n",
       "      <td>44638.81</td>\n",
       "      <td>58.33</td>\n",
       "      <td>conventional</td>\n",
       "      <td>2015.0</td>\n",
       "      <td>Albany</td>\n",
       "    </tr>\n",
       "  </tbody>\n",
       "</table>\n",
       "</div>"
      ],
      "text/plain": [
       "         Date  AveragePrice  Total Volume     4046      4225   4770  \\\n",
       "0  27-12-2015          1.33      64236.62  1036.74  54454.85  48.16   \n",
       "1  20-12-2015          1.35      54876.98   674.28  44638.81  58.33   \n",
       "\n",
       "           type    year  region  \n",
       "0  conventional  2015.0  Albany  \n",
       "1  conventional  2015.0  Albany  "
      ]
     },
     "execution_count": 30,
     "metadata": {},
     "output_type": "execute_result"
    }
   ],
   "source": [
    "df.head(2)"
   ]
  },
  {
   "cell_type": "code",
   "execution_count": 31,
   "id": "814607b6",
   "metadata": {},
   "outputs": [],
   "source": [
    "df[[\"Date\", \"Month\", \"Year\"]] = df[\"Date\"].str.split(\"-\", expand = True)"
   ]
  },
  {
   "cell_type": "code",
   "execution_count": 32,
   "id": "b4042dde",
   "metadata": {},
   "outputs": [],
   "source": [
    "# converting objects into integer datatype\n",
    "df[[\"Date\", \"Month\", \"Year\"]]=df[[\"Date\", \"Month\", \"Year\"]].astype(int)"
   ]
  },
  {
   "cell_type": "code",
   "execution_count": 33,
   "id": "f0dbc352",
   "metadata": {},
   "outputs": [
    {
     "data": {
      "text/html": [
       "<div>\n",
       "<style scoped>\n",
       "    .dataframe tbody tr th:only-of-type {\n",
       "        vertical-align: middle;\n",
       "    }\n",
       "\n",
       "    .dataframe tbody tr th {\n",
       "        vertical-align: top;\n",
       "    }\n",
       "\n",
       "    .dataframe thead th {\n",
       "        text-align: right;\n",
       "    }\n",
       "</style>\n",
       "<table border=\"1\" class=\"dataframe\">\n",
       "  <thead>\n",
       "    <tr style=\"text-align: right;\">\n",
       "      <th></th>\n",
       "      <th>Date</th>\n",
       "      <th>AveragePrice</th>\n",
       "      <th>Total Volume</th>\n",
       "      <th>4046</th>\n",
       "      <th>4225</th>\n",
       "      <th>4770</th>\n",
       "      <th>type</th>\n",
       "      <th>year</th>\n",
       "      <th>region</th>\n",
       "      <th>Month</th>\n",
       "      <th>Year</th>\n",
       "    </tr>\n",
       "  </thead>\n",
       "  <tbody>\n",
       "    <tr>\n",
       "      <th>0</th>\n",
       "      <td>27</td>\n",
       "      <td>1.33</td>\n",
       "      <td>64236.62</td>\n",
       "      <td>1036.74</td>\n",
       "      <td>54454.85</td>\n",
       "      <td>48.16</td>\n",
       "      <td>conventional</td>\n",
       "      <td>2015.0</td>\n",
       "      <td>Albany</td>\n",
       "      <td>12</td>\n",
       "      <td>2015</td>\n",
       "    </tr>\n",
       "    <tr>\n",
       "      <th>1</th>\n",
       "      <td>20</td>\n",
       "      <td>1.35</td>\n",
       "      <td>54876.98</td>\n",
       "      <td>674.28</td>\n",
       "      <td>44638.81</td>\n",
       "      <td>58.33</td>\n",
       "      <td>conventional</td>\n",
       "      <td>2015.0</td>\n",
       "      <td>Albany</td>\n",
       "      <td>12</td>\n",
       "      <td>2015</td>\n",
       "    </tr>\n",
       "    <tr>\n",
       "      <th>2</th>\n",
       "      <td>13</td>\n",
       "      <td>0.93</td>\n",
       "      <td>118220.22</td>\n",
       "      <td>794.70</td>\n",
       "      <td>109149.67</td>\n",
       "      <td>130.50</td>\n",
       "      <td>conventional</td>\n",
       "      <td>2015.0</td>\n",
       "      <td>Albany</td>\n",
       "      <td>12</td>\n",
       "      <td>2015</td>\n",
       "    </tr>\n",
       "    <tr>\n",
       "      <th>3</th>\n",
       "      <td>6</td>\n",
       "      <td>1.08</td>\n",
       "      <td>78992.15</td>\n",
       "      <td>1132.00</td>\n",
       "      <td>71976.41</td>\n",
       "      <td>72.58</td>\n",
       "      <td>conventional</td>\n",
       "      <td>2015.0</td>\n",
       "      <td>Albany</td>\n",
       "      <td>12</td>\n",
       "      <td>2015</td>\n",
       "    </tr>\n",
       "    <tr>\n",
       "      <th>4</th>\n",
       "      <td>29</td>\n",
       "      <td>1.28</td>\n",
       "      <td>51039.60</td>\n",
       "      <td>941.48</td>\n",
       "      <td>43838.39</td>\n",
       "      <td>75.78</td>\n",
       "      <td>conventional</td>\n",
       "      <td>2015.0</td>\n",
       "      <td>Albany</td>\n",
       "      <td>11</td>\n",
       "      <td>2015</td>\n",
       "    </tr>\n",
       "  </tbody>\n",
       "</table>\n",
       "</div>"
      ],
      "text/plain": [
       "   Date  AveragePrice  Total Volume     4046       4225    4770          type  \\\n",
       "0    27          1.33      64236.62  1036.74   54454.85   48.16  conventional   \n",
       "1    20          1.35      54876.98   674.28   44638.81   58.33  conventional   \n",
       "2    13          0.93     118220.22   794.70  109149.67  130.50  conventional   \n",
       "3     6          1.08      78992.15  1132.00   71976.41   72.58  conventional   \n",
       "4    29          1.28      51039.60   941.48   43838.39   75.78  conventional   \n",
       "\n",
       "     year  region  Month  Year  \n",
       "0  2015.0  Albany     12  2015  \n",
       "1  2015.0  Albany     12  2015  \n",
       "2  2015.0  Albany     12  2015  \n",
       "3  2015.0  Albany     12  2015  \n",
       "4  2015.0  Albany     11  2015  "
      ]
     },
     "execution_count": 33,
     "metadata": {},
     "output_type": "execute_result"
    }
   ],
   "source": [
    "df.head()"
   ]
  },
  {
   "cell_type": "code",
   "execution_count": 34,
   "id": "2a721b7d",
   "metadata": {},
   "outputs": [
    {
     "data": {
      "text/plain": [
       "2015    1270\n",
       "2016     247\n",
       "Name: Year, dtype: int64"
      ]
     },
     "execution_count": 34,
     "metadata": {},
     "output_type": "execute_result"
    }
   ],
   "source": [
    "df[\"Year\"].value_counts()"
   ]
  },
  {
   "cell_type": "code",
   "execution_count": 35,
   "id": "ca295fef",
   "metadata": {},
   "outputs": [
    {
     "data": {
      "text/plain": [
       "2015.0    1270\n",
       "2016.0     247\n",
       "Name: year, dtype: int64"
      ]
     },
     "execution_count": 35,
     "metadata": {},
     "output_type": "execute_result"
    }
   ],
   "source": [
    "df['year'].value_counts()"
   ]
  },
  {
   "cell_type": "markdown",
   "id": "5b3c3925",
   "metadata": {},
   "source": [
    "Now we can notice we have 2 columns for years and both having same unique value so droping one of them"
   ]
  },
  {
   "cell_type": "code",
   "execution_count": 36,
   "id": "c98057cd",
   "metadata": {},
   "outputs": [],
   "source": [
    "df.drop(['year'], axis=1, inplace= True)"
   ]
  },
  {
   "cell_type": "code",
   "execution_count": 37,
   "id": "4658941e",
   "metadata": {},
   "outputs": [
    {
     "data": {
      "text/plain": [
       "1"
      ]
     },
     "execution_count": 37,
     "metadata": {},
     "output_type": "execute_result"
    }
   ],
   "source": [
    "df['type'].nunique()"
   ]
  },
  {
   "cell_type": "markdown",
   "id": "b47092b7",
   "metadata": {},
   "source": [
    "As we can see we have only one type so we are droping the column because all values are same."
   ]
  },
  {
   "cell_type": "code",
   "execution_count": 38,
   "id": "6c5e3e50",
   "metadata": {},
   "outputs": [],
   "source": [
    "df.drop(['type'], axis=1, inplace= True)"
   ]
  },
  {
   "cell_type": "code",
   "execution_count": 39,
   "id": "75cce6b2",
   "metadata": {},
   "outputs": [
    {
     "data": {
      "text/plain": [
       "51"
      ]
     },
     "execution_count": 39,
     "metadata": {},
     "output_type": "execute_result"
    }
   ],
   "source": [
    "df['region'].nunique()"
   ]
  },
  {
   "cell_type": "code",
   "execution_count": 40,
   "id": "e3e2c343",
   "metadata": {},
   "outputs": [
    {
     "name": "stdout",
     "output_type": "stream",
     "text": [
      "<class 'pandas.core.frame.DataFrame'>\n",
      "Int64Index: 1517 entries, 0 to 1516\n",
      "Data columns (total 9 columns):\n",
      " #   Column        Non-Null Count  Dtype  \n",
      "---  ------        --------------  -----  \n",
      " 0   Date          1517 non-null   int32  \n",
      " 1   AveragePrice  1517 non-null   float64\n",
      " 2   Total Volume  1517 non-null   float64\n",
      " 3   4046          1517 non-null   float64\n",
      " 4   4225          1517 non-null   float64\n",
      " 5   4770          1517 non-null   float64\n",
      " 6   region        1517 non-null   object \n",
      " 7   Month         1517 non-null   int32  \n",
      " 8   Year          1517 non-null   int32  \n",
      "dtypes: float64(5), int32(3), object(1)\n",
      "memory usage: 100.7+ KB\n"
     ]
    }
   ],
   "source": [
    "df.info()"
   ]
  },
  {
   "cell_type": "markdown",
   "id": "f82469dc",
   "metadata": {},
   "source": [
    "No missing values in the dataset / \n",
    "there is no minimum value = 0 / \n",
    "now 8 numerical and 1 object columns in data"
   ]
  },
  {
   "cell_type": "markdown",
   "id": "720cb220",
   "metadata": {},
   "source": [
    "# EDA"
   ]
  },
  {
   "cell_type": "code",
   "execution_count": 41,
   "id": "79b94ab6",
   "metadata": {},
   "outputs": [],
   "source": [
    "from scipy.stats import skew\n",
    "import matplotlib.pyplot as plt\n",
    "import warnings\n",
    "warnings.filterwarnings('ignore')"
   ]
  },
  {
   "cell_type": "code",
   "execution_count": 42,
   "id": "ffa612e1",
   "metadata": {},
   "outputs": [
    {
     "data": {
      "text/html": [
       "<div>\n",
       "<style scoped>\n",
       "    .dataframe tbody tr th:only-of-type {\n",
       "        vertical-align: middle;\n",
       "    }\n",
       "\n",
       "    .dataframe tbody tr th {\n",
       "        vertical-align: top;\n",
       "    }\n",
       "\n",
       "    .dataframe thead th {\n",
       "        text-align: right;\n",
       "    }\n",
       "</style>\n",
       "<table border=\"1\" class=\"dataframe\">\n",
       "  <thead>\n",
       "    <tr style=\"text-align: right;\">\n",
       "      <th></th>\n",
       "      <th>Date</th>\n",
       "      <th>AveragePrice</th>\n",
       "      <th>Total Volume</th>\n",
       "      <th>4046</th>\n",
       "      <th>4225</th>\n",
       "      <th>4770</th>\n",
       "      <th>region</th>\n",
       "      <th>Month</th>\n",
       "      <th>Year</th>\n",
       "    </tr>\n",
       "  </thead>\n",
       "  <tbody>\n",
       "    <tr>\n",
       "      <th>0</th>\n",
       "      <td>27</td>\n",
       "      <td>1.33</td>\n",
       "      <td>64236.62</td>\n",
       "      <td>1036.74</td>\n",
       "      <td>54454.85</td>\n",
       "      <td>48.16</td>\n",
       "      <td>Albany</td>\n",
       "      <td>12</td>\n",
       "      <td>2015</td>\n",
       "    </tr>\n",
       "    <tr>\n",
       "      <th>1</th>\n",
       "      <td>20</td>\n",
       "      <td>1.35</td>\n",
       "      <td>54876.98</td>\n",
       "      <td>674.28</td>\n",
       "      <td>44638.81</td>\n",
       "      <td>58.33</td>\n",
       "      <td>Albany</td>\n",
       "      <td>12</td>\n",
       "      <td>2015</td>\n",
       "    </tr>\n",
       "    <tr>\n",
       "      <th>2</th>\n",
       "      <td>13</td>\n",
       "      <td>0.93</td>\n",
       "      <td>118220.22</td>\n",
       "      <td>794.70</td>\n",
       "      <td>109149.67</td>\n",
       "      <td>130.50</td>\n",
       "      <td>Albany</td>\n",
       "      <td>12</td>\n",
       "      <td>2015</td>\n",
       "    </tr>\n",
       "    <tr>\n",
       "      <th>3</th>\n",
       "      <td>6</td>\n",
       "      <td>1.08</td>\n",
       "      <td>78992.15</td>\n",
       "      <td>1132.00</td>\n",
       "      <td>71976.41</td>\n",
       "      <td>72.58</td>\n",
       "      <td>Albany</td>\n",
       "      <td>12</td>\n",
       "      <td>2015</td>\n",
       "    </tr>\n",
       "    <tr>\n",
       "      <th>4</th>\n",
       "      <td>29</td>\n",
       "      <td>1.28</td>\n",
       "      <td>51039.60</td>\n",
       "      <td>941.48</td>\n",
       "      <td>43838.39</td>\n",
       "      <td>75.78</td>\n",
       "      <td>Albany</td>\n",
       "      <td>11</td>\n",
       "      <td>2015</td>\n",
       "    </tr>\n",
       "  </tbody>\n",
       "</table>\n",
       "</div>"
      ],
      "text/plain": [
       "   Date  AveragePrice  Total Volume     4046       4225    4770  region  \\\n",
       "0    27          1.33      64236.62  1036.74   54454.85   48.16  Albany   \n",
       "1    20          1.35      54876.98   674.28   44638.81   58.33  Albany   \n",
       "2    13          0.93     118220.22   794.70  109149.67  130.50  Albany   \n",
       "3     6          1.08      78992.15  1132.00   71976.41   72.58  Albany   \n",
       "4    29          1.28      51039.60   941.48   43838.39   75.78  Albany   \n",
       "\n",
       "   Month  Year  \n",
       "0     12  2015  \n",
       "1     12  2015  \n",
       "2     12  2015  \n",
       "3     12  2015  \n",
       "4     11  2015  "
      ]
     },
     "execution_count": 42,
     "metadata": {},
     "output_type": "execute_result"
    }
   ],
   "source": [
    "df.head()"
   ]
  },
  {
   "cell_type": "code",
   "execution_count": 43,
   "id": "6c5203d5",
   "metadata": {},
   "outputs": [
    {
     "data": {
      "text/html": [
       "<div>\n",
       "<style scoped>\n",
       "    .dataframe tbody tr th:only-of-type {\n",
       "        vertical-align: middle;\n",
       "    }\n",
       "\n",
       "    .dataframe tbody tr th {\n",
       "        vertical-align: top;\n",
       "    }\n",
       "\n",
       "    .dataframe thead th {\n",
       "        text-align: right;\n",
       "    }\n",
       "</style>\n",
       "<table border=\"1\" class=\"dataframe\">\n",
       "  <thead>\n",
       "    <tr style=\"text-align: right;\">\n",
       "      <th></th>\n",
       "      <th>Date</th>\n",
       "      <th>AveragePrice</th>\n",
       "      <th>Total Volume</th>\n",
       "      <th>4046</th>\n",
       "      <th>4225</th>\n",
       "      <th>4770</th>\n",
       "      <th>Month</th>\n",
       "      <th>Year</th>\n",
       "    </tr>\n",
       "  </thead>\n",
       "  <tbody>\n",
       "    <tr>\n",
       "      <th>Date</th>\n",
       "      <td>1.000000</td>\n",
       "      <td>0.092531</td>\n",
       "      <td>-0.022423</td>\n",
       "      <td>-0.018394</td>\n",
       "      <td>-0.032709</td>\n",
       "      <td>-0.014611</td>\n",
       "      <td>0.034279</td>\n",
       "      <td>0.023543</td>\n",
       "    </tr>\n",
       "    <tr>\n",
       "      <th>AveragePrice</th>\n",
       "      <td>0.092531</td>\n",
       "      <td>1.000000</td>\n",
       "      <td>-0.140470</td>\n",
       "      <td>-0.190096</td>\n",
       "      <td>-0.092084</td>\n",
       "      <td>-0.100567</td>\n",
       "      <td>0.066859</td>\n",
       "      <td>0.178683</td>\n",
       "    </tr>\n",
       "    <tr>\n",
       "      <th>Total Volume</th>\n",
       "      <td>-0.022423</td>\n",
       "      <td>-0.140470</td>\n",
       "      <td>1.000000</td>\n",
       "      <td>0.985568</td>\n",
       "      <td>0.987154</td>\n",
       "      <td>0.934347</td>\n",
       "      <td>-0.090520</td>\n",
       "      <td>-0.004189</td>\n",
       "    </tr>\n",
       "    <tr>\n",
       "      <th>4046</th>\n",
       "      <td>-0.018394</td>\n",
       "      <td>-0.190096</td>\n",
       "      <td>0.985568</td>\n",
       "      <td>1.000000</td>\n",
       "      <td>0.951952</td>\n",
       "      <td>0.898570</td>\n",
       "      <td>-0.090647</td>\n",
       "      <td>-0.040439</td>\n",
       "    </tr>\n",
       "    <tr>\n",
       "      <th>4225</th>\n",
       "      <td>-0.032709</td>\n",
       "      <td>-0.092084</td>\n",
       "      <td>0.987154</td>\n",
       "      <td>0.951952</td>\n",
       "      <td>1.000000</td>\n",
       "      <td>0.927757</td>\n",
       "      <td>-0.091329</td>\n",
       "      <td>-0.007254</td>\n",
       "    </tr>\n",
       "    <tr>\n",
       "      <th>4770</th>\n",
       "      <td>-0.014611</td>\n",
       "      <td>-0.100567</td>\n",
       "      <td>0.934347</td>\n",
       "      <td>0.898570</td>\n",
       "      <td>0.927757</td>\n",
       "      <td>1.000000</td>\n",
       "      <td>-0.074855</td>\n",
       "      <td>0.029222</td>\n",
       "    </tr>\n",
       "    <tr>\n",
       "      <th>Month</th>\n",
       "      <td>0.034279</td>\n",
       "      <td>0.066859</td>\n",
       "      <td>-0.090520</td>\n",
       "      <td>-0.090647</td>\n",
       "      <td>-0.091329</td>\n",
       "      <td>-0.074855</td>\n",
       "      <td>1.000000</td>\n",
       "      <td>0.004111</td>\n",
       "    </tr>\n",
       "    <tr>\n",
       "      <th>Year</th>\n",
       "      <td>0.023543</td>\n",
       "      <td>0.178683</td>\n",
       "      <td>-0.004189</td>\n",
       "      <td>-0.040439</td>\n",
       "      <td>-0.007254</td>\n",
       "      <td>0.029222</td>\n",
       "      <td>0.004111</td>\n",
       "      <td>1.000000</td>\n",
       "    </tr>\n",
       "  </tbody>\n",
       "</table>\n",
       "</div>"
      ],
      "text/plain": [
       "                  Date  AveragePrice  Total Volume      4046      4225  \\\n",
       "Date          1.000000      0.092531     -0.022423 -0.018394 -0.032709   \n",
       "AveragePrice  0.092531      1.000000     -0.140470 -0.190096 -0.092084   \n",
       "Total Volume -0.022423     -0.140470      1.000000  0.985568  0.987154   \n",
       "4046         -0.018394     -0.190096      0.985568  1.000000  0.951952   \n",
       "4225         -0.032709     -0.092084      0.987154  0.951952  1.000000   \n",
       "4770         -0.014611     -0.100567      0.934347  0.898570  0.927757   \n",
       "Month         0.034279      0.066859     -0.090520 -0.090647 -0.091329   \n",
       "Year          0.023543      0.178683     -0.004189 -0.040439 -0.007254   \n",
       "\n",
       "                  4770     Month      Year  \n",
       "Date         -0.014611  0.034279  0.023543  \n",
       "AveragePrice -0.100567  0.066859  0.178683  \n",
       "Total Volume  0.934347 -0.090520 -0.004189  \n",
       "4046          0.898570 -0.090647 -0.040439  \n",
       "4225          0.927757 -0.091329 -0.007254  \n",
       "4770          1.000000 -0.074855  0.029222  \n",
       "Month        -0.074855  1.000000  0.004111  \n",
       "Year          0.029222  0.004111  1.000000  "
      ]
     },
     "execution_count": 43,
     "metadata": {},
     "output_type": "execute_result"
    }
   ],
   "source": [
    "df.corr()"
   ]
  },
  {
   "cell_type": "code",
   "execution_count": 44,
   "id": "91a4ae15",
   "metadata": {},
   "outputs": [
    {
     "data": {
      "text/plain": [
       "<AxesSubplot:>"
      ]
     },
     "execution_count": 44,
     "metadata": {},
     "output_type": "execute_result"
    },
    {
     "data": {
      "image/png": "[encoded data removed]",
      "text/plain": [
       "<Figure size 1440x504 with 2 Axes>"
      ]
     },
     "metadata": {
      "needs_background": "light"
     },
     "output_type": "display_data"
    }
   ],
   "source": [
    "plt.figure(figsize=(20,7))\n",
    "sns.heatmap(df.corr(),annot=True,linewidths=1,linecolor='white',cmap='magma')"
   ]
  },
  {
   "cell_type": "code",
   "execution_count": 45,
   "id": "d44c60ac",
   "metadata": {},
   "outputs": [
    {
     "data": {
      "text/plain": [
       "<AxesSubplot:xlabel='Date', ylabel='Count'>"
      ]
     },
     "execution_count": 45,
     "metadata": {},
     "output_type": "execute_result"
    },
    {
     "data": {
      "image/png": "[encoded data removed]",
      "text/plain": [
       "<Figure size 720x360 with 1 Axes>"
      ]
     },
     "metadata": {
      "needs_background": "light"
     },
     "output_type": "display_data"
    }
   ],
   "source": [
    "plt.figure(figsize=(10,5))\n",
    "sns.histplot(df['Date'], bins=30)"
   ]
  },
  {
   "cell_type": "markdown",
   "id": "e46a0256",
   "metadata": {},
   "source": [
    "//Sold on everyday is around 40 to 60 avacado//\n",
    "maximum sold in a day//\n",
    "we can notice after every 6 days there is hike in sell that must be the weekend"
   ]
  },
  {
   "cell_type": "code",
   "execution_count": 46,
   "id": "cf45b906",
   "metadata": {},
   "outputs": [
    {
     "data": {
      "image/png": "[encoded data removed]",
      "text/plain": [
       "<Figure size 720x360 with 1 Axes>"
      ]
     },
     "metadata": {
      "needs_background": "light"
     },
     "output_type": "display_data"
    }
   ],
   "source": [
    "plt.figure(figsize=(10,5))\n",
    "plt.scatter(df['AveragePrice'],df['Total Volume'],c='Red')\n",
    "plt.xlabel('the average price of a single avocado')\n",
    "plt.ylabel('Total number of avocados sold')\n",
    "plt.show()"
   ]
  },
  {
   "cell_type": "markdown",
   "id": "a1a1cdd3",
   "metadata": {},
   "source": [
    "max average price seems 0.8 to 1.2 //\n",
    "having outliers as well"
   ]
  },
  {
   "cell_type": "code",
   "execution_count": 47,
   "id": "4cd34fbe",
   "metadata": {},
   "outputs": [
    {
     "data": {
      "image/png": "[encoded data removed]",
      "text/plain": [
       "<Figure size 720x360 with 1 Axes>"
      ]
     },
     "metadata": {
      "needs_background": "light"
     },
     "output_type": "display_data"
    }
   ],
   "source": [
    "plt.figure(figsize=(10,5))\n",
    "plt.scatter(df['AveragePrice'],df['4225'],c='Red')\n",
    "plt.xlabel('the average price of a single avocado')\n",
    "plt.ylabel('Total number of avocados with PLU 4225 sold')\n",
    "plt.show()"
   ]
  },
  {
   "cell_type": "markdown",
   "id": "386ca201",
   "metadata": {},
   "source": [
    "Here we also see maximum average price is 0.8 to 1.3 and outliers as well"
   ]
  },
  {
   "cell_type": "code",
   "execution_count": 48,
   "id": "8a931533",
   "metadata": {},
   "outputs": [
    {
     "data": {
      "image/png": "[encoded data removed]",
      "text/plain": [
       "<Figure size 720x360 with 1 Axes>"
      ]
     },
     "metadata": {
      "needs_background": "light"
     },
     "output_type": "display_data"
    }
   ],
   "source": [
    "plt.figure(figsize=(10,5))\n",
    "plt.scatter(df['AveragePrice'],df['4046'],c='Red')\n",
    "plt.xlabel('the average price of a single avocado')\n",
    "plt.ylabel('Total number of avocados with PLU 4046 sold')\n",
    "plt.show()"
   ]
  },
  {
   "cell_type": "markdown",
   "id": "9a759a3a",
   "metadata": {},
   "source": [
    "Here we also see maximum average price is 0.8 to 1.3 and outliers as well"
   ]
  },
  {
   "cell_type": "code",
   "execution_count": 49,
   "id": "c6ef897f",
   "metadata": {},
   "outputs": [
    {
     "data": {
      "image/png": "[encoded data removed]",
      "text/plain": [
       "<Figure size 720x360 with 1 Axes>"
      ]
     },
     "metadata": {
      "needs_background": "light"
     },
     "output_type": "display_data"
    }
   ],
   "source": [
    "plt.figure(figsize=(10,5))\n",
    "plt.scatter(df['AveragePrice'],df['4770'],c='Red')\n",
    "plt.xlabel('the average price of a single avocado')\n",
    "plt.ylabel('Total number of avocados with PLU 4770 sold')\n",
    "plt.show()"
   ]
  },
  {
   "cell_type": "markdown",
   "id": "90e8aa9a",
   "metadata": {},
   "source": [
    "Here we also see maximum average price is 0.8 to 1.2 and outliers as well"
   ]
  },
  {
   "cell_type": "code",
   "execution_count": 50,
   "id": "dcb68782",
   "metadata": {},
   "outputs": [
    {
     "data": {
      "text/plain": [
       "<AxesSubplot:xlabel='Year', ylabel='count'>"
      ]
     },
     "execution_count": 50,
     "metadata": {},
     "output_type": "execute_result"
    },
    {
     "data": {
      "image/png": "[encoded data removed]",
      "text/plain": [
       "<Figure size 432x288 with 1 Axes>"
      ]
     },
     "metadata": {
      "needs_background": "light"
     },
     "output_type": "display_data"
    }
   ],
   "source": [
    "sns.countplot(x='Year',data=df)"
   ]
  },
  {
   "cell_type": "markdown",
   "id": "c4186d79",
   "metadata": {},
   "source": [
    "We see here maximum data we have from year of 2015"
   ]
  },
  {
   "cell_type": "code",
   "execution_count": 51,
   "id": "c392e416",
   "metadata": {},
   "outputs": [
    {
     "data": {
      "text/plain": [
       "<AxesSubplot:xlabel='Month', ylabel='count'>"
      ]
     },
     "execution_count": 51,
     "metadata": {},
     "output_type": "execute_result"
    },
    {
     "data": {
      "image/png": "[encoded data removed]",
      "text/plain": [
       "<Figure size 432x288 with 1 Axes>"
      ]
     },
     "metadata": {
      "needs_background": "light"
     },
     "output_type": "display_data"
    }
   ],
   "source": [
    "sns.countplot(x='Month',data=df)"
   ]
  },
  {
   "cell_type": "markdown",
   "id": "67ecdbbb",
   "metadata": {},
   "source": [
    "Here we can see maximum avacado are sold in month 3, 4, and 5 and months are on average sale"
   ]
  },
  {
   "cell_type": "markdown",
   "id": "e5093d13",
   "metadata": {},
   "source": [
    "# Using LabelEncoder for convering categorical to numerical"
   ]
  },
  {
   "cell_type": "code",
   "execution_count": 52,
   "id": "2c2d69f8",
   "metadata": {},
   "outputs": [
    {
     "name": "stdout",
     "output_type": "stream",
     "text": [
      "<class 'pandas.core.frame.DataFrame'>\n",
      "Int64Index: 1517 entries, 0 to 1516\n",
      "Data columns (total 9 columns):\n",
      " #   Column        Non-Null Count  Dtype  \n",
      "---  ------        --------------  -----  \n",
      " 0   Date          1517 non-null   int32  \n",
      " 1   AveragePrice  1517 non-null   float64\n",
      " 2   Total Volume  1517 non-null   float64\n",
      " 3   4046          1517 non-null   float64\n",
      " 4   4225          1517 non-null   float64\n",
      " 5   4770          1517 non-null   float64\n",
      " 6   region        1517 non-null   object \n",
      " 7   Month         1517 non-null   int32  \n",
      " 8   Year          1517 non-null   int32  \n",
      "dtypes: float64(5), int32(3), object(1)\n",
      "memory usage: 133.0+ KB\n"
     ]
    }
   ],
   "source": [
    "df.info()"
   ]
  },
  {
   "cell_type": "code",
   "execution_count": 53,
   "id": "6c4e2ed5",
   "metadata": {},
   "outputs": [],
   "source": [
    "from sklearn import preprocessing\n",
    "le = preprocessing.LabelEncoder()\n",
    "df['region']=le.fit_transform(df['region'])"
   ]
  },
  {
   "cell_type": "code",
   "execution_count": 54,
   "id": "df05ffe1",
   "metadata": {},
   "outputs": [
    {
     "name": "stdout",
     "output_type": "stream",
     "text": [
      "<class 'pandas.core.frame.DataFrame'>\n",
      "Int64Index: 1517 entries, 0 to 1516\n",
      "Data columns (total 9 columns):\n",
      " #   Column        Non-Null Count  Dtype  \n",
      "---  ------        --------------  -----  \n",
      " 0   Date          1517 non-null   int32  \n",
      " 1   AveragePrice  1517 non-null   float64\n",
      " 2   Total Volume  1517 non-null   float64\n",
      " 3   4046          1517 non-null   float64\n",
      " 4   4225          1517 non-null   float64\n",
      " 5   4770          1517 non-null   float64\n",
      " 6   region        1517 non-null   int32  \n",
      " 7   Month         1517 non-null   int32  \n",
      " 8   Year          1517 non-null   int32  \n",
      "dtypes: float64(5), int32(4)\n",
      "memory usage: 127.1 KB\n"
     ]
    }
   ],
   "source": [
    "df.info()"
   ]
  },
  {
   "cell_type": "markdown",
   "id": "ce4d9b8f",
   "metadata": {},
   "source": [
    "# Skewness Handling"
   ]
  },
  {
   "cell_type": "code",
   "execution_count": 55,
   "id": "7a0318a2",
   "metadata": {},
   "outputs": [
    {
     "data": {
      "image/png": "[encoded data removed]",
      "text/plain": [
       "<Figure size 1800x1440 with 9 Axes>"
      ]
     },
     "metadata": {
      "needs_background": "light"
     },
     "output_type": "display_data"
    }
   ],
   "source": [
    "plt.figure(figsize=(25,20))\n",
    "for i in enumerate(df.columns):\n",
    "    plt.subplot(5,3,i[0]+1)\n",
    "    sns.distplot(df[i[1]],color='g')\n"
   ]
  },
  {
   "cell_type": "code",
   "execution_count": 56,
   "id": "701e4a26",
   "metadata": {},
   "outputs": [
    {
     "data": {
      "text/plain": [
       "Date            0.027740\n",
       "AveragePrice   -0.109444\n",
       "Total Volume    6.200138\n",
       "4046            6.051830\n",
       "4225            6.394926\n",
       "4770            5.405164\n",
       "region          0.288146\n",
       "Month           0.233418\n",
       "Year            1.828332\n",
       "dtype: float64"
      ]
     },
     "execution_count": 56,
     "metadata": {},
     "output_type": "execute_result"
    }
   ],
   "source": [
    "df.skew()"
   ]
  },
  {
   "cell_type": "markdown",
   "id": "dfcbc4e3",
   "metadata": {},
   "source": [
    "# skewness more than+/- 0.5 will we treated\n",
    "we can see here most of the columns are skewed\n",
    "will only deal with numercal columns\n",
    "Total Volume\n",
    "4046\n",
    "4225\n",
    "4770\n",
    "will be treated"
   ]
  },
  {
   "cell_type": "code",
   "execution_count": 57,
   "id": "87b894d3",
   "metadata": {},
   "outputs": [],
   "source": [
    "from sklearn.preprocessing import power_transform\n",
    "\n",
    "df[['Total Volume','4046','4225','4770']]=power_transform(df[['Total Volume','4046','4225','4770']],method='yeo-johnson')"
   ]
  },
  {
   "cell_type": "code",
   "execution_count": 58,
   "id": "a104028b",
   "metadata": {},
   "outputs": [
    {
     "data": {
      "text/plain": [
       "Date            0.027740\n",
       "AveragePrice   -0.109444\n",
       "Total Volume    0.000000\n",
       "4046           -0.012059\n",
       "4225            0.008450\n",
       "4770           -0.032945\n",
       "region          0.288146\n",
       "Month           0.233418\n",
       "Year            1.828332\n",
       "dtype: float64"
      ]
     },
     "execution_count": 58,
     "metadata": {},
     "output_type": "execute_result"
    }
   ],
   "source": [
    "df.skew()"
   ]
  },
  {
   "cell_type": "markdown",
   "id": "35c4ee91",
   "metadata": {},
   "source": [
    "we can see here skewness is removed from all columns"
   ]
  },
  {
   "cell_type": "markdown",
   "id": "56359b87",
   "metadata": {},
   "source": [
    "# Outliers Handling"
   ]
  },
  {
   "cell_type": "code",
   "execution_count": 59,
   "id": "980513cc",
   "metadata": {},
   "outputs": [
    {
     "data": {
      "image/png": "[encoded data removed]",
      "text/plain": [
       "<Figure size 1296x720 with 9 Axes>"
      ]
     },
     "metadata": {
      "needs_background": "light"
     },
     "output_type": "display_data"
    }
   ],
   "source": [
    "plt.figure(figsize=(18,10))\n",
    "for o in enumerate(df):\n",
    "    plt.subplot(3,5,o[0]+1)\n",
    "    sns.boxplot(df[o[1]])"
   ]
  },
  {
   "cell_type": "markdown",
   "id": "bf7e20f0",
   "metadata": {},
   "source": [
    "Only Target columns seems having outliers after skewness removed ."
   ]
  },
  {
   "cell_type": "code",
   "execution_count": 60,
   "id": "dd5fa6a1",
   "metadata": {},
   "outputs": [
    {
     "name": "stdout",
     "output_type": "stream",
     "text": [
      "(array([ 760, 1411, 1457, 1458], dtype=int64), array([1, 1, 1, 1], dtype=int64))\n"
     ]
    }
   ],
   "source": [
    "#zscore\n",
    "\n",
    "from scipy.stats import zscore\n",
    "\n",
    "z=np.abs(zscore(df))\n",
    "\n",
    "print(np.where(z>3))"
   ]
  },
  {
   "cell_type": "code",
   "execution_count": 61,
   "id": "0df9aae8",
   "metadata": {},
   "outputs": [
    {
     "name": "stdout",
     "output_type": "stream",
     "text": [
      "with outliers:: (1517, 9)\n",
      "After removing outliers:: (0, 9)\n"
     ]
    }
   ],
   "source": [
    "df_1=df[(z<3).all(axis=1)]\n",
    "print(\"with outliers::\",df.shape)\n",
    "print(\"After removing outliers::\",df_1.shape)"
   ]
  },
  {
   "cell_type": "markdown",
   "id": "ff7d6f0b",
   "metadata": {},
   "source": [
    "Zscore removing all rows from data"
   ]
  },
  {
   "cell_type": "code",
   "execution_count": 62,
   "id": "70717286",
   "metadata": {},
   "outputs": [
    {
     "data": {
      "text/plain": [
       "12.0"
      ]
     },
     "execution_count": 62,
     "metadata": {},
     "output_type": "execute_result"
    }
   ],
   "source": [
    "#IQR\n",
    "from scipy import stats \n",
    "IQR = stats.iqr(df) \n",
    "IQR "
   ]
  },
  {
   "cell_type": "code",
   "execution_count": 63,
   "id": "64bd692c",
   "metadata": {},
   "outputs": [
    {
     "name": "stdout",
     "output_type": "stream",
     "text": [
      "(1517, 9)\n"
     ]
    }
   ],
   "source": [
    "Q1 = df.quantile(0.25)\n",
    "Q3 = df.quantile(0.75)\n",
    "df_out = df[~((df < (Q1 - 1.5 * IQR)) |(df > (Q3 + 1.5 * IQR))).any(axis=1)]\n",
    "print(df_out.shape)"
   ]
  },
  {
   "cell_type": "markdown",
   "id": "69e4a34c",
   "metadata": {},
   "source": [
    "according IQR not outliers present so taking as it is"
   ]
  },
  {
   "cell_type": "code",
   "execution_count": 64,
   "id": "7e4cf7e0",
   "metadata": {},
   "outputs": [],
   "source": [
    "df=df_out"
   ]
  },
  {
   "cell_type": "markdown",
   "id": "a1ac0c04",
   "metadata": {},
   "source": [
    "# Dividing data into X and Y"
   ]
  },
  {
   "cell_type": "code",
   "execution_count": 65,
   "id": "16ee0769",
   "metadata": {},
   "outputs": [],
   "source": [
    "x=df.drop(['AveragePrice'],axis=1)\n",
    "y=df['AveragePrice']"
   ]
  },
  {
   "cell_type": "code",
   "execution_count": 66,
   "id": "b5a30015",
   "metadata": {},
   "outputs": [
    {
     "data": {
      "text/plain": [
       "(1517, 8)"
      ]
     },
     "execution_count": 66,
     "metadata": {},
     "output_type": "execute_result"
    }
   ],
   "source": [
    "x.shape"
   ]
  },
  {
   "cell_type": "code",
   "execution_count": 67,
   "id": "0afcc957",
   "metadata": {},
   "outputs": [
    {
     "data": {
      "text/plain": [
       "(1517,)"
      ]
     },
     "execution_count": 67,
     "metadata": {},
     "output_type": "execute_result"
    }
   ],
   "source": [
    "y.shape"
   ]
  },
  {
   "cell_type": "markdown",
   "id": "3d502115",
   "metadata": {},
   "source": [
    "Scaling X values"
   ]
  },
  {
   "cell_type": "code",
   "execution_count": 68,
   "id": "5da191e8",
   "metadata": {},
   "outputs": [],
   "source": [
    "from sklearn.preprocessing import MinMaxScaler\n",
    "\n",
    "sc=MinMaxScaler()\n",
    "x=sc.fit_transform(x)"
   ]
  },
  {
   "cell_type": "markdown",
   "id": "412f4780",
   "metadata": {},
   "source": [
    "data have been scalled"
   ]
  },
  {
   "cell_type": "code",
   "execution_count": 69,
   "id": "1bdcbe95",
   "metadata": {},
   "outputs": [
    {
     "data": {
      "text/plain": [
       "0    0\n",
       "1    0\n",
       "2    0\n",
       "3    0\n",
       "4    0\n",
       "5    0\n",
       "6    0\n",
       "7    0\n",
       "dtype: int64"
      ]
     },
     "execution_count": 69,
     "metadata": {},
     "output_type": "execute_result"
    }
   ],
   "source": [
    "pd.DataFrame(x).isnull().sum()"
   ]
  },
  {
   "cell_type": "code",
   "execution_count": 70,
   "id": "5fea6bce",
   "metadata": {},
   "outputs": [
    {
     "data": {
      "text/html": [
       "<div>\n",
       "<style scoped>\n",
       "    .dataframe tbody tr th:only-of-type {\n",
       "        vertical-align: middle;\n",
       "    }\n",
       "\n",
       "    .dataframe tbody tr th {\n",
       "        vertical-align: top;\n",
       "    }\n",
       "\n",
       "    .dataframe thead th {\n",
       "        text-align: right;\n",
       "    }\n",
       "</style>\n",
       "<table border=\"1\" class=\"dataframe\">\n",
       "  <thead>\n",
       "    <tr style=\"text-align: right;\">\n",
       "      <th></th>\n",
       "      <th>0</th>\n",
       "      <th>1</th>\n",
       "      <th>2</th>\n",
       "      <th>3</th>\n",
       "      <th>4</th>\n",
       "      <th>5</th>\n",
       "      <th>6</th>\n",
       "      <th>7</th>\n",
       "    </tr>\n",
       "  </thead>\n",
       "  <tbody>\n",
       "    <tr>\n",
       "      <th>count</th>\n",
       "      <td>1517.000000</td>\n",
       "      <td>1517.0</td>\n",
       "      <td>1517.000000</td>\n",
       "      <td>1517.000000</td>\n",
       "      <td>1517.000000</td>\n",
       "      <td>1517.000000</td>\n",
       "      <td>1517.000000</td>\n",
       "      <td>1517.000000</td>\n",
       "    </tr>\n",
       "    <tr>\n",
       "      <th>mean</th>\n",
       "      <td>0.481652</td>\n",
       "      <td>0.0</td>\n",
       "      <td>0.446655</td>\n",
       "      <td>0.514899</td>\n",
       "      <td>0.515111</td>\n",
       "      <td>0.423929</td>\n",
       "      <td>0.469707</td>\n",
       "      <td>0.162821</td>\n",
       "    </tr>\n",
       "    <tr>\n",
       "      <th>std</th>\n",
       "      <td>0.293224</td>\n",
       "      <td>0.0</td>\n",
       "      <td>0.217371</td>\n",
       "      <td>0.183939</td>\n",
       "      <td>0.190796</td>\n",
       "      <td>0.322648</td>\n",
       "      <td>0.308295</td>\n",
       "      <td>0.369324</td>\n",
       "    </tr>\n",
       "    <tr>\n",
       "      <th>min</th>\n",
       "      <td>0.000000</td>\n",
       "      <td>0.0</td>\n",
       "      <td>0.000000</td>\n",
       "      <td>0.000000</td>\n",
       "      <td>0.000000</td>\n",
       "      <td>0.000000</td>\n",
       "      <td>0.000000</td>\n",
       "      <td>0.000000</td>\n",
       "    </tr>\n",
       "    <tr>\n",
       "      <th>25%</th>\n",
       "      <td>0.233333</td>\n",
       "      <td>0.0</td>\n",
       "      <td>0.320944</td>\n",
       "      <td>0.383731</td>\n",
       "      <td>0.375955</td>\n",
       "      <td>0.120000</td>\n",
       "      <td>0.181818</td>\n",
       "      <td>0.000000</td>\n",
       "    </tr>\n",
       "    <tr>\n",
       "      <th>50%</th>\n",
       "      <td>0.466667</td>\n",
       "      <td>0.0</td>\n",
       "      <td>0.448171</td>\n",
       "      <td>0.501067</td>\n",
       "      <td>0.529674</td>\n",
       "      <td>0.380000</td>\n",
       "      <td>0.454545</td>\n",
       "      <td>0.000000</td>\n",
       "    </tr>\n",
       "    <tr>\n",
       "      <th>75%</th>\n",
       "      <td>0.700000</td>\n",
       "      <td>0.0</td>\n",
       "      <td>0.594504</td>\n",
       "      <td>0.650355</td>\n",
       "      <td>0.636561</td>\n",
       "      <td>0.700000</td>\n",
       "      <td>0.727273</td>\n",
       "      <td>0.000000</td>\n",
       "    </tr>\n",
       "    <tr>\n",
       "      <th>max</th>\n",
       "      <td>1.000000</td>\n",
       "      <td>0.0</td>\n",
       "      <td>1.000000</td>\n",
       "      <td>1.000000</td>\n",
       "      <td>1.000000</td>\n",
       "      <td>1.000000</td>\n",
       "      <td>1.000000</td>\n",
       "      <td>1.000000</td>\n",
       "    </tr>\n",
       "  </tbody>\n",
       "</table>\n",
       "</div>"
      ],
      "text/plain": [
       "                 0       1            2            3            4  \\\n",
       "count  1517.000000  1517.0  1517.000000  1517.000000  1517.000000   \n",
       "mean      0.481652     0.0     0.446655     0.514899     0.515111   \n",
       "std       0.293224     0.0     0.217371     0.183939     0.190796   \n",
       "min       0.000000     0.0     0.000000     0.000000     0.000000   \n",
       "25%       0.233333     0.0     0.320944     0.383731     0.375955   \n",
       "50%       0.466667     0.0     0.448171     0.501067     0.529674   \n",
       "75%       0.700000     0.0     0.594504     0.650355     0.636561   \n",
       "max       1.000000     0.0     1.000000     1.000000     1.000000   \n",
       "\n",
       "                 5            6            7  \n",
       "count  1517.000000  1517.000000  1517.000000  \n",
       "mean      0.423929     0.469707     0.162821  \n",
       "std       0.322648     0.308295     0.369324  \n",
       "min       0.000000     0.000000     0.000000  \n",
       "25%       0.120000     0.181818     0.000000  \n",
       "50%       0.380000     0.454545     0.000000  \n",
       "75%       0.700000     0.727273     0.000000  \n",
       "max       1.000000     1.000000     1.000000  "
      ]
     },
     "execution_count": 70,
     "metadata": {},
     "output_type": "execute_result"
    }
   ],
   "source": [
    "pd.DataFrame(x).describe()"
   ]
  },
  {
   "cell_type": "markdown",
   "id": "fb693d76",
   "metadata": {},
   "source": [
    "data also have scalled"
   ]
  },
  {
   "cell_type": "markdown",
   "id": "d00229c8",
   "metadata": {},
   "source": [
    "# Splitting the data for training and testing"
   ]
  },
  {
   "cell_type": "code",
   "execution_count": 71,
   "id": "9002cf9d",
   "metadata": {},
   "outputs": [],
   "source": [
    "from sklearn.metrics import mean_squared_error,mean_absolute_error\n",
    "from sklearn.metrics import r2_score\n",
    "from sklearn.model_selection import train_test_split\n",
    "from sklearn.model_selection import cross_val_score"
   ]
  },
  {
   "cell_type": "markdown",
   "id": "c321cd6a",
   "metadata": {},
   "source": [
    "Let's find the best random state in below cell"
   ]
  },
  {
   "cell_type": "code",
   "execution_count": 73,
   "id": "76d55cc2",
   "metadata": {},
   "outputs": [
    {
     "name": "stdout",
     "output_type": "stream",
     "text": [
      "At random state 0, The training accuracy is: 0.3102354025933731\n",
      "At random state 0, The test accuracy is: 0.2444070794413875\n",
      "\n",
      "\n",
      "At random state 1, The training accuracy is: 0.27619654942729854\n",
      "At random state 1, The test accuracy is: 0.3627785280100134\n",
      "\n",
      "\n",
      "At random state 2, The training accuracy is: 0.28346296302432017\n",
      "At random state 2, The test accuracy is: 0.3389365423247165\n",
      "\n",
      "\n",
      "At random state 3, The training accuracy is: 0.3169559109186374\n",
      "At random state 3, The test accuracy is: 0.20805703429022926\n",
      "\n",
      "\n",
      "At random state 4, The training accuracy is: 0.32252164937847017\n",
      "At random state 4, The test accuracy is: 0.17341072301487725\n",
      "\n",
      "\n",
      "At random state 5, The training accuracy is: 0.2953391466438481\n",
      "At random state 5, The test accuracy is: 0.30184366507661464\n",
      "\n",
      "\n",
      "At random state 6, The training accuracy is: 0.29763208136917507\n",
      "At random state 6, The test accuracy is: 0.27548493486002346\n",
      "\n",
      "\n",
      "At random state 7, The training accuracy is: 0.3085524911807649\n",
      "At random state 7, The test accuracy is: 0.24563485703407417\n",
      "\n",
      "\n",
      "At random state 8, The training accuracy is: 0.29241233051793425\n",
      "At random state 8, The test accuracy is: 0.30445721363456335\n",
      "\n",
      "\n",
      "At random state 9, The training accuracy is: 0.2960946000874559\n",
      "At random state 9, The test accuracy is: 0.2939124771077005\n",
      "\n",
      "\n",
      "At random state 10, The training accuracy is: 0.2986326343977642\n",
      "At random state 10, The test accuracy is: 0.285621900888415\n",
      "\n",
      "\n",
      "At random state 11, The training accuracy is: 0.3005113017730092\n",
      "At random state 11, The test accuracy is: 0.2767422255308163\n",
      "\n",
      "\n",
      "At random state 12, The training accuracy is: 0.30946037131808557\n",
      "At random state 12, The test accuracy is: 0.23750787317948452\n",
      "\n",
      "\n",
      "At random state 13, The training accuracy is: 0.30474914791632934\n",
      "At random state 13, The test accuracy is: 0.24932506709826052\n",
      "\n",
      "\n",
      "At random state 14, The training accuracy is: 0.3067579158415398\n",
      "At random state 14, The test accuracy is: 0.26130544403547284\n",
      "\n",
      "\n",
      "At random state 15, The training accuracy is: 0.298880308624622\n",
      "At random state 15, The test accuracy is: 0.28683179278848014\n",
      "\n",
      "\n",
      "At random state 16, The training accuracy is: 0.2998635170123879\n",
      "At random state 16, The test accuracy is: 0.28172177297652723\n",
      "\n",
      "\n",
      "At random state 17, The training accuracy is: 0.2982182871109308\n",
      "At random state 17, The test accuracy is: 0.2911252922586167\n",
      "\n",
      "\n",
      "At random state 18, The training accuracy is: 0.2878809975163964\n",
      "At random state 18, The test accuracy is: 0.3031241952196603\n",
      "\n",
      "\n",
      "At random state 19, The training accuracy is: 0.2975901058078412\n",
      "At random state 19, The test accuracy is: 0.29092939690691777\n",
      "\n",
      "\n",
      "At random state 20, The training accuracy is: 0.29328754428755577\n",
      "At random state 20, The test accuracy is: 0.30770917263734565\n",
      "\n",
      "\n",
      "At random state 21, The training accuracy is: 0.296931454912981\n",
      "At random state 21, The test accuracy is: 0.2918286187519624\n",
      "\n",
      "\n",
      "At random state 22, The training accuracy is: 0.29201837182782586\n",
      "At random state 22, The test accuracy is: 0.3146698674610231\n",
      "\n",
      "\n",
      "At random state 23, The training accuracy is: 0.2865983836613255\n",
      "At random state 23, The test accuracy is: 0.3186738173473964\n",
      "\n",
      "\n",
      "At random state 24, The training accuracy is: 0.2933351096582131\n",
      "At random state 24, The test accuracy is: 0.3105107352013572\n",
      "\n",
      "\n",
      "At random state 25, The training accuracy is: 0.29064484485973785\n",
      "At random state 25, The test accuracy is: 0.31405156629702813\n",
      "\n",
      "\n",
      "At random state 26, The training accuracy is: 0.2942813954284371\n",
      "At random state 26, The test accuracy is: 0.2991609003555399\n",
      "\n",
      "\n",
      "At random state 27, The training accuracy is: 0.2901121381646442\n",
      "At random state 27, The test accuracy is: 0.31527792407179933\n",
      "\n",
      "\n",
      "At random state 28, The training accuracy is: 0.2979453295952036\n",
      "At random state 28, The test accuracy is: 0.2911154270656483\n",
      "\n",
      "\n",
      "At random state 29, The training accuracy is: 0.28564026613882354\n",
      "At random state 29, The test accuracy is: 0.3339136322377414\n",
      "\n",
      "\n",
      "At random state 30, The training accuracy is: 0.27703087974779084\n",
      "At random state 30, The test accuracy is: 0.36727355887525437\n",
      "\n",
      "\n",
      "At random state 31, The training accuracy is: 0.30740587241219675\n",
      "At random state 31, The test accuracy is: 0.25910240564252296\n",
      "\n",
      "\n",
      "At random state 32, The training accuracy is: 0.28665613659024025\n",
      "At random state 32, The test accuracy is: 0.3272509130116562\n",
      "\n",
      "\n",
      "At random state 33, The training accuracy is: 0.29527804099489274\n",
      "At random state 33, The test accuracy is: 0.3005641441954363\n",
      "\n",
      "\n",
      "At random state 34, The training accuracy is: 0.3014823861364204\n",
      "At random state 34, The test accuracy is: 0.27180760022091777\n",
      "\n",
      "\n",
      "At random state 35, The training accuracy is: 0.30967782153995704\n",
      "At random state 35, The test accuracy is: 0.24729497603909278\n",
      "\n",
      "\n",
      "At random state 36, The training accuracy is: 0.2922713006943549\n",
      "At random state 36, The test accuracy is: 0.30818688608806544\n",
      "\n",
      "\n",
      "At random state 37, The training accuracy is: 0.30896034665186756\n",
      "At random state 37, The test accuracy is: 0.23896454095441433\n",
      "\n",
      "\n",
      "At random state 38, The training accuracy is: 0.2824013916174374\n",
      "At random state 38, The test accuracy is: 0.344974953876106\n",
      "\n",
      "\n",
      "At random state 39, The training accuracy is: 0.2988846958819933\n",
      "At random state 39, The test accuracy is: 0.2851671526823041\n",
      "\n",
      "\n",
      "At random state 40, The training accuracy is: 0.29081194088276674\n",
      "At random state 40, The test accuracy is: 0.311462414907995\n",
      "\n",
      "\n",
      "At random state 41, The training accuracy is: 0.31039015830259287\n",
      "At random state 41, The test accuracy is: 0.23912114265787643\n",
      "\n",
      "\n",
      "At random state 42, The training accuracy is: 0.2938469370112874\n",
      "At random state 42, The test accuracy is: 0.3061248056353133\n",
      "\n",
      "\n",
      "At random state 43, The training accuracy is: 0.2701311121398222\n",
      "At random state 43, The test accuracy is: 0.36022597877890994\n",
      "\n",
      "\n",
      "At random state 44, The training accuracy is: 0.30872373092739724\n",
      "At random state 44, The test accuracy is: 0.24047211008633584\n",
      "\n",
      "\n",
      "At random state 45, The training accuracy is: 0.310636065759036\n",
      "At random state 45, The test accuracy is: 0.24606694395279205\n",
      "\n",
      "\n",
      "At random state 46, The training accuracy is: 0.29097398702876254\n",
      "At random state 46, The test accuracy is: 0.3167909652727615\n",
      "\n",
      "\n",
      "At random state 47, The training accuracy is: 0.2912540884620136\n",
      "At random state 47, The test accuracy is: 0.3160309499627393\n",
      "\n",
      "\n",
      "At random state 48, The training accuracy is: 0.3108767488569816\n",
      "At random state 48, The test accuracy is: 0.24060108432096372\n",
      "\n",
      "\n",
      "At random state 49, The training accuracy is: 0.3034435900372078\n",
      "At random state 49, The test accuracy is: 0.27266342477812455\n",
      "\n",
      "\n",
      "At random state 50, The training accuracy is: 0.3001571297667063\n",
      "At random state 50, The test accuracy is: 0.28595459328923445\n",
      "\n",
      "\n",
      "At random state 51, The training accuracy is: 0.2863478254433498\n",
      "At random state 51, The test accuracy is: 0.32087925298934705\n",
      "\n",
      "\n",
      "At random state 52, The training accuracy is: 0.2881707246861256\n",
      "At random state 52, The test accuracy is: 0.32045651981433476\n",
      "\n",
      "\n",
      "At random state 53, The training accuracy is: 0.29587596324432697\n",
      "At random state 53, The test accuracy is: 0.2926025884835751\n",
      "\n",
      "\n",
      "At random state 54, The training accuracy is: 0.3008790498192666\n",
      "At random state 54, The test accuracy is: 0.2808225239614538\n",
      "\n",
      "\n",
      "At random state 55, The training accuracy is: 0.2894741493126525\n",
      "At random state 55, The test accuracy is: 0.3110935588521523\n",
      "\n",
      "\n",
      "At random state 56, The training accuracy is: 0.31138375592587764\n",
      "At random state 56, The test accuracy is: 0.22734116255410763\n",
      "\n",
      "\n",
      "At random state 57, The training accuracy is: 0.3016978068888908\n",
      "At random state 57, The test accuracy is: 0.27972806729604793\n",
      "\n",
      "\n",
      "At random state 58, The training accuracy is: 0.3122788297050003\n",
      "At random state 58, The test accuracy is: 0.22019474255694926\n",
      "\n",
      "\n",
      "At random state 59, The training accuracy is: 0.29488955153843044\n",
      "At random state 59, The test accuracy is: 0.28385121714768446\n",
      "\n",
      "\n",
      "At random state 60, The training accuracy is: 0.28619952185002373\n",
      "At random state 60, The test accuracy is: 0.31903134370720465\n",
      "\n",
      "\n",
      "At random state 61, The training accuracy is: 0.30738982098404444\n",
      "At random state 61, The test accuracy is: 0.24841846202614504\n",
      "\n",
      "\n",
      "At random state 62, The training accuracy is: 0.31762617473765875\n",
      "At random state 62, The test accuracy is: 0.2113417904616247\n",
      "\n",
      "\n",
      "At random state 63, The training accuracy is: 0.30446261549563236\n",
      "At random state 63, The test accuracy is: 0.2622456980857937\n",
      "\n",
      "\n",
      "At random state 64, The training accuracy is: 0.3002373920724729\n",
      "At random state 64, The test accuracy is: 0.2814298346511277\n",
      "\n",
      "\n",
      "At random state 65, The training accuracy is: 0.3019081189266861\n",
      "At random state 65, The test accuracy is: 0.272307001094822\n",
      "\n",
      "\n",
      "At random state 66, The training accuracy is: 0.30589729140416\n",
      "At random state 66, The test accuracy is: 0.26174939496661864\n",
      "\n",
      "\n",
      "At random state 67, The training accuracy is: 0.2963754977482589\n",
      "At random state 67, The test accuracy is: 0.2926167789457178\n",
      "\n",
      "\n",
      "At random state 68, The training accuracy is: 0.2933540935343515\n",
      "At random state 68, The test accuracy is: 0.296820105592009\n",
      "\n",
      "\n",
      "At random state 69, The training accuracy is: 0.3199427777954622\n",
      "At random state 69, The test accuracy is: 0.1968245024764117\n",
      "\n",
      "\n",
      "At random state 70, The training accuracy is: 0.29991550156311253\n",
      "At random state 70, The test accuracy is: 0.28196679583278794\n",
      "\n",
      "\n",
      "At random state 71, The training accuracy is: 0.30105637207271096\n",
      "At random state 71, The test accuracy is: 0.2777559434220753\n",
      "\n",
      "\n",
      "At random state 72, The training accuracy is: 0.300989020354403\n",
      "At random state 72, The test accuracy is: 0.26818320406261664\n",
      "\n",
      "\n",
      "At random state 73, The training accuracy is: 0.2875441483965524\n",
      "At random state 73, The test accuracy is: 0.32291804685067405\n",
      "\n",
      "\n",
      "At random state 74, The training accuracy is: 0.2827465617478744\n",
      "At random state 74, The test accuracy is: 0.3359805827095561\n",
      "\n",
      "\n",
      "At random state 75, The training accuracy is: 0.2937441400921774\n",
      "At random state 75, The test accuracy is: 0.30525142150248574\n",
      "\n",
      "\n",
      "At random state 76, The training accuracy is: 0.30462040064292784\n",
      "At random state 76, The test accuracy is: 0.26551214324492234\n",
      "\n",
      "\n",
      "At random state 77, The training accuracy is: 0.31583947364847087\n",
      "At random state 77, The test accuracy is: 0.21751101902578096\n",
      "\n",
      "\n",
      "At random state 78, The training accuracy is: 0.2966232975242987\n",
      "At random state 78, The test accuracy is: 0.2940087192718175\n",
      "\n",
      "\n",
      "At random state 79, The training accuracy is: 0.29873139722272035\n",
      "At random state 79, The test accuracy is: 0.28412216152175473\n",
      "\n",
      "\n",
      "At random state 80, The training accuracy is: 0.2917893100239365\n",
      "At random state 80, The test accuracy is: 0.3097185122250359\n",
      "\n",
      "\n",
      "At random state 81, The training accuracy is: 0.2912177155308924\n",
      "At random state 81, The test accuracy is: 0.29960575333637307\n",
      "\n",
      "\n",
      "At random state 82, The training accuracy is: 0.2882345816163471\n",
      "At random state 82, The test accuracy is: 0.3186656605616499\n",
      "\n",
      "\n",
      "At random state 83, The training accuracy is: 0.30154886574018724\n",
      "At random state 83, The test accuracy is: 0.270866812718621\n",
      "\n",
      "\n",
      "At random state 84, The training accuracy is: 0.28028880570996617\n",
      "At random state 84, The test accuracy is: 0.3413624304188584\n",
      "\n",
      "\n",
      "At random state 85, The training accuracy is: 0.2823553270856832\n",
      "At random state 85, The test accuracy is: 0.3318613404124474\n",
      "\n",
      "\n",
      "At random state 86, The training accuracy is: 0.3128211146325304\n",
      "At random state 86, The test accuracy is: 0.22301280802779777\n",
      "\n",
      "\n",
      "At random state 87, The training accuracy is: 0.2876100638035479\n",
      "At random state 87, The test accuracy is: 0.32220362995214546\n",
      "\n",
      "\n",
      "At random state 88, The training accuracy is: 0.2972280983824137\n",
      "At random state 88, The test accuracy is: 0.2936422295788894\n",
      "\n",
      "\n",
      "At random state 89, The training accuracy is: 0.2846932424494031\n",
      "At random state 89, The test accuracy is: 0.3355386328851142\n",
      "\n",
      "\n",
      "At random state 90, The training accuracy is: 0.30961381802269294\n",
      "At random state 90, The test accuracy is: 0.24953077292747572\n",
      "\n",
      "\n",
      "At random state 91, The training accuracy is: 0.29902233016554647\n",
      "At random state 91, The test accuracy is: 0.2878698621059492\n",
      "\n",
      "\n",
      "At random state 92, The training accuracy is: 0.2933190989201605\n",
      "At random state 92, The test accuracy is: 0.30206962805274906\n",
      "\n",
      "\n",
      "At random state 93, The training accuracy is: 0.29507228820341425\n",
      "At random state 93, The test accuracy is: 0.2995397060460574\n",
      "\n",
      "\n",
      "At random state 94, The training accuracy is: 0.2862636688377439\n",
      "At random state 94, The test accuracy is: 0.3166842895196115\n",
      "\n",
      "\n",
      "At random state 95, The training accuracy is: 0.2904842797252538\n",
      "At random state 95, The test accuracy is: 0.3053858541383774\n",
      "\n",
      "\n",
      "At random state 96, The training accuracy is: 0.30354122238373094\n",
      "At random state 96, The test accuracy is: 0.26746634596235086\n",
      "\n",
      "\n",
      "At random state 97, The training accuracy is: 0.30299974034808197\n",
      "At random state 97, The test accuracy is: 0.26497412293501044\n",
      "\n",
      "\n",
      "At random state 98, The training accuracy is: 0.3110986961610732\n",
      "At random state 98, The test accuracy is: 0.22533140860094802\n",
      "\n",
      "\n",
      "At random state 99, The training accuracy is: 0.28455400817648646\n",
      "At random state 99, The test accuracy is: 0.3399045387216172\n",
      "\n",
      "\n"
     ]
    }
   ],
   "source": [
    "from sklearn.linear_model import LinearRegression\n",
    "\n",
    "\n",
    "LR=LinearRegression()\n",
    "\n",
    "for i in range(0,100):\n",
    "    x_train,x_test,y_train,y_test=train_test_split(x,y,test_size=0.22,random_state=i)\n",
    "    LR.fit(x_train,y_train)\n",
    "    LR_predict_train=LR.predict(x_train)\n",
    "    LR_predict_test=LR.predict(x_test)\n",
    "    print(f'At random state {i}, The training accuracy is: {r2_score(y_train,LR_predict_train)}')\n",
    "    print(f'At random state {i}, The test accuracy is: {r2_score(y_test,LR_predict_test)}')\n",
    "    print('\\n')"
   ]
  },
  {
   "cell_type": "markdown",
   "id": "4bc592de",
   "metadata": {},
   "source": [
    "random state=43 giving highest accuracy, choosing that as random state"
   ]
  },
  {
   "cell_type": "code",
   "execution_count": 74,
   "id": "72b4fc46",
   "metadata": {},
   "outputs": [],
   "source": [
    "#splitting the data into 78% training and 22% testing\n",
    "x_train,x_test,y_train,y_test=train_test_split(x,y,test_size=0.22,random_state=43)"
   ]
  },
  {
   "cell_type": "code",
   "execution_count": 75,
   "id": "b693939a",
   "metadata": {},
   "outputs": [
    {
     "data": {
      "text/plain": [
       "(1183, 8)"
      ]
     },
     "execution_count": 75,
     "metadata": {},
     "output_type": "execute_result"
    }
   ],
   "source": [
    "x_train.shape"
   ]
  },
  {
   "cell_type": "code",
   "execution_count": 76,
   "id": "85a5e2ea",
   "metadata": {},
   "outputs": [
    {
     "data": {
      "text/plain": [
       "(1183,)"
      ]
     },
     "execution_count": 76,
     "metadata": {},
     "output_type": "execute_result"
    }
   ],
   "source": [
    "y_train.shape"
   ]
  },
  {
   "cell_type": "code",
   "execution_count": 77,
   "id": "d55f10d2",
   "metadata": {},
   "outputs": [
    {
     "data": {
      "text/plain": [
       "(334, 8)"
      ]
     },
     "execution_count": 77,
     "metadata": {},
     "output_type": "execute_result"
    }
   ],
   "source": [
    "x_test.shape"
   ]
  },
  {
   "cell_type": "code",
   "execution_count": 78,
   "id": "99c1d74a",
   "metadata": {},
   "outputs": [
    {
     "data": {
      "text/plain": [
       "(334,)"
      ]
     },
     "execution_count": 78,
     "metadata": {},
     "output_type": "execute_result"
    }
   ],
   "source": [
    "y_test.shape"
   ]
  },
  {
   "cell_type": "markdown",
   "id": "d8af6b10",
   "metadata": {},
   "source": [
    "# MODEL BUILDING:"
   ]
  },
  {
   "cell_type": "markdown",
   "id": "dfc0c98b",
   "metadata": {},
   "source": [
    "Linear Regression"
   ]
  },
  {
   "cell_type": "code",
   "execution_count": 79,
   "id": "2e49b3c2",
   "metadata": {},
   "outputs": [
    {
     "name": "stdout",
     "output_type": "stream",
     "text": [
      "0.2701311121398222\n"
     ]
    }
   ],
   "source": [
    "from sklearn.linear_model import LinearRegression\n",
    "\n",
    "LR=LinearRegression()\n",
    "LR.fit(x_train,y_train)\n",
    "print(LR.score(x_train,y_train))\n",
    "LR_predict=LR.predict(x_test)"
   ]
  },
  {
   "cell_type": "code",
   "execution_count": 80,
   "id": "b6545877",
   "metadata": {},
   "outputs": [
    {
     "name": "stdout",
     "output_type": "stream",
     "text": [
      "MSE: 0.02709800786723337\n",
      "MAE: 0.1274411654821505\n",
      "r2_score: -1.839899996326801\n"
     ]
    }
   ],
   "source": [
    "print('MSE:',mean_squared_error(LR_predict,y_test))\n",
    "print('MAE:',mean_absolute_error(LR_predict,y_test))\n",
    "print('r2_score:',r2_score(LR_predict,y_test))"
   ]
  },
  {
   "cell_type": "markdown",
   "id": "3da7c880",
   "metadata": {},
   "source": [
    "# Ridge"
   ]
  },
  {
   "cell_type": "code",
   "execution_count": 81,
   "id": "7efb4b31",
   "metadata": {},
   "outputs": [
    {
     "name": "stdout",
     "output_type": "stream",
     "text": [
      "0.26996059701127517\n"
     ]
    }
   ],
   "source": [
    "from sklearn.linear_model import Ridge\n",
    "\n",
    "R=Ridge()\n",
    "R.fit(x_train,y_train)\n",
    "print(R.score(x_train,y_train))\n",
    "R_predict=R.predict(x_test)"
   ]
  },
  {
   "cell_type": "code",
   "execution_count": 82,
   "id": "41a12ce8",
   "metadata": {},
   "outputs": [
    {
     "name": "stdout",
     "output_type": "stream",
     "text": [
      "MSE: 0.02720641385534362\n",
      "MAE: 0.12770720970235708\n",
      "r2_score: -1.9554189057412468\n"
     ]
    }
   ],
   "source": [
    "print('MSE:',mean_squared_error(R_predict,y_test))\n",
    "print('MAE:',mean_absolute_error(R_predict,y_test))\n",
    "print('r2_score:',r2_score(R_predict,y_test))"
   ]
  },
  {
   "cell_type": "markdown",
   "id": "4b3684f9",
   "metadata": {},
   "source": [
    "# SVR\n",
    "# SVR(kernel='linear')"
   ]
  },
  {
   "cell_type": "code",
   "execution_count": 84,
   "id": "44ac320d",
   "metadata": {},
   "outputs": [
    {
     "name": "stdout",
     "output_type": "stream",
     "text": [
      "0.25861720067957594\n"
     ]
    }
   ],
   "source": [
    "from sklearn.svm import SVR\n",
    "\n",
    "svr=SVR(kernel='linear')\n",
    "svr.fit(x_train,y_train)\n",
    "print(svr.score(x_train,y_train))\n",
    "svr_predict=svr.predict(x_test)"
   ]
  },
  {
   "cell_type": "code",
   "execution_count": 85,
   "id": "b819b3d4",
   "metadata": {},
   "outputs": [
    {
     "name": "stdout",
     "output_type": "stream",
     "text": [
      "MSE: 0.028283040949155906\n",
      "MAE: 0.12871461461363184\n",
      "r2_score: -2.8800404347726705\n"
     ]
    }
   ],
   "source": [
    "print('MSE:',mean_squared_error(svr_predict,y_test))\n",
    "print('MAE:',mean_absolute_error(svr_predict,y_test))\n",
    "print('r2_score:',r2_score(svr_predict,y_test))"
   ]
  },
  {
   "cell_type": "markdown",
   "id": "173e02f2",
   "metadata": {},
   "source": [
    "# SVR(kernel='poly')"
   ]
  },
  {
   "cell_type": "code",
   "execution_count": 86,
   "id": "0461b735",
   "metadata": {},
   "outputs": [
    {
     "name": "stdout",
     "output_type": "stream",
     "text": [
      "0.575354033248693\n"
     ]
    }
   ],
   "source": [
    "svr_p=SVR(kernel='poly')\n",
    "svr_p.fit(x_train,y_train)\n",
    "print(svr_p.score(x_train,y_train))\n",
    "svrpred_p=svr_p.predict(x_test)\n"
   ]
  },
  {
   "cell_type": "code",
   "execution_count": 87,
   "id": "c54cb272",
   "metadata": {},
   "outputs": [
    {
     "name": "stdout",
     "output_type": "stream",
     "text": [
      "MSE: 0.020073547024926166\n",
      "MAE: 0.1075150545574723\n",
      "r2_score: 0.24977172757051314\n"
     ]
    }
   ],
   "source": [
    "print('MSE:',mean_squared_error(svrpred_p,y_test))\n",
    "print('MAE:',mean_absolute_error(svrpred_p,y_test))\n",
    "print('r2_score:',r2_score(svrpred_p,y_test))"
   ]
  },
  {
   "cell_type": "markdown",
   "id": "4951f6e3",
   "metadata": {},
   "source": [
    "# SVR(kernel='rbf')"
   ]
  },
  {
   "cell_type": "code",
   "execution_count": 88,
   "id": "88c10f50",
   "metadata": {},
   "outputs": [
    {
     "name": "stdout",
     "output_type": "stream",
     "text": [
      "0.7133887752033343\n"
     ]
    }
   ],
   "source": [
    "svr_r=SVR(kernel='rbf')\n",
    "svr_r.fit(x_train,y_train)\n",
    "print(svr_r.score(x_train,y_train))\n",
    "svrpred_r=svr_r.predict(x_test)"
   ]
  },
  {
   "cell_type": "code",
   "execution_count": 89,
   "id": "611b3030",
   "metadata": {},
   "outputs": [
    {
     "name": "stdout",
     "output_type": "stream",
     "text": [
      "MSE: 0.014425165245500705\n",
      "MAE: 0.09167336171509548\n",
      "r2_score: 0.4589217891712394\n"
     ]
    }
   ],
   "source": [
    "print('MSE:',mean_squared_error(svrpred_r,y_test))\n",
    "print('MAE:',mean_absolute_error(svrpred_r,y_test))\n",
    "print('r2_score:',r2_score(svrpred_r,y_test))"
   ]
  },
  {
   "cell_type": "markdown",
   "id": "aca4128f",
   "metadata": {},
   "source": [
    "# RandomForestRegressor"
   ]
  },
  {
   "cell_type": "code",
   "execution_count": 90,
   "id": "f9c553d9",
   "metadata": {},
   "outputs": [
    {
     "name": "stdout",
     "output_type": "stream",
     "text": [
      "0.9720486170520519\n"
     ]
    }
   ],
   "source": [
    "from sklearn.ensemble import RandomForestRegressor\n",
    "\n",
    "RF=RandomForestRegressor()\n",
    "RF.fit(x_train,y_train)\n",
    "print(RF.score(x_train,y_train))\n",
    "RF_PRED=RF.predict(x_test)"
   ]
  },
  {
   "cell_type": "code",
   "execution_count": 91,
   "id": "7b2fee7e",
   "metadata": {},
   "outputs": [
    {
     "name": "stdout",
     "output_type": "stream",
     "text": [
      "MSE: 0.006292807844311382\n",
      "MAE: 0.0571568862275449\n",
      "r2_score: 0.7906231310809545\n"
     ]
    }
   ],
   "source": [
    "print('MSE:',mean_squared_error(RF_PRED,y_test))\n",
    "print('MAE:',mean_absolute_error(RF_PRED,y_test))\n",
    "print('r2_score:',r2_score(RF_PRED,y_test))"
   ]
  },
  {
   "cell_type": "markdown",
   "id": "e4f1a306",
   "metadata": {},
   "source": [
    "# DecisionTreeRegressor"
   ]
  },
  {
   "cell_type": "code",
   "execution_count": 92,
   "id": "688e1eba",
   "metadata": {},
   "outputs": [
    {
     "name": "stdout",
     "output_type": "stream",
     "text": [
      "1.0\n"
     ]
    }
   ],
   "source": [
    "from sklearn.tree import DecisionTreeRegressor\n",
    "\n",
    "DTR=DecisionTreeRegressor()\n",
    "DTR.fit(x_train,y_train)\n",
    "print(DTR.score(x_train,y_train))\n",
    "DTR_PRED=DTR.predict(x_test)"
   ]
  },
  {
   "cell_type": "code",
   "execution_count": 93,
   "id": "66b46516",
   "metadata": {},
   "outputs": [
    {
     "name": "stdout",
     "output_type": "stream",
     "text": [
      "MSE: 0.009612574850299399\n",
      "MAE: 0.07095808383233533\n",
      "r2_score: 0.780075672201593\n"
     ]
    }
   ],
   "source": [
    "print('MSE:',mean_squared_error(DTR_PRED,y_test))\n",
    "print('MAE:',mean_absolute_error(DTR_PRED,y_test))\n",
    "print('r2_score:',r2_score(DTR_PRED,y_test))\n"
   ]
  },
  {
   "cell_type": "markdown",
   "id": "5d285aed",
   "metadata": {},
   "source": [
    "# GradientBoostingRegressor"
   ]
  },
  {
   "cell_type": "code",
   "execution_count": 94,
   "id": "0e696708",
   "metadata": {},
   "outputs": [
    {
     "name": "stdout",
     "output_type": "stream",
     "text": [
      "0.8129989241196538\n"
     ]
    }
   ],
   "source": [
    "from sklearn.ensemble import GradientBoostingRegressor\n",
    "\n",
    "GBR=GradientBoostingRegressor()\n",
    "GBR.fit(x_train,y_train)\n",
    "print(GBR.score(x_train,y_train))\n",
    "GBR_PRED=GBR.predict(x_test)"
   ]
  },
  {
   "cell_type": "code",
   "execution_count": 95,
   "id": "68c97149",
   "metadata": {},
   "outputs": [
    {
     "name": "stdout",
     "output_type": "stream",
     "text": [
      "MSE: 0.010825371061879755\n",
      "MAE: 0.08084566302521515\n",
      "r2_score: 0.5353082916343385\n"
     ]
    }
   ],
   "source": [
    "print('MSE:',mean_squared_error(GBR_PRED,y_test))\n",
    "print('MAE:',mean_absolute_error(GBR_PRED,y_test))\n",
    "print('r2_score:',r2_score(GBR_PRED,y_test))"
   ]
  },
  {
   "cell_type": "markdown",
   "id": "3f6607ef",
   "metadata": {},
   "source": [
    "# Cross Validation"
   ]
  },
  {
   "cell_type": "code",
   "execution_count": 96,
   "id": "be92912f",
   "metadata": {},
   "outputs": [
    {
     "name": "stdout",
     "output_type": "stream",
     "text": [
      "LR    : 0.031240, 0.018092\n",
      "R    : 0.031190, 0.018186\n",
      "svr    : 0.031631, 0.019666\n",
      "svr_p    : 0.072474, 0.085390\n",
      "svr_r    : 0.033589, 0.027746\n",
      "RF    : 0.032910, 0.023120\n",
      "DTR    : 0.046148, 0.020202\n",
      "GBR    : 0.027286, 0.014486\n"
     ]
    }
   ],
   "source": [
    "from sklearn.model_selection import cross_val_score\n",
    "\n",
    "np.random.seed(10)\n",
    "def rmse_cv(model, x,y):\n",
    "    rmse =- (cross_val_score(model, x,y, scoring='neg_mean_squared_error', cv=10))\n",
    "    return(rmse)\n",
    "\n",
    "\n",
    "models = [LinearRegression(),\n",
    "             Ridge(),\n",
    "             SVR(kernel='linear'),\n",
    "             SVR(kernel='poly'),\n",
    "             SVR(kernel='rbf'),\n",
    "             RandomForestRegressor(),\n",
    "             DecisionTreeRegressor(),  \n",
    "             GradientBoostingRegressor(),]\n",
    "            \n",
    "\n",
    "\n",
    "names = ['LR','R','svr','svr_p','svr_r','RF','DTR','GBR']\n",
    "\n",
    "for model,name in zip(models,names):\n",
    "    score = rmse_cv(model,x,y)\n",
    "    print(\"{}    : {:.6f}, {:4f}\".format(name,score.mean(),score.std()))"
   ]
  },
  {
   "cell_type": "markdown",
   "id": "436f36cc",
   "metadata": {},
   "source": [
    "-Accourding to all metrics score selecting the RandomForestRegressor as final model for hyper parameter tuning"
   ]
  },
  {
   "cell_type": "markdown",
   "id": "e032f917",
   "metadata": {},
   "source": [
    "# HYPER PARAMETER TUNING:"
   ]
  },
  {
   "cell_type": "markdown",
   "id": "867b6a5c",
   "metadata": {},
   "source": [
    "GridSearchCV"
   ]
  },
  {
   "cell_type": "code",
   "execution_count": 97,
   "id": "a8ea4c70",
   "metadata": {},
   "outputs": [],
   "source": [
    "from sklearn.model_selection import GridSearchCV"
   ]
  },
  {
   "cell_type": "code",
   "execution_count": 98,
   "id": "7276f051",
   "metadata": {},
   "outputs": [],
   "source": [
    "RF=RandomForestRegressor()\n",
    "param={\n",
    "     'n_estimators':[100,200,],\n",
    "    'criterion':[\"mse\", \"mae\"],\n",
    "    'min_samples_split':[2],\n",
    "   'min_samples_leaf' : [1],\n",
    "}"
   ]
  },
  {
   "cell_type": "code",
   "execution_count": 99,
   "id": "0bf4edf1",
   "metadata": {},
   "outputs": [],
   "source": [
    "RF_grid=GridSearchCV(RandomForestRegressor(),param,cv=4,scoring='accuracy',n_jobs=-1,verbose=2)"
   ]
  },
  {
   "cell_type": "code",
   "execution_count": 100,
   "id": "0cb619bd",
   "metadata": {},
   "outputs": [
    {
     "name": "stdout",
     "output_type": "stream",
     "text": [
      "Fitting 4 folds for each of 4 candidates, totalling 16 fits\n"
     ]
    }
   ],
   "source": [
    "RF_grid.fit(x_train,y_train)\n",
    "RF_grid_PRED=RF_grid.best_estimator_.predict(x_test)"
   ]
  },
  {
   "cell_type": "code",
   "execution_count": 101,
   "id": "aded9d68",
   "metadata": {},
   "outputs": [
    {
     "data": {
      "text/plain": [
       "{'criterion': 'mse',\n",
       " 'min_samples_leaf': 1,\n",
       " 'min_samples_split': 2,\n",
       " 'n_estimators': 100}"
      ]
     },
     "execution_count": 101,
     "metadata": {},
     "output_type": "execute_result"
    }
   ],
   "source": [
    "RF_grid.best_params_"
   ]
  },
  {
   "cell_type": "code",
   "execution_count": 102,
   "id": "5818dc36",
   "metadata": {},
   "outputs": [
    {
     "name": "stdout",
     "output_type": "stream",
     "text": [
      "MSE: 0.00640097206586827\n",
      "MAE: 0.05788473053892216\n",
      "r2_score: 0.7818872148698126\n"
     ]
    }
   ],
   "source": [
    "print('MSE:',mean_squared_error(RF_grid_PRED,y_test))\n",
    "print('MAE:',mean_absolute_error(RF_grid_PRED,y_test))\n",
    "print('r2_score:',r2_score(RF_grid_PRED,y_test))"
   ]
  },
  {
   "cell_type": "markdown",
   "id": "142249db",
   "metadata": {},
   "source": [
    "with best parameters"
   ]
  },
  {
   "cell_type": "code",
   "execution_count": 103,
   "id": "b8f80538",
   "metadata": {},
   "outputs": [],
   "source": [
    "RF=RandomForestRegressor()\n",
    "param={\n",
    "     'n_estimators':[100],\n",
    "    'criterion':[\"mse\"],\n",
    "    'min_samples_split':[2],\n",
    "   'min_samples_leaf' : [1],\n",
    "}"
   ]
  },
  {
   "cell_type": "code",
   "execution_count": 104,
   "id": "a4a737b3",
   "metadata": {},
   "outputs": [],
   "source": [
    "RF_grid=GridSearchCV(RandomForestRegressor(),param,cv=4,scoring='accuracy',n_jobs=-1,verbose=2)"
   ]
  },
  {
   "cell_type": "code",
   "execution_count": 105,
   "id": "abc0ad12",
   "metadata": {},
   "outputs": [
    {
     "name": "stdout",
     "output_type": "stream",
     "text": [
      "Fitting 4 folds for each of 1 candidates, totalling 4 fits\n"
     ]
    }
   ],
   "source": [
    "RF_grid.fit(x_train,y_train)\n",
    "RF_grid_PRED=RF_grid.best_estimator_.predict(x_test)"
   ]
  },
  {
   "cell_type": "code",
   "execution_count": 106,
   "id": "a9bb885d",
   "metadata": {},
   "outputs": [
    {
     "name": "stdout",
     "output_type": "stream",
     "text": [
      "MSE: 0.006446320179640727\n",
      "MAE: 0.057823353293413225\n",
      "r2_score: 0.7846681102569613\n"
     ]
    }
   ],
   "source": [
    "print('MSE:',mean_squared_error(RF_grid_PRED,y_test))\n",
    "print('MAE:',mean_absolute_error(RF_grid_PRED,y_test))\n",
    "print('r2_score:',r2_score(RF_grid_PRED,y_test))"
   ]
  },
  {
   "cell_type": "markdown",
   "id": "9974f6cc",
   "metadata": {},
   "source": [
    "there is improvement in r2_score after tuning the model"
   ]
  },
  {
   "cell_type": "code",
   "execution_count": 107,
   "id": "3e95dfd2",
   "metadata": {},
   "outputs": [
    {
     "data": {
      "text/plain": [
       "array([1.0554, 0.7717, 1.0006, 1.125 , 1.0898, 1.0591, 1.1993, 0.8248,\n",
       "       1.1172, 1.0672, 0.8297, 1.3513, 1.0667, 0.748 , 1.026 , 1.1178,\n",
       "       1.1671, 1.0234, 0.9822, 0.9565, 1.0323, 1.2372, 1.1255, 1.1248,\n",
       "       1.1358, 1.2087, 0.9995, 0.799 , 1.1692, 1.1603, 1.3445, 0.6621,\n",
       "       1.1182, 1.1769, 1.0165, 1.3549, 1.02  , 1.0078, 1.0442, 1.0546,\n",
       "       1.3392, 1.1022, 1.1901, 1.0416, 1.1601, 0.9413, 1.1361, 1.1173,\n",
       "       1.0396, 1.2142, 1.0904, 1.1655, 1.2748, 0.9148, 1.1132, 0.7515,\n",
       "       1.3186, 1.1592, 1.0244, 1.2119, 1.1911, 0.865 , 1.1253, 1.0668,\n",
       "       0.9999, 1.191 , 0.9829, 1.0736, 1.0225, 1.0882, 1.1079, 1.0656,\n",
       "       1.1527, 0.8442, 1.2257, 0.7675, 1.0737, 1.0397, 1.54  , 1.0948,\n",
       "       1.1778, 0.9569, 1.1102, 1.4086, 0.7715, 0.8447, 1.1981, 1.1135,\n",
       "       1.1335, 1.0816, 1.0519, 1.1871, 1.0206, 0.5916, 1.2721, 1.1629,\n",
       "       0.7329, 1.1373, 1.0188, 1.297 , 0.7502, 1.3624, 1.0428, 1.0603,\n",
       "       1.4101, 1.2399, 1.4372, 1.0431, 1.1157, 1.1904, 1.3369, 0.6703,\n",
       "       0.5735, 1.2118, 1.3962, 1.0698, 1.1892, 0.7916, 0.9999, 1.1233,\n",
       "       0.9924, 1.1143, 1.017 , 1.3389, 1.2059, 1.1092, 0.8619, 1.0009,\n",
       "       1.2121, 0.9774, 0.8591, 1.0932, 1.0415, 1.5416, 0.9977, 1.0976,\n",
       "       1.1178, 1.0351, 1.3175, 0.5952, 0.9672, 1.0499, 1.1598, 1.0863,\n",
       "       1.1507, 0.9953, 1.0064, 1.0373, 0.9265, 1.0581, 1.2236, 0.9897,\n",
       "       1.1985, 1.0945, 1.1997, 1.0362, 0.9086, 1.1234, 1.4306, 1.2684,\n",
       "       1.0364, 0.5735, 1.1758, 0.8008, 0.8954, 1.3701, 1.2075, 1.1171,\n",
       "       1.2026, 1.1787, 0.8987, 1.0107, 1.2278, 1.1349, 1.0048, 1.0265,\n",
       "       1.225 , 1.2308, 1.3195, 1.0069, 1.1299, 1.0245, 1.0869, 1.0957,\n",
       "       1.2994, 1.0663, 1.2358, 1.4056, 1.0171, 1.007 , 1.2307, 0.615 ,\n",
       "       1.299 , 1.0789, 1.0927, 1.4201, 1.3584, 1.5575, 1.3666, 1.0422,\n",
       "       1.0376, 1.1318, 1.2022, 1.2275, 1.1726, 1.1038, 1.1776, 1.1106,\n",
       "       1.0462, 0.9495, 1.1635, 1.0142, 1.044 , 1.1609, 0.9938, 1.169 ,\n",
       "       1.1499, 1.1051, 0.951 , 1.4051, 0.9072, 1.2351, 1.1908, 1.1106,\n",
       "       0.7883, 0.9943, 1.088 , 1.0513, 1.1389, 0.5992, 0.7581, 1.2349,\n",
       "       1.0867, 1.1519, 1.5211, 1.1216, 1.0491, 1.0172, 1.0077, 0.6911,\n",
       "       1.0988, 0.9152, 1.0482, 1.1708, 1.0942, 0.9063, 1.4236, 1.0528,\n",
       "       1.1334, 1.0773, 0.8054, 0.6529, 1.1454, 1.0748, 1.1555, 0.945 ,\n",
       "       1.0491, 1.2144, 1.2164, 1.3184, 1.2062, 0.7516, 1.0527, 1.1988,\n",
       "       1.1032, 1.1536, 1.0462, 1.128 , 1.1183, 1.1729, 0.8257, 1.1501,\n",
       "       1.0476, 1.4499, 1.0851, 1.1607, 1.3165, 1.0803, 1.0681, 1.2093,\n",
       "       1.0086, 1.5248, 1.1357, 1.0478, 0.9996, 1.0531, 1.189 , 1.0674,\n",
       "       1.1109, 1.2882, 1.0142, 1.1623, 1.0934, 0.925 , 1.1591, 1.1796,\n",
       "       1.1811, 1.307 , 1.1323, 0.9814, 0.7101, 1.2383, 1.1247, 1.1102,\n",
       "       1.3594, 0.9409, 1.1373, 1.199 , 0.7831, 1.1091, 1.0144, 0.9406,\n",
       "       1.0622, 0.7733, 1.1068, 1.1632, 0.9198, 1.0307, 0.9894, 0.8054,\n",
       "       1.3057, 1.3981, 1.1568, 0.835 , 1.133 , 1.0952, 0.95  , 1.0223,\n",
       "       0.9465, 1.0303, 1.1936, 1.0735, 1.1574, 1.3428])"
      ]
     },
     "execution_count": 107,
     "metadata": {},
     "output_type": "execute_result"
    }
   ],
   "source": [
    "RF_grid_PRED"
   ]
  },
  {
   "cell_type": "code",
   "execution_count": 108,
   "id": "2d891084",
   "metadata": {},
   "outputs": [
    {
     "data": {
      "text/plain": [
       "<AxesSubplot:xlabel='AveragePrice', ylabel='Density'>"
      ]
     },
     "execution_count": 108,
     "metadata": {},
     "output_type": "execute_result"
    },
    {
     "data": {
      "image/png": "[encoded data removed]",
      "text/plain": [
       "<Figure size 432x288 with 1 Axes>"
      ]
     },
     "metadata": {
      "needs_background": "light"
     },
     "output_type": "display_data"
    }
   ],
   "source": [
    "sns.distplot(RF_grid_PRED-y_test)"
   ]
  },
  {
   "cell_type": "code",
   "execution_count": 109,
   "id": "98957f9b",
   "metadata": {},
   "outputs": [
    {
     "data": {
      "text/plain": [
       "[<matplotlib.lines.Line2D at 0x1dc49dd2af0>]"
      ]
     },
     "execution_count": 109,
     "metadata": {},
     "output_type": "execute_result"
    },
    {
     "data": {
      "image/png": "[encoded data removed]",
      "text/plain": [
       "<Figure size 432x288 with 1 Axes>"
      ]
     },
     "metadata": {
      "needs_background": "light"
     },
     "output_type": "display_data"
    }
   ],
   "source": [
    "plt.scatter(RF_grid_PRED,y_test)\n",
    "plt.plot(y_test,y_test,linewidth=4,color='Red')"
   ]
  },
  {
   "cell_type": "code",
   "execution_count": 110,
   "id": "54801eed",
   "metadata": {},
   "outputs": [
    {
     "name": "stdout",
     "output_type": "stream",
     "text": [
      "MSE: 0.006446320179640727\n",
      "MAE: 0.057823353293413225\n",
      "r2_score: 0.7846681102569613\n"
     ]
    }
   ],
   "source": [
    "print('MSE:',mean_squared_error(RF_grid_PRED,y_test))\n",
    "print('MAE:',mean_absolute_error(RF_grid_PRED,y_test))\n",
    "print('r2_score:',r2_score(RF_grid_PRED,y_test))"
   ]
  },
  {
   "cell_type": "markdown",
   "id": "0f3db5ad",
   "metadata": {},
   "source": [
    "we can notice there is a improvement in r2_score after tuning"
   ]
  },
  {
   "cell_type": "markdown",
   "id": "260b0603",
   "metadata": {},
   "source": [
    "# saving the model"
   ]
  },
  {
   "cell_type": "code",
   "execution_count": 111,
   "id": "dc0f7546",
   "metadata": {},
   "outputs": [],
   "source": [
    "import joblib"
   ]
  },
  {
   "cell_type": "code",
   "execution_count": 112,
   "id": "bec2e584",
   "metadata": {},
   "outputs": [
    {
     "data": {
      "text/plain": [
       "['Avacado_Prediction_Project.obj']"
      ]
     },
     "execution_count": 112,
     "metadata": {},
     "output_type": "execute_result"
    }
   ],
   "source": [
    "joblib.dump(RF_grid.best_estimator_,'Avacado_Prediction_Project.obj')"
   ]
  },
  {
   "cell_type": "code",
   "execution_count": 113,
   "id": "62f5d2fd",
   "metadata": {},
   "outputs": [],
   "source": [
    "model=joblib.load('Avacado_Prediction_Project.obj')"
   ]
  },
  {
   "cell_type": "code",
   "execution_count": 114,
   "id": "9a1d527d",
   "metadata": {},
   "outputs": [
    {
     "data": {
      "text/plain": [
       "array([1.0554, 0.7717, 1.0006, 1.125 , 1.0898, 1.0591, 1.1993, 0.8248,\n",
       "       1.1172, 1.0672, 0.8297, 1.3513, 1.0667, 0.748 , 1.026 , 1.1178,\n",
       "       1.1671, 1.0234, 0.9822, 0.9565, 1.0323, 1.2372, 1.1255, 1.1248,\n",
       "       1.1358, 1.2087, 0.9995, 0.799 , 1.1692, 1.1603, 1.3445, 0.6621,\n",
       "       1.1182, 1.1769, 1.0165, 1.3549, 1.02  , 1.0078, 1.0442, 1.0546,\n",
       "       1.3392, 1.1022, 1.1901, 1.0416, 1.1601, 0.9413, 1.1361, 1.1173,\n",
       "       1.0396, 1.2142, 1.0904, 1.1655, 1.2748, 0.9148, 1.1132, 0.7515,\n",
       "       1.3186, 1.1592, 1.0244, 1.2119, 1.1911, 0.865 , 1.1253, 1.0668,\n",
       "       0.9999, 1.191 , 0.9829, 1.0736, 1.0225, 1.0882, 1.1079, 1.0656,\n",
       "       1.1527, 0.8442, 1.2257, 0.7675, 1.0737, 1.0397, 1.54  , 1.0948,\n",
       "       1.1778, 0.9569, 1.1102, 1.4086, 0.7715, 0.8447, 1.1981, 1.1135,\n",
       "       1.1335, 1.0816, 1.0519, 1.1871, 1.0206, 0.5916, 1.2721, 1.1629,\n",
       "       0.7329, 1.1373, 1.0188, 1.297 , 0.7502, 1.3624, 1.0428, 1.0603,\n",
       "       1.4101, 1.2399, 1.4372, 1.0431, 1.1157, 1.1904, 1.3369, 0.6703,\n",
       "       0.5735, 1.2118, 1.3962, 1.0698, 1.1892, 0.7916, 0.9999, 1.1233,\n",
       "       0.9924, 1.1143, 1.017 , 1.3389, 1.2059, 1.1092, 0.8619, 1.0009,\n",
       "       1.2121, 0.9774, 0.8591, 1.0932, 1.0415, 1.5416, 0.9977, 1.0976,\n",
       "       1.1178, 1.0351, 1.3175, 0.5952, 0.9672, 1.0499, 1.1598, 1.0863,\n",
       "       1.1507, 0.9953, 1.0064, 1.0373, 0.9265, 1.0581, 1.2236, 0.9897,\n",
       "       1.1985, 1.0945, 1.1997, 1.0362, 0.9086, 1.1234, 1.4306, 1.2684,\n",
       "       1.0364, 0.5735, 1.1758, 0.8008, 0.8954, 1.3701, 1.2075, 1.1171,\n",
       "       1.2026, 1.1787, 0.8987, 1.0107, 1.2278, 1.1349, 1.0048, 1.0265,\n",
       "       1.225 , 1.2308, 1.3195, 1.0069, 1.1299, 1.0245, 1.0869, 1.0957,\n",
       "       1.2994, 1.0663, 1.2358, 1.4056, 1.0171, 1.007 , 1.2307, 0.615 ,\n",
       "       1.299 , 1.0789, 1.0927, 1.4201, 1.3584, 1.5575, 1.3666, 1.0422,\n",
       "       1.0376, 1.1318, 1.2022, 1.2275, 1.1726, 1.1038, 1.1776, 1.1106,\n",
       "       1.0462, 0.9495, 1.1635, 1.0142, 1.044 , 1.1609, 0.9938, 1.169 ,\n",
       "       1.1499, 1.1051, 0.951 , 1.4051, 0.9072, 1.2351, 1.1908, 1.1106,\n",
       "       0.7883, 0.9943, 1.088 , 1.0513, 1.1389, 0.5992, 0.7581, 1.2349,\n",
       "       1.0867, 1.1519, 1.5211, 1.1216, 1.0491, 1.0172, 1.0077, 0.6911,\n",
       "       1.0988, 0.9152, 1.0482, 1.1708, 1.0942, 0.9063, 1.4236, 1.0528,\n",
       "       1.1334, 1.0773, 0.8054, 0.6529, 1.1454, 1.0748, 1.1555, 0.945 ,\n",
       "       1.0491, 1.2144, 1.2164, 1.3184, 1.2062, 0.7516, 1.0527, 1.1988,\n",
       "       1.1032, 1.1536, 1.0462, 1.128 , 1.1183, 1.1729, 0.8257, 1.1501,\n",
       "       1.0476, 1.4499, 1.0851, 1.1607, 1.3165, 1.0803, 1.0681, 1.2093,\n",
       "       1.0086, 1.5248, 1.1357, 1.0478, 0.9996, 1.0531, 1.189 , 1.0674,\n",
       "       1.1109, 1.2882, 1.0142, 1.1623, 1.0934, 0.925 , 1.1591, 1.1796,\n",
       "       1.1811, 1.307 , 1.1323, 0.9814, 0.7101, 1.2383, 1.1247, 1.1102,\n",
       "       1.3594, 0.9409, 1.1373, 1.199 , 0.7831, 1.1091, 1.0144, 0.9406,\n",
       "       1.0622, 0.7733, 1.1068, 1.1632, 0.9198, 1.0307, 0.9894, 0.8054,\n",
       "       1.3057, 1.3981, 1.1568, 0.835 , 1.133 , 1.0952, 0.95  , 1.0223,\n",
       "       0.9465, 1.0303, 1.1936, 1.0735, 1.1574, 1.3428])"
      ]
     },
     "execution_count": 114,
     "metadata": {},
     "output_type": "execute_result"
    }
   ],
   "source": [
    "model.predict(x_test)"
   ]
  },
  {
   "cell_type": "code",
   "execution_count": 115,
   "id": "5efd5a5a",
   "metadata": {},
   "outputs": [
    {
     "name": "stdout",
     "output_type": "stream",
     "text": [
      "MSE: 0.006446320179640727\n",
      "MAE: 0.057823353293413225\n",
      "r2_score: 0.7846681102569613\n"
     ]
    }
   ],
   "source": [
    "print('MSE:',mean_squared_error(RF_grid_PRED,y_test))\n",
    "print('MAE:',mean_absolute_error(RF_grid_PRED,y_test))\n",
    "print('r2_score:',r2_score(RF_grid_PRED,y_test))"
   ]
  },
  {
   "cell_type": "code",
   "execution_count": null,
   "id": "68afaa85",
   "metadata": {},
   "outputs": [],
   "source": []
  }
 ],
 "metadata": {
  "kernelspec": {
   "display_name": "Python 3",
   "language": "python",
   "name": "python3"
  },
  "language_info": {
   "codemirror_mode": {
    "name": "ipython",
    "version": 3
   },
   "file_extension": ".py",
   "mimetype": "text/x-python",
   "name": "python",
   "nbconvert_exporter": "python",
   "pygments_lexer": "ipython3",
   "version": "3.8.8"
  }
 },
 "nbformat": 4,
 "nbformat_minor": 5
}
